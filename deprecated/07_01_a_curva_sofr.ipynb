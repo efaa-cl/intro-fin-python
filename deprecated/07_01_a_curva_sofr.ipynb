{
 "cells": [
  {
   "cell_type": "markdown",
   "metadata": {},
   "source": [
    "# Boostrapping Curva SOFR"
   ]
  },
  {
   "cell_type": "markdown",
   "metadata": {},
   "source": [
    "## Configuración"
   ]
  },
  {
   "cell_type": "markdown",
   "metadata": {},
   "source": [
    "### Librerías"
   ]
  },
  {
   "cell_type": "code",
   "execution_count": 1,
   "metadata": {
    "ExecuteTime": {
     "end_time": "2021-10-20T22:47:31.392353Z",
     "start_time": "2021-10-20T22:47:30.944419Z"
    }
   },
   "outputs": [],
   "source": [
    "from scipy.optimize import newton\n",
    "from datetime import date\n",
    "import pandas as pd\n",
    "import numpy as np\n",
    "\n",
    "from finrisk import QC_Financial_3 as Qcf\n",
    "import my_functions as myf"
   ]
  },
  {
   "cell_type": "markdown",
   "metadata": {},
   "source": [
    "### Fecha de Cálculo"
   ]
  },
  {
   "cell_type": "code",
   "execution_count": 2,
   "metadata": {
    "ExecuteTime": {
     "end_time": "2021-10-20T22:47:41.380056Z",
     "start_time": "2021-10-20T22:47:41.376479Z"
    }
   },
   "outputs": [],
   "source": [
    "fecha_val = Qcf.QCDate(15, 10, 2021)"
   ]
  },
  {
   "cell_type": "markdown",
   "metadata": {},
   "source": [
    "## Input para la Curva"
   ]
  },
  {
   "cell_type": "code",
   "execution_count": 3,
   "metadata": {
    "ExecuteTime": {
     "end_time": "2021-10-20T22:48:14.271224Z",
     "start_time": "2021-10-20T22:48:14.268052Z"
    }
   },
   "outputs": [],
   "source": [
    "archivo = 'data/data_curva_sofr.xlsm'"
   ]
  },
  {
   "cell_type": "code",
   "execution_count": 4,
   "metadata": {
    "ExecuteTime": {
     "end_time": "2021-10-20T22:48:16.883334Z",
     "start_time": "2021-10-20T22:48:16.841658Z"
    }
   },
   "outputs": [],
   "source": [
    "data = pd.read_excel(archivo, dtypes={'start_date': date, 'end_date': date, 'nominal': float})"
   ]
  },
  {
   "cell_type": "code",
   "execution_count": 5,
   "metadata": {
    "ExecuteTime": {
     "end_time": "2021-10-20T22:48:22.076398Z",
     "start_time": "2021-10-20T22:48:21.714974Z"
    }
   },
   "outputs": [
    {
     "data": {
      "text/html": [
       "<style  type=\"text/css\" >\n",
       "</style><table id=\"T_d3bba1d0_31f7_11ec_a147_02cba411ec9d\" ><thead>    <tr>        <th class=\"blank level0\" ></th>        <th class=\"col_heading level0 col0\" >bbg ticker</th>        <th class=\"col_heading level0 col1\" >rate</th>        <th class=\"col_heading level0 col2\" >start_date</th>        <th class=\"col_heading level0 col3\" >end_date</th>        <th class=\"col_heading level0 col4\" >tipo</th>        <th class=\"col_heading level0 col5\" >tenor</th>        <th class=\"col_heading level0 col6\" >periodicity</th>        <th class=\"col_heading level0 col7\" >stub_period</th>        <th class=\"col_heading level0 col8\" >settlement_lag</th>        <th class=\"col_heading level0 col9\" >rolling</th>        <th class=\"col_heading level0 col10\" >nominal</th>        <th class=\"col_heading level0 col11\" >amort_is_cashflow</th>        <th class=\"col_heading level0 col12\" >currency</th>        <th class=\"col_heading level0 col13\" >interest_rate</th>    </tr></thead><tbody>\n",
       "                <tr>\n",
       "                        <th id=\"T_d3bba1d0_31f7_11ec_a147_02cba411ec9dlevel0_row0\" class=\"row_heading level0 row0\" >0</th>\n",
       "                        <td id=\"T_d3bba1d0_31f7_11ec_a147_02cba411ec9drow0_col0\" class=\"data row0 col0\" >SOFRRATE Index</td>\n",
       "                        <td id=\"T_d3bba1d0_31f7_11ec_a147_02cba411ec9drow0_col1\" class=\"data row0 col1\" >0.05000%</td>\n",
       "                        <td id=\"T_d3bba1d0_31f7_11ec_a147_02cba411ec9drow0_col2\" class=\"data row0 col2\" >2021-10-15 00:00:00</td>\n",
       "                        <td id=\"T_d3bba1d0_31f7_11ec_a147_02cba411ec9drow0_col3\" class=\"data row0 col3\" >2021-10-19 00:00:00</td>\n",
       "                        <td id=\"T_d3bba1d0_31f7_11ec_a147_02cba411ec9drow0_col4\" class=\"data row0 col4\" >TASA</td>\n",
       "                        <td id=\"T_d3bba1d0_31f7_11ec_a147_02cba411ec9drow0_col5\" class=\"data row0 col5\" >2D</td>\n",
       "                        <td id=\"T_d3bba1d0_31f7_11ec_a147_02cba411ec9drow0_col6\" class=\"data row0 col6\" >1Y</td>\n",
       "                        <td id=\"T_d3bba1d0_31f7_11ec_a147_02cba411ec9drow0_col7\" class=\"data row0 col7\" >SHORT_FRONT</td>\n",
       "                        <td id=\"T_d3bba1d0_31f7_11ec_a147_02cba411ec9drow0_col8\" class=\"data row0 col8\" >0</td>\n",
       "                        <td id=\"T_d3bba1d0_31f7_11ec_a147_02cba411ec9drow0_col9\" class=\"data row0 col9\" >MOD_FOLLOW</td>\n",
       "                        <td id=\"T_d3bba1d0_31f7_11ec_a147_02cba411ec9drow0_col10\" class=\"data row0 col10\" >1000000</td>\n",
       "                        <td id=\"T_d3bba1d0_31f7_11ec_a147_02cba411ec9drow0_col11\" class=\"data row0 col11\" >True</td>\n",
       "                        <td id=\"T_d3bba1d0_31f7_11ec_a147_02cba411ec9drow0_col12\" class=\"data row0 col12\" >USD</td>\n",
       "                        <td id=\"T_d3bba1d0_31f7_11ec_a147_02cba411ec9drow0_col13\" class=\"data row0 col13\" >LINACT360</td>\n",
       "            </tr>\n",
       "            <tr>\n",
       "                        <th id=\"T_d3bba1d0_31f7_11ec_a147_02cba411ec9dlevel0_row1\" class=\"row_heading level0 row1\" >1</th>\n",
       "                        <td id=\"T_d3bba1d0_31f7_11ec_a147_02cba411ec9drow1_col0\" class=\"data row1 col0\" >USOSFR1Z BGN Curncy</td>\n",
       "                        <td id=\"T_d3bba1d0_31f7_11ec_a147_02cba411ec9drow1_col1\" class=\"data row1 col1\" >0.05210%</td>\n",
       "                        <td id=\"T_d3bba1d0_31f7_11ec_a147_02cba411ec9drow1_col2\" class=\"data row1 col2\" >2021-10-19 00:00:00</td>\n",
       "                        <td id=\"T_d3bba1d0_31f7_11ec_a147_02cba411ec9drow1_col3\" class=\"data row1 col3\" >2021-10-28 00:00:00</td>\n",
       "                        <td id=\"T_d3bba1d0_31f7_11ec_a147_02cba411ec9drow1_col4\" class=\"data row1 col4\" >TASA</td>\n",
       "                        <td id=\"T_d3bba1d0_31f7_11ec_a147_02cba411ec9drow1_col5\" class=\"data row1 col5\" >7D</td>\n",
       "                        <td id=\"T_d3bba1d0_31f7_11ec_a147_02cba411ec9drow1_col6\" class=\"data row1 col6\" >1Y</td>\n",
       "                        <td id=\"T_d3bba1d0_31f7_11ec_a147_02cba411ec9drow1_col7\" class=\"data row1 col7\" >SHORT_FRONT</td>\n",
       "                        <td id=\"T_d3bba1d0_31f7_11ec_a147_02cba411ec9drow1_col8\" class=\"data row1 col8\" >2</td>\n",
       "                        <td id=\"T_d3bba1d0_31f7_11ec_a147_02cba411ec9drow1_col9\" class=\"data row1 col9\" >MOD_FOLLOW</td>\n",
       "                        <td id=\"T_d3bba1d0_31f7_11ec_a147_02cba411ec9drow1_col10\" class=\"data row1 col10\" >1000000</td>\n",
       "                        <td id=\"T_d3bba1d0_31f7_11ec_a147_02cba411ec9drow1_col11\" class=\"data row1 col11\" >True</td>\n",
       "                        <td id=\"T_d3bba1d0_31f7_11ec_a147_02cba411ec9drow1_col12\" class=\"data row1 col12\" >USD</td>\n",
       "                        <td id=\"T_d3bba1d0_31f7_11ec_a147_02cba411ec9drow1_col13\" class=\"data row1 col13\" >LINACT360</td>\n",
       "            </tr>\n",
       "            <tr>\n",
       "                        <th id=\"T_d3bba1d0_31f7_11ec_a147_02cba411ec9dlevel0_row2\" class=\"row_heading level0 row2\" >2</th>\n",
       "                        <td id=\"T_d3bba1d0_31f7_11ec_a147_02cba411ec9drow2_col0\" class=\"data row2 col0\" >USOSFR2Z BGN Curncy</td>\n",
       "                        <td id=\"T_d3bba1d0_31f7_11ec_a147_02cba411ec9drow2_col1\" class=\"data row2 col1\" >0.05240%</td>\n",
       "                        <td id=\"T_d3bba1d0_31f7_11ec_a147_02cba411ec9drow2_col2\" class=\"data row2 col2\" >2021-10-19 00:00:00</td>\n",
       "                        <td id=\"T_d3bba1d0_31f7_11ec_a147_02cba411ec9drow2_col3\" class=\"data row2 col3\" >2021-11-04 00:00:00</td>\n",
       "                        <td id=\"T_d3bba1d0_31f7_11ec_a147_02cba411ec9drow2_col4\" class=\"data row2 col4\" >TASA</td>\n",
       "                        <td id=\"T_d3bba1d0_31f7_11ec_a147_02cba411ec9drow2_col5\" class=\"data row2 col5\" >14D</td>\n",
       "                        <td id=\"T_d3bba1d0_31f7_11ec_a147_02cba411ec9drow2_col6\" class=\"data row2 col6\" >1Y</td>\n",
       "                        <td id=\"T_d3bba1d0_31f7_11ec_a147_02cba411ec9drow2_col7\" class=\"data row2 col7\" >SHORT_FRONT</td>\n",
       "                        <td id=\"T_d3bba1d0_31f7_11ec_a147_02cba411ec9drow2_col8\" class=\"data row2 col8\" >2</td>\n",
       "                        <td id=\"T_d3bba1d0_31f7_11ec_a147_02cba411ec9drow2_col9\" class=\"data row2 col9\" >MOD_FOLLOW</td>\n",
       "                        <td id=\"T_d3bba1d0_31f7_11ec_a147_02cba411ec9drow2_col10\" class=\"data row2 col10\" >1000000</td>\n",
       "                        <td id=\"T_d3bba1d0_31f7_11ec_a147_02cba411ec9drow2_col11\" class=\"data row2 col11\" >True</td>\n",
       "                        <td id=\"T_d3bba1d0_31f7_11ec_a147_02cba411ec9drow2_col12\" class=\"data row2 col12\" >USD</td>\n",
       "                        <td id=\"T_d3bba1d0_31f7_11ec_a147_02cba411ec9drow2_col13\" class=\"data row2 col13\" >LINACT360</td>\n",
       "            </tr>\n",
       "            <tr>\n",
       "                        <th id=\"T_d3bba1d0_31f7_11ec_a147_02cba411ec9dlevel0_row3\" class=\"row_heading level0 row3\" >3</th>\n",
       "                        <td id=\"T_d3bba1d0_31f7_11ec_a147_02cba411ec9drow3_col0\" class=\"data row3 col0\" >USOSFR3Z BGN Curncy</td>\n",
       "                        <td id=\"T_d3bba1d0_31f7_11ec_a147_02cba411ec9drow3_col1\" class=\"data row3 col1\" >0.05220%</td>\n",
       "                        <td id=\"T_d3bba1d0_31f7_11ec_a147_02cba411ec9drow3_col2\" class=\"data row3 col2\" >2021-10-19 00:00:00</td>\n",
       "                        <td id=\"T_d3bba1d0_31f7_11ec_a147_02cba411ec9drow3_col3\" class=\"data row3 col3\" >2021-11-11 00:00:00</td>\n",
       "                        <td id=\"T_d3bba1d0_31f7_11ec_a147_02cba411ec9drow3_col4\" class=\"data row3 col4\" >TASA</td>\n",
       "                        <td id=\"T_d3bba1d0_31f7_11ec_a147_02cba411ec9drow3_col5\" class=\"data row3 col5\" >21D</td>\n",
       "                        <td id=\"T_d3bba1d0_31f7_11ec_a147_02cba411ec9drow3_col6\" class=\"data row3 col6\" >1Y</td>\n",
       "                        <td id=\"T_d3bba1d0_31f7_11ec_a147_02cba411ec9drow3_col7\" class=\"data row3 col7\" >SHORT_FRONT</td>\n",
       "                        <td id=\"T_d3bba1d0_31f7_11ec_a147_02cba411ec9drow3_col8\" class=\"data row3 col8\" >2</td>\n",
       "                        <td id=\"T_d3bba1d0_31f7_11ec_a147_02cba411ec9drow3_col9\" class=\"data row3 col9\" >MOD_FOLLOW</td>\n",
       "                        <td id=\"T_d3bba1d0_31f7_11ec_a147_02cba411ec9drow3_col10\" class=\"data row3 col10\" >1000000</td>\n",
       "                        <td id=\"T_d3bba1d0_31f7_11ec_a147_02cba411ec9drow3_col11\" class=\"data row3 col11\" >True</td>\n",
       "                        <td id=\"T_d3bba1d0_31f7_11ec_a147_02cba411ec9drow3_col12\" class=\"data row3 col12\" >USD</td>\n",
       "                        <td id=\"T_d3bba1d0_31f7_11ec_a147_02cba411ec9drow3_col13\" class=\"data row3 col13\" >LINACT360</td>\n",
       "            </tr>\n",
       "            <tr>\n",
       "                        <th id=\"T_d3bba1d0_31f7_11ec_a147_02cba411ec9dlevel0_row4\" class=\"row_heading level0 row4\" >4</th>\n",
       "                        <td id=\"T_d3bba1d0_31f7_11ec_a147_02cba411ec9drow4_col0\" class=\"data row4 col0\" >USOSFRA BGN Curncy</td>\n",
       "                        <td id=\"T_d3bba1d0_31f7_11ec_a147_02cba411ec9drow4_col1\" class=\"data row4 col1\" >0.05200%</td>\n",
       "                        <td id=\"T_d3bba1d0_31f7_11ec_a147_02cba411ec9drow4_col2\" class=\"data row4 col2\" >2021-10-19 00:00:00</td>\n",
       "                        <td id=\"T_d3bba1d0_31f7_11ec_a147_02cba411ec9drow4_col3\" class=\"data row4 col3\" >2021-11-19 00:00:00</td>\n",
       "                        <td id=\"T_d3bba1d0_31f7_11ec_a147_02cba411ec9drow4_col4\" class=\"data row4 col4\" >SWAP</td>\n",
       "                        <td id=\"T_d3bba1d0_31f7_11ec_a147_02cba411ec9drow4_col5\" class=\"data row4 col5\" >1M</td>\n",
       "                        <td id=\"T_d3bba1d0_31f7_11ec_a147_02cba411ec9drow4_col6\" class=\"data row4 col6\" >1Y</td>\n",
       "                        <td id=\"T_d3bba1d0_31f7_11ec_a147_02cba411ec9drow4_col7\" class=\"data row4 col7\" >SHORT_FRONT</td>\n",
       "                        <td id=\"T_d3bba1d0_31f7_11ec_a147_02cba411ec9drow4_col8\" class=\"data row4 col8\" >2</td>\n",
       "                        <td id=\"T_d3bba1d0_31f7_11ec_a147_02cba411ec9drow4_col9\" class=\"data row4 col9\" >MOD_FOLLOW</td>\n",
       "                        <td id=\"T_d3bba1d0_31f7_11ec_a147_02cba411ec9drow4_col10\" class=\"data row4 col10\" >1000000</td>\n",
       "                        <td id=\"T_d3bba1d0_31f7_11ec_a147_02cba411ec9drow4_col11\" class=\"data row4 col11\" >True</td>\n",
       "                        <td id=\"T_d3bba1d0_31f7_11ec_a147_02cba411ec9drow4_col12\" class=\"data row4 col12\" >USD</td>\n",
       "                        <td id=\"T_d3bba1d0_31f7_11ec_a147_02cba411ec9drow4_col13\" class=\"data row4 col13\" >LINACT360</td>\n",
       "            </tr>\n",
       "            <tr>\n",
       "                        <th id=\"T_d3bba1d0_31f7_11ec_a147_02cba411ec9dlevel0_row5\" class=\"row_heading level0 row5\" >5</th>\n",
       "                        <td id=\"T_d3bba1d0_31f7_11ec_a147_02cba411ec9drow5_col0\" class=\"data row5 col0\" >USOSFRB BGN Curncy</td>\n",
       "                        <td id=\"T_d3bba1d0_31f7_11ec_a147_02cba411ec9drow5_col1\" class=\"data row5 col1\" >0.05260%</td>\n",
       "                        <td id=\"T_d3bba1d0_31f7_11ec_a147_02cba411ec9drow5_col2\" class=\"data row5 col2\" >2021-10-19 00:00:00</td>\n",
       "                        <td id=\"T_d3bba1d0_31f7_11ec_a147_02cba411ec9drow5_col3\" class=\"data row5 col3\" >2021-12-19 00:00:00</td>\n",
       "                        <td id=\"T_d3bba1d0_31f7_11ec_a147_02cba411ec9drow5_col4\" class=\"data row5 col4\" >SWAP</td>\n",
       "                        <td id=\"T_d3bba1d0_31f7_11ec_a147_02cba411ec9drow5_col5\" class=\"data row5 col5\" >2M</td>\n",
       "                        <td id=\"T_d3bba1d0_31f7_11ec_a147_02cba411ec9drow5_col6\" class=\"data row5 col6\" >1Y</td>\n",
       "                        <td id=\"T_d3bba1d0_31f7_11ec_a147_02cba411ec9drow5_col7\" class=\"data row5 col7\" >SHORT_FRONT</td>\n",
       "                        <td id=\"T_d3bba1d0_31f7_11ec_a147_02cba411ec9drow5_col8\" class=\"data row5 col8\" >2</td>\n",
       "                        <td id=\"T_d3bba1d0_31f7_11ec_a147_02cba411ec9drow5_col9\" class=\"data row5 col9\" >MOD_FOLLOW</td>\n",
       "                        <td id=\"T_d3bba1d0_31f7_11ec_a147_02cba411ec9drow5_col10\" class=\"data row5 col10\" >1000000</td>\n",
       "                        <td id=\"T_d3bba1d0_31f7_11ec_a147_02cba411ec9drow5_col11\" class=\"data row5 col11\" >True</td>\n",
       "                        <td id=\"T_d3bba1d0_31f7_11ec_a147_02cba411ec9drow5_col12\" class=\"data row5 col12\" >USD</td>\n",
       "                        <td id=\"T_d3bba1d0_31f7_11ec_a147_02cba411ec9drow5_col13\" class=\"data row5 col13\" >LINACT360</td>\n",
       "            </tr>\n",
       "            <tr>\n",
       "                        <th id=\"T_d3bba1d0_31f7_11ec_a147_02cba411ec9dlevel0_row6\" class=\"row_heading level0 row6\" >6</th>\n",
       "                        <td id=\"T_d3bba1d0_31f7_11ec_a147_02cba411ec9drow6_col0\" class=\"data row6 col0\" >USOSFRC BGN Curncy</td>\n",
       "                        <td id=\"T_d3bba1d0_31f7_11ec_a147_02cba411ec9drow6_col1\" class=\"data row6 col1\" >0.05400%</td>\n",
       "                        <td id=\"T_d3bba1d0_31f7_11ec_a147_02cba411ec9drow6_col2\" class=\"data row6 col2\" >2021-10-19 00:00:00</td>\n",
       "                        <td id=\"T_d3bba1d0_31f7_11ec_a147_02cba411ec9drow6_col3\" class=\"data row6 col3\" >2022-01-19 00:00:00</td>\n",
       "                        <td id=\"T_d3bba1d0_31f7_11ec_a147_02cba411ec9drow6_col4\" class=\"data row6 col4\" >SWAP</td>\n",
       "                        <td id=\"T_d3bba1d0_31f7_11ec_a147_02cba411ec9drow6_col5\" class=\"data row6 col5\" >3M</td>\n",
       "                        <td id=\"T_d3bba1d0_31f7_11ec_a147_02cba411ec9drow6_col6\" class=\"data row6 col6\" >1Y</td>\n",
       "                        <td id=\"T_d3bba1d0_31f7_11ec_a147_02cba411ec9drow6_col7\" class=\"data row6 col7\" >SHORT_FRONT</td>\n",
       "                        <td id=\"T_d3bba1d0_31f7_11ec_a147_02cba411ec9drow6_col8\" class=\"data row6 col8\" >2</td>\n",
       "                        <td id=\"T_d3bba1d0_31f7_11ec_a147_02cba411ec9drow6_col9\" class=\"data row6 col9\" >MOD_FOLLOW</td>\n",
       "                        <td id=\"T_d3bba1d0_31f7_11ec_a147_02cba411ec9drow6_col10\" class=\"data row6 col10\" >1000000</td>\n",
       "                        <td id=\"T_d3bba1d0_31f7_11ec_a147_02cba411ec9drow6_col11\" class=\"data row6 col11\" >True</td>\n",
       "                        <td id=\"T_d3bba1d0_31f7_11ec_a147_02cba411ec9drow6_col12\" class=\"data row6 col12\" >USD</td>\n",
       "                        <td id=\"T_d3bba1d0_31f7_11ec_a147_02cba411ec9drow6_col13\" class=\"data row6 col13\" >LINACT360</td>\n",
       "            </tr>\n",
       "            <tr>\n",
       "                        <th id=\"T_d3bba1d0_31f7_11ec_a147_02cba411ec9dlevel0_row7\" class=\"row_heading level0 row7\" >7</th>\n",
       "                        <td id=\"T_d3bba1d0_31f7_11ec_a147_02cba411ec9drow7_col0\" class=\"data row7 col0\" >USOSFRD BGN Curncy</td>\n",
       "                        <td id=\"T_d3bba1d0_31f7_11ec_a147_02cba411ec9drow7_col1\" class=\"data row7 col1\" >0.05610%</td>\n",
       "                        <td id=\"T_d3bba1d0_31f7_11ec_a147_02cba411ec9drow7_col2\" class=\"data row7 col2\" >2021-10-19 00:00:00</td>\n",
       "                        <td id=\"T_d3bba1d0_31f7_11ec_a147_02cba411ec9drow7_col3\" class=\"data row7 col3\" >2022-02-19 00:00:00</td>\n",
       "                        <td id=\"T_d3bba1d0_31f7_11ec_a147_02cba411ec9drow7_col4\" class=\"data row7 col4\" >SWAP</td>\n",
       "                        <td id=\"T_d3bba1d0_31f7_11ec_a147_02cba411ec9drow7_col5\" class=\"data row7 col5\" >4M</td>\n",
       "                        <td id=\"T_d3bba1d0_31f7_11ec_a147_02cba411ec9drow7_col6\" class=\"data row7 col6\" >1Y</td>\n",
       "                        <td id=\"T_d3bba1d0_31f7_11ec_a147_02cba411ec9drow7_col7\" class=\"data row7 col7\" >SHORT_FRONT</td>\n",
       "                        <td id=\"T_d3bba1d0_31f7_11ec_a147_02cba411ec9drow7_col8\" class=\"data row7 col8\" >2</td>\n",
       "                        <td id=\"T_d3bba1d0_31f7_11ec_a147_02cba411ec9drow7_col9\" class=\"data row7 col9\" >MOD_FOLLOW</td>\n",
       "                        <td id=\"T_d3bba1d0_31f7_11ec_a147_02cba411ec9drow7_col10\" class=\"data row7 col10\" >1000000</td>\n",
       "                        <td id=\"T_d3bba1d0_31f7_11ec_a147_02cba411ec9drow7_col11\" class=\"data row7 col11\" >True</td>\n",
       "                        <td id=\"T_d3bba1d0_31f7_11ec_a147_02cba411ec9drow7_col12\" class=\"data row7 col12\" >USD</td>\n",
       "                        <td id=\"T_d3bba1d0_31f7_11ec_a147_02cba411ec9drow7_col13\" class=\"data row7 col13\" >LINACT360</td>\n",
       "            </tr>\n",
       "            <tr>\n",
       "                        <th id=\"T_d3bba1d0_31f7_11ec_a147_02cba411ec9dlevel0_row8\" class=\"row_heading level0 row8\" >8</th>\n",
       "                        <td id=\"T_d3bba1d0_31f7_11ec_a147_02cba411ec9drow8_col0\" class=\"data row8 col0\" >USOSFRE BGN Curncy</td>\n",
       "                        <td id=\"T_d3bba1d0_31f7_11ec_a147_02cba411ec9drow8_col1\" class=\"data row8 col1\" >0.05570%</td>\n",
       "                        <td id=\"T_d3bba1d0_31f7_11ec_a147_02cba411ec9drow8_col2\" class=\"data row8 col2\" >2021-10-19 00:00:00</td>\n",
       "                        <td id=\"T_d3bba1d0_31f7_11ec_a147_02cba411ec9drow8_col3\" class=\"data row8 col3\" >2022-03-19 00:00:00</td>\n",
       "                        <td id=\"T_d3bba1d0_31f7_11ec_a147_02cba411ec9drow8_col4\" class=\"data row8 col4\" >SWAP</td>\n",
       "                        <td id=\"T_d3bba1d0_31f7_11ec_a147_02cba411ec9drow8_col5\" class=\"data row8 col5\" >5M</td>\n",
       "                        <td id=\"T_d3bba1d0_31f7_11ec_a147_02cba411ec9drow8_col6\" class=\"data row8 col6\" >1Y</td>\n",
       "                        <td id=\"T_d3bba1d0_31f7_11ec_a147_02cba411ec9drow8_col7\" class=\"data row8 col7\" >SHORT_FRONT</td>\n",
       "                        <td id=\"T_d3bba1d0_31f7_11ec_a147_02cba411ec9drow8_col8\" class=\"data row8 col8\" >2</td>\n",
       "                        <td id=\"T_d3bba1d0_31f7_11ec_a147_02cba411ec9drow8_col9\" class=\"data row8 col9\" >MOD_FOLLOW</td>\n",
       "                        <td id=\"T_d3bba1d0_31f7_11ec_a147_02cba411ec9drow8_col10\" class=\"data row8 col10\" >1000000</td>\n",
       "                        <td id=\"T_d3bba1d0_31f7_11ec_a147_02cba411ec9drow8_col11\" class=\"data row8 col11\" >True</td>\n",
       "                        <td id=\"T_d3bba1d0_31f7_11ec_a147_02cba411ec9drow8_col12\" class=\"data row8 col12\" >USD</td>\n",
       "                        <td id=\"T_d3bba1d0_31f7_11ec_a147_02cba411ec9drow8_col13\" class=\"data row8 col13\" >LINACT360</td>\n",
       "            </tr>\n",
       "            <tr>\n",
       "                        <th id=\"T_d3bba1d0_31f7_11ec_a147_02cba411ec9dlevel0_row9\" class=\"row_heading level0 row9\" >9</th>\n",
       "                        <td id=\"T_d3bba1d0_31f7_11ec_a147_02cba411ec9drow9_col0\" class=\"data row9 col0\" >USOSFRF BGN Curncy</td>\n",
       "                        <td id=\"T_d3bba1d0_31f7_11ec_a147_02cba411ec9drow9_col1\" class=\"data row9 col1\" >0.06020%</td>\n",
       "                        <td id=\"T_d3bba1d0_31f7_11ec_a147_02cba411ec9drow9_col2\" class=\"data row9 col2\" >2021-10-19 00:00:00</td>\n",
       "                        <td id=\"T_d3bba1d0_31f7_11ec_a147_02cba411ec9drow9_col3\" class=\"data row9 col3\" >2022-04-19 00:00:00</td>\n",
       "                        <td id=\"T_d3bba1d0_31f7_11ec_a147_02cba411ec9drow9_col4\" class=\"data row9 col4\" >SWAP</td>\n",
       "                        <td id=\"T_d3bba1d0_31f7_11ec_a147_02cba411ec9drow9_col5\" class=\"data row9 col5\" >6M</td>\n",
       "                        <td id=\"T_d3bba1d0_31f7_11ec_a147_02cba411ec9drow9_col6\" class=\"data row9 col6\" >1Y</td>\n",
       "                        <td id=\"T_d3bba1d0_31f7_11ec_a147_02cba411ec9drow9_col7\" class=\"data row9 col7\" >SHORT_FRONT</td>\n",
       "                        <td id=\"T_d3bba1d0_31f7_11ec_a147_02cba411ec9drow9_col8\" class=\"data row9 col8\" >2</td>\n",
       "                        <td id=\"T_d3bba1d0_31f7_11ec_a147_02cba411ec9drow9_col9\" class=\"data row9 col9\" >MOD_FOLLOW</td>\n",
       "                        <td id=\"T_d3bba1d0_31f7_11ec_a147_02cba411ec9drow9_col10\" class=\"data row9 col10\" >1000000</td>\n",
       "                        <td id=\"T_d3bba1d0_31f7_11ec_a147_02cba411ec9drow9_col11\" class=\"data row9 col11\" >True</td>\n",
       "                        <td id=\"T_d3bba1d0_31f7_11ec_a147_02cba411ec9drow9_col12\" class=\"data row9 col12\" >USD</td>\n",
       "                        <td id=\"T_d3bba1d0_31f7_11ec_a147_02cba411ec9drow9_col13\" class=\"data row9 col13\" >LINACT360</td>\n",
       "            </tr>\n",
       "    </tbody></table>"
      ],
      "text/plain": [
       "<pandas.io.formats.style.Styler at 0x7f6e7d4ae470>"
      ]
     },
     "execution_count": 5,
     "metadata": {},
     "output_type": "execute_result"
    }
   ],
   "source": [
    "data.head(10).style.format({'rate': '{:.5%}'})"
   ]
  },
  {
   "cell_type": "markdown",
   "metadata": {},
   "source": [
    "## Construcción de Operaciones"
   ]
  },
  {
   "cell_type": "markdown",
   "metadata": {},
   "source": [
    "### Patas Fijas"
   ]
  },
  {
   "cell_type": "code",
   "execution_count": 6,
   "metadata": {
    "ExecuteTime": {
     "end_time": "2021-10-20T22:51:25.551132Z",
     "start_time": "2021-10-20T22:51:25.546028Z"
    }
   },
   "outputs": [],
   "source": [
    "act360 = Qcf.QCAct360()\n",
    "lin_wf = Qcf.QCLinearWf()\n",
    "cal = Qcf.BusinessCalendar(Qcf.QCDate(1, 1, 2021), 50)\n",
    "clp = Qcf.QCCLP()\n",
    "bus_adj_rule = Qcf.BusyAdjRules.MODFOLLOW\n",
    "periodo_irregular = Qcf.StubPeriod.SHORTFRONT\n",
    "es_bono = False"
   ]
  },
  {
   "cell_type": "code",
   "execution_count": 7,
   "metadata": {
    "ExecuteTime": {
     "end_time": "2021-10-20T22:55:10.573391Z",
     "start_time": "2021-10-20T22:55:09.305206Z"
    }
   },
   "outputs": [],
   "source": [
    "patas_fijas = []\n",
    "for row in data.itertuples():\n",
    "    if row.tipo == 'TASA':\n",
    "        fecha_inicio = Qcf.build_qcdate_from_string(\n",
    "            row.start_date.date().isoformat())\n",
    "        \n",
    "        fecha_final = Qcf.build_qcdate_from_string(\n",
    "            row.end_date.date().isoformat())\n",
    "        \n",
    "        fecha_pago = cal.shift(fecha_final, row.settlement_lag)\n",
    "        \n",
    "        tasa = Qcf.QCInterestRate(row.rate, act360, lin_wf)\n",
    "        \n",
    "        fixed_rate_cashflow = Qcf.FixedRateCashflow(\n",
    "            fecha_inicio,\n",
    "            fecha_final,\n",
    "            fecha_pago,\n",
    "            row.nominal,\n",
    "            row.nominal,\n",
    "            row.amort_is_cashflow,\n",
    "            tasa,\n",
    "            clp\n",
    "        )\n",
    "        leg = Qcf.Leg()\n",
    "        leg.append_cashflow(fixed_rate_cashflow)\n",
    "        patas_fijas.append(leg)\n",
    "    else:\n",
    "        fecha_inicio = Qcf.build_qcdate_from_string(row.start_date.date().isoformat())\n",
    "        \n",
    "        fecha_final = Qcf.build_qcdate_from_string(row.end_date.date().isoformat())\n",
    "        \n",
    "        fixed_rate_leg = Qcf.LegFactory.build_bullet_fixed_rate_leg(\n",
    "            Qcf.RecPay.RECEIVE,\n",
    "            fecha_inicio,\n",
    "            fecha_final,\n",
    "            bus_adj_rule,\n",
    "            Qcf.Tenor(row.periodicity),\n",
    "            periodo_irregular,\n",
    "            cal,\n",
    "            row.settlement_lag,\n",
    "            row.nominal,\n",
    "            row.amort_is_cashflow,\n",
    "            Qcf.QCInterestRate(row.rate, act360, lin_wf),\n",
    "            clp,\n",
    "            es_bono\n",
    "        )\n",
    "        patas_fijas.append(fixed_rate_leg)"
   ]
  },
  {
   "cell_type": "code",
   "execution_count": 12,
   "metadata": {
    "ExecuteTime": {
     "end_time": "2021-10-20T22:56:05.512349Z",
     "start_time": "2021-10-20T22:56:05.490797Z"
    }
   },
   "outputs": [
    {
     "data": {
      "text/html": [
       "<div>\n",
       "<style scoped>\n",
       "    .dataframe tbody tr th:only-of-type {\n",
       "        vertical-align: middle;\n",
       "    }\n",
       "\n",
       "    .dataframe tbody tr th {\n",
       "        vertical-align: top;\n",
       "    }\n",
       "\n",
       "    .dataframe thead th {\n",
       "        text-align: right;\n",
       "    }\n",
       "</style>\n",
       "<table border=\"1\" class=\"dataframe\">\n",
       "  <thead>\n",
       "    <tr style=\"text-align: right;\">\n",
       "      <th></th>\n",
       "      <th>fecha_inicial</th>\n",
       "      <th>fecha_final</th>\n",
       "      <th>fecha_pago</th>\n",
       "      <th>nominal</th>\n",
       "      <th>amortizacion</th>\n",
       "      <th>interes</th>\n",
       "      <th>amort_es_flujo</th>\n",
       "      <th>flujo</th>\n",
       "      <th>moneda</th>\n",
       "      <th>valor_tasa</th>\n",
       "      <th>tipo_tasa</th>\n",
       "    </tr>\n",
       "  </thead>\n",
       "  <tbody>\n",
       "    <tr>\n",
       "      <th>0</th>\n",
       "      <td>2021-10-19</td>\n",
       "      <td>2022-10-19</td>\n",
       "      <td>2022-10-21</td>\n",
       "      <td>1000000.0</td>\n",
       "      <td>0.0</td>\n",
       "      <td>11656.680556</td>\n",
       "      <td>True</td>\n",
       "      <td>1.165668e+04</td>\n",
       "      <td>CLP</td>\n",
       "      <td>0.011497</td>\n",
       "      <td>LinAct360</td>\n",
       "    </tr>\n",
       "    <tr>\n",
       "      <th>1</th>\n",
       "      <td>2022-10-19</td>\n",
       "      <td>2023-10-19</td>\n",
       "      <td>2023-10-23</td>\n",
       "      <td>1000000.0</td>\n",
       "      <td>0.0</td>\n",
       "      <td>11656.680556</td>\n",
       "      <td>True</td>\n",
       "      <td>1.165668e+04</td>\n",
       "      <td>CLP</td>\n",
       "      <td>0.011497</td>\n",
       "      <td>LinAct360</td>\n",
       "    </tr>\n",
       "    <tr>\n",
       "      <th>2</th>\n",
       "      <td>2023-10-19</td>\n",
       "      <td>2024-10-21</td>\n",
       "      <td>2024-10-23</td>\n",
       "      <td>1000000.0</td>\n",
       "      <td>0.0</td>\n",
       "      <td>11752.488889</td>\n",
       "      <td>True</td>\n",
       "      <td>1.175249e+04</td>\n",
       "      <td>CLP</td>\n",
       "      <td>0.011497</td>\n",
       "      <td>LinAct360</td>\n",
       "    </tr>\n",
       "    <tr>\n",
       "      <th>3</th>\n",
       "      <td>2024-10-21</td>\n",
       "      <td>2025-10-20</td>\n",
       "      <td>2025-10-22</td>\n",
       "      <td>1000000.0</td>\n",
       "      <td>0.0</td>\n",
       "      <td>11624.744444</td>\n",
       "      <td>True</td>\n",
       "      <td>1.162474e+04</td>\n",
       "      <td>CLP</td>\n",
       "      <td>0.011497</td>\n",
       "      <td>LinAct360</td>\n",
       "    </tr>\n",
       "    <tr>\n",
       "      <th>4</th>\n",
       "      <td>2025-10-20</td>\n",
       "      <td>2026-10-19</td>\n",
       "      <td>2026-10-21</td>\n",
       "      <td>1000000.0</td>\n",
       "      <td>0.0</td>\n",
       "      <td>11624.744444</td>\n",
       "      <td>True</td>\n",
       "      <td>1.162474e+04</td>\n",
       "      <td>CLP</td>\n",
       "      <td>0.011497</td>\n",
       "      <td>LinAct360</td>\n",
       "    </tr>\n",
       "    <tr>\n",
       "      <th>5</th>\n",
       "      <td>2026-10-19</td>\n",
       "      <td>2027-10-19</td>\n",
       "      <td>2027-10-21</td>\n",
       "      <td>1000000.0</td>\n",
       "      <td>0.0</td>\n",
       "      <td>11656.680556</td>\n",
       "      <td>True</td>\n",
       "      <td>1.165668e+04</td>\n",
       "      <td>CLP</td>\n",
       "      <td>0.011497</td>\n",
       "      <td>LinAct360</td>\n",
       "    </tr>\n",
       "    <tr>\n",
       "      <th>6</th>\n",
       "      <td>2027-10-19</td>\n",
       "      <td>2028-10-19</td>\n",
       "      <td>2028-10-23</td>\n",
       "      <td>1000000.0</td>\n",
       "      <td>1000000.0</td>\n",
       "      <td>11688.616667</td>\n",
       "      <td>True</td>\n",
       "      <td>1.011689e+06</td>\n",
       "      <td>CLP</td>\n",
       "      <td>0.011497</td>\n",
       "      <td>LinAct360</td>\n",
       "    </tr>\n",
       "  </tbody>\n",
       "</table>\n",
       "</div>"
      ],
      "text/plain": [
       "  fecha_inicial fecha_final  fecha_pago    nominal  amortizacion  \\\n",
       "0    2021-10-19  2022-10-19  2022-10-21  1000000.0           0.0   \n",
       "1    2022-10-19  2023-10-19  2023-10-23  1000000.0           0.0   \n",
       "2    2023-10-19  2024-10-21  2024-10-23  1000000.0           0.0   \n",
       "3    2024-10-21  2025-10-20  2025-10-22  1000000.0           0.0   \n",
       "4    2025-10-20  2026-10-19  2026-10-21  1000000.0           0.0   \n",
       "5    2026-10-19  2027-10-19  2027-10-21  1000000.0           0.0   \n",
       "6    2027-10-19  2028-10-19  2028-10-23  1000000.0     1000000.0   \n",
       "\n",
       "        interes  amort_es_flujo         flujo moneda  valor_tasa  tipo_tasa  \n",
       "0  11656.680556            True  1.165668e+04    CLP    0.011497  LinAct360  \n",
       "1  11656.680556            True  1.165668e+04    CLP    0.011497  LinAct360  \n",
       "2  11752.488889            True  1.175249e+04    CLP    0.011497  LinAct360  \n",
       "3  11624.744444            True  1.162474e+04    CLP    0.011497  LinAct360  \n",
       "4  11624.744444            True  1.162474e+04    CLP    0.011497  LinAct360  \n",
       "5  11656.680556            True  1.165668e+04    CLP    0.011497  LinAct360  \n",
       "6  11688.616667            True  1.011689e+06    CLP    0.011497  LinAct360  "
      ]
     },
     "execution_count": 12,
     "metadata": {},
     "output_type": "execute_result"
    }
   ],
   "source": [
    "myf.leg_as_dataframe(patas_fijas[22], myf.TipoPata.FIJA)"
   ]
  },
  {
   "cell_type": "markdown",
   "metadata": {},
   "source": [
    "### Patas OIS"
   ]
  },
  {
   "cell_type": "markdown",
   "metadata": {},
   "source": [
    "Vamos a usar el tipo de cashflow `IcpClpCashflow2`."
   ]
  },
  {
   "cell_type": "code",
   "execution_count": 13,
   "metadata": {
    "ExecuteTime": {
     "end_time": "2021-10-20T23:03:05.979385Z",
     "start_time": "2021-10-20T23:03:04.784461Z"
    }
   },
   "outputs": [],
   "source": [
    "patas_ois = []\n",
    "start_date_index = 1.0\n",
    "end_date_index = 1.0\n",
    "for row in data.itertuples():\n",
    "    if row.tipo == 'TASA':\n",
    "        fecha_inicio = Qcf.build_qcdate_from_string(\n",
    "            row.start_date.date().isoformat())\n",
    "        \n",
    "        fecha_final = Qcf.build_qcdate_from_string(\n",
    "            row.end_date.date().isoformat())\n",
    "        \n",
    "        fecha_pago = cal.shift(fecha_final, row.settlement_lag)\n",
    "        \n",
    "        icp_clp_cashflow = Qcf.IcpClpCashflow2(\n",
    "            fecha_inicio,\n",
    "            fecha_final,\n",
    "            fecha_pago,\n",
    "            -row.nominal,\n",
    "            -row.nominal,\n",
    "            row.amort_is_cashflow,\n",
    "            0.0, # spread\n",
    "            1.0, # gearing\n",
    "            start_date_index,\n",
    "            end_date_index\n",
    "        )\n",
    "        leg = Qcf.Leg()\n",
    "        leg.append_cashflow(icp_clp_cashflow)\n",
    "        patas_ois.append(leg)\n",
    "    else:\n",
    "        fecha_inicio = Qcf.build_qcdate_from_string(\n",
    "            row.start_date.date().isoformat())\n",
    "        \n",
    "        fecha_final = Qcf.build_qcdate_from_string(\n",
    "            row.end_date.date().isoformat())\n",
    "        \n",
    "        icp_clp_leg = Qcf.LegFactory.build_bullet_icp_clp2_leg(\n",
    "            Qcf.RecPay.PAY,\n",
    "            fecha_inicio,\n",
    "            fecha_final,\n",
    "            bus_adj_rule,\n",
    "            Qcf.Tenor(row.periodicity),\n",
    "            periodo_irregular,\n",
    "            cal,\n",
    "            row.settlement_lag, \n",
    "            row.nominal,\n",
    "            row.amort_is_cashflow,\n",
    "            0.0, # spread\n",
    "            1.0, # gearing\n",
    "            True # La tasa es LinAct/360 con False la tasa es Lin30/360\n",
    "        )\n",
    "        patas_ois.append(icp_clp_leg)"
   ]
  },
  {
   "cell_type": "code",
   "execution_count": 14,
   "metadata": {
    "ExecuteTime": {
     "end_time": "2021-10-20T23:03:10.475047Z",
     "start_time": "2021-10-20T23:03:10.447515Z"
    }
   },
   "outputs": [
    {
     "data": {
      "text/html": [
       "<div>\n",
       "<style scoped>\n",
       "    .dataframe tbody tr th:only-of-type {\n",
       "        vertical-align: middle;\n",
       "    }\n",
       "\n",
       "    .dataframe tbody tr th {\n",
       "        vertical-align: top;\n",
       "    }\n",
       "\n",
       "    .dataframe thead th {\n",
       "        text-align: right;\n",
       "    }\n",
       "</style>\n",
       "<table border=\"1\" class=\"dataframe\">\n",
       "  <thead>\n",
       "    <tr style=\"text-align: right;\">\n",
       "      <th></th>\n",
       "      <th>fecha_inicial</th>\n",
       "      <th>fecha_final</th>\n",
       "      <th>fecha_pago</th>\n",
       "      <th>nominal</th>\n",
       "      <th>amortizacion</th>\n",
       "      <th>amort_es_flujo</th>\n",
       "      <th>flujo</th>\n",
       "      <th>moneda</th>\n",
       "      <th>icp_inicial</th>\n",
       "      <th>icp_final</th>\n",
       "      <th>valor_tasa</th>\n",
       "      <th>interes</th>\n",
       "      <th>spread</th>\n",
       "      <th>gearing</th>\n",
       "      <th>tipo_tasa</th>\n",
       "    </tr>\n",
       "  </thead>\n",
       "  <tbody>\n",
       "    <tr>\n",
       "      <th>0</th>\n",
       "      <td>2021-10-19</td>\n",
       "      <td>2022-10-19</td>\n",
       "      <td>2022-10-21</td>\n",
       "      <td>-1000000.0</td>\n",
       "      <td>0.0</td>\n",
       "      <td>True</td>\n",
       "      <td>0.0</td>\n",
       "      <td>CLP</td>\n",
       "      <td>10000.0</td>\n",
       "      <td>10000.0</td>\n",
       "      <td>0.0</td>\n",
       "      <td>-0.0</td>\n",
       "      <td>0.0</td>\n",
       "      <td>1.0</td>\n",
       "      <td>LinAct360</td>\n",
       "    </tr>\n",
       "    <tr>\n",
       "      <th>1</th>\n",
       "      <td>2022-10-19</td>\n",
       "      <td>2023-10-19</td>\n",
       "      <td>2023-10-23</td>\n",
       "      <td>-1000000.0</td>\n",
       "      <td>0.0</td>\n",
       "      <td>True</td>\n",
       "      <td>0.0</td>\n",
       "      <td>CLP</td>\n",
       "      <td>10000.0</td>\n",
       "      <td>10000.0</td>\n",
       "      <td>0.0</td>\n",
       "      <td>-0.0</td>\n",
       "      <td>0.0</td>\n",
       "      <td>1.0</td>\n",
       "      <td>LinAct360</td>\n",
       "    </tr>\n",
       "    <tr>\n",
       "      <th>2</th>\n",
       "      <td>2023-10-19</td>\n",
       "      <td>2024-10-21</td>\n",
       "      <td>2024-10-23</td>\n",
       "      <td>-1000000.0</td>\n",
       "      <td>0.0</td>\n",
       "      <td>True</td>\n",
       "      <td>0.0</td>\n",
       "      <td>CLP</td>\n",
       "      <td>10000.0</td>\n",
       "      <td>10000.0</td>\n",
       "      <td>0.0</td>\n",
       "      <td>-0.0</td>\n",
       "      <td>0.0</td>\n",
       "      <td>1.0</td>\n",
       "      <td>LinAct360</td>\n",
       "    </tr>\n",
       "    <tr>\n",
       "      <th>3</th>\n",
       "      <td>2024-10-21</td>\n",
       "      <td>2025-10-20</td>\n",
       "      <td>2025-10-22</td>\n",
       "      <td>-1000000.0</td>\n",
       "      <td>0.0</td>\n",
       "      <td>True</td>\n",
       "      <td>0.0</td>\n",
       "      <td>CLP</td>\n",
       "      <td>10000.0</td>\n",
       "      <td>10000.0</td>\n",
       "      <td>0.0</td>\n",
       "      <td>-0.0</td>\n",
       "      <td>0.0</td>\n",
       "      <td>1.0</td>\n",
       "      <td>LinAct360</td>\n",
       "    </tr>\n",
       "    <tr>\n",
       "      <th>4</th>\n",
       "      <td>2025-10-20</td>\n",
       "      <td>2026-10-19</td>\n",
       "      <td>2026-10-21</td>\n",
       "      <td>-1000000.0</td>\n",
       "      <td>0.0</td>\n",
       "      <td>True</td>\n",
       "      <td>0.0</td>\n",
       "      <td>CLP</td>\n",
       "      <td>10000.0</td>\n",
       "      <td>10000.0</td>\n",
       "      <td>0.0</td>\n",
       "      <td>-0.0</td>\n",
       "      <td>0.0</td>\n",
       "      <td>1.0</td>\n",
       "      <td>LinAct360</td>\n",
       "    </tr>\n",
       "    <tr>\n",
       "      <th>5</th>\n",
       "      <td>2026-10-19</td>\n",
       "      <td>2027-10-19</td>\n",
       "      <td>2027-10-21</td>\n",
       "      <td>-1000000.0</td>\n",
       "      <td>0.0</td>\n",
       "      <td>True</td>\n",
       "      <td>0.0</td>\n",
       "      <td>CLP</td>\n",
       "      <td>10000.0</td>\n",
       "      <td>10000.0</td>\n",
       "      <td>0.0</td>\n",
       "      <td>-0.0</td>\n",
       "      <td>0.0</td>\n",
       "      <td>1.0</td>\n",
       "      <td>LinAct360</td>\n",
       "    </tr>\n",
       "    <tr>\n",
       "      <th>6</th>\n",
       "      <td>2027-10-19</td>\n",
       "      <td>2028-10-19</td>\n",
       "      <td>2028-10-23</td>\n",
       "      <td>-1000000.0</td>\n",
       "      <td>-1000000.0</td>\n",
       "      <td>True</td>\n",
       "      <td>-1000000.0</td>\n",
       "      <td>CLP</td>\n",
       "      <td>10000.0</td>\n",
       "      <td>10000.0</td>\n",
       "      <td>0.0</td>\n",
       "      <td>-0.0</td>\n",
       "      <td>0.0</td>\n",
       "      <td>1.0</td>\n",
       "      <td>LinAct360</td>\n",
       "    </tr>\n",
       "  </tbody>\n",
       "</table>\n",
       "</div>"
      ],
      "text/plain": [
       "  fecha_inicial fecha_final  fecha_pago    nominal  amortizacion  \\\n",
       "0    2021-10-19  2022-10-19  2022-10-21 -1000000.0           0.0   \n",
       "1    2022-10-19  2023-10-19  2023-10-23 -1000000.0           0.0   \n",
       "2    2023-10-19  2024-10-21  2024-10-23 -1000000.0           0.0   \n",
       "3    2024-10-21  2025-10-20  2025-10-22 -1000000.0           0.0   \n",
       "4    2025-10-20  2026-10-19  2026-10-21 -1000000.0           0.0   \n",
       "5    2026-10-19  2027-10-19  2027-10-21 -1000000.0           0.0   \n",
       "6    2027-10-19  2028-10-19  2028-10-23 -1000000.0    -1000000.0   \n",
       "\n",
       "   amort_es_flujo      flujo moneda  icp_inicial  icp_final  valor_tasa  \\\n",
       "0            True        0.0    CLP      10000.0    10000.0         0.0   \n",
       "1            True        0.0    CLP      10000.0    10000.0         0.0   \n",
       "2            True        0.0    CLP      10000.0    10000.0         0.0   \n",
       "3            True        0.0    CLP      10000.0    10000.0         0.0   \n",
       "4            True        0.0    CLP      10000.0    10000.0         0.0   \n",
       "5            True        0.0    CLP      10000.0    10000.0         0.0   \n",
       "6            True -1000000.0    CLP      10000.0    10000.0         0.0   \n",
       "\n",
       "   interes  spread  gearing  tipo_tasa  \n",
       "0     -0.0     0.0      1.0  LinAct360  \n",
       "1     -0.0     0.0      1.0  LinAct360  \n",
       "2     -0.0     0.0      1.0  LinAct360  \n",
       "3     -0.0     0.0      1.0  LinAct360  \n",
       "4     -0.0     0.0      1.0  LinAct360  \n",
       "5     -0.0     0.0      1.0  LinAct360  \n",
       "6     -0.0     0.0      1.0  LinAct360  "
      ]
     },
     "execution_count": 14,
     "metadata": {},
     "output_type": "execute_result"
    }
   ],
   "source": [
    "myf.leg_as_dataframe(patas_ois[22], myf.TipoPata.ICPCLP)"
   ]
  },
  {
   "cell_type": "markdown",
   "metadata": {},
   "source": [
    "## Función Objetivo"
   ]
  },
  {
   "cell_type": "code",
   "execution_count": 15,
   "metadata": {
    "ExecuteTime": {
     "end_time": "2021-10-20T23:04:01.415954Z",
     "start_time": "2021-10-20T23:04:01.412605Z"
    }
   },
   "outputs": [],
   "source": [
    "act365 = Qcf.QCAct365()\n",
    "exp_wf = Qcf.QCContinousWf()"
   ]
  },
  {
   "cell_type": "code",
   "execution_count": 31,
   "metadata": {
    "ExecuteTime": {
     "end_time": "2021-10-20T23:14:23.586716Z",
     "start_time": "2021-10-20T23:14:23.575158Z"
    }
   },
   "outputs": [
    {
     "name": "stdout",
     "output_type": "stream",
     "text": [
      "4\n",
      "17\n",
      "24\n",
      "31\n",
      "39\n",
      "68\n",
      "98\n",
      "131\n",
      "159\n",
      "188\n",
      "220\n",
      "250\n",
      "279\n",
      "312\n",
      "341\n",
      "371\n",
      "553\n",
      "738\n",
      "1104\n",
      "1468\n",
      "1832\n",
      "2197\n",
      "2565\n",
      "2930\n",
      "3295\n",
      "3659\n",
      "4389\n",
      "5486\n",
      "7313\n",
      "9139\n",
      "10965\n",
      "14616\n",
      "18268\n"
     ]
    }
   ],
   "source": [
    "plazos = Qcf.long_vec()\n",
    "for p in patas_fijas:\n",
    "    num = p.size()\n",
    "    fecha = p.get_cashflow_at(num - 1).get_settlement_date()\n",
    "    plazos.append(fecha_val.day_diff(fecha))\n",
    "    print(fecha_val.day_diff(fecha))"
   ]
  },
  {
   "cell_type": "code",
   "execution_count": 17,
   "metadata": {
    "ExecuteTime": {
     "end_time": "2021-10-20T23:05:21.803047Z",
     "start_time": "2021-10-20T23:05:21.799567Z"
    }
   },
   "outputs": [],
   "source": [
    "tasas_ini = [0.0 for i in patas_fijas]"
   ]
  },
  {
   "cell_type": "code",
   "execution_count": 18,
   "metadata": {
    "ExecuteTime": {
     "end_time": "2021-10-20T23:05:41.589405Z",
     "start_time": "2021-10-20T23:05:41.582313Z"
    }
   },
   "outputs": [],
   "source": [
    "vp = Qcf.PresentValue()\n",
    "fwd = Qcf.ForwardRates()"
   ]
  },
  {
   "cell_type": "code",
   "execution_count": 21,
   "metadata": {
    "ExecuteTime": {
     "end_time": "2021-10-20T23:09:15.201295Z",
     "start_time": "2021-10-20T23:09:15.189799Z"
    }
   },
   "outputs": [],
   "source": [
    "def obj(tasa, tasas, cual):\n",
    "    # Construir un objeto curva cero cupón de Qcf\n",
    "    ctasas = Qcf.double_vec()\n",
    "    for r in tasas:\n",
    "        ctasas.append(r)\n",
    "    zcc = Qcf.QCCurve(plazos, ctasas)\n",
    "    plazo = zcc.get_values_at(cual).tenor\n",
    "    zcc.set_pair(plazo, float(tasa))\n",
    "    lin = Qcf.QCLinearInterpolator(zcc)\n",
    "    zz = Qcf.ZeroCouponCurve(lin, Qcf.QCInterestRate(0.0, act365, exp_wf))\n",
    "    \n",
    "    # Calculo el valor de la pata fija del swap de índice cual\n",
    "    vp_fix = vp.pv(fecha_val, patas_fijas[cual], zz)\n",
    "    # print(vp_fix)\n",
    "    \n",
    "    # Calculo las proyecciones de los índices de la pata OIS correspondiente\n",
    "    fwd.set_rates_icp_clp_leg(fecha_val, 1.0, patas_ois[cual], zz)\n",
    "    \n",
    "    # Calculo el valor presente de la pata OIS\n",
    "    vp_flot = vp.pv(fecha_val, patas_ois[cual], zz)\n",
    "    # print(vp_flot)\n",
    "    \n",
    "    return vp_fix + vp_flot"
   ]
  },
  {
   "cell_type": "code",
   "execution_count": 27,
   "metadata": {
    "ExecuteTime": {
     "end_time": "2021-10-20T23:10:29.054741Z",
     "start_time": "2021-10-20T23:10:29.046856Z"
    }
   },
   "outputs": [
    {
     "data": {
      "text/plain": [
       "0.0004716303665190935"
      ]
     },
     "execution_count": 27,
     "metadata": {},
     "output_type": "execute_result"
    }
   ],
   "source": [
    "obj(0.0005069, tasas_ini, 0)"
   ]
  },
  {
   "cell_type": "markdown",
   "metadata": {
    "ExecuteTime": {
     "end_time": "2021-10-20T19:56:29.688923Z",
     "start_time": "2021-10-20T19:56:29.682983Z"
    }
   },
   "source": [
    "## Solución"
   ]
  },
  {
   "cell_type": "code",
   "execution_count": 29,
   "metadata": {
    "ExecuteTime": {
     "end_time": "2021-10-20T23:12:43.100467Z",
     "start_time": "2021-10-20T23:12:43.044447Z"
    }
   },
   "outputs": [],
   "source": [
    "for cual in range(len(patas_fijas)):\n",
    "    res = newton(obj, 0.0, args=(tasas_ini, cual), tol=1.e-10, disp=True)\n",
    "    tasas_ini[cual] = res"
   ]
  },
  {
   "cell_type": "code",
   "execution_count": 30,
   "metadata": {
    "ExecuteTime": {
     "end_time": "2021-10-20T23:13:14.695455Z",
     "start_time": "2021-10-20T23:13:14.689821Z"
    }
   },
   "outputs": [
    {
     "name": "stdout",
     "output_type": "stream",
     "text": [
      "0.05069%\n",
      "0.05282%\n",
      "0.05240%\n",
      "0.05286%\n",
      "0.05212%\n",
      "0.05325%\n",
      "0.05467%\n",
      "0.05681%\n",
      "0.05628%\n",
      "0.06114%\n",
      "0.06397%\n",
      "0.07078%\n",
      "0.07977%\n",
      "0.09276%\n",
      "0.10284%\n",
      "0.11696%\n",
      "0.23675%\n",
      "0.38658%\n",
      "0.64294%\n",
      "0.82872%\n",
      "0.96517%\n",
      "1.07815%\n",
      "1.17015%\n",
      "1.24262%\n",
      "1.30101%\n",
      "1.35263%\n",
      "1.43250%\n",
      "1.51157%\n",
      "1.58022%\n",
      "1.58920%\n",
      "1.57695%\n",
      "1.48615%\n",
      "1.36520%\n"
     ]
    }
   ],
   "source": [
    "for r in tasas_ini:\n",
    "    print(f'{r:.5%}')"
   ]
  }
 ],
 "metadata": {
  "hide_input": false,
  "kernelspec": {
   "display_name": "Python 3",
   "language": "python",
   "name": "python3"
  },
  "language_info": {
   "codemirror_mode": {
    "name": "ipython",
    "version": 3
   },
   "file_extension": ".py",
   "mimetype": "text/x-python",
   "name": "python",
   "nbconvert_exporter": "python",
   "pygments_lexer": "ipython3",
   "version": "3.7.3"
  },
  "toc": {
   "base_numbering": 1,
   "nav_menu": {},
   "number_sections": true,
   "sideBar": true,
   "skip_h1_title": true,
   "title_cell": "Table of Contents",
   "title_sidebar": "Contenido",
   "toc_cell": false,
   "toc_position": {
    "height": "calc(100% - 180px)",
    "left": "10px",
    "top": "150px",
    "width": "165px"
   },
   "toc_section_display": true,
   "toc_window_display": true
  }
 },
 "nbformat": 4,
 "nbformat_minor": 4
}
