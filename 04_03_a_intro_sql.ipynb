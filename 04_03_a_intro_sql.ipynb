{
 "cells": [
  {
   "cell_type": "markdown",
   "metadata": {},
   "source": [
    "# Implementando la BBDD de Datos de Mercado en PostgreSQL"
   ]
  },
  {
   "cell_type": "markdown",
   "metadata": {},
   "source": [
    "En la sesión creamos una definición más o menos precisa para una BBDD de precios de mercado. En esta sesión vamos a implementar esa BBDD en un servidor PostgreSQL en la nube."
   ]
  },
  {
   "cell_type": "markdown",
   "metadata": {},
   "source": [
    "## PostgreSQL"
   ]
  },
  {
   "cell_type": "markdown",
   "metadata": {},
   "source": [
    "PostgreSQL es un motor de bases de datos relacional open source muy utilizado tanto en otros proyectos open source como en entornos corporativos. Es un motor muy avanzado y de alto rendimiento. Para más detalles ver https://www.postgresql.org/."
   ]
  },
  {
   "cell_type": "markdown",
   "metadata": {},
   "source": [
    "Para esta actividad contamos con un servidor PostgreSQL en la nube. Vamos a establecer conexión con él, para eso, necesitamos la librería en Python que permite la interacción con un motor de BBDD PostreSQL."
   ]
  },
  {
   "cell_type": "code",
   "execution_count": 1,
   "metadata": {
    "ExecuteTime": {
     "end_time": "2021-09-22T21:20:06.873250Z",
     "start_time": "2021-09-22T21:20:06.846111Z"
    }
   },
   "outputs": [],
   "source": [
    "import psycopg2"
   ]
  },
  {
   "cell_type": "markdown",
   "metadata": {},
   "source": [
    "Se establece la conexión."
   ]
  },
  {
   "cell_type": "code",
   "execution_count": 28,
   "metadata": {
    "ExecuteTime": {
     "end_time": "2021-09-22T22:28:08.771063Z",
     "start_time": "2021-09-22T22:28:08.246935Z"
    }
   },
   "outputs": [],
   "source": [
    "conn = psycopg2.connect(\n",
    "    host=\"\",\n",
    "    database=\"\",\n",
    "    user=\"\",\n",
    "    password=\"\"\n",
    ")"
   ]
  },
  {
   "cell_type": "markdown",
   "metadata": {},
   "source": [
    "### Revisando la BBDD"
   ]
  },
  {
   "cell_type": "markdown",
   "metadata": {},
   "source": [
    "Esta BBDD tiene ya algunas cosas que yo he creado para probar la conexión y la performance. Investiguemos un poco:"
   ]
  },
  {
   "cell_type": "code",
   "execution_count": 29,
   "metadata": {
    "ExecuteTime": {
     "end_time": "2021-09-22T22:28:17.792168Z",
     "start_time": "2021-09-22T22:28:17.646628Z"
    }
   },
   "outputs": [],
   "source": [
    "qry_schemas = \"select schema_name from information_schema.schemata\"\n",
    "with conn.cursor() as cursor:\n",
    "    cursor.execute(qry_schemas)\n",
    "    data = cursor.fetchall()"
   ]
  },
  {
   "cell_type": "code",
   "execution_count": 30,
   "metadata": {
    "ExecuteTime": {
     "end_time": "2021-09-22T22:28:19.279323Z",
     "start_time": "2021-09-22T22:28:19.274432Z"
    }
   },
   "outputs": [
    {
     "data": {
      "text/plain": [
       "[('pg_catalog',),\n",
       " ('public',),\n",
       " ('information_schema',),\n",
       " ('fixed_income',),\n",
       " ('market_data',),\n",
       " ('calendar_data',),\n",
       " ('enum_types',),\n",
       " ('user_data',)]"
      ]
     },
     "execution_count": 30,
     "metadata": {},
     "output_type": "execute_result"
    }
   ],
   "source": [
    "data"
   ]
  },
  {
   "cell_type": "markdown",
   "metadata": {},
   "source": [
    "También podemos usar `pandas` para tener un ouput más amistoso."
   ]
  },
  {
   "cell_type": "code",
   "execution_count": 31,
   "metadata": {
    "ExecuteTime": {
     "end_time": "2021-09-22T22:28:20.272621Z",
     "start_time": "2021-09-22T22:28:20.269293Z"
    }
   },
   "outputs": [],
   "source": [
    "import pandas as pd"
   ]
  },
  {
   "cell_type": "code",
   "execution_count": 32,
   "metadata": {
    "ExecuteTime": {
     "end_time": "2021-09-22T22:28:20.589498Z",
     "start_time": "2021-09-22T22:28:20.509869Z"
    }
   },
   "outputs": [
    {
     "data": {
      "text/html": [
       "<div>\n",
       "<style scoped>\n",
       "    .dataframe tbody tr th:only-of-type {\n",
       "        vertical-align: middle;\n",
       "    }\n",
       "\n",
       "    .dataframe tbody tr th {\n",
       "        vertical-align: top;\n",
       "    }\n",
       "\n",
       "    .dataframe thead th {\n",
       "        text-align: right;\n",
       "    }\n",
       "</style>\n",
       "<table border=\"1\" class=\"dataframe\">\n",
       "  <thead>\n",
       "    <tr style=\"text-align: right;\">\n",
       "      <th></th>\n",
       "      <th>schema_name</th>\n",
       "    </tr>\n",
       "  </thead>\n",
       "  <tbody>\n",
       "    <tr>\n",
       "      <th>0</th>\n",
       "      <td>pg_catalog</td>\n",
       "    </tr>\n",
       "    <tr>\n",
       "      <th>1</th>\n",
       "      <td>public</td>\n",
       "    </tr>\n",
       "    <tr>\n",
       "      <th>2</th>\n",
       "      <td>information_schema</td>\n",
       "    </tr>\n",
       "    <tr>\n",
       "      <th>3</th>\n",
       "      <td>fixed_income</td>\n",
       "    </tr>\n",
       "    <tr>\n",
       "      <th>4</th>\n",
       "      <td>market_data</td>\n",
       "    </tr>\n",
       "    <tr>\n",
       "      <th>5</th>\n",
       "      <td>calendar_data</td>\n",
       "    </tr>\n",
       "    <tr>\n",
       "      <th>6</th>\n",
       "      <td>enum_types</td>\n",
       "    </tr>\n",
       "    <tr>\n",
       "      <th>7</th>\n",
       "      <td>user_data</td>\n",
       "    </tr>\n",
       "  </tbody>\n",
       "</table>\n",
       "</div>"
      ],
      "text/plain": [
       "          schema_name\n",
       "0          pg_catalog\n",
       "1              public\n",
       "2  information_schema\n",
       "3        fixed_income\n",
       "4         market_data\n",
       "5       calendar_data\n",
       "6          enum_types\n",
       "7           user_data"
      ]
     },
     "execution_count": 32,
     "metadata": {},
     "output_type": "execute_result"
    }
   ],
   "source": [
    "pd.read_sql(qry_schemas, conn)"
   ]
  },
  {
   "cell_type": "markdown",
   "metadata": {},
   "source": [
    "Los últimos 5 esquemas, son los que yo creé. Vamos a investigar un poco más."
   ]
  },
  {
   "cell_type": "markdown",
   "metadata": {},
   "source": [
    "**NOTA:** Los esquemas (*schema*) de una BBDD son simplemente grupos de tablas. Es una agrupación que se realiza por diseño y no es estrictamente necesaria. Es similar a la organización en carpetas de los archivos en un disco duro."
   ]
  },
  {
   "cell_type": "code",
   "execution_count": 33,
   "metadata": {
    "ExecuteTime": {
     "end_time": "2021-09-22T22:28:21.490093Z",
     "start_time": "2021-09-22T22:28:21.405021Z"
    }
   },
   "outputs": [
    {
     "data": {
      "text/html": [
       "<div>\n",
       "<style scoped>\n",
       "    .dataframe tbody tr th:only-of-type {\n",
       "        vertical-align: middle;\n",
       "    }\n",
       "\n",
       "    .dataframe tbody tr th {\n",
       "        vertical-align: top;\n",
       "    }\n",
       "\n",
       "    .dataframe thead th {\n",
       "        text-align: right;\n",
       "    }\n",
       "</style>\n",
       "<table border=\"1\" class=\"dataframe\">\n",
       "  <thead>\n",
       "    <tr style=\"text-align: right;\">\n",
       "      <th></th>\n",
       "      <th>table_schema</th>\n",
       "      <th>table_name</th>\n",
       "    </tr>\n",
       "  </thead>\n",
       "  <tbody>\n",
       "    <tr>\n",
       "      <th>0</th>\n",
       "      <td>market_data</td>\n",
       "      <td>capitalization_indexes</td>\n",
       "    </tr>\n",
       "    <tr>\n",
       "      <th>1</th>\n",
       "      <td>market_data</td>\n",
       "      <td>capitalization_index_values</td>\n",
       "    </tr>\n",
       "    <tr>\n",
       "      <th>2</th>\n",
       "      <td>market_data</td>\n",
       "      <td>currencies</td>\n",
       "    </tr>\n",
       "    <tr>\n",
       "      <th>3</th>\n",
       "      <td>market_data</td>\n",
       "      <td>fx_rates</td>\n",
       "    </tr>\n",
       "    <tr>\n",
       "      <th>4</th>\n",
       "      <td>market_data</td>\n",
       "      <td>fx_rate_indexes</td>\n",
       "    </tr>\n",
       "    <tr>\n",
       "      <th>5</th>\n",
       "      <td>market_data</td>\n",
       "      <td>fx_rate_index_values</td>\n",
       "    </tr>\n",
       "  </tbody>\n",
       "</table>\n",
       "</div>"
      ],
      "text/plain": [
       "  table_schema                   table_name\n",
       "0  market_data       capitalization_indexes\n",
       "1  market_data  capitalization_index_values\n",
       "2  market_data                   currencies\n",
       "3  market_data                     fx_rates\n",
       "4  market_data              fx_rate_indexes\n",
       "5  market_data         fx_rate_index_values"
      ]
     },
     "execution_count": 33,
     "metadata": {},
     "output_type": "execute_result"
    }
   ],
   "source": [
    "qry = \"SELECT table_schema, table_name FROM information_schema.tables WHERE table_schema = 'market_data'\"\n",
    "pd.read_sql(qry, conn)"
   ]
  },
  {
   "cell_type": "markdown",
   "metadata": {},
   "source": [
    "Vamos a ver que hay en la tabla `fx_rate_index_values`."
   ]
  },
  {
   "cell_type": "code",
   "execution_count": 34,
   "metadata": {
    "ExecuteTime": {
     "end_time": "2021-09-22T22:28:22.295522Z",
     "start_time": "2021-09-22T22:28:21.854204Z"
    }
   },
   "outputs": [],
   "source": [
    "qry = \"SELECT * FROM market_data.fx_rate_index_values\"\n",
    "result = pd.read_sql(qry, conn)"
   ]
  },
  {
   "cell_type": "code",
   "execution_count": 35,
   "metadata": {
    "ExecuteTime": {
     "end_time": "2021-09-22T22:28:22.308134Z",
     "start_time": "2021-09-22T22:28:22.297841Z"
    }
   },
   "outputs": [
    {
     "data": {
      "text/html": [
       "<div>\n",
       "<style scoped>\n",
       "    .dataframe tbody tr th:only-of-type {\n",
       "        vertical-align: middle;\n",
       "    }\n",
       "\n",
       "    .dataframe tbody tr th {\n",
       "        vertical-align: top;\n",
       "    }\n",
       "\n",
       "    .dataframe thead th {\n",
       "        text-align: right;\n",
       "    }\n",
       "</style>\n",
       "<table border=\"1\" class=\"dataframe\">\n",
       "  <thead>\n",
       "    <tr style=\"text-align: right;\">\n",
       "      <th></th>\n",
       "      <th>id</th>\n",
       "      <th>fx_rate_index_code</th>\n",
       "      <th>date</th>\n",
       "      <th>value</th>\n",
       "    </tr>\n",
       "  </thead>\n",
       "  <tbody>\n",
       "    <tr>\n",
       "      <th>0</th>\n",
       "      <td>1</td>\n",
       "      <td>UF</td>\n",
       "      <td>2000-01-01</td>\n",
       "      <td>15067.93</td>\n",
       "    </tr>\n",
       "    <tr>\n",
       "      <th>1</th>\n",
       "      <td>2</td>\n",
       "      <td>UF</td>\n",
       "      <td>2000-01-02</td>\n",
       "      <td>15068.90</td>\n",
       "    </tr>\n",
       "    <tr>\n",
       "      <th>2</th>\n",
       "      <td>3</td>\n",
       "      <td>UF</td>\n",
       "      <td>2000-01-03</td>\n",
       "      <td>15069.87</td>\n",
       "    </tr>\n",
       "    <tr>\n",
       "      <th>3</th>\n",
       "      <td>4</td>\n",
       "      <td>UF</td>\n",
       "      <td>2000-01-04</td>\n",
       "      <td>15070.84</td>\n",
       "    </tr>\n",
       "    <tr>\n",
       "      <th>4</th>\n",
       "      <td>5</td>\n",
       "      <td>UF</td>\n",
       "      <td>2000-01-05</td>\n",
       "      <td>15071.82</td>\n",
       "    </tr>\n",
       "  </tbody>\n",
       "</table>\n",
       "</div>"
      ],
      "text/plain": [
       "   id fx_rate_index_code        date     value\n",
       "0   1                 UF  2000-01-01  15067.93\n",
       "1   2                 UF  2000-01-02  15068.90\n",
       "2   3                 UF  2000-01-03  15069.87\n",
       "3   4                 UF  2000-01-04  15070.84\n",
       "4   5                 UF  2000-01-05  15071.82"
      ]
     },
     "execution_count": 35,
     "metadata": {},
     "output_type": "execute_result"
    }
   ],
   "source": [
    "result.head()"
   ]
  },
  {
   "cell_type": "code",
   "execution_count": 36,
   "metadata": {
    "ExecuteTime": {
     "end_time": "2021-09-22T22:28:22.477469Z",
     "start_time": "2021-09-22T22:28:22.466637Z"
    }
   },
   "outputs": [
    {
     "data": {
      "text/html": [
       "<div>\n",
       "<style scoped>\n",
       "    .dataframe tbody tr th:only-of-type {\n",
       "        vertical-align: middle;\n",
       "    }\n",
       "\n",
       "    .dataframe tbody tr th {\n",
       "        vertical-align: top;\n",
       "    }\n",
       "\n",
       "    .dataframe thead th {\n",
       "        text-align: right;\n",
       "    }\n",
       "</style>\n",
       "<table border=\"1\" class=\"dataframe\">\n",
       "  <thead>\n",
       "    <tr style=\"text-align: right;\">\n",
       "      <th></th>\n",
       "      <th>id</th>\n",
       "      <th>fx_rate_index_code</th>\n",
       "      <th>date</th>\n",
       "      <th>value</th>\n",
       "    </tr>\n",
       "  </thead>\n",
       "  <tbody>\n",
       "    <tr>\n",
       "      <th>7947</th>\n",
       "      <td>7948</td>\n",
       "      <td>UF</td>\n",
       "      <td>2021-10-05</td>\n",
       "      <td>30108.40</td>\n",
       "    </tr>\n",
       "    <tr>\n",
       "      <th>7948</th>\n",
       "      <td>7949</td>\n",
       "      <td>UF</td>\n",
       "      <td>2021-10-06</td>\n",
       "      <td>30112.40</td>\n",
       "    </tr>\n",
       "    <tr>\n",
       "      <th>7949</th>\n",
       "      <td>7950</td>\n",
       "      <td>UF</td>\n",
       "      <td>2021-10-07</td>\n",
       "      <td>30116.41</td>\n",
       "    </tr>\n",
       "    <tr>\n",
       "      <th>7950</th>\n",
       "      <td>7951</td>\n",
       "      <td>UF</td>\n",
       "      <td>2021-10-08</td>\n",
       "      <td>30120.42</td>\n",
       "    </tr>\n",
       "    <tr>\n",
       "      <th>7951</th>\n",
       "      <td>7952</td>\n",
       "      <td>UF</td>\n",
       "      <td>2021-10-09</td>\n",
       "      <td>30124.43</td>\n",
       "    </tr>\n",
       "  </tbody>\n",
       "</table>\n",
       "</div>"
      ],
      "text/plain": [
       "        id fx_rate_index_code        date     value\n",
       "7947  7948                 UF  2021-10-05  30108.40\n",
       "7948  7949                 UF  2021-10-06  30112.40\n",
       "7949  7950                 UF  2021-10-07  30116.41\n",
       "7950  7951                 UF  2021-10-08  30120.42\n",
       "7951  7952                 UF  2021-10-09  30124.43"
      ]
     },
     "execution_count": 36,
     "metadata": {},
     "output_type": "execute_result"
    }
   ],
   "source": [
    "result.tail()"
   ]
  },
  {
   "cell_type": "markdown",
   "metadata": {},
   "source": [
    "El valor de la UF desde el 2000 hasta hoy ... en 21 años se duplicó el valor de la UF."
   ]
  },
  {
   "cell_type": "markdown",
   "metadata": {},
   "source": [
    "$$UF_T=UF_0\\cdot\\left(1+I_{anual}\\right)^{21}$$\n",
    "\n",
    "$$I_{anual}=\\left(\\frac{UF_T}{UF_0}\\right)^{\\frac{1}{21}}-1$$\n",
    "\n",
    "Haciendo el cálculo muy al ojo ..."
   ]
  },
  {
   "cell_type": "code",
   "execution_count": 37,
   "metadata": {
    "ExecuteTime": {
     "end_time": "2021-09-22T22:28:24.078764Z",
     "start_time": "2021-09-22T22:28:24.073684Z"
    }
   },
   "outputs": [
    {
     "name": "stdout",
     "output_type": "stream",
     "text": [
      "Inflación anual promedio de los últimos 21 años: 3.35%\n"
     ]
    }
   ],
   "source": [
    "i = (30123.33 / 15067.93)**(1 / 21) - 1\n",
    "print(f'Inflación anual promedio de los últimos 21 años: {i:.2%}')"
   ]
  },
  {
   "cell_type": "markdown",
   "metadata": {},
   "source": [
    "## Construyendo la Nueva BBDD"
   ]
  },
  {
   "cell_type": "markdown",
   "metadata": {},
   "source": [
    "Partamos creando un esquema donde iremos a alojar las tablas que definimos."
   ]
  },
  {
   "cell_type": "code",
   "execution_count": 38,
   "metadata": {
    "ExecuteTime": {
     "end_time": "2021-09-22T22:28:27.053255Z",
     "start_time": "2021-09-22T22:28:26.904604Z"
    }
   },
   "outputs": [],
   "source": [
    "qry = \"CREATE SCHEMA IF NOT EXISTS lv_cdb_mkt_data\"\n",
    "with conn.cursor() as cursor:\n",
    "    cursor.execute(qry)\n",
    "    conn.commit()"
   ]
  },
  {
   "cell_type": "markdown",
   "metadata": {},
   "source": [
    "Verifiquemos."
   ]
  },
  {
   "cell_type": "code",
   "execution_count": 39,
   "metadata": {
    "ExecuteTime": {
     "end_time": "2021-09-22T22:28:27.429545Z",
     "start_time": "2021-09-22T22:28:27.279483Z"
    }
   },
   "outputs": [
    {
     "data": {
      "text/html": [
       "<div>\n",
       "<style scoped>\n",
       "    .dataframe tbody tr th:only-of-type {\n",
       "        vertical-align: middle;\n",
       "    }\n",
       "\n",
       "    .dataframe tbody tr th {\n",
       "        vertical-align: top;\n",
       "    }\n",
       "\n",
       "    .dataframe thead th {\n",
       "        text-align: right;\n",
       "    }\n",
       "</style>\n",
       "<table border=\"1\" class=\"dataframe\">\n",
       "  <thead>\n",
       "    <tr style=\"text-align: right;\">\n",
       "      <th></th>\n",
       "      <th>schema_name</th>\n",
       "    </tr>\n",
       "  </thead>\n",
       "  <tbody>\n",
       "    <tr>\n",
       "      <th>0</th>\n",
       "      <td>pg_catalog</td>\n",
       "    </tr>\n",
       "    <tr>\n",
       "      <th>1</th>\n",
       "      <td>public</td>\n",
       "    </tr>\n",
       "    <tr>\n",
       "      <th>2</th>\n",
       "      <td>information_schema</td>\n",
       "    </tr>\n",
       "    <tr>\n",
       "      <th>3</th>\n",
       "      <td>fixed_income</td>\n",
       "    </tr>\n",
       "    <tr>\n",
       "      <th>4</th>\n",
       "      <td>market_data</td>\n",
       "    </tr>\n",
       "    <tr>\n",
       "      <th>5</th>\n",
       "      <td>calendar_data</td>\n",
       "    </tr>\n",
       "    <tr>\n",
       "      <th>6</th>\n",
       "      <td>enum_types</td>\n",
       "    </tr>\n",
       "    <tr>\n",
       "      <th>7</th>\n",
       "      <td>user_data</td>\n",
       "    </tr>\n",
       "    <tr>\n",
       "      <th>8</th>\n",
       "      <td>lv_cdb_mkt_data</td>\n",
       "    </tr>\n",
       "  </tbody>\n",
       "</table>\n",
       "</div>"
      ],
      "text/plain": [
       "          schema_name\n",
       "0          pg_catalog\n",
       "1              public\n",
       "2  information_schema\n",
       "3        fixed_income\n",
       "4         market_data\n",
       "5       calendar_data\n",
       "6          enum_types\n",
       "7           user_data\n",
       "8     lv_cdb_mkt_data"
      ]
     },
     "execution_count": 39,
     "metadata": {},
     "output_type": "execute_result"
    }
   ],
   "source": [
    "pd.read_sql(qry_schemas, conn)"
   ]
  },
  {
   "cell_type": "markdown",
   "metadata": {},
   "source": [
    "### Tablas"
   ]
  },
  {
   "cell_type": "markdown",
   "metadata": {},
   "source": [
    "Las siguientes son las tablas definidas en la sesión anterior, pero ordenadas de forma que podamos ir dándolas de alta una a una."
   ]
  },
  {
   "cell_type": "markdown",
   "metadata": {},
   "source": [
    "- Tipo de valor\n",
    "  - id\n",
    "  - codigo (bid, ask, ...)\n",
    "  - descripcion \n",
    " \n",
    " \n",
    " - Tipo de dato\n",
    "  - id\n",
    "  - codigo (unique, tasa o precio)\n",
    "  - descripcion\n",
    "  \n",
    "  \n",
    "- Asset Class\n",
    " - id\n",
    " - codigo\n",
    " - descripcion\n",
    "\n",
    "\n",
    " - Activos\n",
    "  - id\n",
    "  - codigo\n",
    "  - codigo asset class\n",
    "  - descripcion\n",
    " \n",
    " \n",
    "- Caracteristicas Activos\n",
    " - id\n",
    " - codigo del activo (FK a Activos)\n",
    " - characteristicas: y esto es un JSON (piensen en un Dict de Python)\n",
    "\n",
    "  \n",
    "- Serie de precios (precios diarios):\n",
    " - timestamp\n",
    " - identificador del activo (FK a Activos)\n",
    " - tipo de dato (FK al codigo de tipo de dato)\n",
    " - tipo de valor (bid, ask, close, last ..., NAV que aplica para los ETF también FK)\n",
    " - valor\n",
    " \n",
    "\n",
    "- Curvas - Superficies\n",
    " - id\n",
    " - codigo\n",
    " - descripcion\n",
    "\n",
    "\n",
    "- Elementos Curvas\n",
    " - id\n",
    " - codigo activo\n",
    " - codigo curva\n",
    " \n",
    "\n",
    "- Emisores\n",
    "\n",
    "\n",
    "- Ratings\n",
    " - Necesita una dimensión temporal"
   ]
  },
  {
   "cell_type": "markdown",
   "metadata": {},
   "source": [
    "### Tabla `tipo de valor`"
   ]
  },
  {
   "cell_type": "markdown",
   "metadata": {},
   "source": [
    "Los \"\\\\\" son sólo para continuar la `str` en la línea siguiente, no son parte de la query ejecutada."
   ]
  },
  {
   "cell_type": "code",
   "execution_count": 40,
   "metadata": {
    "ExecuteTime": {
     "end_time": "2021-09-22T22:28:28.564941Z",
     "start_time": "2021-09-22T22:28:28.400817Z"
    }
   },
   "outputs": [],
   "source": [
    "qry = \"CREATE TABLE IF NOT EXISTS lv_cdb_mkt_data.tipo_de_valor ( \\\n",
    "id serial8 PRIMARY KEY, \\\n",
    "codigo VARCHAR ( 50 ) UNIQUE NOT NULL, \\\n",
    "descripcion VARCHAR ( 255 ) NOT NULL);\"\n",
    "with conn.cursor() as cursor:\n",
    "    cursor.execute(qry)\n",
    "    conn.commit()"
   ]
  },
  {
   "cell_type": "code",
   "execution_count": 41,
   "metadata": {
    "ExecuteTime": {
     "end_time": "2021-09-22T22:28:28.616386Z",
     "start_time": "2021-09-22T22:28:28.612192Z"
    }
   },
   "outputs": [
    {
     "name": "stdout",
     "output_type": "stream",
     "text": [
      "CREATE TABLE IF NOT EXISTS lv_cdb_mkt_data.tipo_de_valor ( id serial8 PRIMARY KEY, codigo VARCHAR ( 50 ) UNIQUE NOT NULL, descripcion VARCHAR ( 255 ) NOT NULL);\n"
     ]
    }
   ],
   "source": [
    "print(qry)"
   ]
  },
  {
   "cell_type": "markdown",
   "metadata": {},
   "source": [
    "### Tabla `tipo_de_dato`"
   ]
  },
  {
   "cell_type": "code",
   "execution_count": 42,
   "metadata": {
    "ExecuteTime": {
     "end_time": "2021-09-22T22:28:30.239827Z",
     "start_time": "2021-09-22T22:28:30.010213Z"
    }
   },
   "outputs": [],
   "source": [
    "qry = \"CREATE TABLE IF NOT EXISTS lv_cdb_mkt_data.tipo_de_dato ( \\\n",
    "id serial8 PRIMARY KEY, \\\n",
    "codigo VARCHAR ( 50 ) UNIQUE NOT NULL, \\\n",
    "descripcion VARCHAR ( 255 ) NOT NULL);\"\n",
    "with conn.cursor() as cursor:\n",
    "    cursor.execute(qry)\n",
    "    conn.commit()"
   ]
  },
  {
   "cell_type": "markdown",
   "metadata": {},
   "source": [
    "### Tabla `clase_de_activo` (asset class)"
   ]
  },
  {
   "cell_type": "code",
   "execution_count": 43,
   "metadata": {
    "ExecuteTime": {
     "end_time": "2021-09-22T22:28:30.584549Z",
     "start_time": "2021-09-22T22:28:30.356817Z"
    }
   },
   "outputs": [],
   "source": [
    "qry = \"CREATE TABLE IF NOT EXISTS lv_cdb_mkt_data.clase_de_activo ( \\\n",
    "id serial8 PRIMARY KEY, \\\n",
    "codigo VARCHAR ( 50 ) UNIQUE NOT NULL, \\\n",
    "descripcion VARCHAR ( 255 ) NOT NULL);\"\n",
    "with conn.cursor() as cursor:\n",
    "    cursor.execute(qry)\n",
    "    conn.commit()"
   ]
  },
  {
   "cell_type": "markdown",
   "metadata": {},
   "source": [
    "### Tabla `activos`"
   ]
  },
  {
   "cell_type": "code",
   "execution_count": 44,
   "metadata": {
    "ExecuteTime": {
     "end_time": "2021-09-22T22:28:31.446416Z",
     "start_time": "2021-09-22T22:28:31.212253Z"
    }
   },
   "outputs": [],
   "source": [
    "qry = \"CREATE TABLE IF NOT EXISTS lv_cdb_mkt_data.activos ( \\\n",
    "id serial8 PRIMARY KEY, \\\n",
    "codigo VARCHAR ( 50 ) UNIQUE NOT NULL, \\\n",
    "descripcion VARCHAR ( 255 ) NOT NULL, \\\n",
    "codigo_clase_activo VARCHAR ( 50 ) NOT NULL, \\\n",
    "FOREIGN KEY (codigo_clase_activo) \\\n",
    "REFERENCES lv_cdb_mkt_data.clase_de_activo (codigo));\"\n",
    "with conn.cursor() as cursor:\n",
    "    cursor.execute(qry)\n",
    "    conn.commit()"
   ]
  },
  {
   "cell_type": "markdown",
   "metadata": {},
   "source": [
    "### Tabla `caracteristicas_activos`"
   ]
  },
  {
   "cell_type": "code",
   "execution_count": 45,
   "metadata": {
    "ExecuteTime": {
     "end_time": "2021-09-22T22:28:35.112530Z",
     "start_time": "2021-09-22T22:28:34.871251Z"
    }
   },
   "outputs": [],
   "source": [
    "qry = \"CREATE TABLE IF NOT EXISTS lv_cdb_mkt_data.caracteristicas_activos ( \\\n",
    "id serial8 PRIMARY KEY, \\\n",
    "codigo_activo VARCHAR ( 50 ) NOT NULL, \\\n",
    "caracteristicas JSONB NOT NULL, \\\n",
    "FOREIGN KEY (codigo_activo) \\\n",
    "REFERENCES lv_cdb_mkt_data.activos (codigo));\"\n",
    "with conn.cursor() as cursor:\n",
    "    cursor.execute(qry)\n",
    "    conn.commit()"
   ]
  },
  {
   "cell_type": "markdown",
   "metadata": {},
   "source": [
    "### Tabla `precios` (series de precios)"
   ]
  },
  {
   "cell_type": "code",
   "execution_count": 46,
   "metadata": {
    "ExecuteTime": {
     "end_time": "2021-09-22T22:28:38.239248Z",
     "start_time": "2021-09-22T22:28:38.007130Z"
    }
   },
   "outputs": [],
   "source": [
    "qry = \"CREATE TABLE IF NOT EXISTS lv_cdb_mkt_data.precios ( \\\n",
    "id serial8 PRIMARY KEY, \\\n",
    "fecha_hora TIMESTAMP NOT NULL, \\\n",
    "codigo_activo VARCHAR ( 50 ) NOT NULL, \\\n",
    "codigo_tipo_de_dato VARCHAR ( 50 ) NOT NULL, \\\n",
    "codigo_tipo_de_valor VARCHAR ( 50 ) NOT NULL, \\\n",
    "valor NUMERIC NOT NULL, \\\n",
    "FOREIGN KEY (codigo_activo) \\\n",
    "REFERENCES lv_cdb_mkt_data.activos (codigo), \\\n",
    "FOREIGN KEY (codigo_tipo_de_dato) \\\n",
    "REFERENCES lv_cdb_mkt_data.tipo_de_dato (codigo), \\\n",
    "FOREIGN KEY (codigo_tipo_de_valor) \\\n",
    "REFERENCES lv_cdb_mkt_data.tipo_de_valor (codigo));\"\n",
    "with conn.cursor() as cursor:\n",
    "    cursor.execute(qry)\n",
    "    conn.commit()"
   ]
  },
  {
   "cell_type": "markdown",
   "metadata": {},
   "source": [
    "### Tarea"
   ]
  },
  {
   "cell_type": "markdown",
   "metadata": {},
   "source": [
    "Dar de alta las tablas que faltan."
   ]
  },
  {
   "cell_type": "markdown",
   "metadata": {},
   "source": [
    "## Insertar Data"
   ]
  },
  {
   "cell_type": "markdown",
   "metadata": {},
   "source": [
    "Vamos a subir algunos valores de la UF para partir. La data es la siguiente:"
   ]
  },
  {
   "cell_type": "code",
   "execution_count": 48,
   "metadata": {
    "ExecuteTime": {
     "end_time": "2021-09-22T22:30:54.198548Z",
     "start_time": "2021-09-22T22:30:54.190367Z"
    }
   },
   "outputs": [],
   "source": [
    "ufs = pd.read_csv('data/valores_uf.csv')"
   ]
  },
  {
   "cell_type": "code",
   "execution_count": 50,
   "metadata": {
    "ExecuteTime": {
     "end_time": "2021-09-22T22:31:33.253084Z",
     "start_time": "2021-09-22T22:31:33.243155Z"
    }
   },
   "outputs": [
    {
     "data": {
      "text/html": [
       "<div>\n",
       "<style scoped>\n",
       "    .dataframe tbody tr th:only-of-type {\n",
       "        vertical-align: middle;\n",
       "    }\n",
       "\n",
       "    .dataframe tbody tr th {\n",
       "        vertical-align: top;\n",
       "    }\n",
       "\n",
       "    .dataframe thead th {\n",
       "        text-align: right;\n",
       "    }\n",
       "</style>\n",
       "<table border=\"1\" class=\"dataframe\">\n",
       "  <thead>\n",
       "    <tr style=\"text-align: right;\">\n",
       "      <th></th>\n",
       "      <th>fx_rate_index_code</th>\n",
       "      <th>date</th>\n",
       "      <th>value</th>\n",
       "    </tr>\n",
       "  </thead>\n",
       "  <tbody>\n",
       "    <tr>\n",
       "      <th>495</th>\n",
       "      <td>UF</td>\n",
       "      <td>2020-06-01</td>\n",
       "      <td>28716.52</td>\n",
       "    </tr>\n",
       "    <tr>\n",
       "      <th>496</th>\n",
       "      <td>UF</td>\n",
       "      <td>2020-05-31</td>\n",
       "      <td>28716.52</td>\n",
       "    </tr>\n",
       "    <tr>\n",
       "      <th>497</th>\n",
       "      <td>UF</td>\n",
       "      <td>2020-05-30</td>\n",
       "      <td>28716.52</td>\n",
       "    </tr>\n",
       "    <tr>\n",
       "      <th>498</th>\n",
       "      <td>UF</td>\n",
       "      <td>2020-05-29</td>\n",
       "      <td>28716.52</td>\n",
       "    </tr>\n",
       "    <tr>\n",
       "      <th>499</th>\n",
       "      <td>UF</td>\n",
       "      <td>2020-05-28</td>\n",
       "      <td>28716.52</td>\n",
       "    </tr>\n",
       "  </tbody>\n",
       "</table>\n",
       "</div>"
      ],
      "text/plain": [
       "    fx_rate_index_code        date     value\n",
       "495                 UF  2020-06-01  28716.52\n",
       "496                 UF  2020-05-31  28716.52\n",
       "497                 UF  2020-05-30  28716.52\n",
       "498                 UF  2020-05-29  28716.52\n",
       "499                 UF  2020-05-28  28716.52"
      ]
     },
     "execution_count": 50,
     "metadata": {},
     "output_type": "execute_result"
    }
   ],
   "source": [
    "ufs.tail()"
   ]
  },
  {
   "cell_type": "markdown",
   "metadata": {},
   "source": [
    "Pero no es llegar y subirla, hay que seguir el orden de las tablas que dimos de alta.\n",
    "\n",
    "- Clase de activo ---> INDICE\n",
    "- El activo ---> UF\n",
    "- Tipo de valor ---> DIARIO\n",
    "- Tipo de dato ---> PRECIO\n",
    "\n",
    "Vamos a definir funciones para hacer las inserciones, así no tenemos que recordar la sintaxis SQL."
   ]
  },
  {
   "cell_type": "markdown",
   "metadata": {},
   "source": [
    "### `clase_activo`"
   ]
  },
  {
   "cell_type": "code",
   "execution_count": 51,
   "metadata": {
    "ExecuteTime": {
     "end_time": "2021-09-22T22:40:26.174497Z",
     "start_time": "2021-09-22T22:40:26.168258Z"
    }
   },
   "outputs": [],
   "source": [
    "def inserta_clase_activo(codigo, descripcion, conn):\n",
    "    qry = \"INSERT INTO lv_cdb_mkt_data.clase_de_activo (codigo, descripcion) \\\n",
    "    VALUES (%s, %s)\"\n",
    "    try:\n",
    "        cursor = conn.cursor()\n",
    "        cursor.execute(qry, [codigo, descripcion])\n",
    "        conn.commit()\n",
    "    except Exception as e:\n",
    "        print(f'Se produjo el error: {str(e)}')\n",
    "        conn.rollback()\n",
    "        if cursor is not None:\n",
    "            cursor.close()\n",
    "    finally:\n",
    "        if cursor is not None:\n",
    "            cursor.close()"
   ]
  },
  {
   "cell_type": "code",
   "execution_count": 52,
   "metadata": {
    "ExecuteTime": {
     "end_time": "2021-09-22T22:40:55.606416Z",
     "start_time": "2021-09-22T22:40:55.449744Z"
    }
   },
   "outputs": [],
   "source": [
    "inserta_clase_activo(\n",
    "    'INDICE',\n",
    "    'Representa índices de inflación, equity, tasa de interés ...',\n",
    "    conn\n",
    ")"
   ]
  },
  {
   "cell_type": "markdown",
   "metadata": {},
   "source": [
    "### `activo`"
   ]
  },
  {
   "cell_type": "code",
   "execution_count": 54,
   "metadata": {
    "ExecuteTime": {
     "end_time": "2021-09-22T22:43:27.861215Z",
     "start_time": "2021-09-22T22:43:27.855828Z"
    }
   },
   "outputs": [],
   "source": [
    "def inserta_activo(codigo, descripcion, clase_activo, conn):\n",
    "    qry = \"INSERT INTO lv_cdb_mkt_data.activos (codigo, descripcion, \\\n",
    "    codigo_clase_activo) \\\n",
    "    VALUES (%s, %s, %s)\"\n",
    "    try:\n",
    "        cursor = conn.cursor()\n",
    "        cursor.execute(qry, [codigo, descripcion, clase_activo])\n",
    "        conn.commit()\n",
    "    except Exception as e:\n",
    "        print(f'Se produjo el error: {str(e)}')\n",
    "        conn.rollback()\n",
    "        if cursor is not None:\n",
    "            cursor.close()\n",
    "    finally:\n",
    "        if cursor is not None:\n",
    "            cursor.close()"
   ]
  },
  {
   "cell_type": "code",
   "execution_count": 55,
   "metadata": {
    "ExecuteTime": {
     "end_time": "2021-09-22T22:44:10.299187Z",
     "start_time": "2021-09-22T22:44:10.145775Z"
    }
   },
   "outputs": [],
   "source": [
    "inserta_activo('UF', 'Indice de inflación mensual de Chile', 'INDICE', conn)"
   ]
  },
  {
   "cell_type": "markdown",
   "metadata": {},
   "source": [
    "### `tipo_de_valor`"
   ]
  },
  {
   "cell_type": "code",
   "execution_count": 57,
   "metadata": {
    "ExecuteTime": {
     "end_time": "2021-09-22T22:45:26.972093Z",
     "start_time": "2021-09-22T22:45:26.966862Z"
    }
   },
   "outputs": [],
   "source": [
    "def inserta_tipo_valor(codigo, descripcion, conn):\n",
    "    qry = \"INSERT INTO lv_cdb_mkt_data.tipo_de_valor (codigo, descripcion) \\\n",
    "    VALUES (%s, %s)\"\n",
    "    try:\n",
    "        cursor = conn.cursor()\n",
    "        cursor.execute(qry, [codigo, descripcion])\n",
    "        conn.commit()\n",
    "    except Exception as e:\n",
    "        print(f'Se produjo el error: {str(e)}')\n",
    "        conn.rollback()\n",
    "        if cursor is not None:\n",
    "            cursor.close()\n",
    "    finally:\n",
    "        if cursor is not None:\n",
    "            cursor.close()"
   ]
  },
  {
   "cell_type": "code",
   "execution_count": 58,
   "metadata": {
    "ExecuteTime": {
     "end_time": "2021-09-22T22:45:52.729489Z",
     "start_time": "2021-09-22T22:45:52.579738Z"
    }
   },
   "outputs": [],
   "source": [
    "inserta_tipo_valor('DIARIO', 'Valor que se registra una vez al día', conn)"
   ]
  },
  {
   "cell_type": "markdown",
   "metadata": {},
   "source": [
    "### `tipo_de_dato`"
   ]
  },
  {
   "cell_type": "code",
   "execution_count": 59,
   "metadata": {
    "ExecuteTime": {
     "end_time": "2021-09-22T22:46:21.841741Z",
     "start_time": "2021-09-22T22:46:21.836247Z"
    }
   },
   "outputs": [],
   "source": [
    "def inserta_tipo_dato(codigo, descripcion, conn):\n",
    "    qry = \"INSERT INTO lv_cdb_mkt_data.tipo_de_dato (codigo, descripcion) \\\n",
    "    VALUES (%s, %s)\"\n",
    "    try:\n",
    "        cursor = conn.cursor()\n",
    "        cursor.execute(qry, [codigo, descripcion])\n",
    "        conn.commit()\n",
    "    except Exception as e:\n",
    "        print(f'Se produjo el error: {str(e)}')\n",
    "        conn.rollback()\n",
    "        if cursor is not None:\n",
    "            cursor.close()\n",
    "    finally:\n",
    "        if cursor is not None:\n",
    "            cursor.close()"
   ]
  },
  {
   "cell_type": "code",
   "execution_count": 61,
   "metadata": {
    "ExecuteTime": {
     "end_time": "2021-09-22T22:49:05.108334Z",
     "start_time": "2021-09-22T22:49:04.886195Z"
    }
   },
   "outputs": [],
   "source": [
    "inserta_tipo_dato(\n",
    "    'PRECIO',\n",
    "    'Representa el término de intercambio entre un activo y otro. Usualmente, uno de ellos es una divisa.',\n",
    "    conn\n",
    ")"
   ]
  },
  {
   "cell_type": "markdown",
   "metadata": {},
   "source": [
    "### `precios`"
   ]
  },
  {
   "cell_type": "code",
   "execution_count": 63,
   "metadata": {
    "ExecuteTime": {
     "end_time": "2021-09-22T22:53:14.781447Z",
     "start_time": "2021-09-22T22:53:14.776200Z"
    }
   },
   "outputs": [],
   "source": [
    "def inserta_precios(data, conn):\n",
    "    qry = \"INSERT INTO lv_cdb_mkt_data.precios (fecha_hora, codigo_activo, \\\n",
    "    codigo_tipo_de_dato, codigo_tipo_de_valor, valor) VALUES \\\n",
    "    (%s, %s, %s, %s, %s)\"\n",
    "    try:\n",
    "        cursor = conn.cursor()\n",
    "        cursor.executemany(qry, data) # executemany requiere una matriz de datos\n",
    "        conn.commit()\n",
    "    except Exception as e:\n",
    "        print(f'Se produjo el error: {str(e)}')\n",
    "        conn.rollback()\n",
    "        if cursor is not None:\n",
    "            cursor.close()\n",
    "    finally:\n",
    "        if cursor is not None:\n",
    "            cursor.close()"
   ]
  },
  {
   "cell_type": "code",
   "execution_count": 64,
   "metadata": {
    "ExecuteTime": {
     "end_time": "2021-09-22T22:53:47.146176Z",
     "start_time": "2021-09-22T22:53:47.135948Z"
    }
   },
   "outputs": [
    {
     "data": {
      "text/html": [
       "<div>\n",
       "<style scoped>\n",
       "    .dataframe tbody tr th:only-of-type {\n",
       "        vertical-align: middle;\n",
       "    }\n",
       "\n",
       "    .dataframe tbody tr th {\n",
       "        vertical-align: top;\n",
       "    }\n",
       "\n",
       "    .dataframe thead th {\n",
       "        text-align: right;\n",
       "    }\n",
       "</style>\n",
       "<table border=\"1\" class=\"dataframe\">\n",
       "  <thead>\n",
       "    <tr style=\"text-align: right;\">\n",
       "      <th></th>\n",
       "      <th>fx_rate_index_code</th>\n",
       "      <th>date</th>\n",
       "      <th>value</th>\n",
       "    </tr>\n",
       "  </thead>\n",
       "  <tbody>\n",
       "    <tr>\n",
       "      <th>0</th>\n",
       "      <td>UF</td>\n",
       "      <td>2021-10-09</td>\n",
       "      <td>30124.43</td>\n",
       "    </tr>\n",
       "    <tr>\n",
       "      <th>1</th>\n",
       "      <td>UF</td>\n",
       "      <td>2021-10-08</td>\n",
       "      <td>30120.42</td>\n",
       "    </tr>\n",
       "    <tr>\n",
       "      <th>2</th>\n",
       "      <td>UF</td>\n",
       "      <td>2021-10-07</td>\n",
       "      <td>30116.41</td>\n",
       "    </tr>\n",
       "    <tr>\n",
       "      <th>3</th>\n",
       "      <td>UF</td>\n",
       "      <td>2021-10-06</td>\n",
       "      <td>30112.40</td>\n",
       "    </tr>\n",
       "    <tr>\n",
       "      <th>4</th>\n",
       "      <td>UF</td>\n",
       "      <td>2021-10-05</td>\n",
       "      <td>30108.40</td>\n",
       "    </tr>\n",
       "  </tbody>\n",
       "</table>\n",
       "</div>"
      ],
      "text/plain": [
       "  fx_rate_index_code        date     value\n",
       "0                 UF  2021-10-09  30124.43\n",
       "1                 UF  2021-10-08  30120.42\n",
       "2                 UF  2021-10-07  30116.41\n",
       "3                 UF  2021-10-06  30112.40\n",
       "4                 UF  2021-10-05  30108.40"
      ]
     },
     "execution_count": 64,
     "metadata": {},
     "output_type": "execute_result"
    }
   ],
   "source": [
    "ufs.head()"
   ]
  },
  {
   "cell_type": "code",
   "execution_count": 65,
   "metadata": {
    "ExecuteTime": {
     "end_time": "2021-09-22T22:54:30.650676Z",
     "start_time": "2021-09-22T22:54:30.629988Z"
    }
   },
   "outputs": [
    {
     "data": {
      "text/html": [
       "<div>\n",
       "<style scoped>\n",
       "    .dataframe tbody tr th:only-of-type {\n",
       "        vertical-align: middle;\n",
       "    }\n",
       "\n",
       "    .dataframe tbody tr th {\n",
       "        vertical-align: top;\n",
       "    }\n",
       "\n",
       "    .dataframe thead th {\n",
       "        text-align: right;\n",
       "    }\n",
       "</style>\n",
       "<table border=\"1\" class=\"dataframe\">\n",
       "  <thead>\n",
       "    <tr style=\"text-align: right;\">\n",
       "      <th></th>\n",
       "      <th>fx_rate_index_code</th>\n",
       "      <th>date</th>\n",
       "      <th>value</th>\n",
       "      <th>tipo_valor</th>\n",
       "      <th>tipo_dato</th>\n",
       "    </tr>\n",
       "  </thead>\n",
       "  <tbody>\n",
       "    <tr>\n",
       "      <th>0</th>\n",
       "      <td>UF</td>\n",
       "      <td>2021-10-09</td>\n",
       "      <td>30124.43</td>\n",
       "      <td>DIARIO</td>\n",
       "      <td>PRECIO</td>\n",
       "    </tr>\n",
       "    <tr>\n",
       "      <th>1</th>\n",
       "      <td>UF</td>\n",
       "      <td>2021-10-08</td>\n",
       "      <td>30120.42</td>\n",
       "      <td>DIARIO</td>\n",
       "      <td>PRECIO</td>\n",
       "    </tr>\n",
       "    <tr>\n",
       "      <th>2</th>\n",
       "      <td>UF</td>\n",
       "      <td>2021-10-07</td>\n",
       "      <td>30116.41</td>\n",
       "      <td>DIARIO</td>\n",
       "      <td>PRECIO</td>\n",
       "    </tr>\n",
       "    <tr>\n",
       "      <th>3</th>\n",
       "      <td>UF</td>\n",
       "      <td>2021-10-06</td>\n",
       "      <td>30112.40</td>\n",
       "      <td>DIARIO</td>\n",
       "      <td>PRECIO</td>\n",
       "    </tr>\n",
       "    <tr>\n",
       "      <th>4</th>\n",
       "      <td>UF</td>\n",
       "      <td>2021-10-05</td>\n",
       "      <td>30108.40</td>\n",
       "      <td>DIARIO</td>\n",
       "      <td>PRECIO</td>\n",
       "    </tr>\n",
       "    <tr>\n",
       "      <th>...</th>\n",
       "      <td>...</td>\n",
       "      <td>...</td>\n",
       "      <td>...</td>\n",
       "      <td>...</td>\n",
       "      <td>...</td>\n",
       "    </tr>\n",
       "    <tr>\n",
       "      <th>495</th>\n",
       "      <td>UF</td>\n",
       "      <td>2020-06-01</td>\n",
       "      <td>28716.52</td>\n",
       "      <td>DIARIO</td>\n",
       "      <td>PRECIO</td>\n",
       "    </tr>\n",
       "    <tr>\n",
       "      <th>496</th>\n",
       "      <td>UF</td>\n",
       "      <td>2020-05-31</td>\n",
       "      <td>28716.52</td>\n",
       "      <td>DIARIO</td>\n",
       "      <td>PRECIO</td>\n",
       "    </tr>\n",
       "    <tr>\n",
       "      <th>497</th>\n",
       "      <td>UF</td>\n",
       "      <td>2020-05-30</td>\n",
       "      <td>28716.52</td>\n",
       "      <td>DIARIO</td>\n",
       "      <td>PRECIO</td>\n",
       "    </tr>\n",
       "    <tr>\n",
       "      <th>498</th>\n",
       "      <td>UF</td>\n",
       "      <td>2020-05-29</td>\n",
       "      <td>28716.52</td>\n",
       "      <td>DIARIO</td>\n",
       "      <td>PRECIO</td>\n",
       "    </tr>\n",
       "    <tr>\n",
       "      <th>499</th>\n",
       "      <td>UF</td>\n",
       "      <td>2020-05-28</td>\n",
       "      <td>28716.52</td>\n",
       "      <td>DIARIO</td>\n",
       "      <td>PRECIO</td>\n",
       "    </tr>\n",
       "  </tbody>\n",
       "</table>\n",
       "<p>500 rows × 5 columns</p>\n",
       "</div>"
      ],
      "text/plain": [
       "    fx_rate_index_code        date     value tipo_valor tipo_dato\n",
       "0                   UF  2021-10-09  30124.43     DIARIO    PRECIO\n",
       "1                   UF  2021-10-08  30120.42     DIARIO    PRECIO\n",
       "2                   UF  2021-10-07  30116.41     DIARIO    PRECIO\n",
       "3                   UF  2021-10-06  30112.40     DIARIO    PRECIO\n",
       "4                   UF  2021-10-05  30108.40     DIARIO    PRECIO\n",
       "..                 ...         ...       ...        ...       ...\n",
       "495                 UF  2020-06-01  28716.52     DIARIO    PRECIO\n",
       "496                 UF  2020-05-31  28716.52     DIARIO    PRECIO\n",
       "497                 UF  2020-05-30  28716.52     DIARIO    PRECIO\n",
       "498                 UF  2020-05-29  28716.52     DIARIO    PRECIO\n",
       "499                 UF  2020-05-28  28716.52     DIARIO    PRECIO\n",
       "\n",
       "[500 rows x 5 columns]"
      ]
     },
     "execution_count": 65,
     "metadata": {},
     "output_type": "execute_result"
    }
   ],
   "source": [
    "ufs['tipo_valor'] = 'DIARIO'\n",
    "ufs['tipo_dato'] = 'PRECIO'\n",
    "ufs"
   ]
  },
  {
   "cell_type": "markdown",
   "metadata": {},
   "source": [
    "Reordenamos las columnas."
   ]
  },
  {
   "cell_type": "code",
   "execution_count": 66,
   "metadata": {
    "ExecuteTime": {
     "end_time": "2021-09-22T22:55:20.267081Z",
     "start_time": "2021-09-22T22:55:20.248253Z"
    }
   },
   "outputs": [
    {
     "data": {
      "text/html": [
       "<div>\n",
       "<style scoped>\n",
       "    .dataframe tbody tr th:only-of-type {\n",
       "        vertical-align: middle;\n",
       "    }\n",
       "\n",
       "    .dataframe tbody tr th {\n",
       "        vertical-align: top;\n",
       "    }\n",
       "\n",
       "    .dataframe thead th {\n",
       "        text-align: right;\n",
       "    }\n",
       "</style>\n",
       "<table border=\"1\" class=\"dataframe\">\n",
       "  <thead>\n",
       "    <tr style=\"text-align: right;\">\n",
       "      <th></th>\n",
       "      <th>date</th>\n",
       "      <th>fx_rate_index_code</th>\n",
       "      <th>tipo_dato</th>\n",
       "      <th>tipo_valor</th>\n",
       "      <th>value</th>\n",
       "    </tr>\n",
       "  </thead>\n",
       "  <tbody>\n",
       "    <tr>\n",
       "      <th>0</th>\n",
       "      <td>2021-10-09</td>\n",
       "      <td>UF</td>\n",
       "      <td>PRECIO</td>\n",
       "      <td>DIARIO</td>\n",
       "      <td>30124.43</td>\n",
       "    </tr>\n",
       "    <tr>\n",
       "      <th>1</th>\n",
       "      <td>2021-10-08</td>\n",
       "      <td>UF</td>\n",
       "      <td>PRECIO</td>\n",
       "      <td>DIARIO</td>\n",
       "      <td>30120.42</td>\n",
       "    </tr>\n",
       "    <tr>\n",
       "      <th>2</th>\n",
       "      <td>2021-10-07</td>\n",
       "      <td>UF</td>\n",
       "      <td>PRECIO</td>\n",
       "      <td>DIARIO</td>\n",
       "      <td>30116.41</td>\n",
       "    </tr>\n",
       "    <tr>\n",
       "      <th>3</th>\n",
       "      <td>2021-10-06</td>\n",
       "      <td>UF</td>\n",
       "      <td>PRECIO</td>\n",
       "      <td>DIARIO</td>\n",
       "      <td>30112.40</td>\n",
       "    </tr>\n",
       "    <tr>\n",
       "      <th>4</th>\n",
       "      <td>2021-10-05</td>\n",
       "      <td>UF</td>\n",
       "      <td>PRECIO</td>\n",
       "      <td>DIARIO</td>\n",
       "      <td>30108.40</td>\n",
       "    </tr>\n",
       "    <tr>\n",
       "      <th>...</th>\n",
       "      <td>...</td>\n",
       "      <td>...</td>\n",
       "      <td>...</td>\n",
       "      <td>...</td>\n",
       "      <td>...</td>\n",
       "    </tr>\n",
       "    <tr>\n",
       "      <th>495</th>\n",
       "      <td>2020-06-01</td>\n",
       "      <td>UF</td>\n",
       "      <td>PRECIO</td>\n",
       "      <td>DIARIO</td>\n",
       "      <td>28716.52</td>\n",
       "    </tr>\n",
       "    <tr>\n",
       "      <th>496</th>\n",
       "      <td>2020-05-31</td>\n",
       "      <td>UF</td>\n",
       "      <td>PRECIO</td>\n",
       "      <td>DIARIO</td>\n",
       "      <td>28716.52</td>\n",
       "    </tr>\n",
       "    <tr>\n",
       "      <th>497</th>\n",
       "      <td>2020-05-30</td>\n",
       "      <td>UF</td>\n",
       "      <td>PRECIO</td>\n",
       "      <td>DIARIO</td>\n",
       "      <td>28716.52</td>\n",
       "    </tr>\n",
       "    <tr>\n",
       "      <th>498</th>\n",
       "      <td>2020-05-29</td>\n",
       "      <td>UF</td>\n",
       "      <td>PRECIO</td>\n",
       "      <td>DIARIO</td>\n",
       "      <td>28716.52</td>\n",
       "    </tr>\n",
       "    <tr>\n",
       "      <th>499</th>\n",
       "      <td>2020-05-28</td>\n",
       "      <td>UF</td>\n",
       "      <td>PRECIO</td>\n",
       "      <td>DIARIO</td>\n",
       "      <td>28716.52</td>\n",
       "    </tr>\n",
       "  </tbody>\n",
       "</table>\n",
       "<p>500 rows × 5 columns</p>\n",
       "</div>"
      ],
      "text/plain": [
       "           date fx_rate_index_code tipo_dato tipo_valor     value\n",
       "0    2021-10-09                 UF    PRECIO     DIARIO  30124.43\n",
       "1    2021-10-08                 UF    PRECIO     DIARIO  30120.42\n",
       "2    2021-10-07                 UF    PRECIO     DIARIO  30116.41\n",
       "3    2021-10-06                 UF    PRECIO     DIARIO  30112.40\n",
       "4    2021-10-05                 UF    PRECIO     DIARIO  30108.40\n",
       "..          ...                ...       ...        ...       ...\n",
       "495  2020-06-01                 UF    PRECIO     DIARIO  28716.52\n",
       "496  2020-05-31                 UF    PRECIO     DIARIO  28716.52\n",
       "497  2020-05-30                 UF    PRECIO     DIARIO  28716.52\n",
       "498  2020-05-29                 UF    PRECIO     DIARIO  28716.52\n",
       "499  2020-05-28                 UF    PRECIO     DIARIO  28716.52\n",
       "\n",
       "[500 rows x 5 columns]"
      ]
     },
     "execution_count": 66,
     "metadata": {},
     "output_type": "execute_result"
    }
   ],
   "source": [
    "ufs = ufs[['date', 'fx_rate_index_code', 'tipo_dato', 'tipo_valor', 'value']]\n",
    "ufs"
   ]
  },
  {
   "cell_type": "code",
   "execution_count": 67,
   "metadata": {
    "ExecuteTime": {
     "end_time": "2021-09-22T22:57:10.259449Z",
     "start_time": "2021-09-22T22:56:34.412572Z"
    }
   },
   "outputs": [],
   "source": [
    "inserta_precios(ufs.values, conn)"
   ]
  }
 ],
 "metadata": {
  "hide_input": false,
  "kernelspec": {
   "display_name": "Python 3",
   "language": "python",
   "name": "python3"
  },
  "language_info": {
   "codemirror_mode": {
    "name": "ipython",
    "version": 3
   },
   "file_extension": ".py",
   "mimetype": "text/x-python",
   "name": "python",
   "nbconvert_exporter": "python",
   "pygments_lexer": "ipython3",
   "version": "3.7.3"
  },
  "toc": {
   "base_numbering": 1,
   "nav_menu": {},
   "number_sections": true,
   "sideBar": true,
   "skip_h1_title": true,
   "title_cell": "Table of Contents",
   "title_sidebar": "Contenido",
   "toc_cell": false,
   "toc_position": {
    "height": "calc(100% - 180px)",
    "left": "10px",
    "top": "150px",
    "width": "165px"
   },
   "toc_section_display": true,
   "toc_window_display": true
  }
 },
 "nbformat": 4,
 "nbformat_minor": 4
}
