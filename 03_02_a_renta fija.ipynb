{
 "cells": [
  {
   "cell_type": "markdown",
   "metadata": {},
   "source": "# Renta Fija Local: Curva Cupón Cero"
  },
  {
   "cell_type": "markdown",
   "metadata": {},
   "source": [
    "En este notebook valorizaremos renta fija local utilizando una curva cupón cero, a partir de eso calcularemos un spread y veremos como calcular la $\\delta$ del bono respecto a la curva."
   ]
  },
  {
   "cell_type": "markdown",
   "metadata": {},
   "source": [
    "## Librerías"
   ]
  },
  {
   "cell_type": "markdown",
   "metadata": {},
   "source": [
    "https://github.com/HIPS/autograd"
   ]
  },
  {
   "cell_type": "code",
   "execution_count": 1,
   "metadata": {
    "ExecuteTime": {
     "end_time": "2021-09-01T22:05:32.449784Z",
     "start_time": "2021-09-01T22:05:32.095644Z"
    }
   },
   "outputs": [],
   "source": [
    "from datetime import date\n",
    "import datetime\n",
    "import bisect\n",
    "import pandas as pd\n",
    "import numpy as np\n",
    "\n",
    "# import autograd.numpy as agnp\n",
    "# from autograd import grad\n",
    "\n",
    "import my_functions as mf"
   ]
  },
  {
   "cell_type": "markdown",
   "metadata": {},
   "source": [
    "## Data de Bonos"
   ]
  },
  {
   "cell_type": "markdown",
   "metadata": {},
   "source": [
    "Vamos a utilizar la misma base de datos de la sesión anterior."
   ]
  },
  {
   "cell_type": "code",
   "execution_count": 2,
   "metadata": {
    "ExecuteTime": {
     "end_time": "2021-09-01T22:05:45.575282Z",
     "start_time": "2021-09-01T22:05:32.452613Z"
    }
   },
   "outputs": [],
   "source": [
    "bonos = pd.read_excel('data/bonos_empresa_carga_inicial.xlsx')"
   ]
  },
  {
   "cell_type": "markdown",
   "metadata": {},
   "source": [
    "Al hacer el append, se regenera el índice. Con el valor por default `ignore_index=True` se matienen los índices originales de ambos `DataFrame`."
   ]
  },
  {
   "cell_type": "code",
   "execution_count": 3,
   "metadata": {
    "ExecuteTime": {
     "end_time": "2021-09-01T22:05:45.639361Z",
     "start_time": "2021-09-01T22:05:45.578000Z"
    }
   },
   "outputs": [],
   "source": [
    "bonos = bonos.append(pd.read_excel('data/bonos_estado_carga_inicial.xlsx'), ignore_index=True)"
   ]
  },
  {
   "cell_type": "code",
   "execution_count": 4,
   "metadata": {
    "ExecuteTime": {
     "end_time": "2021-09-01T22:05:45.668043Z",
     "start_time": "2021-09-01T22:05:45.642110Z"
    }
   },
   "outputs": [
    {
     "data": {
      "text/html": [
       "<div>\n",
       "<style scoped>\n",
       "    .dataframe tbody tr th:only-of-type {\n",
       "        vertical-align: middle;\n",
       "    }\n",
       "\n",
       "    .dataframe tbody tr th {\n",
       "        vertical-align: top;\n",
       "    }\n",
       "\n",
       "    .dataframe thead th {\n",
       "        text-align: right;\n",
       "    }\n",
       "</style>\n",
       "<table border=\"1\" class=\"dataframe\">\n",
       "  <thead>\n",
       "    <tr style=\"text-align: right;\">\n",
       "      <th></th>\n",
       "      <th>nemotecnico</th>\n",
       "      <th>fecha_emision</th>\n",
       "      <th>tasa_emision</th>\n",
       "      <th>tasa_descuento</th>\n",
       "      <th>unidad_monetaria</th>\n",
       "      <th>base_tasa_descuento</th>\n",
       "      <th>numero_flujos</th>\n",
       "      <th>meses_entre_vencimiento</th>\n",
       "      <th>tipo_intereses</th>\n",
       "      <th>numero_amortizaciones</th>\n",
       "      <th>plazo_agnos</th>\n",
       "    </tr>\n",
       "  </thead>\n",
       "  <tbody>\n",
       "    <tr>\n",
       "      <th>0</th>\n",
       "      <td>BAARA-A</td>\n",
       "      <td>2017-12-01</td>\n",
       "      <td>3.85</td>\n",
       "      <td>3.8475</td>\n",
       "      <td>CLF</td>\n",
       "      <td>365</td>\n",
       "      <td>33</td>\n",
       "      <td>6</td>\n",
       "      <td>C</td>\n",
       "      <td>9</td>\n",
       "      <td>17</td>\n",
       "    </tr>\n",
       "    <tr>\n",
       "      <th>1</th>\n",
       "      <td>BAARA-B</td>\n",
       "      <td>2020-04-01</td>\n",
       "      <td>3.91</td>\n",
       "      <td>3.9075</td>\n",
       "      <td>CLF</td>\n",
       "      <td>365</td>\n",
       "      <td>28</td>\n",
       "      <td>6</td>\n",
       "      <td>C</td>\n",
       "      <td>13</td>\n",
       "      <td>14</td>\n",
       "    </tr>\n",
       "    <tr>\n",
       "      <th>2</th>\n",
       "      <td>BACEN-A1</td>\n",
       "      <td>2003-12-15</td>\n",
       "      <td>5.30</td>\n",
       "      <td>5.2960</td>\n",
       "      <td>CLF</td>\n",
       "      <td>365</td>\n",
       "      <td>46</td>\n",
       "      <td>6</td>\n",
       "      <td>C</td>\n",
       "      <td>34</td>\n",
       "      <td>23</td>\n",
       "    </tr>\n",
       "    <tr>\n",
       "      <th>3</th>\n",
       "      <td>BACEN-A2</td>\n",
       "      <td>2003-12-15</td>\n",
       "      <td>5.30</td>\n",
       "      <td>5.2960</td>\n",
       "      <td>CLF</td>\n",
       "      <td>365</td>\n",
       "      <td>46</td>\n",
       "      <td>6</td>\n",
       "      <td>C</td>\n",
       "      <td>34</td>\n",
       "      <td>23</td>\n",
       "    </tr>\n",
       "    <tr>\n",
       "      <th>4</th>\n",
       "      <td>BADAL-A</td>\n",
       "      <td>2017-12-01</td>\n",
       "      <td>3.85</td>\n",
       "      <td>3.8475</td>\n",
       "      <td>CLF</td>\n",
       "      <td>365</td>\n",
       "      <td>33</td>\n",
       "      <td>6</td>\n",
       "      <td>C</td>\n",
       "      <td>9</td>\n",
       "      <td>17</td>\n",
       "    </tr>\n",
       "  </tbody>\n",
       "</table>\n",
       "</div>"
      ],
      "text/plain": [
       "  nemotecnico fecha_emision  tasa_emision  tasa_descuento unidad_monetaria  \\\n",
       "0     BAARA-A    2017-12-01          3.85          3.8475              CLF   \n",
       "1     BAARA-B    2020-04-01          3.91          3.9075              CLF   \n",
       "2    BACEN-A1    2003-12-15          5.30          5.2960              CLF   \n",
       "3    BACEN-A2    2003-12-15          5.30          5.2960              CLF   \n",
       "4     BADAL-A    2017-12-01          3.85          3.8475              CLF   \n",
       "\n",
       "   base_tasa_descuento  numero_flujos  meses_entre_vencimiento tipo_intereses  \\\n",
       "0                  365             33                        6              C   \n",
       "1                  365             28                        6              C   \n",
       "2                  365             46                        6              C   \n",
       "3                  365             46                        6              C   \n",
       "4                  365             33                        6              C   \n",
       "\n",
       "   numero_amortizaciones  plazo_agnos  \n",
       "0                      9           17  \n",
       "1                     13           14  \n",
       "2                     34           23  \n",
       "3                     34           23  \n",
       "4                      9           17  "
      ]
     },
     "execution_count": 4,
     "metadata": {},
     "output_type": "execute_result"
    }
   ],
   "source": [
    "bonos.head()"
   ]
  },
  {
   "cell_type": "code",
   "execution_count": 5,
   "metadata": {
    "ExecuteTime": {
     "end_time": "2021-09-01T22:05:45.690922Z",
     "start_time": "2021-09-01T22:05:45.672233Z"
    }
   },
   "outputs": [
    {
     "data": {
      "text/html": [
       "<div>\n",
       "<style scoped>\n",
       "    .dataframe tbody tr th:only-of-type {\n",
       "        vertical-align: middle;\n",
       "    }\n",
       "\n",
       "    .dataframe tbody tr th {\n",
       "        vertical-align: top;\n",
       "    }\n",
       "\n",
       "    .dataframe thead th {\n",
       "        text-align: right;\n",
       "    }\n",
       "</style>\n",
       "<table border=\"1\" class=\"dataframe\">\n",
       "  <thead>\n",
       "    <tr style=\"text-align: right;\">\n",
       "      <th></th>\n",
       "      <th>nemotecnico</th>\n",
       "      <th>fecha_emision</th>\n",
       "      <th>tasa_emision</th>\n",
       "      <th>tasa_descuento</th>\n",
       "      <th>unidad_monetaria</th>\n",
       "      <th>base_tasa_descuento</th>\n",
       "      <th>numero_flujos</th>\n",
       "      <th>meses_entre_vencimiento</th>\n",
       "      <th>tipo_intereses</th>\n",
       "      <th>numero_amortizaciones</th>\n",
       "      <th>plazo_agnos</th>\n",
       "    </tr>\n",
       "  </thead>\n",
       "  <tbody>\n",
       "    <tr>\n",
       "      <th>2091</th>\n",
       "      <td>PRC-7D0201</td>\n",
       "      <td>2001-02-01</td>\n",
       "      <td>6.5</td>\n",
       "      <td>6.5932</td>\n",
       "      <td>CLF</td>\n",
       "      <td>365</td>\n",
       "      <td>40</td>\n",
       "      <td>6</td>\n",
       "      <td>C</td>\n",
       "      <td>40</td>\n",
       "      <td>20</td>\n",
       "    </tr>\n",
       "    <tr>\n",
       "      <th>2092</th>\n",
       "      <td>PRC-7A0101</td>\n",
       "      <td>2001-01-01</td>\n",
       "      <td>6.5</td>\n",
       "      <td>6.5929</td>\n",
       "      <td>CLF</td>\n",
       "      <td>365</td>\n",
       "      <td>40</td>\n",
       "      <td>6</td>\n",
       "      <td>C</td>\n",
       "      <td>40</td>\n",
       "      <td>20</td>\n",
       "    </tr>\n",
       "    <tr>\n",
       "      <th>2093</th>\n",
       "      <td>PRC-7B0101</td>\n",
       "      <td>2001-01-01</td>\n",
       "      <td>6.5</td>\n",
       "      <td>6.5935</td>\n",
       "      <td>CLF</td>\n",
       "      <td>365</td>\n",
       "      <td>40</td>\n",
       "      <td>6</td>\n",
       "      <td>C</td>\n",
       "      <td>40</td>\n",
       "      <td>20</td>\n",
       "    </tr>\n",
       "    <tr>\n",
       "      <th>2094</th>\n",
       "      <td>PRC-7C0101</td>\n",
       "      <td>2001-01-01</td>\n",
       "      <td>6.5</td>\n",
       "      <td>6.5932</td>\n",
       "      <td>CLF</td>\n",
       "      <td>365</td>\n",
       "      <td>40</td>\n",
       "      <td>6</td>\n",
       "      <td>C</td>\n",
       "      <td>40</td>\n",
       "      <td>20</td>\n",
       "    </tr>\n",
       "    <tr>\n",
       "      <th>2095</th>\n",
       "      <td>PRC-7D0101</td>\n",
       "      <td>2001-01-01</td>\n",
       "      <td>6.5</td>\n",
       "      <td>6.5932</td>\n",
       "      <td>CLF</td>\n",
       "      <td>365</td>\n",
       "      <td>40</td>\n",
       "      <td>6</td>\n",
       "      <td>C</td>\n",
       "      <td>40</td>\n",
       "      <td>20</td>\n",
       "    </tr>\n",
       "  </tbody>\n",
       "</table>\n",
       "</div>"
      ],
      "text/plain": [
       "     nemotecnico fecha_emision  tasa_emision  tasa_descuento unidad_monetaria  \\\n",
       "2091  PRC-7D0201    2001-02-01           6.5          6.5932              CLF   \n",
       "2092  PRC-7A0101    2001-01-01           6.5          6.5929              CLF   \n",
       "2093  PRC-7B0101    2001-01-01           6.5          6.5935              CLF   \n",
       "2094  PRC-7C0101    2001-01-01           6.5          6.5932              CLF   \n",
       "2095  PRC-7D0101    2001-01-01           6.5          6.5932              CLF   \n",
       "\n",
       "      base_tasa_descuento  numero_flujos  meses_entre_vencimiento  \\\n",
       "2091                  365             40                        6   \n",
       "2092                  365             40                        6   \n",
       "2093                  365             40                        6   \n",
       "2094                  365             40                        6   \n",
       "2095                  365             40                        6   \n",
       "\n",
       "     tipo_intereses  numero_amortizaciones  plazo_agnos  \n",
       "2091              C                     40           20  \n",
       "2092              C                     40           20  \n",
       "2093              C                     40           20  \n",
       "2094              C                     40           20  \n",
       "2095              C                     40           20  "
      ]
     },
     "execution_count": 5,
     "metadata": {},
     "output_type": "execute_result"
    }
   ],
   "source": [
    "bonos.tail()"
   ]
  },
  {
   "cell_type": "code",
   "execution_count": 6,
   "metadata": {
    "ExecuteTime": {
     "end_time": "2021-09-01T22:05:47.673272Z",
     "start_time": "2021-09-01T22:05:45.694526Z"
    }
   },
   "outputs": [],
   "source": [
    "tablas_desarrollo = pd.read_csv('data/tablas_desarrollo.csv')"
   ]
  },
  {
   "cell_type": "code",
   "execution_count": 7,
   "metadata": {
    "ExecuteTime": {
     "end_time": "2021-09-01T22:05:47.688225Z",
     "start_time": "2021-09-01T22:05:47.676139Z"
    }
   },
   "outputs": [
    {
     "data": {
      "text/html": [
       "<div>\n",
       "<style scoped>\n",
       "    .dataframe tbody tr th:only-of-type {\n",
       "        vertical-align: middle;\n",
       "    }\n",
       "\n",
       "    .dataframe tbody tr th {\n",
       "        vertical-align: top;\n",
       "    }\n",
       "\n",
       "    .dataframe thead th {\n",
       "        text-align: right;\n",
       "    }\n",
       "</style>\n",
       "<table border=\"1\" class=\"dataframe\">\n",
       "  <thead>\n",
       "    <tr style=\"text-align: right;\">\n",
       "      <th></th>\n",
       "      <th>nemotecnico</th>\n",
       "      <th>numero_cupon</th>\n",
       "      <th>fecha_vcto_cupon</th>\n",
       "      <th>interes</th>\n",
       "      <th>amortizacion</th>\n",
       "      <th>saldo_insoluto</th>\n",
       "    </tr>\n",
       "  </thead>\n",
       "  <tbody>\n",
       "    <tr>\n",
       "      <th>0</th>\n",
       "      <td>BC18-A0719</td>\n",
       "      <td>1</td>\n",
       "      <td>2019-10-31</td>\n",
       "      <td>0.98534</td>\n",
       "      <td>0.00</td>\n",
       "      <td>100.00</td>\n",
       "    </tr>\n",
       "    <tr>\n",
       "      <th>1</th>\n",
       "      <td>BC18-A0719</td>\n",
       "      <td>2</td>\n",
       "      <td>2020-01-31</td>\n",
       "      <td>0.98534</td>\n",
       "      <td>0.00</td>\n",
       "      <td>100.00</td>\n",
       "    </tr>\n",
       "    <tr>\n",
       "      <th>2</th>\n",
       "      <td>BC18-A0719</td>\n",
       "      <td>3</td>\n",
       "      <td>2020-04-30</td>\n",
       "      <td>0.98534</td>\n",
       "      <td>0.00</td>\n",
       "      <td>100.00</td>\n",
       "    </tr>\n",
       "    <tr>\n",
       "      <th>3</th>\n",
       "      <td>BC18-A0719</td>\n",
       "      <td>4</td>\n",
       "      <td>2020-07-31</td>\n",
       "      <td>0.98534</td>\n",
       "      <td>4.65</td>\n",
       "      <td>100.00</td>\n",
       "    </tr>\n",
       "    <tr>\n",
       "      <th>4</th>\n",
       "      <td>BC18-A0719</td>\n",
       "      <td>5</td>\n",
       "      <td>2020-10-31</td>\n",
       "      <td>0.93952</td>\n",
       "      <td>0.00</td>\n",
       "      <td>95.35</td>\n",
       "    </tr>\n",
       "  </tbody>\n",
       "</table>\n",
       "</div>"
      ],
      "text/plain": [
       "  nemotecnico  numero_cupon fecha_vcto_cupon  interes  amortizacion  \\\n",
       "0  BC18-A0719             1       2019-10-31  0.98534          0.00   \n",
       "1  BC18-A0719             2       2020-01-31  0.98534          0.00   \n",
       "2  BC18-A0719             3       2020-04-30  0.98534          0.00   \n",
       "3  BC18-A0719             4       2020-07-31  0.98534          4.65   \n",
       "4  BC18-A0719             5       2020-10-31  0.93952          0.00   \n",
       "\n",
       "   saldo_insoluto  \n",
       "0          100.00  \n",
       "1          100.00  \n",
       "2          100.00  \n",
       "3          100.00  \n",
       "4           95.35  "
      ]
     },
     "execution_count": 7,
     "metadata": {},
     "output_type": "execute_result"
    }
   ],
   "source": [
    "tablas_desarrollo.head()"
   ]
  },
  {
   "cell_type": "markdown",
   "metadata": {},
   "source": [
    "## Data de Curva Cero Cupón"
   ]
  },
  {
   "cell_type": "markdown",
   "metadata": {},
   "source": [
    "Se utilizará la curva de gobierno en CLP para el 2021-08-20 construida por RiskAmerica. La tasa está en convención Comp Act/365."
   ]
  },
  {
   "cell_type": "code",
   "execution_count": 8,
   "metadata": {
    "ExecuteTime": {
     "end_time": "2021-09-01T22:05:47.702412Z",
     "start_time": "2021-09-01T22:05:47.690270Z"
    }
   },
   "outputs": [],
   "source": [
    "curva_clp = pd.read_excel('data/20210820_curva_gob_ra.xlsx', sheet_name='curva_clp')"
   ]
  },
  {
   "cell_type": "code",
   "execution_count": 9,
   "metadata": {
    "ExecuteTime": {
     "end_time": "2021-09-01T22:05:47.761263Z",
     "start_time": "2021-09-01T22:05:47.704472Z"
    }
   },
   "outputs": [
    {
     "data": {
      "text/html": [
       "<style  type=\"text/css\" >\n",
       "</style><table id=\"T_c30161de_0b70_11ec_80d9_02cba411ec9d\" ><thead>    <tr>        <th class=\"blank level0\" ></th>        <th class=\"col_heading level0 col0\" >plazo</th>        <th class=\"col_heading level0 col1\" >tasa</th>    </tr></thead><tbody>\n",
       "                <tr>\n",
       "                        <th id=\"T_c30161de_0b70_11ec_80d9_02cba411ec9dlevel0_row0\" class=\"row_heading level0 row0\" >0</th>\n",
       "                        <td id=\"T_c30161de_0b70_11ec_80d9_02cba411ec9drow0_col0\" class=\"data row0 col0\" >1</td>\n",
       "                        <td id=\"T_c30161de_0b70_11ec_80d9_02cba411ec9drow0_col1\" class=\"data row0 col1\" >0.7999%</td>\n",
       "            </tr>\n",
       "            <tr>\n",
       "                        <th id=\"T_c30161de_0b70_11ec_80d9_02cba411ec9dlevel0_row1\" class=\"row_heading level0 row1\" >1</th>\n",
       "                        <td id=\"T_c30161de_0b70_11ec_80d9_02cba411ec9drow1_col0\" class=\"data row1 col0\" >30</td>\n",
       "                        <td id=\"T_c30161de_0b70_11ec_80d9_02cba411ec9drow1_col1\" class=\"data row1 col1\" >0.9300%</td>\n",
       "            </tr>\n",
       "            <tr>\n",
       "                        <th id=\"T_c30161de_0b70_11ec_80d9_02cba411ec9dlevel0_row2\" class=\"row_heading level0 row2\" >2</th>\n",
       "                        <td id=\"T_c30161de_0b70_11ec_80d9_02cba411ec9drow2_col0\" class=\"data row2 col0\" >60</td>\n",
       "                        <td id=\"T_c30161de_0b70_11ec_80d9_02cba411ec9drow2_col1\" class=\"data row2 col1\" >1.0598%</td>\n",
       "            </tr>\n",
       "            <tr>\n",
       "                        <th id=\"T_c30161de_0b70_11ec_80d9_02cba411ec9dlevel0_row3\" class=\"row_heading level0 row3\" >3</th>\n",
       "                        <td id=\"T_c30161de_0b70_11ec_80d9_02cba411ec9drow3_col0\" class=\"data row3 col0\" >90</td>\n",
       "                        <td id=\"T_c30161de_0b70_11ec_80d9_02cba411ec9drow3_col1\" class=\"data row3 col1\" >1.1849%</td>\n",
       "            </tr>\n",
       "            <tr>\n",
       "                        <th id=\"T_c30161de_0b70_11ec_80d9_02cba411ec9dlevel0_row4\" class=\"row_heading level0 row4\" >4</th>\n",
       "                        <td id=\"T_c30161de_0b70_11ec_80d9_02cba411ec9drow4_col0\" class=\"data row4 col0\" >180</td>\n",
       "                        <td id=\"T_c30161de_0b70_11ec_80d9_02cba411ec9drow4_col1\" class=\"data row4 col1\" >1.5333%</td>\n",
       "            </tr>\n",
       "            <tr>\n",
       "                        <th id=\"T_c30161de_0b70_11ec_80d9_02cba411ec9dlevel0_row5\" class=\"row_heading level0 row5\" >5</th>\n",
       "                        <td id=\"T_c30161de_0b70_11ec_80d9_02cba411ec9drow5_col0\" class=\"data row5 col0\" >270</td>\n",
       "                        <td id=\"T_c30161de_0b70_11ec_80d9_02cba411ec9drow5_col1\" class=\"data row5 col1\" >1.8455%</td>\n",
       "            </tr>\n",
       "            <tr>\n",
       "                        <th id=\"T_c30161de_0b70_11ec_80d9_02cba411ec9dlevel0_row6\" class=\"row_heading level0 row6\" >6</th>\n",
       "                        <td id=\"T_c30161de_0b70_11ec_80d9_02cba411ec9drow6_col0\" class=\"data row6 col0\" >365</td>\n",
       "                        <td id=\"T_c30161de_0b70_11ec_80d9_02cba411ec9drow6_col1\" class=\"data row6 col1\" >2.1403%</td>\n",
       "            </tr>\n",
       "            <tr>\n",
       "                        <th id=\"T_c30161de_0b70_11ec_80d9_02cba411ec9dlevel0_row7\" class=\"row_heading level0 row7\" >7</th>\n",
       "                        <td id=\"T_c30161de_0b70_11ec_80d9_02cba411ec9drow7_col0\" class=\"data row7 col0\" >730</td>\n",
       "                        <td id=\"T_c30161de_0b70_11ec_80d9_02cba411ec9drow7_col1\" class=\"data row7 col1\" >3.0141%</td>\n",
       "            </tr>\n",
       "            <tr>\n",
       "                        <th id=\"T_c30161de_0b70_11ec_80d9_02cba411ec9dlevel0_row8\" class=\"row_heading level0 row8\" >8</th>\n",
       "                        <td id=\"T_c30161de_0b70_11ec_80d9_02cba411ec9drow8_col0\" class=\"data row8 col0\" >1095</td>\n",
       "                        <td id=\"T_c30161de_0b70_11ec_80d9_02cba411ec9drow8_col1\" class=\"data row8 col1\" >3.6014%</td>\n",
       "            </tr>\n",
       "            <tr>\n",
       "                        <th id=\"T_c30161de_0b70_11ec_80d9_02cba411ec9dlevel0_row9\" class=\"row_heading level0 row9\" >9</th>\n",
       "                        <td id=\"T_c30161de_0b70_11ec_80d9_02cba411ec9drow9_col0\" class=\"data row9 col0\" >1460</td>\n",
       "                        <td id=\"T_c30161de_0b70_11ec_80d9_02cba411ec9drow9_col1\" class=\"data row9 col1\" >4.0117%</td>\n",
       "            </tr>\n",
       "            <tr>\n",
       "                        <th id=\"T_c30161de_0b70_11ec_80d9_02cba411ec9dlevel0_row10\" class=\"row_heading level0 row10\" >10</th>\n",
       "                        <td id=\"T_c30161de_0b70_11ec_80d9_02cba411ec9drow10_col0\" class=\"data row10 col0\" >1825</td>\n",
       "                        <td id=\"T_c30161de_0b70_11ec_80d9_02cba411ec9drow10_col1\" class=\"data row10 col1\" >4.3100%</td>\n",
       "            </tr>\n",
       "            <tr>\n",
       "                        <th id=\"T_c30161de_0b70_11ec_80d9_02cba411ec9dlevel0_row11\" class=\"row_heading level0 row11\" >11</th>\n",
       "                        <td id=\"T_c30161de_0b70_11ec_80d9_02cba411ec9drow11_col0\" class=\"data row11 col0\" >2190</td>\n",
       "                        <td id=\"T_c30161de_0b70_11ec_80d9_02cba411ec9drow11_col1\" class=\"data row11 col1\" >4.5354%</td>\n",
       "            </tr>\n",
       "            <tr>\n",
       "                        <th id=\"T_c30161de_0b70_11ec_80d9_02cba411ec9dlevel0_row12\" class=\"row_heading level0 row12\" >12</th>\n",
       "                        <td id=\"T_c30161de_0b70_11ec_80d9_02cba411ec9drow12_col0\" class=\"data row12 col0\" >2555</td>\n",
       "                        <td id=\"T_c30161de_0b70_11ec_80d9_02cba411ec9drow12_col1\" class=\"data row12 col1\" >4.7120%</td>\n",
       "            </tr>\n",
       "            <tr>\n",
       "                        <th id=\"T_c30161de_0b70_11ec_80d9_02cba411ec9dlevel0_row13\" class=\"row_heading level0 row13\" >13</th>\n",
       "                        <td id=\"T_c30161de_0b70_11ec_80d9_02cba411ec9drow13_col0\" class=\"data row13 col0\" >2920</td>\n",
       "                        <td id=\"T_c30161de_0b70_11ec_80d9_02cba411ec9drow13_col1\" class=\"data row13 col1\" >4.8547%</td>\n",
       "            </tr>\n",
       "            <tr>\n",
       "                        <th id=\"T_c30161de_0b70_11ec_80d9_02cba411ec9dlevel0_row14\" class=\"row_heading level0 row14\" >14</th>\n",
       "                        <td id=\"T_c30161de_0b70_11ec_80d9_02cba411ec9drow14_col0\" class=\"data row14 col0\" >3285</td>\n",
       "                        <td id=\"T_c30161de_0b70_11ec_80d9_02cba411ec9drow14_col1\" class=\"data row14 col1\" >4.9729%</td>\n",
       "            </tr>\n",
       "            <tr>\n",
       "                        <th id=\"T_c30161de_0b70_11ec_80d9_02cba411ec9dlevel0_row15\" class=\"row_heading level0 row15\" >15</th>\n",
       "                        <td id=\"T_c30161de_0b70_11ec_80d9_02cba411ec9drow15_col0\" class=\"data row15 col0\" >3650</td>\n",
       "                        <td id=\"T_c30161de_0b70_11ec_80d9_02cba411ec9drow15_col1\" class=\"data row15 col1\" >5.0730%</td>\n",
       "            </tr>\n",
       "            <tr>\n",
       "                        <th id=\"T_c30161de_0b70_11ec_80d9_02cba411ec9dlevel0_row16\" class=\"row_heading level0 row16\" >16</th>\n",
       "                        <td id=\"T_c30161de_0b70_11ec_80d9_02cba411ec9drow16_col0\" class=\"data row16 col0\" >4380</td>\n",
       "                        <td id=\"T_c30161de_0b70_11ec_80d9_02cba411ec9drow16_col1\" class=\"data row16 col1\" >5.2343%</td>\n",
       "            </tr>\n",
       "            <tr>\n",
       "                        <th id=\"T_c30161de_0b70_11ec_80d9_02cba411ec9dlevel0_row17\" class=\"row_heading level0 row17\" >17</th>\n",
       "                        <td id=\"T_c30161de_0b70_11ec_80d9_02cba411ec9drow17_col0\" class=\"data row17 col0\" >5475</td>\n",
       "                        <td id=\"T_c30161de_0b70_11ec_80d9_02cba411ec9drow17_col1\" class=\"data row17 col1\" >5.4110%</td>\n",
       "            </tr>\n",
       "            <tr>\n",
       "                        <th id=\"T_c30161de_0b70_11ec_80d9_02cba411ec9dlevel0_row18\" class=\"row_heading level0 row18\" >18</th>\n",
       "                        <td id=\"T_c30161de_0b70_11ec_80d9_02cba411ec9drow18_col0\" class=\"data row18 col0\" >7300</td>\n",
       "                        <td id=\"T_c30161de_0b70_11ec_80d9_02cba411ec9drow18_col1\" class=\"data row18 col1\" >5.5982%</td>\n",
       "            </tr>\n",
       "    </tbody></table>"
      ],
      "text/plain": [
       "<pandas.io.formats.style.Styler at 0x7fa7eae29630>"
      ]
     },
     "execution_count": 9,
     "metadata": {},
     "output_type": "execute_result"
    }
   ],
   "source": [
    "curva_clp.style.format({'tasa': '{:.4%}'})"
   ]
  },
  {
   "cell_type": "markdown",
   "metadata": {},
   "source": [
    "## Cálculo de Valor Presente con Curva Cero Cupón"
   ]
  },
  {
   "cell_type": "markdown",
   "metadata": {},
   "source": [
    "Vamos a elegir bonos en CLP emitidos recientemente."
   ]
  },
  {
   "cell_type": "code",
   "execution_count": 10,
   "metadata": {
    "ExecuteTime": {
     "end_time": "2021-09-01T22:05:47.787918Z",
     "start_time": "2021-09-01T22:05:47.763743Z"
    }
   },
   "outputs": [
    {
     "data": {
      "text/html": [
       "<div>\n",
       "<style scoped>\n",
       "    .dataframe tbody tr th:only-of-type {\n",
       "        vertical-align: middle;\n",
       "    }\n",
       "\n",
       "    .dataframe tbody tr th {\n",
       "        vertical-align: top;\n",
       "    }\n",
       "\n",
       "    .dataframe thead th {\n",
       "        text-align: right;\n",
       "    }\n",
       "</style>\n",
       "<table border=\"1\" class=\"dataframe\">\n",
       "  <thead>\n",
       "    <tr style=\"text-align: right;\">\n",
       "      <th></th>\n",
       "      <th>nemotecnico</th>\n",
       "      <th>fecha_emision</th>\n",
       "      <th>tasa_emision</th>\n",
       "      <th>tasa_descuento</th>\n",
       "      <th>unidad_monetaria</th>\n",
       "      <th>base_tasa_descuento</th>\n",
       "      <th>numero_flujos</th>\n",
       "      <th>meses_entre_vencimiento</th>\n",
       "      <th>tipo_intereses</th>\n",
       "      <th>numero_amortizaciones</th>\n",
       "      <th>plazo_agnos</th>\n",
       "    </tr>\n",
       "  </thead>\n",
       "  <tbody>\n",
       "    <tr>\n",
       "      <th>282</th>\n",
       "      <td>BBNSAT0320</td>\n",
       "      <td>2020-03-01</td>\n",
       "      <td>3.00</td>\n",
       "      <td>3.0223</td>\n",
       "      <td>CLP</td>\n",
       "      <td>365</td>\n",
       "      <td>6</td>\n",
       "      <td>6</td>\n",
       "      <td>C</td>\n",
       "      <td>1</td>\n",
       "      <td>3</td>\n",
       "    </tr>\n",
       "    <tr>\n",
       "      <th>367</th>\n",
       "      <td>BCFSA-H</td>\n",
       "      <td>2020-05-15</td>\n",
       "      <td>3.60</td>\n",
       "      <td>3.5981</td>\n",
       "      <td>CLP</td>\n",
       "      <td>365</td>\n",
       "      <td>5</td>\n",
       "      <td>12</td>\n",
       "      <td>C</td>\n",
       "      <td>1</td>\n",
       "      <td>5</td>\n",
       "    </tr>\n",
       "    <tr>\n",
       "      <th>384</th>\n",
       "      <td>BCGEI-O</td>\n",
       "      <td>2020-06-20</td>\n",
       "      <td>3.20</td>\n",
       "      <td>3.1982</td>\n",
       "      <td>CLP</td>\n",
       "      <td>365</td>\n",
       "      <td>10</td>\n",
       "      <td>6</td>\n",
       "      <td>C</td>\n",
       "      <td>1</td>\n",
       "      <td>5</td>\n",
       "    </tr>\n",
       "    <tr>\n",
       "      <th>895</th>\n",
       "      <td>BFALA-AA</td>\n",
       "      <td>2020-04-15</td>\n",
       "      <td>3.45</td>\n",
       "      <td>3.4480</td>\n",
       "      <td>CLP</td>\n",
       "      <td>365</td>\n",
       "      <td>14</td>\n",
       "      <td>6</td>\n",
       "      <td>C</td>\n",
       "      <td>8</td>\n",
       "      <td>7</td>\n",
       "    </tr>\n",
       "    <tr>\n",
       "      <th>1184</th>\n",
       "      <td>BPARC-Z</td>\n",
       "      <td>2020-06-05</td>\n",
       "      <td>3.75</td>\n",
       "      <td>3.7478</td>\n",
       "      <td>CLP</td>\n",
       "      <td>365</td>\n",
       "      <td>10</td>\n",
       "      <td>6</td>\n",
       "      <td>C</td>\n",
       "      <td>1</td>\n",
       "      <td>5</td>\n",
       "    </tr>\n",
       "    <tr>\n",
       "      <th>1301</th>\n",
       "      <td>BSCCH-D</td>\n",
       "      <td>2020-03-01</td>\n",
       "      <td>3.50</td>\n",
       "      <td>3.4996</td>\n",
       "      <td>CLP</td>\n",
       "      <td>365</td>\n",
       "      <td>4</td>\n",
       "      <td>6</td>\n",
       "      <td>C</td>\n",
       "      <td>1</td>\n",
       "      <td>2</td>\n",
       "    </tr>\n",
       "    <tr>\n",
       "      <th>1302</th>\n",
       "      <td>BSCCH-E</td>\n",
       "      <td>2020-03-01</td>\n",
       "      <td>3.80</td>\n",
       "      <td>3.7997</td>\n",
       "      <td>CLP</td>\n",
       "      <td>365</td>\n",
       "      <td>6</td>\n",
       "      <td>6</td>\n",
       "      <td>C</td>\n",
       "      <td>1</td>\n",
       "      <td>3</td>\n",
       "    </tr>\n",
       "    <tr>\n",
       "      <th>1446</th>\n",
       "      <td>BSPED-E</td>\n",
       "      <td>2020-06-01</td>\n",
       "      <td>3.40</td>\n",
       "      <td>3.3981</td>\n",
       "      <td>CLP</td>\n",
       "      <td>365</td>\n",
       "      <td>10</td>\n",
       "      <td>6</td>\n",
       "      <td>C</td>\n",
       "      <td>1</td>\n",
       "      <td>5</td>\n",
       "    </tr>\n",
       "    <tr>\n",
       "      <th>1764</th>\n",
       "      <td>BTP0000121</td>\n",
       "      <td>2020-05-01</td>\n",
       "      <td>0.00</td>\n",
       "      <td>0.0000</td>\n",
       "      <td>CLP</td>\n",
       "      <td>365</td>\n",
       "      <td>1</td>\n",
       "      <td>7</td>\n",
       "      <td>C</td>\n",
       "      <td>1</td>\n",
       "      <td>1</td>\n",
       "    </tr>\n",
       "    <tr>\n",
       "      <th>1765</th>\n",
       "      <td>BTP0000621</td>\n",
       "      <td>2020-05-01</td>\n",
       "      <td>0.00</td>\n",
       "      <td>0.0000</td>\n",
       "      <td>CLP</td>\n",
       "      <td>365</td>\n",
       "      <td>1</td>\n",
       "      <td>13</td>\n",
       "      <td>C</td>\n",
       "      <td>1</td>\n",
       "      <td>1</td>\n",
       "    </tr>\n",
       "    <tr>\n",
       "      <th>1766</th>\n",
       "      <td>BTP0000721</td>\n",
       "      <td>2020-05-01</td>\n",
       "      <td>0.00</td>\n",
       "      <td>0.0000</td>\n",
       "      <td>CLP</td>\n",
       "      <td>365</td>\n",
       "      <td>1</td>\n",
       "      <td>13</td>\n",
       "      <td>C</td>\n",
       "      <td>1</td>\n",
       "      <td>1</td>\n",
       "    </tr>\n",
       "    <tr>\n",
       "      <th>1774</th>\n",
       "      <td>BTP0250325</td>\n",
       "      <td>2020-03-01</td>\n",
       "      <td>2.50</td>\n",
       "      <td>2.5141</td>\n",
       "      <td>CLP</td>\n",
       "      <td>365</td>\n",
       "      <td>10</td>\n",
       "      <td>6</td>\n",
       "      <td>C</td>\n",
       "      <td>1</td>\n",
       "      <td>5</td>\n",
       "    </tr>\n",
       "  </tbody>\n",
       "</table>\n",
       "</div>"
      ],
      "text/plain": [
       "     nemotecnico fecha_emision  tasa_emision  tasa_descuento unidad_monetaria  \\\n",
       "282   BBNSAT0320    2020-03-01          3.00          3.0223              CLP   \n",
       "367      BCFSA-H    2020-05-15          3.60          3.5981              CLP   \n",
       "384      BCGEI-O    2020-06-20          3.20          3.1982              CLP   \n",
       "895     BFALA-AA    2020-04-15          3.45          3.4480              CLP   \n",
       "1184     BPARC-Z    2020-06-05          3.75          3.7478              CLP   \n",
       "1301     BSCCH-D    2020-03-01          3.50          3.4996              CLP   \n",
       "1302     BSCCH-E    2020-03-01          3.80          3.7997              CLP   \n",
       "1446     BSPED-E    2020-06-01          3.40          3.3981              CLP   \n",
       "1764  BTP0000121    2020-05-01          0.00          0.0000              CLP   \n",
       "1765  BTP0000621    2020-05-01          0.00          0.0000              CLP   \n",
       "1766  BTP0000721    2020-05-01          0.00          0.0000              CLP   \n",
       "1774  BTP0250325    2020-03-01          2.50          2.5141              CLP   \n",
       "\n",
       "      base_tasa_descuento  numero_flujos  meses_entre_vencimiento  \\\n",
       "282                   365              6                        6   \n",
       "367                   365              5                       12   \n",
       "384                   365             10                        6   \n",
       "895                   365             14                        6   \n",
       "1184                  365             10                        6   \n",
       "1301                  365              4                        6   \n",
       "1302                  365              6                        6   \n",
       "1446                  365             10                        6   \n",
       "1764                  365              1                        7   \n",
       "1765                  365              1                       13   \n",
       "1766                  365              1                       13   \n",
       "1774                  365             10                        6   \n",
       "\n",
       "     tipo_intereses  numero_amortizaciones  plazo_agnos  \n",
       "282               C                      1            3  \n",
       "367               C                      1            5  \n",
       "384               C                      1            5  \n",
       "895               C                      8            7  \n",
       "1184              C                      1            5  \n",
       "1301              C                      1            2  \n",
       "1302              C                      1            3  \n",
       "1446              C                      1            5  \n",
       "1764              C                      1            1  \n",
       "1765              C                      1            1  \n",
       "1766              C                      1            1  \n",
       "1774              C                      1            5  "
      ]
     },
     "execution_count": 10,
     "metadata": {},
     "output_type": "execute_result"
    }
   ],
   "source": [
    "bonos[(bonos.unidad_monetaria=='CLP') & (bonos.fecha_emision >= '2020-01-01')]"
   ]
  },
  {
   "cell_type": "markdown",
   "metadata": {},
   "source": [
    "De esta lista hay varios que no están colocados. Vamos a volver a utilizar el *BWATT-Q*."
   ]
  },
  {
   "cell_type": "code",
   "execution_count": 11,
   "metadata": {
    "ExecuteTime": {
     "end_time": "2021-09-01T22:05:48.016675Z",
     "start_time": "2021-09-01T22:05:47.789958Z"
    }
   },
   "outputs": [],
   "source": [
    "tabla = tablas_desarrollo[tablas_desarrollo.nemotecnico=='BWATT-Q'].copy()"
   ]
  },
  {
   "cell_type": "code",
   "execution_count": 12,
   "metadata": {
    "ExecuteTime": {
     "end_time": "2021-09-01T22:05:48.033822Z",
     "start_time": "2021-09-01T22:05:48.019515Z"
    }
   },
   "outputs": [
    {
     "data": {
      "text/html": [
       "<div>\n",
       "<style scoped>\n",
       "    .dataframe tbody tr th:only-of-type {\n",
       "        vertical-align: middle;\n",
       "    }\n",
       "\n",
       "    .dataframe tbody tr th {\n",
       "        vertical-align: top;\n",
       "    }\n",
       "\n",
       "    .dataframe thead th {\n",
       "        text-align: right;\n",
       "    }\n",
       "</style>\n",
       "<table border=\"1\" class=\"dataframe\">\n",
       "  <thead>\n",
       "    <tr style=\"text-align: right;\">\n",
       "      <th></th>\n",
       "      <th>nemotecnico</th>\n",
       "      <th>numero_cupon</th>\n",
       "      <th>fecha_vcto_cupon</th>\n",
       "      <th>interes</th>\n",
       "      <th>amortizacion</th>\n",
       "      <th>saldo_insoluto</th>\n",
       "    </tr>\n",
       "  </thead>\n",
       "  <tbody>\n",
       "    <tr>\n",
       "      <th>3277303</th>\n",
       "      <td>BWATT-Q</td>\n",
       "      <td>1</td>\n",
       "      <td>2020-03-01</td>\n",
       "      <td>1.9313</td>\n",
       "      <td>0.0</td>\n",
       "      <td>100.0</td>\n",
       "    </tr>\n",
       "    <tr>\n",
       "      <th>3277304</th>\n",
       "      <td>BWATT-Q</td>\n",
       "      <td>2</td>\n",
       "      <td>2020-09-01</td>\n",
       "      <td>1.9313</td>\n",
       "      <td>0.0</td>\n",
       "      <td>100.0</td>\n",
       "    </tr>\n",
       "    <tr>\n",
       "      <th>3277305</th>\n",
       "      <td>BWATT-Q</td>\n",
       "      <td>3</td>\n",
       "      <td>2021-03-01</td>\n",
       "      <td>1.9313</td>\n",
       "      <td>0.0</td>\n",
       "      <td>100.0</td>\n",
       "    </tr>\n",
       "    <tr>\n",
       "      <th>3277306</th>\n",
       "      <td>BWATT-Q</td>\n",
       "      <td>4</td>\n",
       "      <td>2021-09-01</td>\n",
       "      <td>1.9313</td>\n",
       "      <td>0.0</td>\n",
       "      <td>100.0</td>\n",
       "    </tr>\n",
       "    <tr>\n",
       "      <th>3277307</th>\n",
       "      <td>BWATT-Q</td>\n",
       "      <td>5</td>\n",
       "      <td>2022-03-01</td>\n",
       "      <td>1.9313</td>\n",
       "      <td>0.0</td>\n",
       "      <td>100.0</td>\n",
       "    </tr>\n",
       "  </tbody>\n",
       "</table>\n",
       "</div>"
      ],
      "text/plain": [
       "        nemotecnico  numero_cupon fecha_vcto_cupon  interes  amortizacion  \\\n",
       "3277303     BWATT-Q             1       2020-03-01   1.9313           0.0   \n",
       "3277304     BWATT-Q             2       2020-09-01   1.9313           0.0   \n",
       "3277305     BWATT-Q             3       2021-03-01   1.9313           0.0   \n",
       "3277306     BWATT-Q             4       2021-09-01   1.9313           0.0   \n",
       "3277307     BWATT-Q             5       2022-03-01   1.9313           0.0   \n",
       "\n",
       "         saldo_insoluto  \n",
       "3277303           100.0  \n",
       "3277304           100.0  \n",
       "3277305           100.0  \n",
       "3277306           100.0  \n",
       "3277307           100.0  "
      ]
     },
     "execution_count": 12,
     "metadata": {},
     "output_type": "execute_result"
    }
   ],
   "source": [
    "tabla.head()"
   ]
  },
  {
   "cell_type": "markdown",
   "metadata": {},
   "source": [
    "Para usar la curva cupón cero, tenemos que escribir una función que pueda calcular el valor presente a partir de ella.\n",
    "\n",
    "Además, vamos a escribir una función que interpole linealmente."
   ]
  },
  {
   "cell_type": "code",
   "execution_count": 13,
   "metadata": {
    "ExecuteTime": {
     "end_time": "2021-09-01T22:05:48.042543Z",
     "start_time": "2021-09-01T22:05:48.035851Z"
    }
   },
   "outputs": [],
   "source": [
    "def lin_interpol(plazo, plazos, tasas):\n",
    "    \"\"\"\n",
    "    Implementa interpolación lineal.\n",
    "    \n",
    "    Parameters\n",
    "    ----------\n",
    "    \n",
    "    plazo: float\n",
    "        Plazo en días al que se quiere interpolar.\n",
    "    \n",
    "    plazos: array (numpy o autograd.numpy)\n",
    "        Plazos en días de las tasas de la curva.\n",
    "        \n",
    "    tasas: array ((numpy o autograd.numpy))\n",
    "        Tasas en en convención Comp Act/365 de la curva. Si se usa autograd, se puede derivar respecto\n",
    "        a este parámetro.\n",
    "        \n",
    "    Returns\n",
    "    -------\n",
    "    \n",
    "    Un `float` que corresponde al valor presente de los flujos.\n",
    "\n",
    "    \"\"\"\n",
    "    i = bisect.bisect(plazos, plazo)\n",
    "    if i == 0:\n",
    "        return tasas[i]\n",
    "    elif i == len(tasas):\n",
    "        return tasas[i - 1]\n",
    "    else:\n",
    "        m = (tasas[i] - tasas[i - 1]) / (plazos[i] - plazos[i - 1])\n",
    "        return tasas[i - 1] + m * (plazo - plazos[i - 1])"
   ]
  },
  {
   "cell_type": "code",
   "execution_count": 14,
   "metadata": {
    "ExecuteTime": {
     "end_time": "2021-09-01T22:05:48.051408Z",
     "start_time": "2021-09-01T22:05:48.044969Z"
    }
   },
   "outputs": [],
   "source": [
    "plazos = agnp.array(curva_clp[['plazo']])\n",
    "tasas = agnp.array(curva_clp[['tasa']])"
   ]
  },
  {
   "cell_type": "code",
   "execution_count": 15,
   "metadata": {
    "ExecuteTime": {
     "end_time": "2021-09-01T22:05:48.060196Z",
     "start_time": "2021-09-01T22:05:48.054412Z"
    }
   },
   "outputs": [
    {
     "data": {
      "text/plain": [
       "array([0.01223611])"
      ]
     },
     "execution_count": 15,
     "metadata": {},
     "output_type": "execute_result"
    }
   ],
   "source": [
    "lin_interpol(100, plazos, tasas)"
   ]
  },
  {
   "cell_type": "code",
   "execution_count": 16,
   "metadata": {
    "ExecuteTime": {
     "end_time": "2021-09-01T22:05:48.065982Z",
     "start_time": "2021-09-01T22:05:48.062233Z"
    }
   },
   "outputs": [],
   "source": [
    "glin_interpol = grad(lin_interpol, 2)"
   ]
  },
  {
   "cell_type": "code",
   "execution_count": 17,
   "metadata": {
    "ExecuteTime": {
     "end_time": "2021-09-01T22:05:48.072455Z",
     "start_time": "2021-09-01T22:05:48.068124Z"
    }
   },
   "outputs": [],
   "source": [
    "temp = glin_interpol(180, plazos, tasas)"
   ]
  },
  {
   "cell_type": "code",
   "execution_count": 18,
   "metadata": {
    "ExecuteTime": {
     "end_time": "2021-09-01T22:05:48.079936Z",
     "start_time": "2021-09-01T22:05:48.074955Z"
    }
   },
   "outputs": [
    {
     "data": {
      "text/plain": [
       "array([[0.],\n",
       "       [0.],\n",
       "       [0.],\n",
       "       [0.],\n",
       "       [1.],\n",
       "       [0.],\n",
       "       [0.],\n",
       "       [0.],\n",
       "       [0.],\n",
       "       [0.],\n",
       "       [0.],\n",
       "       [0.],\n",
       "       [0.],\n",
       "       [0.],\n",
       "       [0.],\n",
       "       [0.],\n",
       "       [0.],\n",
       "       [0.],\n",
       "       [0.]])"
      ]
     },
     "execution_count": 18,
     "metadata": {},
     "output_type": "execute_result"
    }
   ],
   "source": [
    "temp"
   ]
  },
  {
   "cell_type": "code",
   "execution_count": 19,
   "metadata": {
    "ExecuteTime": {
     "end_time": "2021-09-01T22:05:48.087468Z",
     "start_time": "2021-09-01T22:05:48.082141Z"
    }
   },
   "outputs": [
    {
     "data": {
      "text/plain": [
       "array([0.0001])"
      ]
     },
     "execution_count": 19,
     "metadata": {},
     "output_type": "execute_result"
    }
   ],
   "source": [
    "temp[4] * .0001"
   ]
  },
  {
   "cell_type": "code",
   "execution_count": 20,
   "metadata": {
    "ExecuteTime": {
     "end_time": "2021-09-01T22:05:48.095721Z",
     "start_time": "2021-09-01T22:05:48.089906Z"
    },
    "code_folding": []
   },
   "outputs": [],
   "source": [
    "def valor_presente_curva(fecha_valor, fechas, flujos, plazos, tasas):\n",
    "    \"\"\"\n",
    "    Calcula el valor presente de un conjunto de flujos utilizando una curva cero cupón. Para encontrar\n",
    "    una tasa a un plazo específico se utiliza interpolación lineal.\n",
    "    \n",
    "    Parameters\n",
    "    ----------\n",
    "    \n",
    "    fecha_valor: datetime.date\n",
    "        Fecha a la cual se quiere obtener el valor presente.\n",
    "        \n",
    "    fechas: List[datetime.date]\n",
    "        Fechas de pago de los flujos.\n",
    "        \n",
    "    flujos: List[float]\n",
    "        Flujos a traer a valor presente. Deben corresponder a las fechas en el parámetro `fechas`.\n",
    "        Los flujos cuyas fechas sean iguales o previas a `fecha_valor` no serán incluidos en el cálculo.\n",
    "        \n",
    "    plazos: numpy.array\n",
    "        Plazos en días de las tasas de la curva.\n",
    "        \n",
    "    tasas: jnp.array\n",
    "        Tasas en en convención Comp Act/365 de la curva.\n",
    "        \n",
    "    Returns\n",
    "    -------\n",
    "    \n",
    "    Un `float` que corresponde al valor presente de los flujos.\n",
    "    \"\"\"\n",
    "    result = 0.0\n",
    "    for fec, fl in zip(fechas, flujos):\n",
    "        p = (fec - fecha_valor).days\n",
    "        if p > 0:\n",
    "            tasa = lin_interpol(p, plazos, tasas)\n",
    "            result += fl * agnp.power((1 + tasa), -p / 365.0)\n",
    "    return result"
   ]
  },
  {
   "cell_type": "markdown",
   "metadata": {},
   "source": [
    "Probemos ..."
   ]
  },
  {
   "cell_type": "code",
   "execution_count": 21,
   "metadata": {
    "ExecuteTime": {
     "end_time": "2021-09-01T22:05:48.104984Z",
     "start_time": "2021-09-01T22:05:48.098434Z"
    }
   },
   "outputs": [
    {
     "data": {
      "text/plain": [
       "array(['2020-03-01', '2020-09-01', '2021-03-01', '2021-09-01',\n",
       "       '2022-03-01', '2022-09-01', '2023-03-01', '2023-09-01',\n",
       "       '2024-03-01', '2024-09-01', '2025-03-01', '2025-09-01',\n",
       "       '2026-03-01', '2026-09-01', '2027-03-01', '2027-09-01',\n",
       "       '2028-03-01', '2028-09-01', '2029-03-01', '2029-09-01'],\n",
       "      dtype=object)"
      ]
     },
     "execution_count": 21,
     "metadata": {},
     "output_type": "execute_result"
    }
   ],
   "source": [
    "tabla['fecha_vcto_cupon'].values"
   ]
  },
  {
   "cell_type": "code",
   "execution_count": 22,
   "metadata": {
    "ExecuteTime": {
     "end_time": "2021-09-01T22:05:48.114659Z",
     "start_time": "2021-09-01T22:05:48.107987Z"
    }
   },
   "outputs": [],
   "source": [
    "fechas = np.asarray(\n",
    "    [datetime.datetime.strptime(f, \"%Y-%m-%d\").date() for f in tabla['fecha_vcto_cupon'].values])"
   ]
  },
  {
   "cell_type": "code",
   "execution_count": 23,
   "metadata": {
    "ExecuteTime": {
     "end_time": "2021-09-01T22:05:48.123624Z",
     "start_time": "2021-09-01T22:05:48.117723Z"
    }
   },
   "outputs": [
    {
     "data": {
      "text/plain": [
       "array([datetime.date(2020, 3, 1), datetime.date(2020, 9, 1),\n",
       "       datetime.date(2021, 3, 1), datetime.date(2021, 9, 1),\n",
       "       datetime.date(2022, 3, 1), datetime.date(2022, 9, 1),\n",
       "       datetime.date(2023, 3, 1), datetime.date(2023, 9, 1),\n",
       "       datetime.date(2024, 3, 1), datetime.date(2024, 9, 1),\n",
       "       datetime.date(2025, 3, 1), datetime.date(2025, 9, 1),\n",
       "       datetime.date(2026, 3, 1), datetime.date(2026, 9, 1),\n",
       "       datetime.date(2027, 3, 1), datetime.date(2027, 9, 1),\n",
       "       datetime.date(2028, 3, 1), datetime.date(2028, 9, 1),\n",
       "       datetime.date(2029, 3, 1), datetime.date(2029, 9, 1)], dtype=object)"
      ]
     },
     "execution_count": 23,
     "metadata": {},
     "output_type": "execute_result"
    }
   ],
   "source": [
    "fechas"
   ]
  },
  {
   "cell_type": "code",
   "execution_count": 24,
   "metadata": {
    "ExecuteTime": {
     "end_time": "2021-09-01T22:05:48.130535Z",
     "start_time": "2021-09-01T22:05:48.126229Z"
    }
   },
   "outputs": [],
   "source": [
    "fecha_valor = date(2021, 8, 13)"
   ]
  },
  {
   "cell_type": "code",
   "execution_count": 25,
   "metadata": {
    "ExecuteTime": {
     "end_time": "2021-09-01T22:05:48.141905Z",
     "start_time": "2021-09-01T22:05:48.132697Z"
    }
   },
   "outputs": [
    {
     "name": "stdout",
     "output_type": "stream",
     "text": [
      "El valor presente es: 96.12432231\n"
     ]
    }
   ],
   "source": [
    "resultado = valor_presente_curva(\n",
    "    fecha_valor,\n",
    "    fechas,\n",
    "    tabla['interes'] + tabla['amortizacion'],\n",
    "    curva_clp['plazo'],\n",
    "    agnp.asarray(curva_clp['tasa'])\n",
    ")\n",
    "print(f'El valor presente es: {resultado:,.8f}')"
   ]
  },
  {
   "cell_type": "markdown",
   "metadata": {
    "ExecuteTime": {
     "end_time": "2021-08-22T12:22:04.527661Z",
     "start_time": "2021-08-22T12:22:04.516671Z"
    }
   },
   "source": [
    "¿Cómo podemos verificar el resultado? Hagamos un cálculo estilo Excel utilizando el `DataFrame` que contiene la tabla de desarrollo del bono."
   ]
  },
  {
   "cell_type": "markdown",
   "metadata": {},
   "source": [
    "Agregamos una columna `plazo`."
   ]
  },
  {
   "cell_type": "code",
   "execution_count": 26,
   "metadata": {
    "ExecuteTime": {
     "end_time": "2021-09-01T22:05:48.148825Z",
     "start_time": "2021-09-01T22:05:48.144115Z"
    }
   },
   "outputs": [],
   "source": [
    "tabla['plazo'] = [(f - fecha_valor).days for f in fechas]"
   ]
  },
  {
   "cell_type": "markdown",
   "metadata": {},
   "source": [
    "Agregamos una columna `tasa`."
   ]
  },
  {
   "cell_type": "code",
   "execution_count": 27,
   "metadata": {
    "ExecuteTime": {
     "end_time": "2021-09-01T22:05:48.156190Z",
     "start_time": "2021-09-01T22:05:48.151140Z"
    }
   },
   "outputs": [],
   "source": [
    "tabla['tasa'] = agnp.interp(\n",
    "    agnp.asarray(tabla['plazo']),\n",
    "    curva_clp['plazo'],\n",
    "    agnp.asarray(curva_clp['tasa']),\n",
    ")"
   ]
  },
  {
   "cell_type": "markdown",
   "metadata": {},
   "source": [
    "Agregamos la columna `df` que representa el factor de descuento asociado a la tasa."
   ]
  },
  {
   "cell_type": "code",
   "execution_count": 28,
   "metadata": {
    "ExecuteTime": {
     "end_time": "2021-09-01T22:05:48.165085Z",
     "start_time": "2021-09-01T22:05:48.158717Z"
    }
   },
   "outputs": [],
   "source": [
    "tabla['df'] = agnp.power((1 + tabla['tasa']), -tabla['plazo'] / 365.0)"
   ]
  },
  {
   "cell_type": "markdown",
   "metadata": {},
   "source": [
    "Agregamos la columna `vp` que es el valor presente del flujo."
   ]
  },
  {
   "cell_type": "code",
   "execution_count": 29,
   "metadata": {
    "ExecuteTime": {
     "end_time": "2021-09-01T22:05:48.173570Z",
     "start_time": "2021-09-01T22:05:48.167562Z"
    }
   },
   "outputs": [],
   "source": [
    "tabla['vp'] = (tabla['interes'] + tabla['amortizacion']) * tabla['df']"
   ]
  },
  {
   "cell_type": "markdown",
   "metadata": {},
   "source": [
    "Finalmente, se suman los valores presente de los flujos con `plazo` mayor a cero."
   ]
  },
  {
   "cell_type": "code",
   "execution_count": 30,
   "metadata": {
    "ExecuteTime": {
     "end_time": "2021-09-01T22:05:48.183430Z",
     "start_time": "2021-09-01T22:05:48.175758Z"
    }
   },
   "outputs": [
    {
     "name": "stdout",
     "output_type": "stream",
     "text": [
      "Check: 96.12432231\n"
     ]
    }
   ],
   "source": [
    "check = tabla[tabla.plazo > 0]['vp'].sum()\n",
    "print(f'Check: {check:,.8f}')"
   ]
  },
  {
   "cell_type": "markdown",
   "metadata": {},
   "source": [
    "## Spread Sobre Curva Cero Cupón"
   ]
  },
  {
   "cell_type": "markdown",
   "metadata": {},
   "source": [
    "Notar que hemos valorizado un bono corporativo con una curva de bonos de gobierno. Esperaríamos que el valor presente así obtenido sea más alto que el que se obtendría descontando el mismo bono a su tir de mercado. Podemos calcular cuál es el spread implícito en la valorización con curva de gobierno. Para eso, se debe calcular cuál es la tir equivalente al descuento con curva. Dicho de otra forma, qué tir permite obtener el mismo valor presente que el calculado con la curva.\n",
    "\n",
    "Para esto, vamos a reciclar y modificar una función que ya vimos al estudiar la instrucción `while`."
   ]
  },
  {
   "cell_type": "code",
   "execution_count": 31,
   "metadata": {
    "ExecuteTime": {
     "end_time": "2021-09-01T22:05:48.192636Z",
     "start_time": "2021-09-01T22:05:48.185691Z"
    }
   },
   "outputs": [],
   "source": [
    "def encuentra_tir_2(fecha_valor, fechas, flujos, vp_obj, tasa):\n",
    "    \"\"\"\n",
    "    Calcula la tasa de descuento o TIR que hace que el valor presente del bono (en base 100)\n",
    "    sea igual a un valor dado.\n",
    "\n",
    "    Parameters\n",
    "    ----------\n",
    "\n",
    "    fecha_valor: datetime.date\n",
    "        Fecha a la cual se realiza el cálculo.\n",
    "\n",
    "    plazos: List[float]\n",
    "            Contiene las fechas de los flujos.\n",
    "\n",
    "    flujos: List[float]\n",
    "            Contiene los flujos del bono.\n",
    "\n",
    "    vp_obj: float\n",
    "        Valor presente del bono para el cual se quiere encontrar la tir.\n",
    "\n",
    "    tasa: float\n",
    "          Estimación inicial del valor del resultado.\n",
    "\n",
    "    Returns\n",
    "    -------\n",
    "\n",
    "    float\n",
    "         Tasa de descuento buscada.\n",
    "    \"\"\"\n",
    "    epsilon = .000001\n",
    "    diff = 1000\n",
    "    der = grad(mf.valor_presente, 3)\n",
    "    while diff > epsilon:\n",
    "        q = ((mf.valor_presente(fecha_valor, fechas, flujos, tasa) - vp_obj) /\n",
    "             der(fecha_valor, fechas, flujos, tasa)\n",
    "             )\n",
    "        nueva_tasa = tasa - q\n",
    "        diff = abs(nueva_tasa - tasa)\n",
    "        tasa = nueva_tasa\n",
    "    return tasa"
   ]
  },
  {
   "cell_type": "markdown",
   "metadata": {},
   "source": [
    "Notar que en esta versión de la función, se ha reemplazado el cálculo numérico de la derivada del bono respecto a su tir por el cálculo automático utilizando `autograd`."
   ]
  },
  {
   "cell_type": "code",
   "execution_count": 32,
   "metadata": {
    "ExecuteTime": {
     "end_time": "2021-09-01T22:05:48.215672Z",
     "start_time": "2021-09-01T22:05:48.197712Z"
    }
   },
   "outputs": [
    {
     "name": "stdout",
     "output_type": "stream",
     "text": [
      "La TIR equivalente es:  4.7593%\n"
     ]
    }
   ],
   "source": [
    "tir_eq = encuentra_tir_2(\n",
    "    fecha_valor,\n",
    "    fechas,\n",
    "    tabla['interes'] + tabla['amortizacion'],\n",
    "    resultado,\n",
    "    .02,\n",
    ")\n",
    "print(f'La TIR equivalente es: {tir_eq: .4%}')"
   ]
  },
  {
   "cell_type": "markdown",
   "metadata": {},
   "source": [
    "Podemos verificar el resultado:"
   ]
  },
  {
   "cell_type": "code",
   "execution_count": 33,
   "metadata": {
    "ExecuteTime": {
     "end_time": "2021-09-01T22:05:48.223287Z",
     "start_time": "2021-09-01T22:05:48.218191Z"
    }
   },
   "outputs": [
    {
     "name": "stdout",
     "output_type": "stream",
     "text": [
      "El valor presente con tir equivalente es: 96.1243223118909\n"
     ]
    }
   ],
   "source": [
    "check_tir_eq = mf.valor_presente(\n",
    "    fecha_valor, fechas, tabla['interes'] + tabla['amortizacion'], tir_eq)\n",
    "print(f'El valor presente con tir equivalente es: {check_tir_eq:,.13f}')"
   ]
  },
  {
   "cell_type": "markdown",
   "metadata": {},
   "source": [
    "De acuerdo a RiskAmerica, el spread de este bono debiera ser 2.00%, o que la TIR base es 4.76%, que, a dos decimales es el mismo resultado que acabamos de obtener.\n",
    "\n",
    "![RA](assets/20210820_bwatt-q_val_ra.png)"
   ]
  },
  {
   "cell_type": "markdown",
   "metadata": {},
   "source": [
    "## Sensibilidad a Curva Cero Cupón"
   ]
  },
  {
   "cell_type": "markdown",
   "metadata": {},
   "source": [
    "Se puede extender la idea de duración del bono (pensada como $\\Delta$ del bono respecto a su tir de mercado) si consideramos el vector de $\\delta$ del bono respecto a cada una de las tasas cupón cero. Usando `autograd` esto se calcula fácilmente de la siguiente forma:"
   ]
  },
  {
   "cell_type": "code",
   "execution_count": 34,
   "metadata": {
    "ExecuteTime": {
     "end_time": "2021-09-01T22:05:48.228973Z",
     "start_time": "2021-09-01T22:05:48.225564Z"
    }
   },
   "outputs": [],
   "source": [
    "# 4 corresponde a la posición de las tasas de la curva en la función valor_presente_curva.\n",
    "gcurva = grad(valor_presente_curva, 4)"
   ]
  },
  {
   "cell_type": "code",
   "execution_count": 35,
   "metadata": {
    "ExecuteTime": {
     "end_time": "2021-09-01T22:05:48.244882Z",
     "start_time": "2021-09-01T22:05:48.230876Z"
    }
   },
   "outputs": [],
   "source": [
    "delta = gcurva(\n",
    "    fecha_valor,\n",
    "    fechas,\n",
    "    tabla['interes'] + tabla['amortizacion'],\n",
    "    agnp.asarray(curva_clp['plazo']),\n",
    "    agnp.asarray(curva_clp['tasa'])\n",
    ")"
   ]
  },
  {
   "cell_type": "code",
   "execution_count": 36,
   "metadata": {
    "ExecuteTime": {
     "end_time": "2021-09-01T22:05:48.252369Z",
     "start_time": "2021-09-01T22:05:48.247241Z"
    }
   },
   "outputs": [
    {
     "data": {
      "text/plain": [
       "array([-3.77832287e-02, -6.18271014e-02,  0.00000000e+00,  0.00000000e+00,\n",
       "       -8.03070369e-01, -2.29448677e-01, -3.10775758e+00, -7.03290515e+00,\n",
       "       -1.00265161e+01, -1.26720298e+01, -1.49749581e+01, -1.69493336e+01,\n",
       "       -1.86678257e+01, -5.09503267e+02, -3.07401095e+01,  0.00000000e+00,\n",
       "        0.00000000e+00,  0.00000000e+00,  0.00000000e+00])"
      ]
     },
     "execution_count": 36,
     "metadata": {},
     "output_type": "execute_result"
    }
   ],
   "source": [
    "delta"
   ]
  },
  {
   "cell_type": "markdown",
   "metadata": {},
   "source": [
    "Para calcular la sensibilidad a 1 punto básico en cada vértice basta con lo siguiente (para ver cifras significativas vamos a asumir un nominal de 100,000,000 CLP):"
   ]
  },
  {
   "cell_type": "code",
   "execution_count": 48,
   "metadata": {
    "ExecuteTime": {
     "end_time": "2021-09-01T22:11:13.329785Z",
     "start_time": "2021-09-01T22:11:13.323036Z"
    }
   },
   "outputs": [
    {
     "name": "stdout",
     "output_type": "stream",
     "text": [
      "Sensibilidad vértice 0 al plazo 1: -3.778323\n",
      "Sensibilidad vértice 1 al plazo 30: -6.182710\n",
      "Sensibilidad vértice 2 al plazo 60: 0.000000\n",
      "Sensibilidad vértice 3 al plazo 90: 0.000000\n",
      "Sensibilidad vértice 4 al plazo 180: -80.307037\n",
      "Sensibilidad vértice 5 al plazo 270: -22.944868\n",
      "Sensibilidad vértice 6 al plazo 365: -310.775758\n",
      "Sensibilidad vértice 7 al plazo 730: -703.290515\n",
      "Sensibilidad vértice 8 al plazo 1095: -1,002.651608\n",
      "Sensibilidad vértice 9 al plazo 1460: -1,267.202976\n",
      "Sensibilidad vértice 10 al plazo 1825: -1,497.495813\n",
      "Sensibilidad vértice 11 al plazo 2190: -1,694.933365\n",
      "Sensibilidad vértice 12 al plazo 2555: -1,866.782566\n",
      "Sensibilidad vértice 13 al plazo 2920: -50,950.326656\n",
      "Sensibilidad vértice 14 al plazo 3285: -3,074.010953\n",
      "Sensibilidad vértice 15 al plazo 3650: 0.000000\n",
      "Sensibilidad vértice 16 al plazo 4380: 0.000000\n",
      "Sensibilidad vértice 17 al plazo 5475: 0.000000\n",
      "Sensibilidad vértice 18 al plazo 7300: 0.000000\n"
     ]
    }
   ],
   "source": [
    "nominal = 100000000\n",
    "sens = [d * .0001 * nominal / 100.0 for d in delta]\n",
    "for i, s in enumerate(sens):\n",
    "    print(f'Sensibilidad vértice {i} al plazo {curva_clp.iloc[i, 0]}: {s:,.6f}')"
   ]
  },
  {
   "cell_type": "markdown",
   "metadata": {},
   "source": [
    "### Ejercicio"
   ]
  },
  {
   "cell_type": "markdown",
   "metadata": {},
   "source": [
    "Verificar el resultado anterior de forma numérica, al menos para algunos vértices."
   ]
  },
  {
   "cell_type": "markdown",
   "metadata": {},
   "source": [
    "Verifiquemos el vértice 13."
   ]
  },
  {
   "cell_type": "code",
   "execution_count": 38,
   "metadata": {
    "ExecuteTime": {
     "end_time": "2021-09-01T22:05:48.265849Z",
     "start_time": "2021-09-01T22:05:48.262498Z"
    }
   },
   "outputs": [],
   "source": [
    "curva_clp.at[13, 'tasa'] += .0001"
   ]
  },
  {
   "cell_type": "code",
   "execution_count": 39,
   "metadata": {
    "ExecuteTime": {
     "end_time": "2021-09-01T22:05:48.274295Z",
     "start_time": "2021-09-01T22:05:48.267929Z"
    }
   },
   "outputs": [],
   "source": [
    "vp_mas = valor_presente_curva(fecha_valor,\n",
    "    fechas,\n",
    "    tabla['interes'] + tabla['amortizacion'],\n",
    "    curva_clp['plazo'],\n",
    "    agnp.asarray(curva_clp['tasa'])\n",
    ")"
   ]
  },
  {
   "cell_type": "code",
   "execution_count": 40,
   "metadata": {
    "ExecuteTime": {
     "end_time": "2021-09-01T22:05:48.279367Z",
     "start_time": "2021-09-01T22:05:48.276216Z"
    }
   },
   "outputs": [],
   "source": [
    "curva_clp.at[13, 'tasa'] -= .0002"
   ]
  },
  {
   "cell_type": "code",
   "execution_count": 41,
   "metadata": {
    "ExecuteTime": {
     "end_time": "2021-09-01T22:05:48.287800Z",
     "start_time": "2021-09-01T22:05:48.281482Z"
    }
   },
   "outputs": [],
   "source": [
    "vp_menos = valor_presente_curva(fecha_valor,\n",
    "    fechas,\n",
    "    tabla['interes'] + tabla['amortizacion'],\n",
    "    curva_clp['plazo'],\n",
    "    agnp.asarray(curva_clp['tasa'])\n",
    ")"
   ]
  },
  {
   "cell_type": "code",
   "execution_count": 44,
   "metadata": {
    "ExecuteTime": {
     "end_time": "2021-09-01T22:10:40.407438Z",
     "start_time": "2021-09-01T22:10:40.404127Z"
    }
   },
   "outputs": [],
   "source": [
    "sens_diff = nominal * (vp_mas - vp_menos) / 200"
   ]
  },
  {
   "cell_type": "code",
   "execution_count": 47,
   "metadata": {
    "ExecuteTime": {
     "end_time": "2021-09-01T22:11:06.154811Z",
     "start_time": "2021-09-01T22:11:06.150706Z"
    }
   },
   "outputs": [
    {
     "name": "stdout",
     "output_type": "stream",
     "text": [
      "Sens. en vértice 13: -50,950.332852\n"
     ]
    }
   ],
   "source": [
    "print(f'Sens. en vértice 13: {sens_diff: ,.6f}')"
   ]
  },
  {
   "cell_type": "code",
   "execution_count": 49,
   "metadata": {
    "ExecuteTime": {
     "end_time": "2021-09-01T22:12:10.035432Z",
     "start_time": "2021-09-01T22:12:10.031648Z"
    }
   },
   "outputs": [],
   "source": [
    "curva_clp.at[13, 'tasa'] += .0001"
   ]
  }
 ],
 "metadata": {
  "hide_input": false,
  "kernelspec": {
   "display_name": "Python 3",
   "language": "python",
   "name": "python3"
  },
  "language_info": {
   "codemirror_mode": {
    "name": "ipython",
    "version": 3
   },
   "file_extension": ".py",
   "mimetype": "text/x-python",
   "name": "python",
   "nbconvert_exporter": "python",
   "pygments_lexer": "ipython3",
   "version": "3.7.3"
  },
  "toc": {
   "base_numbering": 1,
   "nav_menu": {},
   "number_sections": true,
   "sideBar": true,
   "skip_h1_title": true,
   "title_cell": "Table of Contents",
   "title_sidebar": "Contenido",
   "toc_cell": false,
   "toc_position": {
    "height": "calc(100% - 180px)",
    "left": "10px",
    "top": "150px",
    "width": "165px"
   },
   "toc_section_display": true,
   "toc_window_display": true
  }
 },
 "nbformat": 4,
 "nbformat_minor": 4
}
