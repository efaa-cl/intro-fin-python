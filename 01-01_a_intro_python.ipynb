{
 "cells": [
  {
   "cell_type": "markdown",
   "metadata": {},
   "source": [
    "## El Jupyter Notebook"
   ]
  },
  {
   "cell_type": "markdown",
   "metadata": {},
   "source": [
    "\"The Jupyter Notebook is an open-source web application that allows you to create and share documents that contain live code, equations, visualizations and narrative text. Uses include: data cleaning and transformation, numerical simulation, statistical modeling, data visualization, machine learning, and much more.\"\n",
    "\n",
    "[Project Jupyter](https://jupyter.org/)\n",
    "\n",
    "**Este** documento es un Jupyter Notebook."
   ]
  },
  {
   "cell_type": "markdown",
   "metadata": {},
   "source": "### Estructura en Celdas"
  },
  {
   "cell_type": "markdown",
   "metadata": {},
   "source": [
    "Un Jupyter Notebook se compone de celdas ordenadas secuencialmente. Estas celdas pueden ser de dos tipos:\n",
    "\n",
    "- Markdown\n",
    "- Code\n",
    "\n",
    "Las celdas de tipo `Raw NBConvert` sirven un propósito muy específico y las ignoraremos. Las celdas de tipo `Heading`ya no se usan y siguen en el menú para soportar Notebooks escritos con versiones antiguas de Jupyter."
   ]
  },
  {
   "cell_type": "markdown",
   "metadata": {},
   "source": [
    "#### Markdown"
   ]
  },
  {
   "cell_type": "markdown",
   "metadata": {},
   "source": [
    "Una celda, como esta o las anteriores es de markdown, arriba en los botones de herramientas hay una lista desplegable que dice *Markdown*.\n",
    "\n",
    "Markdown es una forma de *marcar* texto para que tenga un formato, por ejemplo:\n",
    "\n",
    "- *cursiva*\n",
    "- **negrita**\n",
    "- las viñetas de esta lista\n",
    "- `formato para código`\n",
    "\n",
    "Haz doble click en esta celda par ver su contenido. Para volver a ver el texto formateado, haz CTRL-Enter.\n",
    "\n",
    "Markdown tiene muchas más posibilidades, ver por ejemplo https://www.markdownguide.org\n",
    "\n",
    "Aunque se vea muy sencillo, markdown es una muy buena alternativa para escribir todo tipo de documentación. Es una alternativa moderna y universal a los procesadores de texto tradicionales."
   ]
  },
  {
   "cell_type": "markdown",
   "metadata": {},
   "source": [
    "#### Code"
   ]
  },
  {
   "cell_type": "markdown",
   "metadata": {},
   "source": [
    "En una celda también se pueden ingresar instrucciones en Python (y muchos otros lenguajes) que se pueden ejecutar, por ejemplo:"
   ]
  },
  {
   "cell_type": "code",
   "metadata": {
    "ExecuteTime": {
     "end_time": "2024-08-24T11:41:15.317682Z",
     "start_time": "2024-08-24T11:41:15.309584Z"
    }
   },
   "source": [
    " 2 + 3"
   ],
   "outputs": [
    {
     "data": {
      "text/plain": [
       "5"
      ]
     },
     "execution_count": 1,
     "metadata": {},
     "output_type": "execute_result"
    }
   ],
   "execution_count": 1
  },
  {
   "cell_type": "markdown",
   "metadata": {},
   "source": [
    "Se puede observar que la celda anterior es de tipo *Code*. Para ver su contenido haz doble click sobre ella, para volver a ver el resultado, haz CTRL-Enter."
   ]
  },
  {
   "cell_type": "markdown",
   "metadata": {},
   "source": [
    "### Lenguajes de Programación"
   ]
  },
  {
   "cell_type": "markdown",
   "metadata": {},
   "source": [
    "Aunque existen formas para utilizar más de un lenguaje de programación en un mismo notebook, lo más usual, es utilizar sólo uno. Los lenguajes más comunes son (en este orden):\n",
    "\n",
    "- Python\n",
    "- R\n",
    "- Julia\n",
    "\n",
    "La capacidad de un Jupyter Notebook de ejecutar código se encuentra en el *kernel*. Arriba a mano derecha podemos observar que este notebook está utilizando un *kernel* de Python 3.\n",
    "\n",
    "[Python2 versus Python3](https://www.programaenpython.com/miscelanea/diferencias-entre-python-2-y-3/)\n",
    "\n",
    "En este curso utilizaremos exclusivamente Python 3."
   ]
  },
  {
   "cell_type": "markdown",
   "metadata": {},
   "source": [
    "### Instalar Jupyter y Python en Windows"
   ]
  },
  {
   "cell_type": "markdown",
   "metadata": {},
   "source": [
    "Existen varias formas de instalar Python y Jupyter en Windows. La que yo recomiendo para empezar es `miniconda`.\n",
    "\n",
    "[Miniconda](https://docs.conda.io/en/latest/miniconda.html)\n",
    "\n",
    "En este [video](https://youtu.be/Cr3w4NDSJr8) encontrarán una guía paso a paso (sin sonido) para instalar Python y Jupyter en Windows 10 usando `miniconda`."
   ]
  },
  {
   "cell_type": "markdown",
   "metadata": {
    "heading_collapsed": true
   },
   "source": [
    "## Introducción a Git"
   ]
  },
  {
   "cell_type": "markdown",
   "metadata": {
    "hidden": true
   },
   "source": [
    "\"Git is a free and open source distributed version control system designed to handle everything from small to very large projects with speed and efficiency.\"\n",
    "\n",
    "[Git](https://git-scm.com/)"
   ]
  },
  {
   "cell_type": "markdown",
   "metadata": {
    "hidden": true
   },
   "source": [
    "Todos los notebooks de este curso se almacenarán en un repositorio `git` situado en [Github](www.github.com). Los alumnos podrán *clonar* el repositorio en su entorno de trabajo con el comando:\n",
    "\n",
    "- `git clone https://github.com/adiaz-efaa/intro-fin-python.git`\n",
    "\n",
    "Para ir actualizando el material, dentro del repositorio podrán ejecutar el comando:\n",
    "\n",
    "- `git pull`\n",
    "\n",
    "Se recomienda que hagan una copia del material en un directorio separado de modo que si hacen cambios en alguno de los notebooks del curso, éstos no ocasionen conflictos con las actualizaciones del curso."
   ]
  },
  {
   "cell_type": "markdown",
   "metadata": {},
   "source": "## Fundamentos de Python"
  },
  {
   "cell_type": "markdown",
   "metadata": {},
   "source": [
    "Lo que a continuación veremos es el mínimo Python requerido para poder resolver problemas reales."
   ]
  },
  {
   "cell_type": "markdown",
   "metadata": {},
   "source": [
    "### Operaciones Aritméticas"
   ]
  },
  {
   "cell_type": "markdown",
   "metadata": {},
   "source": [
    "\n",
    "Suma"
   ]
  },
  {
   "cell_type": "code",
   "metadata": {
    "ExecuteTime": {
     "end_time": "2024-08-24T11:41:15.341727Z",
     "start_time": "2024-08-24T11:41:15.338096Z"
    }
   },
   "source": [
    "1 + 5"
   ],
   "outputs": [
    {
     "data": {
      "text/plain": [
       "6"
      ]
     },
     "execution_count": 2,
     "metadata": {},
     "output_type": "execute_result"
    }
   ],
   "execution_count": 2
  },
  {
   "cell_type": "markdown",
   "metadata": {},
   "source": [
    "Multiplicación"
   ]
  },
  {
   "cell_type": "code",
   "metadata": {
    "ExecuteTime": {
     "end_time": "2024-08-24T11:41:15.476374Z",
     "start_time": "2024-08-24T11:41:15.470924Z"
    }
   },
   "source": [
    "2 * 7"
   ],
   "outputs": [
    {
     "data": {
      "text/plain": [
       "14"
      ]
     },
     "execution_count": 3,
     "metadata": {},
     "output_type": "execute_result"
    }
   ],
   "execution_count": 3
  },
  {
   "cell_type": "markdown",
   "metadata": {},
   "source": [
    "División"
   ]
  },
  {
   "cell_type": "code",
   "metadata": {
    "ExecuteTime": {
     "end_time": "2024-08-24T11:41:15.501437Z",
     "start_time": "2024-08-24T11:41:15.497706Z"
    }
   },
   "source": [
    "20 / 4"
   ],
   "outputs": [
    {
     "data": {
      "text/plain": [
       "5.0"
      ]
     },
     "execution_count": 4,
     "metadata": {},
     "output_type": "execute_result"
    }
   ],
   "execution_count": 4
  },
  {
   "cell_type": "markdown",
   "metadata": {},
   "source": [
    "División de números reales"
   ]
  },
  {
   "cell_type": "code",
   "metadata": {
    "ExecuteTime": {
     "end_time": "2024-08-24T11:41:15.542802Z",
     "start_time": "2024-08-24T11:41:15.539366Z"
    }
   },
   "source": [
    "3.14 / 2.17"
   ],
   "outputs": [
    {
     "data": {
      "text/plain": [
       "1.447004608294931"
      ]
     },
     "execution_count": 5,
     "metadata": {},
     "output_type": "execute_result"
    }
   ],
   "execution_count": 5
  },
  {
   "cell_type": "markdown",
   "metadata": {},
   "source": [
    "Cociente (cociente en una división entera)"
   ]
  },
  {
   "cell_type": "code",
   "metadata": {
    "ExecuteTime": {
     "end_time": "2024-08-24T11:41:15.609213Z",
     "start_time": "2024-08-24T11:41:15.605078Z"
    }
   },
   "source": [
    "20 // 4"
   ],
   "outputs": [
    {
     "data": {
      "text/plain": [
       "5"
      ]
     },
     "execution_count": 6,
     "metadata": {},
     "output_type": "execute_result"
    }
   ],
   "execution_count": 6
  },
  {
   "cell_type": "markdown",
   "metadata": {},
   "source": [
    "Módulo (resto de la división entera)"
   ]
  },
  {
   "cell_type": "code",
   "metadata": {
    "ExecuteTime": {
     "end_time": "2024-08-24T11:41:15.658275Z",
     "start_time": "2024-08-24T11:41:15.654850Z"
    }
   },
   "source": [
    "5 % 2"
   ],
   "outputs": [
    {
     "data": {
      "text/plain": [
       "1"
      ]
     },
     "execution_count": 7,
     "metadata": {},
     "output_type": "execute_result"
    }
   ],
   "execution_count": 7
  },
  {
   "cell_type": "markdown",
   "metadata": {},
   "source": [
    "`divmod` (cociente y resto de la división entera)"
   ]
  },
  {
   "cell_type": "code",
   "metadata": {
    "ExecuteTime": {
     "end_time": "2024-08-24T11:41:15.731877Z",
     "start_time": "2024-08-24T11:41:15.728569Z"
    }
   },
   "source": [
    "divmod(5, 2)"
   ],
   "outputs": [
    {
     "data": {
      "text/plain": [
       "(2, 1)"
      ]
     },
     "execution_count": 8,
     "metadata": {},
     "output_type": "execute_result"
    }
   ],
   "execution_count": 8
  },
  {
   "cell_type": "markdown",
   "metadata": {},
   "source": [
    "**NOTA:** el resultado `(2, 1)` es una `tuple`. Es un tipo de contenedor de datos que veremos más adelante."
   ]
  },
  {
   "cell_type": "markdown",
   "metadata": {},
   "source": [
    "### Variables"
   ]
  },
  {
   "cell_type": "markdown",
   "metadata": {},
   "source": [
    "Las variables son espacios en memoria en los que podemos almacenar datos. El nombre de la variable es el mecanismo que existe para localizar y manipular ese valor. Es como una celda en Excel, la celda `A1`, por ejemplo, es el nombre de un espacio en memoria gestionado por Excel, donde almacenamos un número, un texto o una fórmula."
   ]
  },
  {
   "cell_type": "code",
   "metadata": {
    "ExecuteTime": {
     "end_time": "2024-08-24T11:41:15.769742Z",
     "start_time": "2024-08-24T11:41:15.766659Z"
    }
   },
   "source": [
    "a = 2.0"
   ],
   "outputs": [],
   "execution_count": 9
  },
  {
   "cell_type": "code",
   "metadata": {
    "ExecuteTime": {
     "end_time": "2024-08-24T11:41:15.807407Z",
     "start_time": "2024-08-24T11:41:15.803857Z"
    }
   },
   "source": [
    "a"
   ],
   "outputs": [
    {
     "data": {
      "text/plain": [
       "2.0"
      ]
     },
     "execution_count": 10,
     "metadata": {},
     "output_type": "execute_result"
    }
   ],
   "execution_count": 10
  },
  {
   "cell_type": "code",
   "metadata": {
    "ExecuteTime": {
     "end_time": "2024-08-24T11:41:15.843813Z",
     "start_time": "2024-08-24T11:41:15.840367Z"
    }
   },
   "source": [
    "a + 1234"
   ],
   "outputs": [
    {
     "data": {
      "text/plain": [
       "1236.0"
      ]
     },
     "execution_count": 11,
     "metadata": {},
     "output_type": "execute_result"
    }
   ],
   "execution_count": 11
  },
  {
   "cell_type": "markdown",
   "metadata": {},
   "source": [
    "Las variables tienen un tipo que indica el tipo del datos almacenado en esa variable."
   ]
  },
  {
   "cell_type": "code",
   "metadata": {
    "ExecuteTime": {
     "end_time": "2024-08-24T11:41:15.887556Z",
     "start_time": "2024-08-24T11:41:15.883664Z"
    }
   },
   "source": [
    "type(a)"
   ],
   "outputs": [
    {
     "data": {
      "text/plain": [
       "float"
      ]
     },
     "execution_count": 12,
     "metadata": {},
     "output_type": "execute_result"
    }
   ],
   "execution_count": 12
  },
  {
   "cell_type": "markdown",
   "metadata": {},
   "source": [
    "Python tiene *dynamic typing*. Que significa que puedo almacenar cualquier tipo de dato en una variable."
   ]
  },
  {
   "cell_type": "code",
   "metadata": {
    "ExecuteTime": {
     "end_time": "2024-08-24T11:41:15.953497Z",
     "start_time": "2024-08-24T11:41:15.950647Z"
    }
   },
   "source": [
    "a = 2"
   ],
   "outputs": [],
   "execution_count": 13
  },
  {
   "cell_type": "code",
   "metadata": {
    "ExecuteTime": {
     "end_time": "2024-08-24T11:41:15.971513Z",
     "start_time": "2024-08-24T11:41:15.967429Z"
    }
   },
   "source": [
    "type(a)"
   ],
   "outputs": [
    {
     "data": {
      "text/plain": [
       "int"
      ]
     },
     "execution_count": 14,
     "metadata": {},
     "output_type": "execute_result"
    }
   ],
   "execution_count": 14
  },
  {
   "cell_type": "code",
   "metadata": {
    "ExecuteTime": {
     "end_time": "2024-08-24T11:41:16.011290Z",
     "start_time": "2024-08-24T11:41:16.008715Z"
    }
   },
   "source": [
    "b = 0.5 # Declaración implícita, hay que hacerla para poder usar la variable."
   ],
   "outputs": [],
   "execution_count": 15
  },
  {
   "cell_type": "code",
   "metadata": {
    "ExecuteTime": {
     "end_time": "2024-08-24T11:41:16.029382Z",
     "start_time": "2024-08-24T11:41:16.025757Z"
    }
   },
   "source": [
    "b + 1"
   ],
   "outputs": [
    {
     "data": {
      "text/plain": [
       "1.5"
      ]
     },
     "execution_count": 16,
     "metadata": {},
     "output_type": "execute_result"
    }
   ],
   "execution_count": 16
  },
  {
   "cell_type": "markdown",
   "metadata": {},
   "source": [
    "#### Tipos Numéricos"
   ]
  },
  {
   "cell_type": "code",
   "metadata": {
    "ExecuteTime": {
     "end_time": "2024-08-24T11:41:16.071701Z",
     "start_time": "2024-08-24T11:41:16.067937Z"
    }
   },
   "source": [
    "a = 4.0 # tipo float. Número con decimales.\n",
    "type(a)"
   ],
   "outputs": [
    {
     "data": {
      "text/plain": [
       "float"
      ]
     },
     "execution_count": 17,
     "metadata": {},
     "output_type": "execute_result"
    }
   ],
   "execution_count": 17
  },
  {
   "cell_type": "code",
   "metadata": {
    "ExecuteTime": {
     "end_time": "2024-08-24T11:41:16.115243Z",
     "start_time": "2024-08-24T11:41:16.111232Z"
    }
   },
   "source": [
    "b = 4 # tipo int. Número sin decimales.\n",
    "type(b)"
   ],
   "outputs": [
    {
     "data": {
      "text/plain": [
       "int"
      ]
     },
     "execution_count": 18,
     "metadata": {},
     "output_type": "execute_result"
    }
   ],
   "execution_count": 18
  },
  {
   "cell_type": "markdown",
   "metadata": {},
   "source": [
    "#### Tipo de Texto"
   ]
  },
  {
   "cell_type": "markdown",
   "metadata": {},
   "source": [
    "Esto se llama `string`, una cadena de caracteres de texto"
   ]
  },
  {
   "cell_type": "code",
   "metadata": {
    "ExecuteTime": {
     "end_time": "2024-08-24T11:41:16.158655Z",
     "start_time": "2024-08-24T11:41:16.155035Z"
    }
   },
   "source": [
    "c = \"¡Hola \"\n",
    "type(c)"
   ],
   "outputs": [
    {
     "data": {
      "text/plain": [
       "str"
      ]
     },
     "execution_count": 19,
     "metadata": {},
     "output_type": "execute_result"
    }
   ],
   "execution_count": 19
  },
  {
   "cell_type": "code",
   "metadata": {
    "ExecuteTime": {
     "end_time": "2024-08-24T11:41:16.219934Z",
     "start_time": "2024-08-24T11:41:16.216502Z"
    }
   },
   "source": [
    "d = \"Mundo!\"\n",
    "type(d)"
   ],
   "outputs": [
    {
     "data": {
      "text/plain": [
       "str"
      ]
     },
     "execution_count": 20,
     "metadata": {},
     "output_type": "execute_result"
    }
   ],
   "execution_count": 20
  },
  {
   "cell_type": "markdown",
   "metadata": {},
   "source": [
    "#### Tipo Lógico"
   ]
  },
  {
   "cell_type": "markdown",
   "metadata": {},
   "source": [
    "Existen las variables de tipo `bool` que sirven para almacenar los valores `True` y `False`."
   ]
  },
  {
   "cell_type": "code",
   "metadata": {
    "ExecuteTime": {
     "end_time": "2024-08-24T11:41:16.267107Z",
     "start_time": "2024-08-24T11:41:16.263112Z"
    }
   },
   "source": [
    "e = True\n",
    "type(e)"
   ],
   "outputs": [
    {
     "data": {
      "text/plain": [
       "bool"
      ]
     },
     "execution_count": 21,
     "metadata": {},
     "output_type": "execute_result"
    }
   ],
   "execution_count": 21
  },
  {
   "cell_type": "code",
   "metadata": {
    "ExecuteTime": {
     "end_time": "2024-08-24T11:41:16.312797Z",
     "start_time": "2024-08-24T11:41:16.309497Z"
    }
   },
   "source": [
    "e"
   ],
   "outputs": [
    {
     "data": {
      "text/plain": [
       "True"
      ]
     },
     "execution_count": 22,
     "metadata": {},
     "output_type": "execute_result"
    }
   ],
   "execution_count": 22
  },
  {
   "cell_type": "code",
   "metadata": {
    "ExecuteTime": {
     "end_time": "2024-08-24T11:41:16.372378Z",
     "start_time": "2024-08-24T11:41:16.369740Z"
    }
   },
   "source": [
    "adv = (b > 1)"
   ],
   "outputs": [],
   "execution_count": 23
  },
  {
   "cell_type": "code",
   "metadata": {
    "ExecuteTime": {
     "end_time": "2024-08-24T11:41:16.391434Z",
     "start_time": "2024-08-24T11:41:16.388123Z"
    }
   },
   "source": [
    "adv"
   ],
   "outputs": [
    {
     "data": {
      "text/plain": [
       "True"
      ]
     },
     "execution_count": 24,
     "metadata": {},
     "output_type": "execute_result"
    }
   ],
   "execution_count": 24
  },
  {
   "cell_type": "markdown",
   "metadata": {},
   "source": [
    "#### Más Tipos"
   ]
  },
  {
   "cell_type": "markdown",
   "metadata": {},
   "source": [
    "Combinando los tipos anteriores y los contenedores que veremos más adelante se pueden crear tipos de variables más complicados."
   ]
  },
  {
   "cell_type": "markdown",
   "metadata": {},
   "source": [
    "### Operaciones con Variables"
   ]
  },
  {
   "cell_type": "markdown",
   "metadata": {},
   "source": [
    "Con las variables de tipo numérico podemos efectuar las operaciones aritméticas usuales."
   ]
  },
  {
   "cell_type": "code",
   "metadata": {
    "ExecuteTime": {
     "end_time": "2024-08-24T11:41:16.440733Z",
     "start_time": "2024-08-24T11:41:16.437562Z"
    }
   },
   "source": [
    "a"
   ],
   "outputs": [
    {
     "data": {
      "text/plain": [
       "4.0"
      ]
     },
     "execution_count": 25,
     "metadata": {},
     "output_type": "execute_result"
    }
   ],
   "execution_count": 25
  },
  {
   "cell_type": "code",
   "metadata": {
    "ExecuteTime": {
     "end_time": "2024-08-24T11:41:16.479658Z",
     "start_time": "2024-08-24T11:41:16.476184Z"
    }
   },
   "source": [
    "b"
   ],
   "outputs": [
    {
     "data": {
      "text/plain": [
       "4"
      ]
     },
     "execution_count": 26,
     "metadata": {},
     "output_type": "execute_result"
    }
   ],
   "execution_count": 26
  },
  {
   "cell_type": "code",
   "metadata": {
    "ExecuteTime": {
     "end_time": "2024-08-24T11:41:16.536495Z",
     "start_time": "2024-08-24T11:41:16.532414Z"
    }
   },
   "source": [
    "a + b"
   ],
   "outputs": [
    {
     "data": {
      "text/plain": [
       "8.0"
      ]
     },
     "execution_count": 27,
     "metadata": {},
     "output_type": "execute_result"
    }
   ],
   "execution_count": 27
  },
  {
   "cell_type": "code",
   "metadata": {
    "ExecuteTime": {
     "end_time": "2024-08-24T11:41:16.577090Z",
     "start_time": "2024-08-24T11:41:16.573554Z"
    }
   },
   "source": [
    "a / b"
   ],
   "outputs": [
    {
     "data": {
      "text/plain": [
       "1.0"
      ]
     },
     "execution_count": 28,
     "metadata": {},
     "output_type": "execute_result"
    }
   ],
   "execution_count": 28
  },
  {
   "cell_type": "code",
   "metadata": {
    "ExecuteTime": {
     "end_time": "2024-08-24T11:41:16.642499Z",
     "start_time": "2024-08-24T11:41:16.639066Z"
    }
   },
   "source": [
    "a * b"
   ],
   "outputs": [
    {
     "data": {
      "text/plain": [
       "16.0"
      ]
     },
     "execution_count": 29,
     "metadata": {},
     "output_type": "execute_result"
    }
   ],
   "execution_count": 29
  },
  {
   "cell_type": "code",
   "metadata": {
    "ExecuteTime": {
     "end_time": "2024-08-24T11:41:16.687159Z",
     "start_time": "2024-08-24T11:41:16.683516Z"
    }
   },
   "source": [
    " a // b"
   ],
   "outputs": [
    {
     "data": {
      "text/plain": [
       "1.0"
      ]
     },
     "execution_count": 30,
     "metadata": {},
     "output_type": "execute_result"
    }
   ],
   "execution_count": 30
  },
  {
   "cell_type": "code",
   "metadata": {
    "ExecuteTime": {
     "end_time": "2024-08-24T11:41:16.761985Z",
     "start_time": "2024-08-24T11:41:16.758442Z"
    }
   },
   "source": [
    "a % b"
   ],
   "outputs": [
    {
     "data": {
      "text/plain": [
       "0.0"
      ]
     },
     "execution_count": 31,
     "metadata": {},
     "output_type": "execute_result"
    }
   ],
   "execution_count": 31
  },
  {
   "cell_type": "code",
   "metadata": {
    "ExecuteTime": {
     "end_time": "2024-08-24T11:41:16.802757Z",
     "start_time": "2024-08-24T11:41:16.799312Z"
    }
   },
   "source": [
    "divmod(a, b)"
   ],
   "outputs": [
    {
     "data": {
      "text/plain": [
       "(1.0, 0.0)"
      ]
     },
     "execution_count": 32,
     "metadata": {},
     "output_type": "execute_result"
    }
   ],
   "execution_count": 32
  },
  {
   "cell_type": "markdown",
   "metadata": {},
   "source": [
    "Los `string` se pueden *sumar*, que en este caso significa concatenar."
   ]
  },
  {
   "cell_type": "code",
   "metadata": {
    "ExecuteTime": {
     "end_time": "2024-08-24T11:41:16.847439Z",
     "start_time": "2024-08-24T11:41:16.843442Z"
    }
   },
   "source": [
    "c + d"
   ],
   "outputs": [
    {
     "data": {
      "text/plain": [
       "'¡Hola Mundo!'"
      ]
     },
     "execution_count": 33,
     "metadata": {},
     "output_type": "execute_result"
    }
   ],
   "execution_count": 33
  },
  {
   "cell_type": "markdown",
   "metadata": {},
   "source": [
    "Un `string` se escribe entre \"\", pero también se puede usar ''. Ver por ejemplo el *output* de la celda anterior."
   ]
  },
  {
   "cell_type": "code",
   "metadata": {
    "ExecuteTime": {
     "end_time": "2024-08-24T11:41:16.889719Z",
     "start_time": "2024-08-24T11:41:16.887219Z"
    }
   },
   "source": [
    "apodo = \"El 'Rata'\""
   ],
   "outputs": [],
   "execution_count": 34
  },
  {
   "cell_type": "code",
   "metadata": {
    "ExecuteTime": {
     "end_time": "2024-08-24T11:41:16.918176Z",
     "start_time": "2024-08-24T11:41:16.915671Z"
    }
   },
   "source": [
    "e = 'Chao no más '"
   ],
   "outputs": [],
   "execution_count": 35
  },
  {
   "cell_type": "code",
   "metadata": {
    "ExecuteTime": {
     "end_time": "2024-08-24T11:41:16.940421Z",
     "start_time": "2024-08-24T11:41:16.936459Z"
    }
   },
   "source": [
    "e + d"
   ],
   "outputs": [
    {
     "data": {
      "text/plain": [
       "'Chao no más Mundo!'"
      ]
     },
     "execution_count": 36,
     "metadata": {},
     "output_type": "execute_result"
    }
   ],
   "execution_count": 36
  },
  {
   "cell_type": "markdown",
   "metadata": {},
   "source": [
    "Lo que sigue no se puede hacer, no se puede sumar un número con un `string` porque la operación no está definida. Fijarse bien en lo que dice después de `TypeError:`."
   ]
  },
  {
   "cell_type": "code",
   "metadata": {
    "ExecuteTime": {
     "end_time": "2024-08-24T11:41:16.969031Z",
     "start_time": "2024-08-24T11:41:16.965987Z"
    }
   },
   "source": [
    "try:\n",
    "    a + c\n",
    "except Exception as e:\n",
    "    print(e)"
   ],
   "outputs": [
    {
     "name": "stdout",
     "output_type": "stream",
     "text": [
      "unsupported operand type(s) for +: 'float' and 'str'\n"
     ]
    }
   ],
   "execution_count": 37
  },
  {
   "cell_type": "markdown",
   "metadata": {},
   "source": [
    "Sin embargo, podemos convertir el número en un `string` y después de eso sumar."
   ]
  },
  {
   "cell_type": "code",
   "metadata": {
    "ExecuteTime": {
     "end_time": "2024-08-24T11:41:17.035238Z",
     "start_time": "2024-08-24T11:41:17.031681Z"
    }
   },
   "source": [
    "str(a)"
   ],
   "outputs": [
    {
     "data": {
      "text/plain": [
       "'4.0'"
      ]
     },
     "execution_count": 38,
     "metadata": {},
     "output_type": "execute_result"
    }
   ],
   "execution_count": 38
  },
  {
   "cell_type": "code",
   "metadata": {
    "scrolled": true,
    "ExecuteTime": {
     "end_time": "2024-08-24T11:41:17.087661Z",
     "start_time": "2024-08-24T11:41:17.084282Z"
    }
   },
   "source": [
    "str(a) + c"
   ],
   "outputs": [
    {
     "data": {
      "text/plain": [
       "'4.0¡Hola '"
      ]
     },
     "execution_count": 39,
     "metadata": {},
     "output_type": "execute_result"
    }
   ],
   "execution_count": 39
  },
  {
   "cell_type": "markdown",
   "metadata": {},
   "source": [
    "También se pueden realizar otras conversiones entre tipos."
   ]
  },
  {
   "cell_type": "code",
   "metadata": {
    "ExecuteTime": {
     "end_time": "2024-08-24T11:41:17.132946Z",
     "start_time": "2024-08-24T11:41:17.129456Z"
    }
   },
   "source": [
    "int(a)"
   ],
   "outputs": [
    {
     "data": {
      "text/plain": [
       "4"
      ]
     },
     "execution_count": 40,
     "metadata": {},
     "output_type": "execute_result"
    }
   ],
   "execution_count": 40
  },
  {
   "cell_type": "markdown",
   "metadata": {},
   "source": [
    "Ojo con esta que sí se puede."
   ]
  },
  {
   "cell_type": "code",
   "metadata": {
    "ExecuteTime": {
     "end_time": "2024-08-24T11:41:17.169655Z",
     "start_time": "2024-08-24T11:41:17.165970Z"
    }
   },
   "source": [
    "numero = '4'\n",
    "numero"
   ],
   "outputs": [
    {
     "data": {
      "text/plain": [
       "'4'"
      ]
     },
     "execution_count": 41,
     "metadata": {},
     "output_type": "execute_result"
    }
   ],
   "execution_count": 41
  },
  {
   "cell_type": "code",
   "metadata": {
    "ExecuteTime": {
     "end_time": "2024-08-24T11:41:17.249382Z",
     "start_time": "2024-08-24T11:41:17.245580Z"
    }
   },
   "source": [
    "int(numero)"
   ],
   "outputs": [
    {
     "data": {
      "text/plain": [
       "4"
      ]
     },
     "execution_count": 42,
     "metadata": {},
     "output_type": "execute_result"
    }
   ],
   "execution_count": 42
  },
  {
   "cell_type": "markdown",
   "metadata": {},
   "source": [
    "Notar la diferencia con la conversión anterior."
   ]
  },
  {
   "cell_type": "code",
   "metadata": {
    "ExecuteTime": {
     "end_time": "2024-08-24T11:41:17.307883Z",
     "start_time": "2024-08-24T11:41:17.304410Z"
    }
   },
   "source": [
    "float(numero)"
   ],
   "outputs": [
    {
     "data": {
      "text/plain": [
       "4.0"
      ]
     },
     "execution_count": 43,
     "metadata": {},
     "output_type": "execute_result"
    }
   ],
   "execution_count": 43
  },
  {
   "cell_type": "markdown",
   "metadata": {},
   "source": [
    "Esta no se puede."
   ]
  },
  {
   "cell_type": "code",
   "metadata": {
    "ExecuteTime": {
     "end_time": "2024-08-24T11:41:17.349921Z",
     "start_time": "2024-08-24T11:41:17.346605Z"
    }
   },
   "source": [
    "cuatro = 'four'\n",
    "cuatro"
   ],
   "outputs": [
    {
     "data": {
      "text/plain": [
       "'four'"
      ]
     },
     "execution_count": 44,
     "metadata": {},
     "output_type": "execute_result"
    }
   ],
   "execution_count": 44
  },
  {
   "cell_type": "code",
   "metadata": {
    "ExecuteTime": {
     "end_time": "2024-08-24T11:41:17.406362Z",
     "start_time": "2024-08-24T11:41:17.403073Z"
    }
   },
   "source": [
    "try:\n",
    "    int(cuatro)\n",
    "except Exception as e:\n",
    "    print(e)"
   ],
   "outputs": [
    {
     "name": "stdout",
     "output_type": "stream",
     "text": [
      "invalid literal for int() with base 10: 'four'\n"
     ]
    }
   ],
   "execution_count": 45
  },
  {
   "cell_type": "code",
   "metadata": {
    "ExecuteTime": {
     "end_time": "2024-08-24T11:41:17.476300Z",
     "start_time": "2024-08-24T11:41:17.473403Z"
    }
   },
   "source": [
    "try:\n",
    "    float(cuatro)\n",
    "except Exception as e:\n",
    "    print(e)"
   ],
   "outputs": [
    {
     "name": "stdout",
     "output_type": "stream",
     "text": [
      "could not convert string to float: 'four'\n"
     ]
    }
   ],
   "execution_count": 46
  },
  {
   "cell_type": "markdown",
   "metadata": {},
   "source": [
    "### La Función `print`"
   ]
  },
  {
   "cell_type": "markdown",
   "metadata": {},
   "source": [
    "En un Jupyter notebook se puede ver inmediatamente el resultado de una operación o el valor de una expresión. Sin embargo, en otros contextos (que veremos más adelante), para imprimir valores en pantalla se usa la función `print`."
   ]
  },
  {
   "cell_type": "markdown",
   "metadata": {},
   "source": [
    "Al hacer CTRL-Enter en la celda siguiente Jupyter muestra el valor que resulta de evaluar la expresión b + c. Notar que está entre ''."
   ]
  },
  {
   "cell_type": "code",
   "metadata": {
    "ExecuteTime": {
     "end_time": "2024-08-24T11:41:17.510498Z",
     "start_time": "2024-08-24T11:41:17.507178Z"
    }
   },
   "source": [
    "c + d"
   ],
   "outputs": [
    {
     "data": {
      "text/plain": [
       "'¡Hola Mundo!'"
      ]
     },
     "execution_count": 47,
     "metadata": {},
     "output_type": "execute_result"
    }
   ],
   "execution_count": 47
  },
  {
   "cell_type": "markdown",
   "metadata": {},
   "source": [
    "Al hacer `print` desaparecen las '' o las \"\", la función está hecha para mostrar texto por pantalla bien formateado."
   ]
  },
  {
   "cell_type": "code",
   "metadata": {
    "ExecuteTime": {
     "end_time": "2024-08-24T11:41:17.576517Z",
     "start_time": "2024-08-24T11:41:17.573654Z"
    }
   },
   "source": [
    "print(c + d)"
   ],
   "outputs": [
    {
     "name": "stdout",
     "output_type": "stream",
     "text": [
      "¡Hola Mundo!\n"
     ]
    }
   ],
   "execution_count": 48
  },
  {
   "cell_type": "code",
   "metadata": {
    "ExecuteTime": {
     "end_time": "2024-08-24T11:41:17.610869Z",
     "start_time": "2024-08-24T11:41:17.608075Z"
    }
   },
   "source": [
    "print(\"Tengo hambre\")"
   ],
   "outputs": [
    {
     "name": "stdout",
     "output_type": "stream",
     "text": [
      "Tengo hambre\n"
     ]
    }
   ],
   "execution_count": 49
  },
  {
   "cell_type": "code",
   "metadata": {
    "ExecuteTime": {
     "end_time": "2024-08-24T11:41:17.677574Z",
     "start_time": "2024-08-24T11:41:17.674148Z"
    }
   },
   "source": [
    "\"Tengo hambre\""
   ],
   "outputs": [
    {
     "data": {
      "text/plain": [
       "'Tengo hambre'"
      ]
     },
     "execution_count": 50,
     "metadata": {},
     "output_type": "execute_result"
    }
   ],
   "execution_count": 50
  },
  {
   "cell_type": "markdown",
   "metadata": {},
   "source": [
    "#### Formatear Strings"
   ]
  },
  {
   "cell_type": "code",
   "metadata": {
    "ExecuteTime": {
     "end_time": "2024-08-24T11:41:17.708421Z",
     "start_time": "2024-08-24T11:41:17.705658Z"
    }
   },
   "source": [
    "nemotecnico = 'BTU0210750'"
   ],
   "outputs": [],
   "execution_count": 51
  },
  {
   "cell_type": "code",
   "metadata": {
    "ExecuteTime": {
     "end_time": "2024-08-24T11:41:17.748125Z",
     "start_time": "2024-08-24T11:41:17.745597Z"
    }
   },
   "source": [
    "tasa = .021"
   ],
   "outputs": [],
   "execution_count": 52
  },
  {
   "cell_type": "code",
   "metadata": {
    "ExecuteTime": {
     "end_time": "2024-08-24T11:41:17.768848Z",
     "start_time": "2024-08-24T11:41:17.765917Z"
    }
   },
   "source": [
    "frase = \"La tasa de emisión del bono {} es de {}\""
   ],
   "outputs": [],
   "execution_count": 53
  },
  {
   "cell_type": "code",
   "metadata": {
    "ExecuteTime": {
     "end_time": "2024-08-24T11:41:17.792834Z",
     "start_time": "2024-08-24T11:41:17.789345Z"
    }
   },
   "source": [
    "frase.format(nemotecnico, tasa)"
   ],
   "outputs": [
    {
     "data": {
      "text/plain": [
       "'La tasa de emisión del bono BTU0210750 es de 0.021'"
      ]
     },
     "execution_count": 54,
     "metadata": {},
     "output_type": "execute_result"
    }
   ],
   "execution_count": 54
  },
  {
   "cell_type": "markdown",
   "metadata": {},
   "source": [
    "Podemos darle mejor formato a la tasa."
   ]
  },
  {
   "cell_type": "code",
   "metadata": {
    "ExecuteTime": {
     "end_time": "2024-08-24T11:41:17.841011Z",
     "start_time": "2024-08-24T11:41:17.837458Z"
    }
   },
   "source": [
    "frase = \"La tasa de emisión del bono {} es de {:.2%}\"\n",
    "frase.format(nemotecnico, tasa)"
   ],
   "outputs": [
    {
     "data": {
      "text/plain": [
       "'La tasa de emisión del bono BTU0210750 es de 2.10%'"
      ]
     },
     "execution_count": 55,
     "metadata": {},
     "output_type": "execute_result"
    }
   ],
   "execution_count": 55
  },
  {
   "cell_type": "markdown",
   "metadata": {},
   "source": [
    "El mismo resultado se puede obtener usando `fstrings`, que hoy en día es lo más usado."
   ]
  },
  {
   "cell_type": "code",
   "metadata": {
    "ExecuteTime": {
     "end_time": "2024-08-24T11:41:17.880998Z",
     "start_time": "2024-08-24T11:41:17.877080Z"
    }
   },
   "source": [
    "f\"La tasa de emisión del bono {nemotecnico} es de {tasa:.2%}\""
   ],
   "outputs": [
    {
     "data": {
      "text/plain": [
       "'La tasa de emisión del bono BTU0210750 es de 2.10%'"
      ]
     },
     "execution_count": 56,
     "metadata": {},
     "output_type": "execute_result"
    }
   ],
   "execution_count": 56
  },
  {
   "cell_type": "markdown",
   "metadata": {},
   "source": [
    "Un `fstring` también se puede almacenar en una variable."
   ]
  },
  {
   "cell_type": "code",
   "metadata": {
    "ExecuteTime": {
     "end_time": "2024-08-24T11:41:17.905124Z",
     "start_time": "2024-08-24T11:41:17.902339Z"
    }
   },
   "source": [
    "fstr = f\"La tasa de emisión del bono {nemotecnico} es de {tasa:.2%}\""
   ],
   "outputs": [],
   "execution_count": 57
  },
  {
   "cell_type": "markdown",
   "metadata": {},
   "source": [
    "Y utilizar en la función `print`."
   ]
  },
  {
   "cell_type": "code",
   "metadata": {
    "ExecuteTime": {
     "end_time": "2024-08-24T11:41:17.939816Z",
     "start_time": "2024-08-24T11:41:17.936973Z"
    }
   },
   "source": [
    "print(fstr)"
   ],
   "outputs": [
    {
     "name": "stdout",
     "output_type": "stream",
     "text": [
      "La tasa de emisión del bono BTU0210750 es de 2.10%\n"
     ]
    }
   ],
   "execution_count": 58
  }
 ],
 "metadata": {
  "hide_input": false,
  "kernelspec": {
   "display_name": "Python 3",
   "language": "python",
   "name": "python3"
  },
  "language_info": {
   "codemirror_mode": {
    "name": "ipython",
    "version": 3
   },
   "file_extension": ".py",
   "mimetype": "text/x-python",
   "name": "python",
   "nbconvert_exporter": "python",
   "pygments_lexer": "ipython3",
   "version": "3.7.3"
  },
  "toc": {
   "base_numbering": 1,
   "nav_menu": {},
   "number_sections": true,
   "sideBar": true,
   "skip_h1_title": true,
   "title_cell": "Table of Contents",
   "title_sidebar": "Contenido",
   "toc_cell": false,
   "toc_position": {
    "height": "calc(100% - 180px)",
    "left": "10px",
    "top": "150px",
    "width": "310px"
   },
   "toc_section_display": true,
   "toc_window_display": true
  }
 },
 "nbformat": 4,
 "nbformat_minor": 4
}
