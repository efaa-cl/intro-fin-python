{
 "cells": [
  {
   "metadata": {},
   "cell_type": "markdown",
   "source": "# Contenedores, Funciones, Loops"
  },
  {
   "metadata": {},
   "cell_type": "markdown",
   "source": [
    "- Contenedores `Tuple`\n",
    "- Funciones\n",
    "- La Instrucción `for`\n",
    "- Nociones Adicionales"
   ]
  },
  {
   "cell_type": "markdown",
   "metadata": {},
   "source": [
    "## Introducción"
   ]
  },
  {
   "cell_type": "markdown",
   "metadata": {},
   "source": "Tratemos de hacer algo útil con lo que ya sabemos. Por ejemplo, calculemos el promedio de los resultados diarios en trading en una semana. Supongamos entonces que los resultados son los siguientes (en una unidad monetaria cualquiera): 100, 110, -150, 200, 250. Para calcular el promedio, tenemos que sumar los 5 resultados y dividirlos por 5. Hagamos ese cálculo en la siguiente celda."
  },
  {
   "cell_type": "code",
   "execution_count": 1,
   "metadata": {
    "ExecuteTime": {
     "end_time": "2021-07-21T23:59:06.863675Z",
     "start_time": "2021-07-21T23:59:06.844845Z"
    }
   },
   "outputs": [
    {
     "data": {
      "text/plain": [
       "102.0"
      ]
     },
     "execution_count": 1,
     "metadata": {},
     "output_type": "execute_result"
    }
   ],
   "source": [
    "(100 + 110 - 150 + 200 + 250) / 5"
   ]
  },
  {
   "cell_type": "markdown",
   "metadata": {},
   "source": [
    "Tenemos el resultado, pero no hicimos nada muy astuto, simplemente utilizamos Python como si fuera una calculadora. Vamos mejorando de a poco, el objetivo es construir una pequeña herramienta (que será una función) que nos permita calcular lo más cómodamente posible el promedio de un conjunto de datos."
   ]
  },
  {
   "cell_type": "markdown",
   "metadata": {},
   "source": [
    "## Cada Resultado es una Variable"
   ]
  },
  {
   "cell_type": "markdown",
   "metadata": {},
   "source": [
    "Asignamos cada nota a una variable:"
   ]
  },
  {
   "cell_type": "code",
   "execution_count": 2,
   "metadata": {
    "ExecuteTime": {
     "end_time": "2021-07-22T00:00:31.798011Z",
     "start_time": "2021-07-22T00:00:31.791790Z"
    }
   },
   "outputs": [],
   "source": [
    "res1 = 100\n",
    "res2 = 110\n",
    "res3 = -150\n",
    "res4 = 200\n",
    "res5 = 250"
   ]
  },
  {
   "cell_type": "markdown",
   "metadata": {},
   "source": [
    "Sólo ahí calculamos el promedio:"
   ]
  },
  {
   "cell_type": "code",
   "execution_count": 3,
   "metadata": {
    "ExecuteTime": {
     "end_time": "2021-07-22T00:00:42.485015Z",
     "start_time": "2021-07-22T00:00:42.472507Z"
    }
   },
   "outputs": [
    {
     "data": {
      "text/plain": [
       "102.0"
      ]
     },
     "execution_count": 3,
     "metadata": {},
     "output_type": "execute_result"
    }
   ],
   "source": [
    "(res1 + res2 + res3 + res4 + res5) / 5"
   ]
  },
  {
   "cell_type": "markdown",
   "metadata": {},
   "source": [
    "¿Qué ganamos con esto? Un poco más de generalidad, si cambia el valor de un resultdo, sólo tenemos que cambiar el valor asignado a la variable que le corresponde. Por ejemplo, si `res1` sube a 120 haremos lo siguiente:"
   ]
  },
  {
   "cell_type": "code",
   "execution_count": 4,
   "metadata": {
    "ExecuteTime": {
     "end_time": "2021-07-22T00:01:03.618268Z",
     "start_time": "2021-07-22T00:01:03.612690Z"
    }
   },
   "outputs": [],
   "source": [
    "res1 = 120"
   ]
  },
  {
   "cell_type": "code",
   "execution_count": 5,
   "metadata": {
    "ExecuteTime": {
     "end_time": "2021-07-22T00:01:06.032321Z",
     "start_time": "2021-07-22T00:01:06.021212Z"
    }
   },
   "outputs": [
    {
     "data": {
      "text/plain": [
       "106.0"
      ]
     },
     "execution_count": 5,
     "metadata": {},
     "output_type": "execute_result"
    }
   ],
   "source": [
    "(res1 + res2 + res3 + res4 + res5) / 5"
   ]
  },
  {
   "cell_type": "markdown",
   "metadata": {},
   "source": [
    "¿Qué pasa si ahora son más resultados? Por ejemplo, queremos calcular el promedio de 2 semanas. En ese caso podríamos hacer lo siguiente para calcular el promedio:"
   ]
  },
  {
   "cell_type": "code",
   "execution_count": 6,
   "metadata": {
    "ExecuteTime": {
     "end_time": "2021-07-22T00:01:37.093663Z",
     "start_time": "2021-07-22T00:01:37.082440Z"
    }
   },
   "outputs": [],
   "source": [
    "res6 = 115\n",
    "res7 = -200\n",
    "res8 = -120\n",
    "res9 = 200\n",
    "res10 = 50"
   ]
  },
  {
   "cell_type": "code",
   "execution_count": 8,
   "metadata": {
    "ExecuteTime": {
     "end_time": "2021-07-22T00:03:21.986325Z",
     "start_time": "2021-07-22T00:03:21.969306Z"
    }
   },
   "outputs": [
    {
     "data": {
      "text/plain": [
       "57.5"
      ]
     },
     "execution_count": 8,
     "metadata": {},
     "output_type": "execute_result"
    }
   ],
   "source": [
    "(res1 + res2 + res3 + res4 + res5 + res6 + res7 + res8 + res9 + res10) / 10"
   ]
  },
  {
   "cell_type": "markdown",
   "metadata": {},
   "source": [
    "Resulta, pero no es muy general, si después quisiéramos el resultado promedio del mes tendríamos que agregar unas 10 variables más y dividir por 20. Además, todo eso lo haríamos a mano (una manera de pensar en la generalidad de la herramienta que queremos diseñar es considerar el trabajo adicional que hay que hacer para calcular un nuevo caso)."
   ]
  },
  {
   "cell_type": "markdown",
   "metadata": {},
   "source": [
    "## Las Variables de Tipo `List`"
   ]
  },
  {
   "cell_type": "markdown",
   "metadata": {},
   "source": [
    "Una `List` es simplemente una lista de valores, pueden ser números, strings u otros tipos. Incluso, una `List` puede contener una `List`. Veamos ejemplos:"
   ]
  },
  {
   "cell_type": "code",
   "execution_count": 9,
   "metadata": {
    "ExecuteTime": {
     "end_time": "2021-07-22T00:04:55.844504Z",
     "start_time": "2021-07-22T00:04:55.831629Z"
    }
   },
   "outputs": [
    {
     "data": {
      "text/plain": [
       "[22, 36, 41, 52]"
      ]
     },
     "execution_count": 9,
     "metadata": {},
     "output_type": "execute_result"
    }
   ],
   "source": [
    "edades = [22, 36, 41, 52]\n",
    "edades"
   ]
  },
  {
   "cell_type": "code",
   "execution_count": 10,
   "metadata": {
    "ExecuteTime": {
     "end_time": "2021-07-22T00:05:23.738687Z",
     "start_time": "2021-07-22T00:05:23.727472Z"
    }
   },
   "outputs": [
    {
     "data": {
      "text/plain": [
       "list"
      ]
     },
     "execution_count": 10,
     "metadata": {},
     "output_type": "execute_result"
    }
   ],
   "source": [
    "type(edades)"
   ]
  },
  {
   "cell_type": "code",
   "execution_count": 11,
   "metadata": {
    "ExecuteTime": {
     "end_time": "2021-07-22T00:05:51.724882Z",
     "start_time": "2021-07-22T00:05:51.719331Z"
    }
   },
   "outputs": [
    {
     "data": {
      "text/plain": [
       "['Pedro', 'Pablo', 'Perez', 'Pereira']"
      ]
     },
     "execution_count": 11,
     "metadata": {},
     "output_type": "execute_result"
    }
   ],
   "source": [
    "nombres_apellidos = [\"Pedro\", \"Pablo\", \"Perez\", \"Pereira\"]\n",
    "nombres_apellidos"
   ]
  },
  {
   "cell_type": "code",
   "execution_count": 12,
   "metadata": {
    "ExecuteTime": {
     "end_time": "2021-07-22T00:06:09.239495Z",
     "start_time": "2021-07-22T00:06:09.217587Z"
    }
   },
   "outputs": [
    {
     "data": {
      "text/plain": [
       "['Juan', 75, 'Claudia', 42]"
      ]
     },
     "execution_count": 12,
     "metadata": {},
     "output_type": "execute_result"
    }
   ],
   "source": [
    "nombres_edades = [\"Juan\", 75, \"Claudia\", 42] # es un contenedor heterogéneo\n",
    "nombres_edades"
   ]
  },
  {
   "cell_type": "markdown",
   "metadata": {},
   "source": [
    "Los elementos de una lista se cuentan desde el 0 en adelante. Por ejemplo, en `edades` la edad 0 es 22, la número 1 es 36, la número 2 es 41 y la número 3 es 52.\n",
    "\n",
    "Se puede obtener un elemento de una lista de la siguiente forma:"
   ]
  },
  {
   "cell_type": "code",
   "execution_count": 13,
   "metadata": {
    "ExecuteTime": {
     "end_time": "2021-07-22T00:08:08.657686Z",
     "start_time": "2021-07-22T00:08:08.639214Z"
    }
   },
   "outputs": [
    {
     "data": {
      "text/plain": [
       "22"
      ]
     },
     "execution_count": 13,
     "metadata": {},
     "output_type": "execute_result"
    }
   ],
   "source": [
    "edades[0] # Se parte contando desde 0. El primer elemento es el número 0."
   ]
  },
  {
   "cell_type": "code",
   "execution_count": 16,
   "metadata": {
    "ExecuteTime": {
     "end_time": "2021-07-22T00:08:23.625488Z",
     "start_time": "2021-07-22T00:08:23.614114Z"
    }
   },
   "outputs": [
    {
     "data": {
      "text/plain": [
       "52"
      ]
     },
     "execution_count": 16,
     "metadata": {},
     "output_type": "execute_result"
    }
   ],
   "source": [
    "edades[3]"
   ]
  },
  {
   "cell_type": "markdown",
   "metadata": {},
   "source": [
    "Se puede cambiar el valor de un elemento de una `List`."
   ]
  },
  {
   "cell_type": "code",
   "execution_count": 17,
   "metadata": {
    "ExecuteTime": {
     "end_time": "2021-07-22T00:08:57.396737Z",
     "start_time": "2021-07-22T00:08:57.389826Z"
    }
   },
   "outputs": [
    {
     "data": {
      "text/plain": [
       "[22, 36, 41, 66]"
      ]
     },
     "execution_count": 17,
     "metadata": {},
     "output_type": "execute_result"
    }
   ],
   "source": [
    "edades[3] = 66 # Las List son mutables. Significa que, después de ser definidas, pueden cambiar.\n",
    "edades"
   ]
  },
  {
   "cell_type": "markdown",
   "metadata": {},
   "source": [
    "Si trato de obtener un elemento que no existe, voy a obtener un error:"
   ]
  },
  {
   "cell_type": "code",
   "execution_count": 18,
   "metadata": {
    "ExecuteTime": {
     "end_time": "2021-07-22T00:09:40.240270Z",
     "start_time": "2021-07-22T00:09:40.158933Z"
    }
   },
   "outputs": [
    {
     "ename": "IndexError",
     "evalue": "list index out of range",
     "output_type": "error",
     "traceback": [
      "\u001B[0;31m---------------------------------------------------------------------------\u001B[0m",
      "\u001B[0;31mIndexError\u001B[0m                                Traceback (most recent call last)",
      "\u001B[0;32m<ipython-input-18-39672be49d9e>\u001B[0m in \u001B[0;36m<module>\u001B[0;34m\u001B[0m\n\u001B[0;32m----> 1\u001B[0;31m \u001B[0medades\u001B[0m\u001B[0;34m[\u001B[0m\u001B[0;36m4\u001B[0m\u001B[0;34m]\u001B[0m\u001B[0;34m\u001B[0m\u001B[0;34m\u001B[0m\u001B[0m\n\u001B[0m",
      "\u001B[0;31mIndexError\u001B[0m: list index out of range"
     ]
    }
   ],
   "source": [
    "edades[4]"
   ]
  },
  {
   "cell_type": "markdown",
   "metadata": {},
   "source": [
    "Fijarse bien en el mensaje de error `IndexError: list index out of range`, está diciendo que el índice que usamos (en este caso 4) está fuera de rango, o sea la lista **no tiene** un elemento de índice 4."
   ]
  },
  {
   "cell_type": "markdown",
   "metadata": {},
   "source": [
    "Podemos alargar una lista:"
   ]
  },
  {
   "cell_type": "code",
   "execution_count": 19,
   "metadata": {
    "ExecuteTime": {
     "end_time": "2021-07-22T00:10:39.390110Z",
     "start_time": "2021-07-22T00:10:39.365523Z"
    }
   },
   "outputs": [
    {
     "data": {
      "text/plain": [
       "[22, 36, 41, 66]"
      ]
     },
     "execution_count": 19,
     "metadata": {},
     "output_type": "execute_result"
    }
   ],
   "source": [
    "edades"
   ]
  },
  {
   "cell_type": "code",
   "execution_count": 20,
   "metadata": {
    "ExecuteTime": {
     "end_time": "2021-07-22T00:10:56.147854Z",
     "start_time": "2021-07-22T00:10:56.140052Z"
    }
   },
   "outputs": [
    {
     "data": {
      "text/plain": [
       "[22, 36, 41, 66, 76]"
      ]
     },
     "execution_count": 20,
     "metadata": {},
     "output_type": "execute_result"
    }
   ],
   "source": [
    "edades.append(76) # append = agregar a la cola\n",
    "edades"
   ]
  },
  {
   "cell_type": "markdown",
   "metadata": {},
   "source": [
    "Es segunda vez que vemos la notación \".\" (`notas.append`). Por ahora no vamos a explicar su significado completo (es parte de lo relacionado a programación orientada a objetos), pero podemos pensar que `append` es una función que se puede aplicar a una variable de tipo `List` y que permite agregar un valor a esa variable."
   ]
  },
  {
   "cell_type": "markdown",
   "metadata": {},
   "source": [
    "¿Qué ganamos con tener las variables en una `List`? Hay un par de funciones que nos ayudan a hacer más general el cálculo de promedio:"
   ]
  },
  {
   "cell_type": "code",
   "execution_count": 21,
   "metadata": {
    "ExecuteTime": {
     "end_time": "2021-07-22T00:13:04.751774Z",
     "start_time": "2021-07-22T00:13:04.743832Z"
    }
   },
   "outputs": [
    {
     "data": {
      "text/plain": [
       "241"
      ]
     },
     "execution_count": 21,
     "metadata": {},
     "output_type": "execute_result"
    }
   ],
   "source": [
    "sum(edades) # Sólo resulta con List que sólo contengan números."
   ]
  },
  {
   "cell_type": "markdown",
   "metadata": {},
   "source": [
    "Con la función `sum` podemos obtener la suma de los elementos de la lista, si la `List` sólo contiene números, con otro tipo de elementos se va a producir un error."
   ]
  },
  {
   "cell_type": "code",
   "execution_count": 22,
   "metadata": {
    "ExecuteTime": {
     "end_time": "2021-07-22T00:13:44.652575Z",
     "start_time": "2021-07-22T00:13:44.628541Z"
    }
   },
   "outputs": [
    {
     "ename": "TypeError",
     "evalue": "unsupported operand type(s) for +: 'int' and 'str'",
     "output_type": "error",
     "traceback": [
      "\u001B[0;31m---------------------------------------------------------------------------\u001B[0m",
      "\u001B[0;31mTypeError\u001B[0m                                 Traceback (most recent call last)",
      "\u001B[0;32m<ipython-input-22-3ca1c3249b9a>\u001B[0m in \u001B[0;36m<module>\u001B[0;34m\u001B[0m\n\u001B[0;32m----> 1\u001B[0;31m \u001B[0msum\u001B[0m\u001B[0;34m(\u001B[0m\u001B[0mnombres_apellidos\u001B[0m\u001B[0;34m)\u001B[0m\u001B[0;34m\u001B[0m\u001B[0;34m\u001B[0m\u001B[0m\n\u001B[0m",
      "\u001B[0;31mTypeError\u001B[0m: unsupported operand type(s) for +: 'int' and 'str'"
     ]
    }
   ],
   "source": [
    "sum(nombres_apellidos)"
   ]
  },
  {
   "cell_type": "markdown",
   "metadata": {},
   "source": [
    "También tenemos la función `len` que cacula el número de elementos de una `List`."
   ]
  },
  {
   "cell_type": "code",
   "execution_count": 23,
   "metadata": {
    "ExecuteTime": {
     "end_time": "2021-07-22T00:14:09.285476Z",
     "start_time": "2021-07-22T00:14:09.273038Z"
    }
   },
   "outputs": [
    {
     "data": {
      "text/plain": [
       "5"
      ]
     },
     "execution_count": 23,
     "metadata": {},
     "output_type": "execute_result"
    }
   ],
   "source": [
    "len(edades) # Funciona con cualquier List"
   ]
  },
  {
   "cell_type": "markdown",
   "metadata": {},
   "source": [
    "Con estas dos funciones, el cálculo del promedio se puede escribir como:"
   ]
  },
  {
   "cell_type": "code",
   "execution_count": 24,
   "metadata": {
    "ExecuteTime": {
     "end_time": "2021-07-22T00:14:40.799892Z",
     "start_time": "2021-07-22T00:14:40.791810Z"
    }
   },
   "outputs": [
    {
     "data": {
      "text/plain": [
       "48.2"
      ]
     },
     "execution_count": 24,
     "metadata": {},
     "output_type": "execute_result"
    }
   ],
   "source": [
    "sum(edades) / len(edades)"
   ]
  },
  {
   "cell_type": "markdown",
   "metadata": {},
   "source": [
    "Verifiquémoslo:"
   ]
  },
  {
   "cell_type": "code",
   "execution_count": 25,
   "metadata": {
    "ExecuteTime": {
     "end_time": "2021-07-22T00:14:48.565976Z",
     "start_time": "2021-07-22T00:14:48.561684Z"
    }
   },
   "outputs": [
    {
     "data": {
      "text/plain": [
       "[22, 36, 41, 66, 76]"
      ]
     },
     "execution_count": 25,
     "metadata": {},
     "output_type": "execute_result"
    }
   ],
   "source": [
    "edades"
   ]
  },
  {
   "cell_type": "code",
   "execution_count": 26,
   "metadata": {
    "ExecuteTime": {
     "end_time": "2021-07-22T00:14:58.119376Z",
     "start_time": "2021-07-22T00:14:58.112219Z"
    }
   },
   "outputs": [
    {
     "data": {
      "text/plain": [
       "48.2"
      ]
     },
     "execution_count": 26,
     "metadata": {},
     "output_type": "execute_result"
    }
   ],
   "source": [
    "(22 + 36 + 41 + 66 + 76) / 5"
   ]
  },
  {
   "cell_type": "markdown",
   "metadata": {},
   "source": [
    "¡Impecable! Funciona como queríamos. Nos va faltando un elemento, ¿podemos dejar guardado en una variable el **cálculo de promedio**? Así lo podemos reutilizar sin tener que volver a escribirlo. La respuesta es sí, tenemos que definir una función."
   ]
  },
  {
   "cell_type": "markdown",
   "metadata": {
    "heading_collapsed": true
   },
   "source": [
    "## Las Variables de Tipo `Tuple`"
   ]
  },
  {
   "cell_type": "markdown",
   "metadata": {
    "hidden": true
   },
   "source": [
    "Una `Tuple` también es una lista de valores, pueden ser números, strings u otros tipos. Incluso, una `Tuple` puede contener una `Tuple`. La diferencia con una `List` es que las variables de tipo `Tuple` son inmutables, una vez que se definen, no pueden cambiar.\n",
    "\n",
    "\n",
    "Veamos ejemplos:"
   ]
  },
  {
   "cell_type": "code",
   "execution_count": 40,
   "metadata": {
    "ExecuteTime": {
     "end_time": "2021-07-19T16:49:21.658222Z",
     "start_time": "2021-07-19T16:49:21.653999Z"
    },
    "hidden": true
   },
   "outputs": [
    {
     "data": {
      "text/plain": [
       "(22, 36, 41, 52)"
      ]
     },
     "execution_count": 40,
     "metadata": {},
     "output_type": "execute_result"
    }
   ],
   "source": [
    "edades = (22, 36, 41, 52) # <--- Notar que se usan () y no []\n",
    "edades"
   ]
  },
  {
   "cell_type": "code",
   "execution_count": 41,
   "metadata": {
    "ExecuteTime": {
     "end_time": "2021-07-19T16:49:31.379739Z",
     "start_time": "2021-07-19T16:49:31.375508Z"
    },
    "hidden": true
   },
   "outputs": [
    {
     "data": {
      "text/plain": [
       "('Pedro', 'Pablo', 'Perez', 'Pereira')"
      ]
     },
     "execution_count": 41,
     "metadata": {},
     "output_type": "execute_result"
    }
   ],
   "source": [
    "nombres_apellidos = (\"Pedro\", \"Pablo\", \"Perez\", \"Pereira\")\n",
    "nombres_apellidos"
   ]
  },
  {
   "cell_type": "code",
   "execution_count": 42,
   "metadata": {
    "ExecuteTime": {
     "end_time": "2021-07-19T16:49:43.672885Z",
     "start_time": "2021-07-19T16:49:43.668725Z"
    },
    "hidden": true
   },
   "outputs": [
    {
     "data": {
      "text/plain": [
       "('Juan', 75, 'Claudia', 42)"
      ]
     },
     "execution_count": 42,
     "metadata": {},
     "output_type": "execute_result"
    }
   ],
   "source": [
    "nombres_edades = (\"Juan\", 75, \"Claudia\", 42) # es un contenedor heterogéneo\n",
    "nombres_edades"
   ]
  },
  {
   "cell_type": "markdown",
   "metadata": {
    "hidden": true
   },
   "source": [
    "Las `Tuple` son inmutables:"
   ]
  },
  {
   "cell_type": "code",
   "execution_count": 43,
   "metadata": {
    "ExecuteTime": {
     "end_time": "2021-07-19T16:50:31.447228Z",
     "start_time": "2021-07-19T16:50:31.440485Z"
    },
    "hidden": true
   },
   "outputs": [
    {
     "ename": "TypeError",
     "evalue": "'tuple' object does not support item assignment",
     "output_type": "error",
     "traceback": [
      "\u001B[0;31m---------------------------------------------------------------------------\u001B[0m",
      "\u001B[0;31mTypeError\u001B[0m                                 Traceback (most recent call last)",
      "\u001B[0;32m<ipython-input-43-057c74ed62c5>\u001B[0m in \u001B[0;36m<module>\u001B[0;34m\u001B[0m\n\u001B[0;32m----> 1\u001B[0;31m \u001B[0medades\u001B[0m\u001B[0;34m[\u001B[0m\u001B[0;36m0\u001B[0m\u001B[0;34m]\u001B[0m \u001B[0;34m=\u001B[0m \u001B[0;36m23\u001B[0m\u001B[0;34m\u001B[0m\u001B[0;34m\u001B[0m\u001B[0m\n\u001B[0m",
      "\u001B[0;31mTypeError\u001B[0m: 'tuple' object does not support item assignment"
     ]
    }
   ],
   "source": [
    "edades[0] = 23"
   ]
  },
  {
   "cell_type": "markdown",
   "metadata": {
    "hidden": true
   },
   "source": [
    "Si quiero cambiar un valor, tengo que redefinir el contenido de toda la variable."
   ]
  },
  {
   "cell_type": "code",
   "execution_count": 44,
   "metadata": {
    "ExecuteTime": {
     "end_time": "2021-07-19T16:51:30.423582Z",
     "start_time": "2021-07-19T16:51:30.419808Z"
    },
    "hidden": true
   },
   "outputs": [],
   "source": [
    "edades = (23, 36, 41, 52)"
   ]
  },
  {
   "cell_type": "markdown",
   "metadata": {
    "hidden": true
   },
   "source": [
    "Tampoco se puede agregar un valor."
   ]
  },
  {
   "cell_type": "code",
   "execution_count": 61,
   "metadata": {
    "ExecuteTime": {
     "end_time": "2021-07-19T16:59:37.612911Z",
     "start_time": "2021-07-19T16:59:37.603917Z"
    },
    "hidden": true
   },
   "outputs": [
    {
     "ename": "AttributeError",
     "evalue": "'tuple' object has no attribute 'append'",
     "output_type": "error",
     "traceback": [
      "\u001B[0;31m---------------------------------------------------------------------------\u001B[0m",
      "\u001B[0;31mAttributeError\u001B[0m                            Traceback (most recent call last)",
      "\u001B[0;32m<ipython-input-61-90054cd3b677>\u001B[0m in \u001B[0;36m<module>\u001B[0;34m\u001B[0m\n\u001B[0;32m----> 1\u001B[0;31m \u001B[0medades\u001B[0m\u001B[0;34m.\u001B[0m\u001B[0mappend\u001B[0m\u001B[0;34m(\u001B[0m\u001B[0;36m60\u001B[0m\u001B[0;34m)\u001B[0m\u001B[0;34m\u001B[0m\u001B[0;34m\u001B[0m\u001B[0m\n\u001B[0m",
      "\u001B[0;31mAttributeError\u001B[0m: 'tuple' object has no attribute 'append'"
     ]
    }
   ],
   "source": [
    "edades.append(60)"
   ]
  },
  {
   "cell_type": "markdown",
   "metadata": {
    "heading_collapsed": true
   },
   "source": [
    "## Funciones"
   ]
  },
  {
   "cell_type": "markdown",
   "metadata": {
    "hidden": true
   },
   "source": [
    "En matemáticas decimos que una función $f:X \\rightarrow Y$ es una *regla de cálculo* que asocia a cada $x \\in X$ un elemento $y \\in Y$. El primer tipo de función que aprendemos es una función lineal $L: \\mathbb{R} \\rightarrow \\mathbb{R}$, por ejemplo:\n",
    "\n",
    "$$L(x) = 2x + 3$$"
   ]
  },
  {
   "cell_type": "markdown",
   "metadata": {
    "hidden": true
   },
   "source": [
    "La primera que función que vamos a crear será la función $promedio: List[Number] \\rightarrow Number$. O sea, una función que a cada `List` que sólo tenga números como elementos asocia un número."
   ]
  },
  {
   "cell_type": "code",
   "execution_count": 27,
   "metadata": {
    "ExecuteTime": {
     "end_time": "2021-07-22T00:20:12.554154Z",
     "start_time": "2021-07-22T00:20:12.524781Z"
    },
    "hidden": true
   },
   "outputs": [],
   "source": [
    "def promedio(numeros):\n",
    "    return sum(numeros) / len(numeros)"
   ]
  },
  {
   "cell_type": "code",
   "execution_count": 28,
   "metadata": {
    "ExecuteTime": {
     "end_time": "2021-07-22T00:20:34.690058Z",
     "start_time": "2021-07-22T00:20:34.677743Z"
    },
    "hidden": true
   },
   "outputs": [
    {
     "data": {
      "text/plain": [
       "function"
      ]
     },
     "execution_count": 28,
     "metadata": {},
     "output_type": "execute_result"
    }
   ],
   "source": [
    "type(promedio)"
   ]
  },
  {
   "cell_type": "markdown",
   "metadata": {
    "hidden": true
   },
   "source": [
    "Fijarse bien en los 4 espacios que hay antes de la línea `return`, son indispensables, si no están se producirá un error. Al haber **declarado** la función `promedio` en la línea anterior, Python espera que en la línea siguiente comience la **definición** de la función, dicha definición tiene que que estar en líneas **indentadas** (con una sangría) de 4 espacios. Después del `return` se puede volver a escribir alineado a la izquierda sin indentación."
   ]
  },
  {
   "cell_type": "code",
   "execution_count": 31,
   "metadata": {
    "ExecuteTime": {
     "end_time": "2021-07-22T00:23:24.987800Z",
     "start_time": "2021-07-22T00:23:24.981274Z"
    },
    "hidden": true
   },
   "outputs": [
    {
     "ename": "IndentationError",
     "evalue": "expected an indented block (<ipython-input-31-448e236ccfd3>, line 2)",
     "output_type": "error",
     "traceback": [
      "\u001B[0;36m  File \u001B[0;32m\"<ipython-input-31-448e236ccfd3>\"\u001B[0;36m, line \u001B[0;32m2\u001B[0m\n\u001B[0;31m    return sum(numeros) / len(numeros)\u001B[0m\n\u001B[0m         ^\u001B[0m\n\u001B[0;31mIndentationError\u001B[0m\u001B[0;31m:\u001B[0m expected an indented block\n"
     ]
    }
   ],
   "source": [
    "def promedio_malo(numeros):\n",
    "return sum(numeros) / len(numeros)"
   ]
  },
  {
   "cell_type": "markdown",
   "metadata": {
    "hidden": true
   },
   "source": [
    "Para definir una función:\n",
    "\n",
    "- partimos con `def`,\n",
    "- luego un espacio y el nombre que queremos darle a la función\n",
    "- luego, entre paréntesis, el nombre del argumento de la función\n",
    "- al final de esa línea un \":\"\n",
    "- las líneas que vienen tienen que partir con 4 espacios (Jupyter las mete automáticamente)\n",
    "- la última línea de la función comienza con `return` ahí se define el resultado de aplicar la función a su argumento"
   ]
  },
  {
   "cell_type": "markdown",
   "metadata": {
    "hidden": true
   },
   "source": [
    "Hagamos la prueba,"
   ]
  },
  {
   "cell_type": "code",
   "execution_count": 32,
   "metadata": {
    "ExecuteTime": {
     "end_time": "2021-07-22T00:24:52.722118Z",
     "start_time": "2021-07-22T00:24:52.716238Z"
    },
    "hidden": true
   },
   "outputs": [
    {
     "data": {
      "text/plain": [
       "48.2"
      ]
     },
     "execution_count": 32,
     "metadata": {},
     "output_type": "execute_result"
    }
   ],
   "source": [
    "promedio(edades)"
   ]
  },
  {
   "cell_type": "markdown",
   "metadata": {
    "hidden": true
   },
   "source": [
    "Por último, podemos lograr que el output sea un formato más ordenado usando la instrucción `format` o un `fstring`."
   ]
  },
  {
   "cell_type": "code",
   "execution_count": 39,
   "metadata": {
    "ExecuteTime": {
     "end_time": "2021-07-22T00:26:43.940740Z",
     "start_time": "2021-07-22T00:26:43.934506Z"
    },
    "hidden": true
   },
   "outputs": [],
   "source": [
    "mensaje = \"El promedio de edades es: {0:.2f}\" # Lo que está entre {} indica que ahí va una variable,\n",
    "                                             # el 0 indica que es la primera los : separan el número\n",
    "                                             # de variable de su formato para imprimir y la expresión\n",
    "                                             # .2f indica que se imprimirá con 2 decimales (f de flotante)."
   ]
  },
  {
   "cell_type": "markdown",
   "metadata": {
    "hidden": true
   },
   "source": [
    "Si hacemos directamente `print(mensaje)` obtenemos:"
   ]
  },
  {
   "cell_type": "code",
   "execution_count": 40,
   "metadata": {
    "ExecuteTime": {
     "end_time": "2021-07-22T00:26:44.455742Z",
     "start_time": "2021-07-22T00:26:44.451442Z"
    },
    "hidden": true
   },
   "outputs": [
    {
     "name": "stdout",
     "output_type": "stream",
     "text": [
      "El promedio de edades es: {0:.2f}\n"
     ]
    }
   ],
   "source": [
    "print(mensaje)"
   ]
  },
  {
   "cell_type": "markdown",
   "metadata": {
    "hidden": true
   },
   "source": [
    "Al aplicar `format` se obtiene:"
   ]
  },
  {
   "cell_type": "code",
   "execution_count": 41,
   "metadata": {
    "ExecuteTime": {
     "end_time": "2021-07-22T00:26:45.345919Z",
     "start_time": "2021-07-22T00:26:45.338478Z"
    },
    "hidden": true
   },
   "outputs": [
    {
     "name": "stdout",
     "output_type": "stream",
     "text": [
      "El promedio de edades es: 48.20\n"
     ]
    }
   ],
   "source": [
    "print(mensaje.format(promedio(edades)))"
   ]
  },
  {
   "cell_type": "markdown",
   "metadata": {
    "hidden": true
   },
   "source": [
    "Hagamos lo mismo, pero con un `fstring`."
   ]
  },
  {
   "cell_type": "code",
   "execution_count": 42,
   "metadata": {
    "ExecuteTime": {
     "end_time": "2021-07-22T00:26:59.364870Z",
     "start_time": "2021-07-22T00:26:59.359560Z"
    },
    "hidden": true
   },
   "outputs": [],
   "source": [
    "mensaje2 = f\"El promedio de edades es: {promedio(edades):.2f}\""
   ]
  },
  {
   "cell_type": "code",
   "execution_count": 43,
   "metadata": {
    "ExecuteTime": {
     "end_time": "2021-07-22T00:27:02.451953Z",
     "start_time": "2021-07-22T00:27:02.435810Z"
    },
    "hidden": true
   },
   "outputs": [
    {
     "name": "stdout",
     "output_type": "stream",
     "text": [
      "El promedio de edades es: 48.20\n"
     ]
    }
   ],
   "source": [
    "print(mensaje2)"
   ]
  },
  {
   "cell_type": "markdown",
   "metadata": {
    "hidden": true
   },
   "source": [
    "### Ejercicios"
   ]
  },
  {
   "cell_type": "markdown",
   "metadata": {
    "hidden": true
   },
   "source": [
    "No mirar las soluciones antes de haber tratado de resolver los ejercicios. Si después de tratar un rato no lo has resuelto, sí se puede mirar la solución, pero si lo haces antes de tratar, la respuesta entrará por una oreja y saldrá por la otra."
   ]
  },
  {
   "cell_type": "markdown",
   "metadata": {
    "hidden": true
   },
   "source": [
    "#### Ejercicio"
   ]
  },
  {
   "cell_type": "markdown",
   "metadata": {
    "hidden": true,
    "solution2": "hidden",
    "solution2_first": true
   },
   "source": [
    "Escriba una función en Python que implemente la siguiente función matemática $f: \\mathbb{R} \\rightarrow \\mathbb{R}$, $f(x) = 2x+3$."
   ]
  },
  {
   "cell_type": "code",
   "execution_count": null,
   "metadata": {
    "ExecuteTime": {
     "end_time": "2021-07-19T16:35:09.762723Z",
     "start_time": "2021-07-19T16:35:09.455Z"
    },
    "hidden": true,
    "solution2": "hidden"
   },
   "outputs": [],
   "source": [
    "def f(x):\n",
    "    return 2*x + 3"
   ]
  },
  {
   "cell_type": "code",
   "execution_count": null,
   "metadata": {
    "ExecuteTime": {
     "end_time": "2021-07-19T16:35:09.763597Z",
     "start_time": "2021-07-19T16:35:09.456Z"
    },
    "hidden": true,
    "solution2": "hidden"
   },
   "outputs": [],
   "source": [
    "x = [2, 2.7]\n",
    "print(\"El valor de f calculada en {} es: {}\".format(x[0], f(x[0])))\n",
    "print(\"El valor de f calculada en {} es: {}\".format(x[1], f(x[1])))"
   ]
  },
  {
   "cell_type": "markdown",
   "metadata": {
    "hidden": true
   },
   "source": [
    "#### Ejercicio"
   ]
  },
  {
   "cell_type": "markdown",
   "metadata": {
    "hidden": true,
    "solution2": "hidden",
    "solution2_first": true
   },
   "source": [
    "Escriba una función en Python que implemente la siguiente función matemática $g: \\mathbb{R^2} \\rightarrow \\mathbb{R}$, $g(x,y) = 2x+3y+1$."
   ]
  },
  {
   "cell_type": "code",
   "execution_count": 50,
   "metadata": {
    "ExecuteTime": {
     "end_time": "2021-07-19T16:54:56.844714Z",
     "start_time": "2021-07-19T16:54:56.840730Z"
    },
    "hidden": true,
    "solution2": "hidden"
   },
   "outputs": [],
   "source": [
    "def g(x, y):\n",
    "    return 2*x +3*y + 1"
   ]
  },
  {
   "cell_type": "markdown",
   "metadata": {},
   "source": [
    "## La Instrucción `for`"
   ]
  },
  {
   "cell_type": "markdown",
   "metadata": {},
   "source": [
    "Consideremos la siguiente situación, tenemos una posición en un depósito a plazo en CLP que vence en 365 días más y queremos sensibilizar el valor del depósito para varias tasas de descuento."
   ]
  },
  {
   "cell_type": "code",
   "execution_count": 44,
   "metadata": {
    "ExecuteTime": {
     "end_time": "2021-07-22T00:32:00.332816Z",
     "start_time": "2021-07-22T00:32:00.325174Z"
    }
   },
   "outputs": [],
   "source": [
    "monto = 1000000000\n",
    "plazo = 365\n",
    "tasas = [.01, .0125, .015, .0175, .02] # Tasas lineales Act360."
   ]
  },
  {
   "cell_type": "markdown",
   "metadata": {},
   "source": [
    "La instrucción `for` nos permite recorrer secuencialmente la `List` tasas y calcular el valor presente del depósito para cada uno de los valores ahí almacenados."
   ]
  },
  {
   "cell_type": "code",
   "execution_count": 45,
   "metadata": {
    "ExecuteTime": {
     "end_time": "2021-07-22T00:32:03.802925Z",
     "start_time": "2021-07-22T00:32:03.793634Z"
    }
   },
   "outputs": [
    {
     "name": "stdout",
     "output_type": "stream",
     "text": [
      "El valor del depósito para una tasa del 1.00% es: 989,962,876\n",
      "El valor del depósito para una tasa del 1.25% es: 987,484,999\n",
      "El valor del depósito para una tasa del 1.50% es: 985,019,495\n",
      "El valor del depósito para una tasa del 1.75% es: 982,566,272\n",
      "El valor del depósito para una tasa del 2.00% es: 980,125,238\n"
     ]
    }
   ],
   "source": [
    "for tasa in tasas: # <--- Notar la indentación en la línea siguiente.\n",
    "    print(f\"El valor del depósito para una tasa del {tasa:,.2%} es: {monto / (1 + tasa * plazo / 360):,.0f}\")"
   ]
  },
  {
   "cell_type": "markdown",
   "metadata": {},
   "source": [
    "Podemos definir una función que almacene estos resultados en una `List` y retorne esa `List`."
   ]
  },
  {
   "cell_type": "code",
   "execution_count": 46,
   "metadata": {
    "ExecuteTime": {
     "end_time": "2021-07-22T00:33:10.735448Z",
     "start_time": "2021-07-22T00:33:10.727509Z"
    }
   },
   "outputs": [],
   "source": [
    "def sens_depo(monto, plazo, tasas):\n",
    "    resultado = []\n",
    "    for tasa in tasas:\n",
    "        resultado.append(monto / (1 + tasa * plazo / 360))\n",
    "    return resultado"
   ]
  },
  {
   "cell_type": "code",
   "execution_count": 47,
   "metadata": {
    "ExecuteTime": {
     "end_time": "2021-07-22T00:33:14.852299Z",
     "start_time": "2021-07-22T00:33:14.843779Z"
    }
   },
   "outputs": [
    {
     "data": {
      "text/plain": [
       "[989962876.3921353,\n",
       " 987484999.1428081,\n",
       " 985019495.1775088,\n",
       " 982566272.0480366,\n",
       " 980125238.2248843]"
      ]
     },
     "execution_count": 47,
     "metadata": {},
     "output_type": "execute_result"
    }
   ],
   "source": [
    "sens_depo(monto, plazo, tasas)"
   ]
  },
  {
   "cell_type": "markdown",
   "metadata": {},
   "source": [
    "## Nociones Adicionales"
   ]
  },
  {
   "cell_type": "markdown",
   "metadata": {},
   "source": [
    "En Python un string (tipo `str`) se comporta como una `Tuple` de caracteres de texto. Por ejemplo,"
   ]
  },
  {
   "cell_type": "code",
   "execution_count": 51,
   "metadata": {
    "ExecuteTime": {
     "end_time": "2021-07-19T16:54:59.409215Z",
     "start_time": "2021-07-19T16:54:59.405357Z"
    }
   },
   "outputs": [],
   "source": [
    "str1 = \"Python\""
   ]
  },
  {
   "cell_type": "markdown",
   "metadata": {},
   "source": [
    "Es inmutable."
   ]
  },
  {
   "cell_type": "code",
   "execution_count": 48,
   "metadata": {
    "ExecuteTime": {
     "end_time": "2021-07-19T16:53:45.806824Z",
     "start_time": "2021-07-19T16:53:45.797379Z"
    }
   },
   "outputs": [
    {
     "ename": "TypeError",
     "evalue": "'str' object does not support item assignment",
     "output_type": "error",
     "traceback": [
      "\u001B[0;31m---------------------------------------------------------------------------\u001B[0m",
      "\u001B[0;31mTypeError\u001B[0m                                 Traceback (most recent call last)",
      "\u001B[0;32m<ipython-input-48-11281795b35c>\u001B[0m in \u001B[0;36m<module>\u001B[0;34m\u001B[0m\n\u001B[0;32m----> 1\u001B[0;31m \u001B[0mstr1\u001B[0m\u001B[0;34m[\u001B[0m\u001B[0;36m0\u001B[0m\u001B[0;34m]\u001B[0m \u001B[0;34m=\u001B[0m \u001B[0;34m'p'\u001B[0m\u001B[0;34m\u001B[0m\u001B[0;34m\u001B[0m\u001B[0m\n\u001B[0m",
      "\u001B[0;31mTypeError\u001B[0m: 'str' object does not support item assignment"
     ]
    }
   ],
   "source": [
    "str1[0] = 'p'"
   ]
  },
  {
   "cell_type": "markdown",
   "metadata": {},
   "source": [
    "Puedo obtener el caracter en la posición `n` igual que en una `Tuple` (o una `List`)."
   ]
  },
  {
   "cell_type": "code",
   "execution_count": 52,
   "metadata": {
    "ExecuteTime": {
     "end_time": "2021-07-19T16:55:06.885224Z",
     "start_time": "2021-07-19T16:55:06.877616Z"
    }
   },
   "outputs": [
    {
     "name": "stdout",
     "output_type": "stream",
     "text": [
      "El valor de g calculada en (2, 1.3) es: 8.9\n",
      "El valor de g calculada en (2.7, 3.14) es: 15.82\n"
     ]
    }
   ],
   "source": [
    "x = [2, 2.7]\n",
    "y = (1.3, 3.14)\n",
    "print(\"El valor de g calculada en ({}, {}) es: {}\".format(x[0], y[0], g(x[0], y[0])))\n",
    "print(\"El valor de g calculada en ({}, {}) es: {}\".format(x[1], y[1], g(x[1], y[1])))"
   ]
  },
  {
   "cell_type": "code",
   "execution_count": 53,
   "metadata": {
    "ExecuteTime": {
     "end_time": "2021-07-19T16:55:08.910358Z",
     "start_time": "2021-07-19T16:55:08.906135Z"
    }
   },
   "outputs": [
    {
     "data": {
      "text/plain": [
       "'y'"
      ]
     },
     "execution_count": 53,
     "metadata": {},
     "output_type": "execute_result"
    }
   ],
   "source": [
    "str1[1]"
   ]
  },
  {
   "cell_type": "markdown",
   "metadata": {},
   "source": [
    "También puedo calcular el número de caracteres con la función `len`."
   ]
  },
  {
   "cell_type": "code",
   "execution_count": 54,
   "metadata": {
    "ExecuteTime": {
     "end_time": "2021-07-19T16:55:12.088364Z",
     "start_time": "2021-07-19T16:55:12.084244Z"
    }
   },
   "outputs": [
    {
     "data": {
      "text/plain": [
       "6"
      ]
     },
     "execution_count": 54,
     "metadata": {},
     "output_type": "execute_result"
    }
   ],
   "source": [
    "len(str1)"
   ]
  },
  {
   "cell_type": "markdown",
   "metadata": {},
   "source": [
    "Sin embargo, también hay funciones específicas para un `str`, como la función `format` que ya vimos y las dos funciones que mostramos a continuación:"
   ]
  },
  {
   "cell_type": "code",
   "execution_count": 55,
   "metadata": {
    "ExecuteTime": {
     "end_time": "2021-07-19T16:55:18.668133Z",
     "start_time": "2021-07-19T16:55:18.662676Z"
    }
   },
   "outputs": [
    {
     "data": {
      "text/plain": [
       "'PYTHON'"
      ]
     },
     "execution_count": 55,
     "metadata": {},
     "output_type": "execute_result"
    }
   ],
   "source": [
    "str1.upper()"
   ]
  },
  {
   "cell_type": "code",
   "execution_count": 56,
   "metadata": {
    "ExecuteTime": {
     "end_time": "2021-07-19T16:55:20.296214Z",
     "start_time": "2021-07-19T16:55:20.291818Z"
    }
   },
   "outputs": [
    {
     "data": {
      "text/plain": [
       "'python'"
      ]
     },
     "execution_count": 56,
     "metadata": {},
     "output_type": "execute_result"
    }
   ],
   "source": [
    "str1.lower()"
   ]
  },
  {
   "cell_type": "markdown",
   "metadata": {},
   "source": [
    "Existe también una funcionalidad que en inglés se llama *slice* (o rebanar) y que se aplica tanto a las `List` como  a las `str` y a las `Tuple`."
   ]
  },
  {
   "cell_type": "code",
   "execution_count": 57,
   "metadata": {
    "ExecuteTime": {
     "end_time": "2021-07-19T16:55:48.279674Z",
     "start_time": "2021-07-19T16:55:48.274661Z"
    }
   },
   "outputs": [
    {
     "name": "stdout",
     "output_type": "stream",
     "text": [
      "[1, 2, 3, 4, 5, 6, 7, 8, 9]\n",
      "[0, 1, 2]\n",
      "[0, 1, 2, 3, 4, 5, 6, 7, 8]\n",
      "[9]\n",
      "[8, 9]\n"
     ]
    }
   ],
   "source": [
    "lista = [0, 1, 2, 3, 4, 5, 6, 7, 8, 9]\n",
    "print(lista[1:])         # Desde el primero en adelante\n",
    "print(lista[0:3])        # Desde el 0 inclusive hasta el 3 no inclusive\n",
    "print(lista[:-1])        # Del primero al último no inclusive\n",
    "print(lista[-1:])        # El último\n",
    "print(lista[-2:])        # Desde el penúltimo en adelante"
   ]
  },
  {
   "cell_type": "markdown",
   "metadata": {},
   "source": [
    "También aplica a un `str`."
   ]
  },
  {
   "cell_type": "code",
   "execution_count": 58,
   "metadata": {
    "ExecuteTime": {
     "end_time": "2021-07-19T16:55:53.268366Z",
     "start_time": "2021-07-19T16:55:53.262655Z"
    }
   },
   "outputs": [
    {
     "name": "stdout",
     "output_type": "stream",
     "text": [
      "sdrújula\n",
      "esd\n",
      "esdrújul\n",
      "a\n",
      "la\n"
     ]
    }
   ],
   "source": [
    "str2 = \"esdrújula\"\n",
    "print(str2[1:])         # Desde el primero en adelante\n",
    "print(str2[0:3])        # Desde el 0 inclusive hasta el 3 no inclusive\n",
    "print(str2[:-1])        # Del primero al último no inclusive\n",
    "print(str2[-1:])        # El último\n",
    "print(str2[-2:])        # Desde el penúltimo en adelante"
   ]
  },
  {
   "cell_type": "markdown",
   "metadata": {},
   "source": [
    "Y a una `Tuple`. Notar que, en este caso, el `slice` de la `Tuple` es una `Tuple`."
   ]
  },
  {
   "cell_type": "code",
   "execution_count": 60,
   "metadata": {
    "ExecuteTime": {
     "end_time": "2021-07-19T16:56:58.458556Z",
     "start_time": "2021-07-19T16:56:58.452519Z"
    }
   },
   "outputs": [
    {
     "name": "stdout",
     "output_type": "stream",
     "text": [
      "(1, 2, 3, 4, 5, 6, 7, 8, 9)\n",
      "(0, 1, 2)\n",
      "(0, 1, 2, 3, 4, 5, 6, 7, 8)\n",
      "(9,)\n",
      "(8, 9)\n"
     ]
    }
   ],
   "source": [
    "tupla = (0, 1, 2, 3, 4, 5, 6, 7, 8, 9)\n",
    "print(tupla[1:])         # Desde el primero en adelante\n",
    "print(tupla[0:3])        # Desde el 0 inclusive hasta el 3 no inclusive\n",
    "print(tupla[:-1])        # Del primero al último no inclusive\n",
    "print(tupla[-1:])        # El último\n",
    "print(tupla[-2:])        # Desde el penúltimo en adelante"
   ]
  },
  {
   "cell_type": "markdown",
   "metadata": {},
   "source": [
    "### Ejercicio"
   ]
  },
  {
   "cell_type": "markdown",
   "metadata": {
    "solution2": "hidden",
    "solution2_first": true
   },
   "source": [
    "Escriba una función en Python que tenga como argumento un `str` (una palabra) y devuelva como resultado la `str` inicial con el primer caracter (y sólo el primer caracter) en mayúsculas."
   ]
  },
  {
   "cell_type": "code",
   "execution_count": 17,
   "metadata": {
    "ExecuteTime": {
     "end_time": "2021-07-19T16:35:09.971165Z",
     "start_time": "2021-07-19T16:35:09.967991Z"
    },
    "solution2": "hidden"
   },
   "outputs": [],
   "source": [
    "def primer_en_mayus(palabra):\n",
    "    primera_letra_mayus = palabra[0].upper()\n",
    "    resto_palabra = palabra[1:]\n",
    "    resultado = primera_letra_mayus + resto_palabra\n",
    "    return resultado"
   ]
  },
  {
   "cell_type": "code",
   "execution_count": 18,
   "metadata": {
    "ExecuteTime": {
     "end_time": "2021-07-19T16:35:09.981841Z",
     "start_time": "2021-07-19T16:35:09.973274Z"
    },
    "solution2": "hidden"
   },
   "outputs": [
    {
     "name": "stdout",
     "output_type": "stream",
     "text": [
      "esdrújula ---> Esdrújula\n",
      "onomatopeya ---> Onomatopeya\n",
      "español ---> Español\n"
     ]
    }
   ],
   "source": [
    "palabras = [str2, \"onomatopeya\", \"español\"]\n",
    "print(\"{} ---> {}\".format(palabras[0], primer_en_mayus(palabras[0])))\n",
    "print(\"{} ---> {}\".format(palabras[1], primer_en_mayus(palabras[1])))\n",
    "print(\"{} ---> {}\".format(palabras[2], primer_en_mayus(palabras[2])))"
   ]
  }
 ],
 "metadata": {
  "hide_input": false,
  "kernelspec": {
   "display_name": "Python 3",
   "language": "python",
   "name": "python3"
  },
  "language_info": {
   "codemirror_mode": {
    "name": "ipython",
    "version": 3
   },
   "file_extension": ".py",
   "mimetype": "text/x-python",
   "name": "python",
   "nbconvert_exporter": "python",
   "pygments_lexer": "ipython3",
   "version": "3.7.3"
  },
  "toc": {
   "base_numbering": 1,
   "nav_menu": {},
   "number_sections": true,
   "sideBar": true,
   "skip_h1_title": true,
   "title_cell": "Table of Contents",
   "title_sidebar": "Contenido",
   "toc_cell": false,
   "toc_position": {
    "height": "calc(100% - 180px)",
    "left": "10px",
    "top": "150px",
    "width": "226px"
   },
   "toc_section_display": true,
   "toc_window_display": true
  }
 },
 "nbformat": 4,
 "nbformat_minor": 4
}
