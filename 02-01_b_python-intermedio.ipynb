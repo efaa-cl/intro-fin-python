{
 "cells": [
  {
   "cell_type": "markdown",
   "metadata": {},
   "source": [
    "# Lectura de Data"
   ]
  },
  {
   "cell_type": "markdown",
   "metadata": {},
   "source": [
    "Hasta ahora, los datos que hemos utilizado han sido ingresados a mano. En situaciones reales esto no es lo más habitual y menos aún lo más deseable. Generalmente, los datos que se necesitan están disponibles en un archivo de texto, una planilla Excel o una base de datos.\n",
    "\n",
    "Vamos a ver como leer data almacenada en un archivo de texto."
   ]
  },
  {
   "cell_type": "markdown",
   "metadata": {},
   "source": [
    "## Leer un Archivo de Texto"
   ]
  },
  {
   "cell_type": "markdown",
   "metadata": {},
   "source": "En el archivo data/TablaDesarrolloBtu0200335.csv se ha la tabla de desarrollo del **BTU0200335**. La estructura del archivo es la siguiente:"
  },
  {
   "cell_type": "markdown",
   "metadata": {},
   "source": [
    "numero,fecha,interes,amortizacion,flujo,capital_insoluto\n",
    "\n",
    "0,01-03-15,0,0,0,100\n",
    "\n",
    "1,01-09-15,1,0,1,100\n",
    "\n",
    "2,01-03-16,1,0,1,100\n",
    "\n",
    "3,01-09-16,1,0,1,100\n",
    "\n",
    "4,01-03-17,1,0,1,100\n",
    "\n",
    "5,01-09-17,1,0,1,100"
   ]
  },
  {
   "cell_type": "markdown",
   "metadata": {},
   "source": [
    "En la celda anterior, podemos ver las 5 primeras líneas del archivo (los datos on los correctos, pero el archivo no tiene líneas vacías entre cada línea con datos).\n",
    "\n",
    "Se observa que la primera línea del archivo tiene unos títulos o encabezados, precisamente:\n",
    "\n",
    "- numero (se refiere al número del cupón)\n",
    "- fecha (se refiere a la fecha de fin de devengo del cupón. Si cae día hábil esta fecha coincide con la fecha de pago del cupón. Cuando esta fecha es inhábil, el cupón se paga al día hábil siguiente usando el valor de la UF del día hábil siguiente).\n",
    "- amortizacion\n",
    "- flujo\n",
    "- capital insoluto\n",
    "\n",
    "El significado de los 3 últimos campos es claro. Se observa también que entre título y título hay una **,** . Este caracter sirve de separador, permite a quien lee el archivo saber cuando termina un título y empieza otro.\n",
    "\n",
    "Finalmente, en las filas siguientes vemos la data propiamente tal. "
   ]
  },
  {
   "cell_type": "markdown",
   "metadata": {},
   "source": [
    "### Leer Todo el Archivo de una Vez"
   ]
  },
  {
   "cell_type": "markdown",
   "metadata": {},
   "source": [
    "Vamos a leer el archivo y luego revisamos el código."
   ]
  },
  {
   "cell_type": "code",
   "metadata": {
    "ExecuteTime": {
     "end_time": "2024-08-24T18:25:39.685454Z",
     "start_time": "2024-08-24T18:25:39.681392Z"
    }
   },
   "source": [
    "with open('data/TablaDesarrolloBtu0200335.csv', 'r') as archivo:\n",
    "    tabla_1 = archivo.read()\n",
    "print(tabla_1)"
   ],
   "outputs": [
    {
     "name": "stdout",
     "output_type": "stream",
     "text": [
      "numero,fecha,interes,amortizacion,flujo,capital_insoluto\n",
      "0,01-03-15,0,0,0,100\n",
      "1,01-09-15,1,0,1,100\n",
      "2,01-03-16,1,0,1,100\n",
      "3,01-09-16,1,0,1,100\n",
      "4,01-03-17,1,0,1,100\n",
      "5,01-09-17,1,0,1,100\n",
      "6,01-03-18,1,0,1,100\n",
      "7,01-09-18,1,0,1,100\n",
      "8,01-03-19,1,0,1,100\n",
      "9,01-09-19,1,0,1,100\n",
      "10,01-03-20,1,0,1,100\n",
      "11,01-09-20,1,0,1,100\n",
      "12,01-03-21,1,0,1,100\n",
      "13,01-09-21,1,0,1,100\n",
      "14,01-03-22,1,0,1,100\n",
      "15,01-09-22,1,0,1,100\n",
      "16,01-03-23,1,0,1,100\n",
      "17,01-09-23,1,0,1,100\n",
      "18,01-03-24,1,0,1,100\n",
      "19,01-09-24,1,0,1,100\n",
      "20,01-03-25,1,0,1,100\n",
      "21,01-09-25,1,0,1,100\n",
      "22,01-03-26,1,0,1,100\n",
      "23,01-09-26,1,0,1,100\n",
      "24,01-03-27,1,0,1,100\n",
      "25,01-09-27,1,0,1,100\n",
      "26,01-03-28,1,0,1,100\n",
      "27,01-09-28,1,0,1,100\n",
      "28,01-03-29,1,0,1,100\n",
      "29,01-09-29,1,0,1,100\n",
      "30,01-03-30,1,0,1,100\n",
      "31,01-09-30,1,0,1,100\n",
      "32,01-03-31,1,0,1,100\n",
      "33,01-09-31,1,0,1,100\n",
      "34,01-03-32,1,0,1,100\n",
      "35,01-09-32,1,0,1,100\n",
      "36,01-03-33,1,0,1,100\n",
      "37,01-09-33,1,0,1,100\n",
      "38,01-03-34,1,0,1,100\n",
      "39,01-09-34,1,0,1,100\n",
      "40,01-03-35,1,100,101,0\n"
     ]
    }
   ],
   "execution_count": 22
  },
  {
   "cell_type": "markdown",
   "metadata": {},
   "source": [
    "- `open('data/TablaDesarrolloBtu0200335.csv', 'r')`: abre el archivo en modo sólo lectura `r`. Esto último porque sólo queremos leer data y no escribir nada en el archivo.\n",
    "- `with open(...) as archivo`:\n",
    "  - rodear la instrucción `open` con `with .... as <nombre archivo>` nos asegura que una vez que terminemos de usar el archivo éste se cerrará automáticamente. Esto evita todos los problemas de tipo *\"Archivo está siendo utilizado por otro usuario\"*."
   ]
  },
  {
   "cell_type": "markdown",
   "metadata": {},
   "source": [
    "Si no se usa `with ... as` hay que proceder de la siguiente forma:"
   ]
  },
  {
   "cell_type": "code",
   "metadata": {
    "ExecuteTime": {
     "end_time": "2024-08-24T18:25:39.713523Z",
     "start_time": "2024-08-24T18:25:39.710389Z"
    }
   },
   "source": [
    "f = open('data/TablaDesarrolloBtu0200335.csv', 'r')\n",
    "tabla_1 = f.read()\n",
    "f.close()"
   ],
   "outputs": [],
   "execution_count": 23
  },
  {
   "cell_type": "markdown",
   "metadata": {},
   "source": [
    "O sea, hay que agregar la instrucción `close` que asegura que el archivo (o *recurso*) se libera. Esto último es fácil de olvidar, por eso la forma recomendada es utilizando `with ... as`."
   ]
  },
  {
   "cell_type": "markdown",
   "metadata": {},
   "source": [
    "### Leer Línea a Línea"
   ]
  },
  {
   "cell_type": "markdown",
   "metadata": {},
   "source": [
    "Como antes, veamos la instrucción y luego la explicamos:"
   ]
  },
  {
   "cell_type": "code",
   "metadata": {
    "ExecuteTime": {
     "end_time": "2024-08-24T18:25:39.757387Z",
     "start_time": "2024-08-24T18:25:39.753660Z"
    }
   },
   "source": [
    "with open('data/TablaDesarrolloBtu0200335.csv', 'r') as archivo:\n",
    "    tabla_2 = archivo.readlines()\n",
    "print(tabla_2)"
   ],
   "outputs": [
    {
     "name": "stdout",
     "output_type": "stream",
     "text": [
      "['numero,fecha,interes,amortizacion,flujo,capital_insoluto\\n', '0,01-03-15,0,0,0,100\\n', '1,01-09-15,1,0,1,100\\n', '2,01-03-16,1,0,1,100\\n', '3,01-09-16,1,0,1,100\\n', '4,01-03-17,1,0,1,100\\n', '5,01-09-17,1,0,1,100\\n', '6,01-03-18,1,0,1,100\\n', '7,01-09-18,1,0,1,100\\n', '8,01-03-19,1,0,1,100\\n', '9,01-09-19,1,0,1,100\\n', '10,01-03-20,1,0,1,100\\n', '11,01-09-20,1,0,1,100\\n', '12,01-03-21,1,0,1,100\\n', '13,01-09-21,1,0,1,100\\n', '14,01-03-22,1,0,1,100\\n', '15,01-09-22,1,0,1,100\\n', '16,01-03-23,1,0,1,100\\n', '17,01-09-23,1,0,1,100\\n', '18,01-03-24,1,0,1,100\\n', '19,01-09-24,1,0,1,100\\n', '20,01-03-25,1,0,1,100\\n', '21,01-09-25,1,0,1,100\\n', '22,01-03-26,1,0,1,100\\n', '23,01-09-26,1,0,1,100\\n', '24,01-03-27,1,0,1,100\\n', '25,01-09-27,1,0,1,100\\n', '26,01-03-28,1,0,1,100\\n', '27,01-09-28,1,0,1,100\\n', '28,01-03-29,1,0,1,100\\n', '29,01-09-29,1,0,1,100\\n', '30,01-03-30,1,0,1,100\\n', '31,01-09-30,1,0,1,100\\n', '32,01-03-31,1,0,1,100\\n', '33,01-09-31,1,0,1,100\\n', '34,01-03-32,1,0,1,100\\n', '35,01-09-32,1,0,1,100\\n', '36,01-03-33,1,0,1,100\\n', '37,01-09-33,1,0,1,100\\n', '38,01-03-34,1,0,1,100\\n', '39,01-09-34,1,0,1,100\\n', '40,01-03-35,1,100,101,0']\n"
     ]
    }
   ],
   "execution_count": 24
  },
  {
   "cell_type": "markdown",
   "metadata": {},
   "source": [
    "- `readlines()` lee cada una de las líneas del archivo y las almacena en una `List[str]` donde cada elemento de la `List` es una de las líneas del archivo.\n",
    "- notar que todas las líneas menos la última terminan con `\\n`. Estos dos caracteres indican un **Enter** o salto de línea."
   ]
  },
  {
   "cell_type": "markdown",
   "metadata": {},
   "source": [
    "### Limpiar el Salto de Línea"
   ]
  },
  {
   "cell_type": "markdown",
   "metadata": {},
   "source": [
    "Vamos a remover el salto de línea."
   ]
  },
  {
   "cell_type": "code",
   "metadata": {
    "ExecuteTime": {
     "end_time": "2024-08-24T18:25:39.826181Z",
     "start_time": "2024-08-24T18:25:39.822657Z"
    }
   },
   "source": [
    "with open('data/TablaDesarrolloBtu0200335.csv', 'r') as archivo:\n",
    "    tabla_2 = archivo.readlines()\n",
    "tabla_3 = [(linea.rstrip('\\n')) for linea in tabla_2] # rstrip() (right strip) es el método de str\n",
    "                                                      # que hace la magia\n",
    "print(tabla_3)"
   ],
   "outputs": [
    {
     "name": "stdout",
     "output_type": "stream",
     "text": [
      "['numero,fecha,interes,amortizacion,flujo,capital_insoluto', '0,01-03-15,0,0,0,100', '1,01-09-15,1,0,1,100', '2,01-03-16,1,0,1,100', '3,01-09-16,1,0,1,100', '4,01-03-17,1,0,1,100', '5,01-09-17,1,0,1,100', '6,01-03-18,1,0,1,100', '7,01-09-18,1,0,1,100', '8,01-03-19,1,0,1,100', '9,01-09-19,1,0,1,100', '10,01-03-20,1,0,1,100', '11,01-09-20,1,0,1,100', '12,01-03-21,1,0,1,100', '13,01-09-21,1,0,1,100', '14,01-03-22,1,0,1,100', '15,01-09-22,1,0,1,100', '16,01-03-23,1,0,1,100', '17,01-09-23,1,0,1,100', '18,01-03-24,1,0,1,100', '19,01-09-24,1,0,1,100', '20,01-03-25,1,0,1,100', '21,01-09-25,1,0,1,100', '22,01-03-26,1,0,1,100', '23,01-09-26,1,0,1,100', '24,01-03-27,1,0,1,100', '25,01-09-27,1,0,1,100', '26,01-03-28,1,0,1,100', '27,01-09-28,1,0,1,100', '28,01-03-29,1,0,1,100', '29,01-09-29,1,0,1,100', '30,01-03-30,1,0,1,100', '31,01-09-30,1,0,1,100', '32,01-03-31,1,0,1,100', '33,01-09-31,1,0,1,100', '34,01-03-32,1,0,1,100', '35,01-09-32,1,0,1,100', '36,01-03-33,1,0,1,100', '37,01-09-33,1,0,1,100', '38,01-03-34,1,0,1,100', '39,01-09-34,1,0,1,100', '40,01-03-35,1,100,101,0']\n"
     ]
    }
   ],
   "execution_count": 25
  },
  {
   "cell_type": "markdown",
   "metadata": {},
   "source": [
    "- se define una nueva `List`, `tabla_2` que almacenará las líneas *limpias*.\n",
    "- se aplica el método `rstrip` a cada una de las líneas del archivo. Este método tiene el efecto deseado. Las líneas *limpias* se almacenan en la nueva `List`, `tabla_3`."
   ]
  },
  {
   "cell_type": "markdown",
   "metadata": {},
   "source": [
    "**NOTA:** el segundo registro en realidad no es un cupón, es la manera que tiene el proveedor de la data de expresar la fecha de inicio de devengo del primer cupón."
   ]
  },
  {
   "cell_type": "markdown",
   "metadata": {},
   "source": [
    "### Almacenar la Data en una Estructura Adecuada"
   ]
  },
  {
   "cell_type": "markdown",
   "metadata": {},
   "source": [
    "Si bien ahora tenemos las notas en un `List`, el formato no es muy cómodo.\n",
    "\n",
    "- El primer elemento (encabezados es distinto de todos los demás)\n",
    "- los datos específicos de cada cupón hay que buscarlos por posición,\n",
    "- están, además, todas las **,** .\n",
    "\n",
    "Vamos a ver como traspasar la data a una `List`. Cada elemento de esta `List` será de este tipo `Dict[str, float]]`. O sea un `Dict`cuyas `keys` son los nombres de los encabezados y cuyos `values` son los valores que corresponden a cada encabezado."
   ]
  },
  {
   "cell_type": "markdown",
   "metadata": {},
   "source": [
    "#### Extraemos los Encabezados"
   ]
  },
  {
   "cell_type": "markdown",
   "metadata": {},
   "source": [
    "Se extraerán los encabezados y se almacenarán en una `List`."
   ]
  },
  {
   "cell_type": "code",
   "metadata": {
    "ExecuteTime": {
     "end_time": "2024-08-24T18:25:39.899288Z",
     "start_time": "2024-08-24T18:25:39.895183Z"
    }
   },
   "source": [
    "encabezados = tabla_3[0].split(',')\n",
    "encabezados"
   ],
   "outputs": [
    {
     "data": {
      "text/plain": [
       "['numero', 'fecha', 'interes', 'amortizacion', 'flujo', 'capital_insoluto']"
      ]
     },
     "execution_count": 26,
     "metadata": {},
     "output_type": "execute_result"
    }
   ],
   "execution_count": 26
  },
  {
   "cell_type": "markdown",
   "metadata": {},
   "source": [
    "El método `split(',')` separa los elementos de un `str` suponiendo que el caracter que los separa es `','` y los almacena en una `List[str]`."
   ]
  },
  {
   "cell_type": "markdown",
   "metadata": {},
   "source": [
    "#### Procesamos los Cupones"
   ]
  },
  {
   "cell_type": "markdown",
   "metadata": {},
   "source": [
    "Podemos hacer el mismo procesamiento para la data de cada cupón."
   ]
  },
  {
   "cell_type": "code",
   "metadata": {
    "ExecuteTime": {
     "end_time": "2024-08-24T18:25:39.981086Z",
     "start_time": "2024-08-24T18:25:39.976788Z"
    }
   },
   "source": [
    "cupones = [c.split(',') for c in tabla_3[2:]]\n",
    "cupones[0:5]"
   ],
   "outputs": [
    {
     "data": {
      "text/plain": [
       "[['1', '01-09-15', '1', '0', '1', '100'],\n",
       " ['2', '01-03-16', '1', '0', '1', '100'],\n",
       " ['3', '01-09-16', '1', '0', '1', '100'],\n",
       " ['4', '01-03-17', '1', '0', '1', '100'],\n",
       " ['5', '01-09-17', '1', '0', '1', '100']]"
      ]
     },
     "execution_count": 27,
     "metadata": {},
     "output_type": "execute_result"
    }
   ],
   "execution_count": 27
  },
  {
   "cell_type": "markdown",
   "metadata": {},
   "source": [
    "#### Se Termina"
   ]
  },
  {
   "cell_type": "markdown",
   "metadata": {},
   "source": [
    "Finalmente, construimos el `Dict` requerido."
   ]
  },
  {
   "cell_type": "code",
   "metadata": {
    "scrolled": true,
    "ExecuteTime": {
     "end_time": "2024-08-24T18:25:40.053749Z",
     "start_time": "2024-08-24T18:25:40.044654Z"
    }
   },
   "source": [
    "tabla = [{encabezados[0]: int(c[0]),\n",
    "          encabezados[1]: c[1],\n",
    "          encabezados[2]: float(c[2]),\n",
    "          encabezados[3]: float(c[3]),\n",
    "          encabezados[4]: float(c[4]),\n",
    "          encabezados[5]: float(c[5])} for c in cupones]\n",
    "tabla"
   ],
   "outputs": [
    {
     "data": {
      "text/plain": [
       "[{'numero': 1,\n",
       "  'fecha': '01-09-15',\n",
       "  'interes': 1.0,\n",
       "  'amortizacion': 0.0,\n",
       "  'flujo': 1.0,\n",
       "  'capital_insoluto': 100.0},\n",
       " {'numero': 2,\n",
       "  'fecha': '01-03-16',\n",
       "  'interes': 1.0,\n",
       "  'amortizacion': 0.0,\n",
       "  'flujo': 1.0,\n",
       "  'capital_insoluto': 100.0},\n",
       " {'numero': 3,\n",
       "  'fecha': '01-09-16',\n",
       "  'interes': 1.0,\n",
       "  'amortizacion': 0.0,\n",
       "  'flujo': 1.0,\n",
       "  'capital_insoluto': 100.0},\n",
       " {'numero': 4,\n",
       "  'fecha': '01-03-17',\n",
       "  'interes': 1.0,\n",
       "  'amortizacion': 0.0,\n",
       "  'flujo': 1.0,\n",
       "  'capital_insoluto': 100.0},\n",
       " {'numero': 5,\n",
       "  'fecha': '01-09-17',\n",
       "  'interes': 1.0,\n",
       "  'amortizacion': 0.0,\n",
       "  'flujo': 1.0,\n",
       "  'capital_insoluto': 100.0},\n",
       " {'numero': 6,\n",
       "  'fecha': '01-03-18',\n",
       "  'interes': 1.0,\n",
       "  'amortizacion': 0.0,\n",
       "  'flujo': 1.0,\n",
       "  'capital_insoluto': 100.0},\n",
       " {'numero': 7,\n",
       "  'fecha': '01-09-18',\n",
       "  'interes': 1.0,\n",
       "  'amortizacion': 0.0,\n",
       "  'flujo': 1.0,\n",
       "  'capital_insoluto': 100.0},\n",
       " {'numero': 8,\n",
       "  'fecha': '01-03-19',\n",
       "  'interes': 1.0,\n",
       "  'amortizacion': 0.0,\n",
       "  'flujo': 1.0,\n",
       "  'capital_insoluto': 100.0},\n",
       " {'numero': 9,\n",
       "  'fecha': '01-09-19',\n",
       "  'interes': 1.0,\n",
       "  'amortizacion': 0.0,\n",
       "  'flujo': 1.0,\n",
       "  'capital_insoluto': 100.0},\n",
       " {'numero': 10,\n",
       "  'fecha': '01-03-20',\n",
       "  'interes': 1.0,\n",
       "  'amortizacion': 0.0,\n",
       "  'flujo': 1.0,\n",
       "  'capital_insoluto': 100.0},\n",
       " {'numero': 11,\n",
       "  'fecha': '01-09-20',\n",
       "  'interes': 1.0,\n",
       "  'amortizacion': 0.0,\n",
       "  'flujo': 1.0,\n",
       "  'capital_insoluto': 100.0},\n",
       " {'numero': 12,\n",
       "  'fecha': '01-03-21',\n",
       "  'interes': 1.0,\n",
       "  'amortizacion': 0.0,\n",
       "  'flujo': 1.0,\n",
       "  'capital_insoluto': 100.0},\n",
       " {'numero': 13,\n",
       "  'fecha': '01-09-21',\n",
       "  'interes': 1.0,\n",
       "  'amortizacion': 0.0,\n",
       "  'flujo': 1.0,\n",
       "  'capital_insoluto': 100.0},\n",
       " {'numero': 14,\n",
       "  'fecha': '01-03-22',\n",
       "  'interes': 1.0,\n",
       "  'amortizacion': 0.0,\n",
       "  'flujo': 1.0,\n",
       "  'capital_insoluto': 100.0},\n",
       " {'numero': 15,\n",
       "  'fecha': '01-09-22',\n",
       "  'interes': 1.0,\n",
       "  'amortizacion': 0.0,\n",
       "  'flujo': 1.0,\n",
       "  'capital_insoluto': 100.0},\n",
       " {'numero': 16,\n",
       "  'fecha': '01-03-23',\n",
       "  'interes': 1.0,\n",
       "  'amortizacion': 0.0,\n",
       "  'flujo': 1.0,\n",
       "  'capital_insoluto': 100.0},\n",
       " {'numero': 17,\n",
       "  'fecha': '01-09-23',\n",
       "  'interes': 1.0,\n",
       "  'amortizacion': 0.0,\n",
       "  'flujo': 1.0,\n",
       "  'capital_insoluto': 100.0},\n",
       " {'numero': 18,\n",
       "  'fecha': '01-03-24',\n",
       "  'interes': 1.0,\n",
       "  'amortizacion': 0.0,\n",
       "  'flujo': 1.0,\n",
       "  'capital_insoluto': 100.0},\n",
       " {'numero': 19,\n",
       "  'fecha': '01-09-24',\n",
       "  'interes': 1.0,\n",
       "  'amortizacion': 0.0,\n",
       "  'flujo': 1.0,\n",
       "  'capital_insoluto': 100.0},\n",
       " {'numero': 20,\n",
       "  'fecha': '01-03-25',\n",
       "  'interes': 1.0,\n",
       "  'amortizacion': 0.0,\n",
       "  'flujo': 1.0,\n",
       "  'capital_insoluto': 100.0},\n",
       " {'numero': 21,\n",
       "  'fecha': '01-09-25',\n",
       "  'interes': 1.0,\n",
       "  'amortizacion': 0.0,\n",
       "  'flujo': 1.0,\n",
       "  'capital_insoluto': 100.0},\n",
       " {'numero': 22,\n",
       "  'fecha': '01-03-26',\n",
       "  'interes': 1.0,\n",
       "  'amortizacion': 0.0,\n",
       "  'flujo': 1.0,\n",
       "  'capital_insoluto': 100.0},\n",
       " {'numero': 23,\n",
       "  'fecha': '01-09-26',\n",
       "  'interes': 1.0,\n",
       "  'amortizacion': 0.0,\n",
       "  'flujo': 1.0,\n",
       "  'capital_insoluto': 100.0},\n",
       " {'numero': 24,\n",
       "  'fecha': '01-03-27',\n",
       "  'interes': 1.0,\n",
       "  'amortizacion': 0.0,\n",
       "  'flujo': 1.0,\n",
       "  'capital_insoluto': 100.0},\n",
       " {'numero': 25,\n",
       "  'fecha': '01-09-27',\n",
       "  'interes': 1.0,\n",
       "  'amortizacion': 0.0,\n",
       "  'flujo': 1.0,\n",
       "  'capital_insoluto': 100.0},\n",
       " {'numero': 26,\n",
       "  'fecha': '01-03-28',\n",
       "  'interes': 1.0,\n",
       "  'amortizacion': 0.0,\n",
       "  'flujo': 1.0,\n",
       "  'capital_insoluto': 100.0},\n",
       " {'numero': 27,\n",
       "  'fecha': '01-09-28',\n",
       "  'interes': 1.0,\n",
       "  'amortizacion': 0.0,\n",
       "  'flujo': 1.0,\n",
       "  'capital_insoluto': 100.0},\n",
       " {'numero': 28,\n",
       "  'fecha': '01-03-29',\n",
       "  'interes': 1.0,\n",
       "  'amortizacion': 0.0,\n",
       "  'flujo': 1.0,\n",
       "  'capital_insoluto': 100.0},\n",
       " {'numero': 29,\n",
       "  'fecha': '01-09-29',\n",
       "  'interes': 1.0,\n",
       "  'amortizacion': 0.0,\n",
       "  'flujo': 1.0,\n",
       "  'capital_insoluto': 100.0},\n",
       " {'numero': 30,\n",
       "  'fecha': '01-03-30',\n",
       "  'interes': 1.0,\n",
       "  'amortizacion': 0.0,\n",
       "  'flujo': 1.0,\n",
       "  'capital_insoluto': 100.0},\n",
       " {'numero': 31,\n",
       "  'fecha': '01-09-30',\n",
       "  'interes': 1.0,\n",
       "  'amortizacion': 0.0,\n",
       "  'flujo': 1.0,\n",
       "  'capital_insoluto': 100.0},\n",
       " {'numero': 32,\n",
       "  'fecha': '01-03-31',\n",
       "  'interes': 1.0,\n",
       "  'amortizacion': 0.0,\n",
       "  'flujo': 1.0,\n",
       "  'capital_insoluto': 100.0},\n",
       " {'numero': 33,\n",
       "  'fecha': '01-09-31',\n",
       "  'interes': 1.0,\n",
       "  'amortizacion': 0.0,\n",
       "  'flujo': 1.0,\n",
       "  'capital_insoluto': 100.0},\n",
       " {'numero': 34,\n",
       "  'fecha': '01-03-32',\n",
       "  'interes': 1.0,\n",
       "  'amortizacion': 0.0,\n",
       "  'flujo': 1.0,\n",
       "  'capital_insoluto': 100.0},\n",
       " {'numero': 35,\n",
       "  'fecha': '01-09-32',\n",
       "  'interes': 1.0,\n",
       "  'amortizacion': 0.0,\n",
       "  'flujo': 1.0,\n",
       "  'capital_insoluto': 100.0},\n",
       " {'numero': 36,\n",
       "  'fecha': '01-03-33',\n",
       "  'interes': 1.0,\n",
       "  'amortizacion': 0.0,\n",
       "  'flujo': 1.0,\n",
       "  'capital_insoluto': 100.0},\n",
       " {'numero': 37,\n",
       "  'fecha': '01-09-33',\n",
       "  'interes': 1.0,\n",
       "  'amortizacion': 0.0,\n",
       "  'flujo': 1.0,\n",
       "  'capital_insoluto': 100.0},\n",
       " {'numero': 38,\n",
       "  'fecha': '01-03-34',\n",
       "  'interes': 1.0,\n",
       "  'amortizacion': 0.0,\n",
       "  'flujo': 1.0,\n",
       "  'capital_insoluto': 100.0},\n",
       " {'numero': 39,\n",
       "  'fecha': '01-09-34',\n",
       "  'interes': 1.0,\n",
       "  'amortizacion': 0.0,\n",
       "  'flujo': 1.0,\n",
       "  'capital_insoluto': 100.0},\n",
       " {'numero': 40,\n",
       "  'fecha': '01-03-35',\n",
       "  'interes': 1.0,\n",
       "  'amortizacion': 100.0,\n",
       "  'flujo': 101.0,\n",
       "  'capital_insoluto': 0.0}]"
      ]
     },
     "execution_count": 28,
     "metadata": {},
     "output_type": "execute_result"
    }
   ],
   "execution_count": 28
  },
  {
   "cell_type": "markdown",
   "metadata": {},
   "source": [
    "#### Ejercicio"
   ]
  },
  {
   "cell_type": "markdown",
   "metadata": {},
   "source": [
    "Calcular el valor presente del bono a una TIR de mercado del 1.85% al 2021-07-30."
   ]
  },
  {
   "cell_type": "markdown",
   "metadata": {},
   "source": [
    "Rápidamente nos damos cuenta del siguiente problema, la fecha de pago de cada cupón está en un formato (`str`) que no permite calcular directamente el plazo residual de cada cupón. Vamos a solucionarlo utilizando algunas funciones del paquete `datetime`.\n",
    "\n",
    "Primero un par de ejemplos:"
   ]
  },
  {
   "cell_type": "markdown",
   "metadata": {},
   "source": [
    "Variable de tipo `date`:"
   ]
  },
  {
   "cell_type": "code",
   "metadata": {
    "ExecuteTime": {
     "end_time": "2024-08-24T18:25:40.114312Z",
     "start_time": "2024-08-24T18:25:40.110112Z"
    }
   },
   "source": [
    "from datetime import date\n",
    "\n",
    "fecha = date(2021, 7, 30) # Definimos el 30 de julio del 2021 como variable\n",
    "\n",
    "print(f'Día: {fecha.day}')\n",
    "print(f'Mes: {fecha.month}')\n",
    "print(f'Año: {fecha.year}')\n",
    "print(f'Formato ISO: {fecha.isoformat()}')\n",
    "print(f'Día de la semana: {fecha.weekday()}') # En esta librería el lunes es el número 0"
   ],
   "outputs": [
    {
     "name": "stdout",
     "output_type": "stream",
     "text": [
      "Día: 30\n",
      "Mes: 7\n",
      "Año: 2021\n",
      "Formato ISO: 2021-07-30\n",
      "Día de la semana: 4\n"
     ]
    }
   ],
   "execution_count": 29
  },
  {
   "cell_type": "markdown",
   "metadata": {},
   "source": [
    "Obtener una variable de tipo `date` a partir de un `str`:"
   ]
  },
  {
   "cell_type": "code",
   "metadata": {
    "ExecuteTime": {
     "end_time": "2024-08-24T18:25:40.165159Z",
     "start_time": "2024-08-24T18:25:40.161162Z"
    }
   },
   "source": [
    "from datetime import datetime\n",
    "\n",
    "otra_fecha = datetime.strptime('01-02-22', '%d-%m-%y')\n",
    "print(f\"Con horas, minutos y segundos: {otra_fecha}\")\n",
    "print()\n",
    "\n",
    "otra_fecha = otra_fecha.date()\n",
    "print(f\"Sólo fecha: {otra_fecha}\")"
   ],
   "outputs": [
    {
     "name": "stdout",
     "output_type": "stream",
     "text": [
      "Con horas, minutos y segundos: 2022-02-01 00:00:00\n",
      "\n",
      "Sólo fecha: 2022-02-01\n"
     ]
    }
   ],
   "execution_count": 30
  },
  {
   "cell_type": "markdown",
   "metadata": {
    "ExecuteTime": {
     "end_time": "2021-07-31T12:16:09.596929Z",
     "start_time": "2021-07-31T12:16:09.557627Z"
    }
   },
   "source": [
    "Calcular la diferencia en días entre dos fechas:"
   ]
  },
  {
   "cell_type": "code",
   "metadata": {
    "ExecuteTime": {
     "end_time": "2024-08-24T18:25:40.230523Z",
     "start_time": "2024-08-24T18:25:40.227425Z"
    }
   },
   "source": [
    "dif_en_dias = otra_fecha - fecha\n",
    "print(type(dif_en_dias))\n",
    "print(dif_en_dias.days)"
   ],
   "outputs": [
    {
     "name": "stdout",
     "output_type": "stream",
     "text": [
      "<class 'datetime.timedelta'>\n",
      "186\n"
     ]
    }
   ],
   "execution_count": 31
  },
  {
   "cell_type": "markdown",
   "metadata": {},
   "source": [
    "Con estos nuevos elementos, vamos a transformar todas las fechas finales de los cupones del bono en variables de tipo `date`."
   ]
  },
  {
   "cell_type": "code",
   "metadata": {
    "ExecuteTime": {
     "end_time": "2024-08-24T18:25:40.293809Z",
     "start_time": "2024-08-24T18:25:40.290219Z"
    }
   },
   "source": [
    "for c in tabla:\n",
    "    c['fecha'] = datetime.strptime(c['fecha'], '%d-%m-%y').date()\n",
    "print(tabla[0])"
   ],
   "outputs": [
    {
     "name": "stdout",
     "output_type": "stream",
     "text": [
      "{'numero': 1, 'fecha': datetime.date(2015, 9, 1), 'interes': 1.0, 'amortizacion': 0.0, 'flujo': 1.0, 'capital_insoluto': 100.0}\n"
     ]
    }
   ],
   "execution_count": 32
  },
  {
   "cell_type": "markdown",
   "metadata": {},
   "source": [
    "Ahora sí podemos calcular el plazo residual de cada cupón respecto a la fecha de valorización."
   ]
  },
  {
   "cell_type": "code",
   "metadata": {
    "ExecuteTime": {
     "end_time": "2024-08-24T18:25:40.374758Z",
     "start_time": "2024-08-24T18:25:40.370214Z"
    }
   },
   "source": [
    "plazos = [(c['fecha'] - fecha).days for c in tabla]\n",
    "plazos"
   ],
   "outputs": [
    {
     "data": {
      "text/plain": [
       "[-2159,\n",
       " -1977,\n",
       " -1793,\n",
       " -1612,\n",
       " -1428,\n",
       " -1247,\n",
       " -1063,\n",
       " -882,\n",
       " -698,\n",
       " -516,\n",
       " -332,\n",
       " -151,\n",
       " 33,\n",
       " 214,\n",
       " 398,\n",
       " 579,\n",
       " 763,\n",
       " 945,\n",
       " 1129,\n",
       " 1310,\n",
       " 1494,\n",
       " 1675,\n",
       " 1859,\n",
       " 2040,\n",
       " 2224,\n",
       " 2406,\n",
       " 2590,\n",
       " 2771,\n",
       " 2955,\n",
       " 3136,\n",
       " 3320,\n",
       " 3501,\n",
       " 3685,\n",
       " 3867,\n",
       " 4051,\n",
       " 4232,\n",
       " 4416,\n",
       " 4597,\n",
       " 4781,\n",
       " 4962]"
      ]
     },
     "execution_count": 33,
     "metadata": {},
     "output_type": "execute_result"
    }
   ],
   "execution_count": 33
  },
  {
   "cell_type": "markdown",
   "metadata": {},
   "source": [
    "También podemos obtener una `List` con los flujos:"
   ]
  },
  {
   "cell_type": "code",
   "metadata": {
    "ExecuteTime": {
     "end_time": "2024-08-24T18:25:40.439152Z",
     "start_time": "2024-08-24T18:25:40.435338Z"
    }
   },
   "source": [
    "flujos = [c['flujo'] for c in tabla]\n",
    "flujos"
   ],
   "outputs": [
    {
     "data": {
      "text/plain": [
       "[1.0,\n",
       " 1.0,\n",
       " 1.0,\n",
       " 1.0,\n",
       " 1.0,\n",
       " 1.0,\n",
       " 1.0,\n",
       " 1.0,\n",
       " 1.0,\n",
       " 1.0,\n",
       " 1.0,\n",
       " 1.0,\n",
       " 1.0,\n",
       " 1.0,\n",
       " 1.0,\n",
       " 1.0,\n",
       " 1.0,\n",
       " 1.0,\n",
       " 1.0,\n",
       " 1.0,\n",
       " 1.0,\n",
       " 1.0,\n",
       " 1.0,\n",
       " 1.0,\n",
       " 1.0,\n",
       " 1.0,\n",
       " 1.0,\n",
       " 1.0,\n",
       " 1.0,\n",
       " 1.0,\n",
       " 1.0,\n",
       " 1.0,\n",
       " 1.0,\n",
       " 1.0,\n",
       " 1.0,\n",
       " 1.0,\n",
       " 1.0,\n",
       " 1.0,\n",
       " 1.0,\n",
       " 101.0]"
      ]
     },
     "execution_count": 34,
     "metadata": {},
     "output_type": "execute_result"
    }
   ],
   "execution_count": 34
  },
  {
   "cell_type": "markdown",
   "metadata": {},
   "source": [
    "Tenemos ahora los plazos residuales de los bonos y sus flujos, será ideal poder reciclar la función de valorización que escribimos la clase pasada.\n",
    "\n",
    "```{warning}\n",
    "¿Qué hacemos? ¿Cut & Paste? Eso jamás, copiar y pegar el mismo código en partes distintas te asegura que en el futuro tendrás un problema de coherencia.\n",
    "```\n",
    "\n",
    "En el archivo `my_functions.py` se ha copiado la función. De ahora en adelante, cuando queramos utilizarla, importaremos este archivo. De la misma forma, cualquier cambio o mejora que le hagamos, se verá inmediatamente reflejado en todos los lugares en donde se esté utilizando."
   ]
  },
  {
   "cell_type": "code",
   "metadata": {
    "ExecuteTime": {
     "end_time": "2024-08-24T18:25:40.570946Z",
     "start_time": "2024-08-24T18:25:40.567948Z"
    }
   },
   "source": "import my_functions as fn",
   "outputs": [],
   "execution_count": 35
  },
  {
   "cell_type": "code",
   "metadata": {
    "ExecuteTime": {
     "end_time": "2024-08-24T18:25:40.642800Z",
     "start_time": "2024-08-24T18:25:40.638996Z"
    }
   },
   "source": [
    "tasa = .0185\n",
    "vp = fn.vp_bono(flujos, plazos, tasa)\n",
    "print(f\"Valor presente al {tasa: .2%}: {vp:,.6f}\")"
   ],
   "outputs": [
    {
     "name": "stdout",
     "output_type": "stream",
     "text": [
      "Valor presente al  1.85%: 115.432309\n"
     ]
    }
   ],
   "execution_count": 36
  },
  {
   "cell_type": "markdown",
   "metadata": {},
   "source": [
    "¿Se ve raro verdad? Demasiado alto. Es porque nuestra función no distingue los plazos residuales negativos. En el mismo módulo, hay una segunda versión que sí lo hace."
   ]
  },
  {
   "cell_type": "code",
   "metadata": {
    "ExecuteTime": {
     "end_time": "2024-08-24T18:25:40.773076Z",
     "start_time": "2024-08-24T18:25:40.770012Z"
    }
   },
   "source": [
    "vp_2 = fn.vp_bono_2(flujos, plazos, tasa)\n",
    "print(f\"Valor presente al {tasa: .2%}: {vp_2:,.6f}\")"
   ],
   "outputs": [
    {
     "name": "stdout",
     "output_type": "stream",
     "text": [
      "Valor presente al  1.85%: 102.709384\n"
     ]
    }
   ],
   "execution_count": 37
  },
  {
   "cell_type": "markdown",
   "metadata": {},
   "source": [
    "## La Librería `pandas`"
   ]
  },
  {
   "cell_type": "markdown",
   "metadata": {},
   "source": [
    "*Referencia*: https://pandas.pydata.org/pandas-docs/stable/index.html"
   ]
  },
  {
   "cell_type": "markdown",
   "metadata": {},
   "source": [
    "Esta es una librería de Python que sirve para manejar data en forma tabular. Por ejemplo, veamos lo fácil que resulta importar el archivo *TablaDesarrolloBtu0200335.csv*.\n",
    "\n",
    "La manera acostumbrada de importar esta librería es utilizando `import pandas as pd`. Es importante saber que `pandas` no es parte de la librería estándar de Python, por eso, para utilizarla, debe estar instalada en el entorno en el que se está trabajando. En particular, pandas está instalada en el entorno de ejecución de estos notebooks."
   ]
  },
  {
   "cell_type": "code",
   "metadata": {
    "ExecuteTime": {
     "end_time": "2024-08-24T18:25:40.889526Z",
     "start_time": "2024-08-24T18:25:40.886146Z"
    }
   },
   "source": [
    "import pandas as pd "
   ],
   "outputs": [],
   "execution_count": 38
  },
  {
   "cell_type": "markdown",
   "metadata": {},
   "source": [
    "Para importar el archivo con la tabla de desarrollo."
   ]
  },
  {
   "cell_type": "code",
   "metadata": {
    "ExecuteTime": {
     "end_time": "2024-08-24T18:25:40.915437Z",
     "start_time": "2024-08-24T18:25:40.906726Z"
    }
   },
   "source": [
    "df_tabla = pd.read_csv(\n",
    "    'data/TablaDesarrolloBtu0200335.csv', # Ruta completa del archivo.\n",
    "    sep=',',     # Caracter que actúa de separador de columnas.\n",
    "    dtype={\n",
    "        'numero': int,       # Se declara el tipo de los datos en cada columna.\n",
    "        'interes': float,    # No es imprescindible, pero sí es recomendable.\n",
    "        'amortizacion': float,\n",
    "        'flujo': float,\n",
    "        'capital_insoluto': float\n",
    "    }\n",
    ")"
   ],
   "outputs": [],
   "execution_count": 39
  },
  {
   "cell_type": "code",
   "metadata": {
    "ExecuteTime": {
     "end_time": "2024-08-24T18:25:40.945777Z",
     "start_time": "2024-08-24T18:25:40.940884Z"
    }
   },
   "source": [
    "df_tabla.dtypes"
   ],
   "outputs": [
    {
     "data": {
      "text/plain": [
       "numero                int64\n",
       "fecha                object\n",
       "interes             float64\n",
       "amortizacion        float64\n",
       "flujo               float64\n",
       "capital_insoluto    float64\n",
       "dtype: object"
      ]
     },
     "execution_count": 40,
     "metadata": {},
     "output_type": "execute_result"
    }
   ],
   "execution_count": 40
  },
  {
   "cell_type": "code",
   "metadata": {
    "ExecuteTime": {
     "end_time": "2024-08-24T18:25:41.036026Z",
     "start_time": "2024-08-24T18:25:41.016221Z"
    }
   },
   "source": [
    "df_tabla"
   ],
   "outputs": [
    {
     "data": {
      "text/plain": [
       "    numero     fecha  interes  amortizacion  flujo  capital_insoluto\n",
       "0        0  01-03-15      0.0           0.0    0.0             100.0\n",
       "1        1  01-09-15      1.0           0.0    1.0             100.0\n",
       "2        2  01-03-16      1.0           0.0    1.0             100.0\n",
       "3        3  01-09-16      1.0           0.0    1.0             100.0\n",
       "4        4  01-03-17      1.0           0.0    1.0             100.0\n",
       "5        5  01-09-17      1.0           0.0    1.0             100.0\n",
       "6        6  01-03-18      1.0           0.0    1.0             100.0\n",
       "7        7  01-09-18      1.0           0.0    1.0             100.0\n",
       "8        8  01-03-19      1.0           0.0    1.0             100.0\n",
       "9        9  01-09-19      1.0           0.0    1.0             100.0\n",
       "10      10  01-03-20      1.0           0.0    1.0             100.0\n",
       "11      11  01-09-20      1.0           0.0    1.0             100.0\n",
       "12      12  01-03-21      1.0           0.0    1.0             100.0\n",
       "13      13  01-09-21      1.0           0.0    1.0             100.0\n",
       "14      14  01-03-22      1.0           0.0    1.0             100.0\n",
       "15      15  01-09-22      1.0           0.0    1.0             100.0\n",
       "16      16  01-03-23      1.0           0.0    1.0             100.0\n",
       "17      17  01-09-23      1.0           0.0    1.0             100.0\n",
       "18      18  01-03-24      1.0           0.0    1.0             100.0\n",
       "19      19  01-09-24      1.0           0.0    1.0             100.0\n",
       "20      20  01-03-25      1.0           0.0    1.0             100.0\n",
       "21      21  01-09-25      1.0           0.0    1.0             100.0\n",
       "22      22  01-03-26      1.0           0.0    1.0             100.0\n",
       "23      23  01-09-26      1.0           0.0    1.0             100.0\n",
       "24      24  01-03-27      1.0           0.0    1.0             100.0\n",
       "25      25  01-09-27      1.0           0.0    1.0             100.0\n",
       "26      26  01-03-28      1.0           0.0    1.0             100.0\n",
       "27      27  01-09-28      1.0           0.0    1.0             100.0\n",
       "28      28  01-03-29      1.0           0.0    1.0             100.0\n",
       "29      29  01-09-29      1.0           0.0    1.0             100.0\n",
       "30      30  01-03-30      1.0           0.0    1.0             100.0\n",
       "31      31  01-09-30      1.0           0.0    1.0             100.0\n",
       "32      32  01-03-31      1.0           0.0    1.0             100.0\n",
       "33      33  01-09-31      1.0           0.0    1.0             100.0\n",
       "34      34  01-03-32      1.0           0.0    1.0             100.0\n",
       "35      35  01-09-32      1.0           0.0    1.0             100.0\n",
       "36      36  01-03-33      1.0           0.0    1.0             100.0\n",
       "37      37  01-09-33      1.0           0.0    1.0             100.0\n",
       "38      38  01-03-34      1.0           0.0    1.0             100.0\n",
       "39      39  01-09-34      1.0           0.0    1.0             100.0\n",
       "40      40  01-03-35      1.0         100.0  101.0               0.0"
      ],
      "text/html": [
       "<div>\n",
       "<style scoped>\n",
       "    .dataframe tbody tr th:only-of-type {\n",
       "        vertical-align: middle;\n",
       "    }\n",
       "\n",
       "    .dataframe tbody tr th {\n",
       "        vertical-align: top;\n",
       "    }\n",
       "\n",
       "    .dataframe thead th {\n",
       "        text-align: right;\n",
       "    }\n",
       "</style>\n",
       "<table border=\"1\" class=\"dataframe\">\n",
       "  <thead>\n",
       "    <tr style=\"text-align: right;\">\n",
       "      <th></th>\n",
       "      <th>numero</th>\n",
       "      <th>fecha</th>\n",
       "      <th>interes</th>\n",
       "      <th>amortizacion</th>\n",
       "      <th>flujo</th>\n",
       "      <th>capital_insoluto</th>\n",
       "    </tr>\n",
       "  </thead>\n",
       "  <tbody>\n",
       "    <tr>\n",
       "      <th>0</th>\n",
       "      <td>0</td>\n",
       "      <td>01-03-15</td>\n",
       "      <td>0.0</td>\n",
       "      <td>0.0</td>\n",
       "      <td>0.0</td>\n",
       "      <td>100.0</td>\n",
       "    </tr>\n",
       "    <tr>\n",
       "      <th>1</th>\n",
       "      <td>1</td>\n",
       "      <td>01-09-15</td>\n",
       "      <td>1.0</td>\n",
       "      <td>0.0</td>\n",
       "      <td>1.0</td>\n",
       "      <td>100.0</td>\n",
       "    </tr>\n",
       "    <tr>\n",
       "      <th>2</th>\n",
       "      <td>2</td>\n",
       "      <td>01-03-16</td>\n",
       "      <td>1.0</td>\n",
       "      <td>0.0</td>\n",
       "      <td>1.0</td>\n",
       "      <td>100.0</td>\n",
       "    </tr>\n",
       "    <tr>\n",
       "      <th>3</th>\n",
       "      <td>3</td>\n",
       "      <td>01-09-16</td>\n",
       "      <td>1.0</td>\n",
       "      <td>0.0</td>\n",
       "      <td>1.0</td>\n",
       "      <td>100.0</td>\n",
       "    </tr>\n",
       "    <tr>\n",
       "      <th>4</th>\n",
       "      <td>4</td>\n",
       "      <td>01-03-17</td>\n",
       "      <td>1.0</td>\n",
       "      <td>0.0</td>\n",
       "      <td>1.0</td>\n",
       "      <td>100.0</td>\n",
       "    </tr>\n",
       "    <tr>\n",
       "      <th>5</th>\n",
       "      <td>5</td>\n",
       "      <td>01-09-17</td>\n",
       "      <td>1.0</td>\n",
       "      <td>0.0</td>\n",
       "      <td>1.0</td>\n",
       "      <td>100.0</td>\n",
       "    </tr>\n",
       "    <tr>\n",
       "      <th>6</th>\n",
       "      <td>6</td>\n",
       "      <td>01-03-18</td>\n",
       "      <td>1.0</td>\n",
       "      <td>0.0</td>\n",
       "      <td>1.0</td>\n",
       "      <td>100.0</td>\n",
       "    </tr>\n",
       "    <tr>\n",
       "      <th>7</th>\n",
       "      <td>7</td>\n",
       "      <td>01-09-18</td>\n",
       "      <td>1.0</td>\n",
       "      <td>0.0</td>\n",
       "      <td>1.0</td>\n",
       "      <td>100.0</td>\n",
       "    </tr>\n",
       "    <tr>\n",
       "      <th>8</th>\n",
       "      <td>8</td>\n",
       "      <td>01-03-19</td>\n",
       "      <td>1.0</td>\n",
       "      <td>0.0</td>\n",
       "      <td>1.0</td>\n",
       "      <td>100.0</td>\n",
       "    </tr>\n",
       "    <tr>\n",
       "      <th>9</th>\n",
       "      <td>9</td>\n",
       "      <td>01-09-19</td>\n",
       "      <td>1.0</td>\n",
       "      <td>0.0</td>\n",
       "      <td>1.0</td>\n",
       "      <td>100.0</td>\n",
       "    </tr>\n",
       "    <tr>\n",
       "      <th>10</th>\n",
       "      <td>10</td>\n",
       "      <td>01-03-20</td>\n",
       "      <td>1.0</td>\n",
       "      <td>0.0</td>\n",
       "      <td>1.0</td>\n",
       "      <td>100.0</td>\n",
       "    </tr>\n",
       "    <tr>\n",
       "      <th>11</th>\n",
       "      <td>11</td>\n",
       "      <td>01-09-20</td>\n",
       "      <td>1.0</td>\n",
       "      <td>0.0</td>\n",
       "      <td>1.0</td>\n",
       "      <td>100.0</td>\n",
       "    </tr>\n",
       "    <tr>\n",
       "      <th>12</th>\n",
       "      <td>12</td>\n",
       "      <td>01-03-21</td>\n",
       "      <td>1.0</td>\n",
       "      <td>0.0</td>\n",
       "      <td>1.0</td>\n",
       "      <td>100.0</td>\n",
       "    </tr>\n",
       "    <tr>\n",
       "      <th>13</th>\n",
       "      <td>13</td>\n",
       "      <td>01-09-21</td>\n",
       "      <td>1.0</td>\n",
       "      <td>0.0</td>\n",
       "      <td>1.0</td>\n",
       "      <td>100.0</td>\n",
       "    </tr>\n",
       "    <tr>\n",
       "      <th>14</th>\n",
       "      <td>14</td>\n",
       "      <td>01-03-22</td>\n",
       "      <td>1.0</td>\n",
       "      <td>0.0</td>\n",
       "      <td>1.0</td>\n",
       "      <td>100.0</td>\n",
       "    </tr>\n",
       "    <tr>\n",
       "      <th>15</th>\n",
       "      <td>15</td>\n",
       "      <td>01-09-22</td>\n",
       "      <td>1.0</td>\n",
       "      <td>0.0</td>\n",
       "      <td>1.0</td>\n",
       "      <td>100.0</td>\n",
       "    </tr>\n",
       "    <tr>\n",
       "      <th>16</th>\n",
       "      <td>16</td>\n",
       "      <td>01-03-23</td>\n",
       "      <td>1.0</td>\n",
       "      <td>0.0</td>\n",
       "      <td>1.0</td>\n",
       "      <td>100.0</td>\n",
       "    </tr>\n",
       "    <tr>\n",
       "      <th>17</th>\n",
       "      <td>17</td>\n",
       "      <td>01-09-23</td>\n",
       "      <td>1.0</td>\n",
       "      <td>0.0</td>\n",
       "      <td>1.0</td>\n",
       "      <td>100.0</td>\n",
       "    </tr>\n",
       "    <tr>\n",
       "      <th>18</th>\n",
       "      <td>18</td>\n",
       "      <td>01-03-24</td>\n",
       "      <td>1.0</td>\n",
       "      <td>0.0</td>\n",
       "      <td>1.0</td>\n",
       "      <td>100.0</td>\n",
       "    </tr>\n",
       "    <tr>\n",
       "      <th>19</th>\n",
       "      <td>19</td>\n",
       "      <td>01-09-24</td>\n",
       "      <td>1.0</td>\n",
       "      <td>0.0</td>\n",
       "      <td>1.0</td>\n",
       "      <td>100.0</td>\n",
       "    </tr>\n",
       "    <tr>\n",
       "      <th>20</th>\n",
       "      <td>20</td>\n",
       "      <td>01-03-25</td>\n",
       "      <td>1.0</td>\n",
       "      <td>0.0</td>\n",
       "      <td>1.0</td>\n",
       "      <td>100.0</td>\n",
       "    </tr>\n",
       "    <tr>\n",
       "      <th>21</th>\n",
       "      <td>21</td>\n",
       "      <td>01-09-25</td>\n",
       "      <td>1.0</td>\n",
       "      <td>0.0</td>\n",
       "      <td>1.0</td>\n",
       "      <td>100.0</td>\n",
       "    </tr>\n",
       "    <tr>\n",
       "      <th>22</th>\n",
       "      <td>22</td>\n",
       "      <td>01-03-26</td>\n",
       "      <td>1.0</td>\n",
       "      <td>0.0</td>\n",
       "      <td>1.0</td>\n",
       "      <td>100.0</td>\n",
       "    </tr>\n",
       "    <tr>\n",
       "      <th>23</th>\n",
       "      <td>23</td>\n",
       "      <td>01-09-26</td>\n",
       "      <td>1.0</td>\n",
       "      <td>0.0</td>\n",
       "      <td>1.0</td>\n",
       "      <td>100.0</td>\n",
       "    </tr>\n",
       "    <tr>\n",
       "      <th>24</th>\n",
       "      <td>24</td>\n",
       "      <td>01-03-27</td>\n",
       "      <td>1.0</td>\n",
       "      <td>0.0</td>\n",
       "      <td>1.0</td>\n",
       "      <td>100.0</td>\n",
       "    </tr>\n",
       "    <tr>\n",
       "      <th>25</th>\n",
       "      <td>25</td>\n",
       "      <td>01-09-27</td>\n",
       "      <td>1.0</td>\n",
       "      <td>0.0</td>\n",
       "      <td>1.0</td>\n",
       "      <td>100.0</td>\n",
       "    </tr>\n",
       "    <tr>\n",
       "      <th>26</th>\n",
       "      <td>26</td>\n",
       "      <td>01-03-28</td>\n",
       "      <td>1.0</td>\n",
       "      <td>0.0</td>\n",
       "      <td>1.0</td>\n",
       "      <td>100.0</td>\n",
       "    </tr>\n",
       "    <tr>\n",
       "      <th>27</th>\n",
       "      <td>27</td>\n",
       "      <td>01-09-28</td>\n",
       "      <td>1.0</td>\n",
       "      <td>0.0</td>\n",
       "      <td>1.0</td>\n",
       "      <td>100.0</td>\n",
       "    </tr>\n",
       "    <tr>\n",
       "      <th>28</th>\n",
       "      <td>28</td>\n",
       "      <td>01-03-29</td>\n",
       "      <td>1.0</td>\n",
       "      <td>0.0</td>\n",
       "      <td>1.0</td>\n",
       "      <td>100.0</td>\n",
       "    </tr>\n",
       "    <tr>\n",
       "      <th>29</th>\n",
       "      <td>29</td>\n",
       "      <td>01-09-29</td>\n",
       "      <td>1.0</td>\n",
       "      <td>0.0</td>\n",
       "      <td>1.0</td>\n",
       "      <td>100.0</td>\n",
       "    </tr>\n",
       "    <tr>\n",
       "      <th>30</th>\n",
       "      <td>30</td>\n",
       "      <td>01-03-30</td>\n",
       "      <td>1.0</td>\n",
       "      <td>0.0</td>\n",
       "      <td>1.0</td>\n",
       "      <td>100.0</td>\n",
       "    </tr>\n",
       "    <tr>\n",
       "      <th>31</th>\n",
       "      <td>31</td>\n",
       "      <td>01-09-30</td>\n",
       "      <td>1.0</td>\n",
       "      <td>0.0</td>\n",
       "      <td>1.0</td>\n",
       "      <td>100.0</td>\n",
       "    </tr>\n",
       "    <tr>\n",
       "      <th>32</th>\n",
       "      <td>32</td>\n",
       "      <td>01-03-31</td>\n",
       "      <td>1.0</td>\n",
       "      <td>0.0</td>\n",
       "      <td>1.0</td>\n",
       "      <td>100.0</td>\n",
       "    </tr>\n",
       "    <tr>\n",
       "      <th>33</th>\n",
       "      <td>33</td>\n",
       "      <td>01-09-31</td>\n",
       "      <td>1.0</td>\n",
       "      <td>0.0</td>\n",
       "      <td>1.0</td>\n",
       "      <td>100.0</td>\n",
       "    </tr>\n",
       "    <tr>\n",
       "      <th>34</th>\n",
       "      <td>34</td>\n",
       "      <td>01-03-32</td>\n",
       "      <td>1.0</td>\n",
       "      <td>0.0</td>\n",
       "      <td>1.0</td>\n",
       "      <td>100.0</td>\n",
       "    </tr>\n",
       "    <tr>\n",
       "      <th>35</th>\n",
       "      <td>35</td>\n",
       "      <td>01-09-32</td>\n",
       "      <td>1.0</td>\n",
       "      <td>0.0</td>\n",
       "      <td>1.0</td>\n",
       "      <td>100.0</td>\n",
       "    </tr>\n",
       "    <tr>\n",
       "      <th>36</th>\n",
       "      <td>36</td>\n",
       "      <td>01-03-33</td>\n",
       "      <td>1.0</td>\n",
       "      <td>0.0</td>\n",
       "      <td>1.0</td>\n",
       "      <td>100.0</td>\n",
       "    </tr>\n",
       "    <tr>\n",
       "      <th>37</th>\n",
       "      <td>37</td>\n",
       "      <td>01-09-33</td>\n",
       "      <td>1.0</td>\n",
       "      <td>0.0</td>\n",
       "      <td>1.0</td>\n",
       "      <td>100.0</td>\n",
       "    </tr>\n",
       "    <tr>\n",
       "      <th>38</th>\n",
       "      <td>38</td>\n",
       "      <td>01-03-34</td>\n",
       "      <td>1.0</td>\n",
       "      <td>0.0</td>\n",
       "      <td>1.0</td>\n",
       "      <td>100.0</td>\n",
       "    </tr>\n",
       "    <tr>\n",
       "      <th>39</th>\n",
       "      <td>39</td>\n",
       "      <td>01-09-34</td>\n",
       "      <td>1.0</td>\n",
       "      <td>0.0</td>\n",
       "      <td>1.0</td>\n",
       "      <td>100.0</td>\n",
       "    </tr>\n",
       "    <tr>\n",
       "      <th>40</th>\n",
       "      <td>40</td>\n",
       "      <td>01-03-35</td>\n",
       "      <td>1.0</td>\n",
       "      <td>100.0</td>\n",
       "      <td>101.0</td>\n",
       "      <td>0.0</td>\n",
       "    </tr>\n",
       "  </tbody>\n",
       "</table>\n",
       "</div>"
      ]
     },
     "execution_count": 41,
     "metadata": {},
     "output_type": "execute_result"
    }
   ],
   "execution_count": 41
  },
  {
   "cell_type": "code",
   "metadata": {
    "ExecuteTime": {
     "end_time": "2024-08-24T18:25:41.134573Z",
     "start_time": "2024-08-24T18:25:41.125143Z"
    }
   },
   "source": [
    "df_tabla.head() # <DataFrame>.head(n) muestra los primeros n registros."
   ],
   "outputs": [
    {
     "data": {
      "text/plain": [
       "   numero     fecha  interes  amortizacion  flujo  capital_insoluto\n",
       "0       0  01-03-15      0.0           0.0    0.0             100.0\n",
       "1       1  01-09-15      1.0           0.0    1.0             100.0\n",
       "2       2  01-03-16      1.0           0.0    1.0             100.0\n",
       "3       3  01-09-16      1.0           0.0    1.0             100.0\n",
       "4       4  01-03-17      1.0           0.0    1.0             100.0"
      ],
      "text/html": [
       "<div>\n",
       "<style scoped>\n",
       "    .dataframe tbody tr th:only-of-type {\n",
       "        vertical-align: middle;\n",
       "    }\n",
       "\n",
       "    .dataframe tbody tr th {\n",
       "        vertical-align: top;\n",
       "    }\n",
       "\n",
       "    .dataframe thead th {\n",
       "        text-align: right;\n",
       "    }\n",
       "</style>\n",
       "<table border=\"1\" class=\"dataframe\">\n",
       "  <thead>\n",
       "    <tr style=\"text-align: right;\">\n",
       "      <th></th>\n",
       "      <th>numero</th>\n",
       "      <th>fecha</th>\n",
       "      <th>interes</th>\n",
       "      <th>amortizacion</th>\n",
       "      <th>flujo</th>\n",
       "      <th>capital_insoluto</th>\n",
       "    </tr>\n",
       "  </thead>\n",
       "  <tbody>\n",
       "    <tr>\n",
       "      <th>0</th>\n",
       "      <td>0</td>\n",
       "      <td>01-03-15</td>\n",
       "      <td>0.0</td>\n",
       "      <td>0.0</td>\n",
       "      <td>0.0</td>\n",
       "      <td>100.0</td>\n",
       "    </tr>\n",
       "    <tr>\n",
       "      <th>1</th>\n",
       "      <td>1</td>\n",
       "      <td>01-09-15</td>\n",
       "      <td>1.0</td>\n",
       "      <td>0.0</td>\n",
       "      <td>1.0</td>\n",
       "      <td>100.0</td>\n",
       "    </tr>\n",
       "    <tr>\n",
       "      <th>2</th>\n",
       "      <td>2</td>\n",
       "      <td>01-03-16</td>\n",
       "      <td>1.0</td>\n",
       "      <td>0.0</td>\n",
       "      <td>1.0</td>\n",
       "      <td>100.0</td>\n",
       "    </tr>\n",
       "    <tr>\n",
       "      <th>3</th>\n",
       "      <td>3</td>\n",
       "      <td>01-09-16</td>\n",
       "      <td>1.0</td>\n",
       "      <td>0.0</td>\n",
       "      <td>1.0</td>\n",
       "      <td>100.0</td>\n",
       "    </tr>\n",
       "    <tr>\n",
       "      <th>4</th>\n",
       "      <td>4</td>\n",
       "      <td>01-03-17</td>\n",
       "      <td>1.0</td>\n",
       "      <td>0.0</td>\n",
       "      <td>1.0</td>\n",
       "      <td>100.0</td>\n",
       "    </tr>\n",
       "  </tbody>\n",
       "</table>\n",
       "</div>"
      ]
     },
     "execution_count": 42,
     "metadata": {},
     "output_type": "execute_result"
    }
   ],
   "execution_count": 42
  },
  {
   "cell_type": "markdown",
   "metadata": {
    "ExecuteTime": {
     "end_time": "2021-07-31T14:15:58.350492Z",
     "start_time": "2021-07-31T14:15:58.331864Z"
    }
   },
   "source": [
    "La columna `fecha` se importa como un `str` (tipo `obj`). Luego veremos como transformarla en un objeto de tipo `date`."
   ]
  },
  {
   "cell_type": "code",
   "metadata": {
    "ExecuteTime": {
     "end_time": "2024-08-24T18:25:41.266910Z",
     "start_time": "2024-08-24T18:25:41.262265Z"
    }
   },
   "source": [
    "df_tabla.dtypes"
   ],
   "outputs": [
    {
     "data": {
      "text/plain": [
       "numero                int64\n",
       "fecha                object\n",
       "interes             float64\n",
       "amortizacion        float64\n",
       "flujo               float64\n",
       "capital_insoluto    float64\n",
       "dtype: object"
      ]
     },
     "execution_count": 43,
     "metadata": {},
     "output_type": "execute_result"
    }
   ],
   "execution_count": 43
  },
  {
   "cell_type": "markdown",
   "metadata": {},
   "source": [
    "A medida que las vayamos necesitando, veremos muchas más funcionalidades de `pandas`. Para los que quieran avanzar desde ya, recomiendo partir leyendo un tutorial específico como el siguiente: https://www.learndatasci.com/tutorials/python-pandas-tutorial-complete-introduction-for-beginners/"
   ]
  },
  {
   "cell_type": "markdown",
   "metadata": {},
   "source": [
    "### Leer un Archivo Excel"
   ]
  },
  {
   "cell_type": "markdown",
   "metadata": {},
   "source": [
    "Muchas veces, la data que se requiere procesar está almacenada en un archivo Excel. Para estos casos, `pandas` suele ser lo más conveniente."
   ]
  },
  {
   "cell_type": "code",
   "metadata": {
    "ExecuteTime": {
     "end_time": "2024-08-24T18:25:41.616578Z",
     "start_time": "2024-08-24T18:25:41.440912Z"
    }
   },
   "source": [
    "df_tabla_2 = pd.read_excel(\n",
    "    'data/TablaDesarrolloBtu0200335.xlsx',\n",
    "    dtype={\n",
    "        'numero': int,       # Se declara el tipo de los datos en cada columna.\n",
    "        'interes': float,    # No es imprescindible, pero sí es recomendable.\n",
    "        'amortizacion': float,\n",
    "        'flujo': float,\n",
    "        'capital_insoluto': float,\n",
    "    })"
   ],
   "outputs": [],
   "execution_count": 44
  },
  {
   "cell_type": "code",
   "metadata": {
    "ExecuteTime": {
     "end_time": "2024-08-24T18:25:41.720606Z",
     "start_time": "2024-08-24T18:25:41.697258Z"
    }
   },
   "source": [
    "df_tabla_2.head()"
   ],
   "outputs": [
    {
     "data": {
      "text/plain": [
       "   numero      fecha  interes  amortizacion  flujo  capital_insoluto\n",
       "0       0 2015-03-01      0.0           0.0    0.0             100.0\n",
       "1       1 2015-09-01      1.0           0.0    1.0             100.0\n",
       "2       2 2016-03-01      1.0           0.0    1.0             100.0\n",
       "3       3 2016-09-01      1.0           0.0    1.0             100.0\n",
       "4       4 2017-03-01      1.0           0.0    1.0             100.0"
      ],
      "text/html": [
       "<div>\n",
       "<style scoped>\n",
       "    .dataframe tbody tr th:only-of-type {\n",
       "        vertical-align: middle;\n",
       "    }\n",
       "\n",
       "    .dataframe tbody tr th {\n",
       "        vertical-align: top;\n",
       "    }\n",
       "\n",
       "    .dataframe thead th {\n",
       "        text-align: right;\n",
       "    }\n",
       "</style>\n",
       "<table border=\"1\" class=\"dataframe\">\n",
       "  <thead>\n",
       "    <tr style=\"text-align: right;\">\n",
       "      <th></th>\n",
       "      <th>numero</th>\n",
       "      <th>fecha</th>\n",
       "      <th>interes</th>\n",
       "      <th>amortizacion</th>\n",
       "      <th>flujo</th>\n",
       "      <th>capital_insoluto</th>\n",
       "    </tr>\n",
       "  </thead>\n",
       "  <tbody>\n",
       "    <tr>\n",
       "      <th>0</th>\n",
       "      <td>0</td>\n",
       "      <td>2015-03-01</td>\n",
       "      <td>0.0</td>\n",
       "      <td>0.0</td>\n",
       "      <td>0.0</td>\n",
       "      <td>100.0</td>\n",
       "    </tr>\n",
       "    <tr>\n",
       "      <th>1</th>\n",
       "      <td>1</td>\n",
       "      <td>2015-09-01</td>\n",
       "      <td>1.0</td>\n",
       "      <td>0.0</td>\n",
       "      <td>1.0</td>\n",
       "      <td>100.0</td>\n",
       "    </tr>\n",
       "    <tr>\n",
       "      <th>2</th>\n",
       "      <td>2</td>\n",
       "      <td>2016-03-01</td>\n",
       "      <td>1.0</td>\n",
       "      <td>0.0</td>\n",
       "      <td>1.0</td>\n",
       "      <td>100.0</td>\n",
       "    </tr>\n",
       "    <tr>\n",
       "      <th>3</th>\n",
       "      <td>3</td>\n",
       "      <td>2016-09-01</td>\n",
       "      <td>1.0</td>\n",
       "      <td>0.0</td>\n",
       "      <td>1.0</td>\n",
       "      <td>100.0</td>\n",
       "    </tr>\n",
       "    <tr>\n",
       "      <th>4</th>\n",
       "      <td>4</td>\n",
       "      <td>2017-03-01</td>\n",
       "      <td>1.0</td>\n",
       "      <td>0.0</td>\n",
       "      <td>1.0</td>\n",
       "      <td>100.0</td>\n",
       "    </tr>\n",
       "  </tbody>\n",
       "</table>\n",
       "</div>"
      ]
     },
     "execution_count": 45,
     "metadata": {},
     "output_type": "execute_result"
    }
   ],
   "execution_count": 45
  },
  {
   "cell_type": "markdown",
   "metadata": {},
   "source": [
    "Por ejemplo, vemos que al importar desde Excel, la fecha queda con un tipo más adecuado."
   ]
  },
  {
   "cell_type": "code",
   "metadata": {
    "ExecuteTime": {
     "end_time": "2024-08-24T18:25:41.812265Z",
     "start_time": "2024-08-24T18:25:41.807725Z"
    }
   },
   "source": [
    "df_tabla_2.dtypes"
   ],
   "outputs": [
    {
     "data": {
      "text/plain": [
       "numero                       int64\n",
       "fecha               datetime64[ns]\n",
       "interes                    float64\n",
       "amortizacion               float64\n",
       "flujo                      float64\n",
       "capital_insoluto           float64\n",
       "dtype: object"
      ]
     },
     "execution_count": 46,
     "metadata": {},
     "output_type": "execute_result"
    }
   ],
   "execution_count": 46
  },
  {
   "cell_type": "markdown",
   "metadata": {},
   "source": [
    "### La Función `vp_bono` Usando un `DataFrame`"
   ]
  },
  {
   "cell_type": "markdown",
   "metadata": {},
   "source": [
    "Para hacer un `loop` sobre las filas de un `DataFrame` la manera recomendada es la siguiente:"
   ]
  },
  {
   "cell_type": "code",
   "metadata": {
    "ExecuteTime": {
     "end_time": "2024-08-24T18:25:41.934751Z",
     "start_time": "2024-08-24T18:25:41.928396Z"
    }
   },
   "source": [
    "for r in df_tabla_2.itertuples(): # Pensar en itertuples como las filas\n",
    "    print(r)\n",
    "    print()\n",
    "    print(f'Index: {r.Index}')\n",
    "    print(f'numero: {r.numero}')\n",
    "    print(f'fecha: {r.fecha}')\n",
    "    print(f'interes: {r.interes}')\n",
    "    print(f'amortizacion: {r.amortizacion}')\n",
    "    print(f'flujo: {r.flujo}')\n",
    "    print(f'capital_insoluto: {r.capital_insoluto}')\n",
    "    break"
   ],
   "outputs": [
    {
     "name": "stdout",
     "output_type": "stream",
     "text": [
      "Pandas(Index=0, numero=0, fecha=Timestamp('2015-03-01 00:00:00'), interes=0.0, amortizacion=0.0, flujo=0.0, capital_insoluto=100.0)\n",
      "\n",
      "Index: 0\n",
      "numero: 0\n",
      "fecha: 2015-03-01 00:00:00\n",
      "interes: 0.0\n",
      "amortizacion: 0.0\n",
      "flujo: 0.0\n",
      "capital_insoluto: 100.0\n"
     ]
    }
   ],
   "execution_count": 47
  },
  {
   "cell_type": "code",
   "metadata": {
    "ExecuteTime": {
     "end_time": "2024-08-24T18:25:42.103857Z",
     "start_time": "2024-08-24T18:25:42.099789Z"
    }
   },
   "source": [
    "def vp_bono_df(bono, tasa, fecha):\n",
    "    \"\"\"\n",
    "    Calcula el valor presente de un bono dada una tasa de descuento.\n",
    "    \n",
    "    Parameters\n",
    "    ----------\n",
    "    \n",
    "    bono: pandas.DataFrame\n",
    "            Contiene la tabla de desarrollo del bono. Tiene que tener una columna `fecha` con las fechas\n",
    "            finales de cada cupón y una columna `flujo` con el flujo total del cupón.\n",
    "    \n",
    "    tasa: float\n",
    "          Tasa de descuento del bono. Debe ser en convención Com Act/365.\n",
    "          \n",
    "    fecha: datetime.date\n",
    "          Fecha a la cual se realiza la valorización. Todos los cupones con fecha final menor a `fecha` tendrán\n",
    "          un valor presente igual a 0. Los cupones con fecha final superior a `fecha` serán descontados por el\n",
    "          plazo efectivo en días desde `fecha`hasta su fecha final.\n",
    "          \n",
    "    Returns\n",
    "    -------\n",
    "    \n",
    "    float\n",
    "         El valor presente del bono.\n",
    "    \"\"\"\n",
    "    result = 0.0\n",
    "    # Vamos a hacer un loop sobre las filas del `DataFrame`\n",
    "    for r in bono.itertuples():\n",
    "        # El método date transforma el datetime a una fecha (sin la hora)\n",
    "        plazo = r.fecha.date() - fecha # Se calcula el plazo residual del flujo\n",
    "        if plazo.days > 0:             # Si el plazo es positivo se calcula el valor presente\n",
    "            result += r.flujo * (1 + tasa)**(-plazo.days / 365.0)\n",
    "    return result"
   ],
   "outputs": [],
   "execution_count": 48
  },
  {
   "cell_type": "code",
   "metadata": {
    "ExecuteTime": {
     "end_time": "2024-08-24T18:25:42.267605Z",
     "start_time": "2024-08-24T18:25:42.263341Z"
    }
   },
   "source": [
    "vp = vp_bono_df(df_tabla_2, tasa, fecha)\n",
    "print(f'Valor presente: {vp: ,.4f}')"
   ],
   "outputs": [
    {
     "name": "stdout",
     "output_type": "stream",
     "text": [
      "Valor presente:  102.7094\n"
     ]
    }
   ],
   "execution_count": 49
  },
  {
   "cell_type": "markdown",
   "metadata": {
    "tags": [
     "remove-cell"
    ]
   },
   "source": [
    "### Digresión - Orientación a Objetos\n",
    "\n",
    "Supongamos que `punto` es una variable que representa un punto en el espacio cartesiano.\n",
    "\n",
    "Típicamente esa variable va a contener los siguientes datos.\n",
    "    \n",
    "`punto.x = a la coordenada x del punto`\n",
    "`punto.y = ...`\n",
    "`punto.z = ...`\n",
    "\n",
    "También podría estar contener la siguiente función:\n",
    "    \n",
    "`punto.largo() = raiz(x**2 + y**2 + z**2)`\n",
    "\n",
    "En abstracto, `punto` es un `objeto`, una variable que tiene datos y funciones que\n",
    "se pueden aplicar a esos datos.\n",
    "\n",
    "tro ejemplo típico, una variable `auto` que representa un automóvil.\n",
    "\n",
    "`auto.marca`\n",
    "`auto.agno`\n",
    "`auto.modelo`\n",
    "`auto.color`\n",
    "\n",
    "`auto.avanza(1, 50)`. El auto avanza un kilómtero a una velocidad de 50 km / h."
   ]
  },
  {
   "cell_type": "markdown",
   "metadata": {},
   "source": "### Ejercicio: Valor Par de un Bono Chileno"
  },
  {
   "cell_type": "markdown",
   "metadata": {},
   "source": [
    "La *TERA* del BTU0200335 es 2.0085%. Escribir una función para calcular el Valor Par del bono según la convención de la Bolsa de Comercio. La fórmula para el cálculo del Valor Par es:\n",
    "\n",
    "$$VPar = K\\cdot\\left(1+TERA\\right)^{\\frac{d}{365}}$$\n",
    "\n",
    "donde $d$ es el número de días corridos desde la fecha final del último cupón pagado y la fecha de cálculo."
   ]
  },
  {
   "cell_type": "markdown",
   "metadata": {},
   "source": [
    "En Chile el precio de un instrumento de renta fija está definido como:\n",
    "\n",
    "$$Precio=round\\left(\\frac{ValorPresente(TirMkt)}{ValorPar(TERA)}, 6\\right)$$\n",
    "\n",
    "Luego, el monto a pagar por el bono transado a $TirMkt$ se calcula como:\n",
    "\n",
    "$$Monto=Precio \\cdot ValorPar \\cdot \\frac{Nominal}{100}$$"
   ]
  },
  {
   "cell_type": "markdown",
   "metadata": {},
   "source": [
    "Primeramente, vamos a definir una función que nos ayudará a encontrar la fecha de inicio del cupón corriente. Se aconseja recordar este ejemplo ya que es de mucha utilidad en renta fija. Por ejemplo, en los análisis donde se requiere clasificar en bandas temporales un conjunto de flujos de caja."
   ]
  },
  {
   "cell_type": "code",
   "metadata": {
    "ExecuteTime": {
     "end_time": "2024-08-24T18:25:42.377418Z",
     "start_time": "2024-08-24T18:25:42.374712Z"
    }
   },
   "source": [
    "import bisect # Es parte de la librería estándar de Python."
   ],
   "outputs": [],
   "execution_count": 50
  },
  {
   "cell_type": "code",
   "metadata": {
    "ExecuteTime": {
     "end_time": "2024-08-24T18:25:42.410203Z",
     "start_time": "2024-08-24T18:25:42.407237Z"
    }
   },
   "source": [
    "def find_le(a, x):\n",
    "    \"\"\"\n",
    "    Find rightmost value less than or equal to x.\n",
    "\n",
    "    Esta función está copiada directamente de la documentación de la librería `bisect`.\n",
    "    \"\"\"\n",
    "    i = bisect.bisect_right(a, x)\n",
    "    if i:\n",
    "        return a[i - 1]\n",
    "    raise ValueError(\"x is less than leftmost element in a.\")"
   ],
   "outputs": [],
   "execution_count": 51
  },
  {
   "cell_type": "code",
   "metadata": {
    "hide_input": false,
    "ExecuteTime": {
     "end_time": "2024-08-24T18:25:42.467888Z",
     "start_time": "2024-08-24T18:25:42.463907Z"
    }
   },
   "source": [
    "a = [1, 2, 3, 4.1, 5, 6, 7, 8]\n",
    "x = 4.5\n",
    "find_le(a, x)"
   ],
   "outputs": [
    {
     "data": {
      "text/plain": [
       "4.1"
      ]
     },
     "execution_count": 52,
     "metadata": {},
     "output_type": "execute_result"
    }
   ],
   "execution_count": 52
  },
  {
   "cell_type": "code",
   "metadata": {
    "ExecuteTime": {
     "end_time": "2024-08-24T18:25:42.539673Z",
     "start_time": "2024-08-24T18:25:42.534983Z"
    }
   },
   "source": [
    "def valor_par(bono, fecha, tera):\n",
    "    \"\"\"\n",
    "    El desafío es identificar cuál es el cupón vigente. Luego, conociendo la fecha de inicio\n",
    "    del cupón vigente, se puede calcular d y luego aplicar la fórmula.\n",
    "    \n",
    "    Parameters\n",
    "    ----------\n",
    "    \n",
    "    bono: pandas.DataFrame\n",
    "        Es la tabla de desarrollo del bono. El DataFrame debe tener una columna 'fecha' de tipo `datetime` y una\n",
    "        columna 'capital_insoluto' de tipo `float` o `int`.\n",
    "        \n",
    "    fecha: datetime.date\n",
    "        Fecha a la cual se requiere el cálculo.\n",
    "        \n",
    "    tera: float\n",
    "        Tera del bono.\n",
    "        \n",
    "    Returns\n",
    "    -------\n",
    "    \n",
    "    Un float resultado del cálculo de valor par.\n",
    "    \"\"\"\n",
    "    # Construimos una `List` con las fechas de inicio de todos los cupones.\n",
    "    fechas_inicio = [row.fecha.date() for row in bono.itertuples()]\n",
    "    \n",
    "    # Se verifica que `fecha` no sea posterior al vencimiento del bono.\n",
    "    if fecha >= fechas_inicio[-1]:\n",
    "        raise ValueError('fecha es posterior al vencimiento del bono.')\n",
    "    \n",
    "    # Con la función de ayuda definida más arriba encontramos la fecha de inicio del cupón corriente.\n",
    "    fecha_inicio_ok = find_le(fechas_inicio, fecha)\n",
    "    \n",
    "    # Luego determinamos el saldo insoluto\n",
    "    saldo = bono[bono['fecha'] == fecha_inicio_ok.isoformat()]['capital_insoluto'].iloc[0]\n",
    "    \n",
    "    # Se calcula el número de días.\n",
    "    d = (fecha - fecha_inicio_ok).days\n",
    "    \n",
    "    return saldo * (1 + tera)**(d / 365.0)"
   ],
   "outputs": [],
   "execution_count": 53
  },
  {
   "cell_type": "code",
   "metadata": {
    "ExecuteTime": {
     "end_time": "2024-08-24T18:25:42.567668Z",
     "start_time": "2024-08-24T18:25:42.565185Z"
    }
   },
   "source": [
    "tera = .020085"
   ],
   "outputs": [],
   "execution_count": 54
  },
  {
   "cell_type": "code",
   "metadata": {
    "ExecuteTime": {
     "end_time": "2024-08-24T18:25:42.594094Z",
     "start_time": "2024-08-24T18:25:42.591518Z"
    }
   },
   "source": [
    "fecha_valor = date(2021, 8, 13)"
   ],
   "outputs": [],
   "execution_count": 55
  },
  {
   "cell_type": "code",
   "metadata": {
    "ExecuteTime": {
     "end_time": "2024-08-24T18:25:42.623902Z",
     "start_time": "2024-08-24T18:25:42.618895Z"
    }
   },
   "source": [
    "vpar = valor_par(df_tabla_2, fecha_valor, tera)"
   ],
   "outputs": [],
   "execution_count": 56
  },
  {
   "cell_type": "code",
   "metadata": {
    "ExecuteTime": {
     "end_time": "2024-08-24T18:25:42.686977Z",
     "start_time": "2024-08-24T18:25:42.683181Z"
    }
   },
   "source": [
    "vpar"
   ],
   "outputs": [
    {
     "data": {
      "text/plain": [
       "np.float64(100.90300695613934)"
      ]
     },
     "execution_count": 57,
     "metadata": {},
     "output_type": "execute_result"
    }
   ],
   "execution_count": 57
  },
  {
   "cell_type": "markdown",
   "metadata": {},
   "source": [
    "#### Bonus Points"
   ]
  },
  {
   "cell_type": "markdown",
   "metadata": {},
   "source": [
    "Primero se calcula el valor presente utilizando la función `vp_bono_df` definida más arriba."
   ]
  },
  {
   "cell_type": "code",
   "metadata": {
    "ExecuteTime": {
     "end_time": "2024-08-24T18:25:42.721366Z",
     "start_time": "2024-08-24T18:25:42.718866Z"
    }
   },
   "source": [
    "tir = .0195"
   ],
   "outputs": [],
   "execution_count": 58
  },
  {
   "cell_type": "code",
   "metadata": {
    "ExecuteTime": {
     "end_time": "2024-08-24T18:25:42.763094Z",
     "start_time": "2024-08-24T18:25:42.759597Z"
    }
   },
   "source": [
    "vpresente = vp_bono_df(df_tabla_2, tir, fecha_valor)"
   ],
   "outputs": [],
   "execution_count": 59
  },
  {
   "cell_type": "code",
   "metadata": {
    "ExecuteTime": {
     "end_time": "2024-08-24T18:25:42.790652Z",
     "start_time": "2024-08-24T18:25:42.786884Z"
    }
   },
   "source": [
    "vpresente"
   ],
   "outputs": [
    {
     "data": {
      "text/plain": [
       "101.59334113363484"
      ]
     },
     "execution_count": 60,
     "metadata": {},
     "output_type": "execute_result"
    }
   ],
   "execution_count": 60
  },
  {
   "cell_type": "markdown",
   "metadata": {},
   "source": [
    "Luego calculamos el precio sin redondear:"
   ]
  },
  {
   "cell_type": "code",
   "metadata": {
    "ExecuteTime": {
     "end_time": "2024-08-24T18:25:42.816962Z",
     "start_time": "2024-08-24T18:25:42.814418Z"
    }
   },
   "source": [
    "precio = vpresente / vpar"
   ],
   "outputs": [],
   "execution_count": 61
  },
  {
   "cell_type": "markdown",
   "metadata": {},
   "source": [
    "Finalmente, se muestra el precio redondeado a 2 y 4 decimales:"
   ]
  },
  {
   "cell_type": "code",
   "metadata": {
    "ExecuteTime": {
     "end_time": "2024-08-24T18:25:42.843336Z",
     "start_time": "2024-08-24T18:25:42.840283Z"
    }
   },
   "source": [
    "print(f'Precio a 2 decimales: {precio: .2%}')\n",
    "print(f'Precio a 6 decimales: {precio: .4%}')"
   ],
   "outputs": [
    {
     "name": "stdout",
     "output_type": "stream",
     "text": [
      "Precio a 2 decimales:  100.68%\n",
      "Precio a 6 decimales:  100.6842%\n"
     ]
    }
   ],
   "execution_count": 62
  },
  {
   "cell_type": "markdown",
   "metadata": {},
   "source": [
    "Se compara con RiskAmerica."
   ]
  },
  {
   "cell_type": "markdown",
   "metadata": {},
   "source": [
    "![image](assets/BTU0200335_valorizacion_ra.png)"
   ]
  }
 ],
 "metadata": {
  "hide_input": false,
  "kernelspec": {
   "display_name": "Python 3",
   "language": "python",
   "name": "python3"
  },
  "language_info": {
   "codemirror_mode": {
    "name": "ipython",
    "version": 3
   },
   "file_extension": ".py",
   "mimetype": "text/x-python",
   "name": "python",
   "nbconvert_exporter": "python",
   "pygments_lexer": "ipython3",
   "version": "3.7.3"
  },
  "toc": {
   "base_numbering": 1,
   "nav_menu": {},
   "number_sections": true,
   "sideBar": true,
   "skip_h1_title": true,
   "title_cell": "Table of Contents",
   "title_sidebar": "Contenido",
   "toc_cell": false,
   "toc_position": {
    "height": "calc(100% - 180px)",
    "left": "10px",
    "top": "150px",
    "width": "165px"
   },
   "toc_section_display": true,
   "toc_window_display": false
  }
 },
 "nbformat": 4,
 "nbformat_minor": 4
}
