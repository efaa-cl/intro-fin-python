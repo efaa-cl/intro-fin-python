{
 "cells": [
  {
   "cell_type": "markdown",
   "metadata": {},
   "source": [
    "# `List` y `Dict` Comprehensions"
   ]
  },
  {
   "cell_type": "markdown",
   "metadata": {},
   "source": [
    "Es difícil explicar en abstracto que son las `List` y `Dict` *comprehensions*. Por ahora sólo vamos a decir que son una manera muy potente y rápida de generar `List` y `Dict` a partir de otros `List` y `Dict`. Veamos un par de ejemplos."
   ]
  },
  {
   "cell_type": "markdown",
   "metadata": {},
   "source": [
    "## `List` *Comprehensions*"
   ]
  },
  {
   "cell_type": "markdown",
   "metadata": {},
   "source": [
    "Construir una `List` a partir de otra `List` u otra estrucutura de datos."
   ]
  },
  {
   "cell_type": "markdown",
   "metadata": {},
   "source": [
    "### Ejemplo: Transformar los Elementos de una `List`"
   ]
  },
  {
   "cell_type": "markdown",
   "metadata": {},
   "source": [
    "Supongamos que tenemos una lista de RUTs. Como es típico, los RUTs vienen con formatos inconsistentes, supongamos que pueden venir con o sin separador de miles y con o sin guión antes del dígito verificador. Por ejemplo:\n",
    "\n",
    "- 12.345.678-9\n",
    "- 21543879-9\n",
    "- 214537689\n",
    "\n",
    "Obviamente, antes de utilizar esta lista, queremos homologar los formatos. Para homologar un RUT al formato sin separador de miles y con guión, escribimos la siguiente función:"
   ]
  },
  {
   "cell_type": "code",
   "metadata": {
    "ExecuteTime": {
     "end_time": "2024-08-24T17:53:42.625012Z",
     "start_time": "2024-08-24T17:53:42.621371Z"
    }
   },
   "source": [
    "def estandariza_rut(rut):\n",
    "    \"\"\"\n",
    "    Estandariza un RUT al siguiente formato XXXXXXXX-DV.\n",
    "    \n",
    "    Parameters\n",
    "    ----------\n",
    "    \n",
    "    rut: str o int\n",
    "        Representa un RUT, puede venir con o sin separador de miles, con o sin guión antes del \n",
    "        dígito verificador y podría ser un `int` o un `str`.\n",
    "        \n",
    "    Returns\n",
    "    -------\n",
    "    \n",
    "    El RUT en el formato estandarizado como un `str`.\n",
    "    \"\"\"\n",
    "    # Antes de comenzar la transformación nos aseguramos que el parámetro rut sea un str.\n",
    "    temp = str(rut)\n",
    "    \n",
    "    # Se eliminan eventuales separadores de miles.\n",
    "    temp = temp.replace(\".\", \"\")\n",
    "    temp = temp.replace(\",\", \"\")\n",
    "    \n",
    "    # Se elimina eventual dígito verificador.\n",
    "    temp = temp.replace(\"-\", \"\")\n",
    "    \n",
    "    # Se agrega el dígito verificador y se retorna.\n",
    "    return f'{temp[:-1]}-{temp[-1]}' # slicing"
   ],
   "outputs": [],
   "execution_count": 2
  },
  {
   "cell_type": "markdown",
   "metadata": {},
   "source": [
    "Probemos la función:"
   ]
  },
  {
   "cell_type": "code",
   "metadata": {
    "ExecuteTime": {
     "end_time": "2024-08-24T17:53:42.651185Z",
     "start_time": "2024-08-24T17:53:42.647616Z"
    }
   },
   "source": [
    "ruts = ['12.345.678-9', '21543879-9', 214537689]\n",
    "for rut in ruts:\n",
    "    print(estandariza_rut(rut))"
   ],
   "outputs": [
    {
     "name": "stdout",
     "output_type": "stream",
     "text": [
      "12345678-9\n",
      "21543879-9\n",
      "21453768-9\n"
     ]
    }
   ],
   "execution_count": 3
  },
  {
   "cell_type": "code",
   "metadata": {
    "ExecuteTime": {
     "end_time": "2024-08-24T17:53:42.710586Z",
     "start_time": "2024-08-24T17:53:42.703792Z"
    }
   },
   "source": [
    "ruts_ok = []\n",
    "for rut in ruts:\n",
    "    ruts_ok.append(estandariza_rut(rut))\n",
    "ruts_ok"
   ],
   "outputs": [
    {
     "data": {
      "text/plain": [
       "['12345678-9', '21543879-9', '21453768-9']"
      ]
     },
     "execution_count": 4,
     "metadata": {},
     "output_type": "execute_result"
    }
   ],
   "execution_count": 4
  },
  {
   "cell_type": "markdown",
   "metadata": {},
   "source": [
    "Aplicamos ahora un `List` comprehension para transformar la `List` `ruts` en una `List` con RUTs estandarizados."
   ]
  },
  {
   "cell_type": "code",
   "metadata": {
    "ExecuteTime": {
     "end_time": "2024-08-24T17:53:42.764345Z",
     "start_time": "2024-08-24T17:53:42.759975Z"
    }
   },
   "source": [
    "ruts_ok = [estandariza_rut(rut) for rut in ruts]\n",
    "ruts_ok"
   ],
   "outputs": [
    {
     "data": {
      "text/plain": [
       "['12345678-9', '21543879-9', '21453768-9']"
      ]
     },
     "execution_count": 5,
     "metadata": {},
     "output_type": "execute_result"
    }
   ],
   "execution_count": 5
  },
  {
   "cell_type": "markdown",
   "metadata": {},
   "source": [
    "La mejor manera de pensar y entender esta sintaxis es recordando la notación matemática (del colegio nada complicado) para denotar o definir un conjunto. En este caso el conjunto $Y$ formado por todos los valores transformados por la función $f$ de los elementos del conjunto $X$.\n",
    "\n",
    "$$Y=\\{ f(x):x\\in X \\}$$"
   ]
  },
  {
   "cell_type": "markdown",
   "metadata": {},
   "source": "### Ejercicio: Capitalizar una Lista de Nombres"
  },
  {
   "cell_type": "markdown",
   "metadata": {},
   "source": [
    "Considerar esta `List` de nombres: `nombres = ['maría', 'Rosa', 'josé', 'horacio', 'Anacleta']`.\n",
    "\n",
    "Transformar `nombres` en: `['María', 'Rosa', 'José', 'Horacio', 'Anacleta']`.\n",
    "\n",
    "**Tip:** ir a Google y buscar *capitalize string in python*."
   ]
  },
  {
   "cell_type": "markdown",
   "metadata": {
    "solution2": "hidden",
    "solution2_first": true
   },
   "source": [
    "Solución:"
   ]
  },
  {
   "metadata": {
    "tags": [
     "hide-cell"
    ],
    "ExecuteTime": {
     "end_time": "2024-08-24T17:53:42.819440Z",
     "start_time": "2024-08-24T17:53:42.815016Z"
    }
   },
   "cell_type": "code",
   "source": [
    "# Usando List comprehension. Más elegante y más rápido.\n",
    "nombres = ['maría', 'Rosa', 'josé', 'horacio', 'Anacleta']\n",
    "resultado = [x.capitalize() for x in nombres]\n",
    "print(resultado)\n",
    "\n",
    "# Forma fea\n",
    "resultado1 = []\n",
    "for x in nombres:\n",
    "    resultado1.append(x.capitalize())\n",
    "print(resultado1)"
   ],
   "outputs": [
    {
     "name": "stdout",
     "output_type": "stream",
     "text": [
      "['María', 'Rosa', 'José', 'Horacio', 'Anacleta']\n",
      "['María', 'Rosa', 'José', 'Horacio', 'Anacleta']\n"
     ]
    }
   ],
   "execution_count": 6
  },
  {
   "cell_type": "markdown",
   "metadata": {},
   "source": [
    "### Ejemplo: Filtrar los Elementos de una `List`"
   ]
  },
  {
   "cell_type": "markdown",
   "metadata": {},
   "source": [
    "Tenemos ahora una `List` de `Tuple` donde cada `Tuple` tiene el nombre de un producto comestible y un `bool`que indica si el producto tiene o no sellos (si es `True` entonces tiene sellos)."
   ]
  },
  {
   "cell_type": "code",
   "metadata": {
    "ExecuteTime": {
     "end_time": "2024-08-24T17:53:42.868718Z",
     "start_time": "2024-08-24T17:53:42.865742Z"
    }
   },
   "source": [
    "productos = [\n",
    "    ('Super8', True),\n",
    "    ('Apio', False),\n",
    "    ('Zucaritas', True),\n",
    "    ('Té verde', False)\n",
    "]"
   ],
   "outputs": [],
   "execution_count": 7
  },
  {
   "cell_type": "markdown",
   "metadata": {},
   "source": [
    "Vamos a filtrar los productos sin sellos y almacenarlos en una nueva `List`."
   ]
  },
  {
   "cell_type": "code",
   "metadata": {
    "ExecuteTime": {
     "end_time": "2024-08-24T17:53:42.882696Z",
     "start_time": "2024-08-24T17:53:42.879590Z"
    }
   },
   "source": [
    "productos_con_sellos = [p for p in productos if p[1]]"
   ],
   "outputs": [],
   "execution_count": 8
  },
  {
   "cell_type": "markdown",
   "metadata": {},
   "source": [
    "La expresión `if p[1]` es lo mismo que escribir `if p[1] == True`, pero es más elegante y conciso. Veamos qué obtuvimos."
   ]
  },
  {
   "cell_type": "code",
   "metadata": {
    "ExecuteTime": {
     "end_time": "2024-08-24T17:53:42.911224Z",
     "start_time": "2024-08-24T17:53:42.907281Z"
    }
   },
   "source": [
    "productos_con_sellos"
   ],
   "outputs": [
    {
     "data": {
      "text/plain": [
       "[('Super8', True), ('Zucaritas', True)]"
      ]
     },
     "execution_count": 9,
     "metadata": {},
     "output_type": "execute_result"
    }
   ],
   "execution_count": 9
  },
  {
   "cell_type": "markdown",
   "metadata": {},
   "source": [
    "También usando la notación matemática para conjuntos, esta sintaxis se puede pensar como:\n",
    "\n",
    "$$Y=\\{(x_0, x_1): (x_0, x_1) \\in X \\land x_1 = True \\}$$\n",
    "\n",
    "Aquí, $\\land$ es el símbolo matemático para la condición lógica `and`."
   ]
  },
  {
   "cell_type": "markdown",
   "metadata": {},
   "source": "#### Ejercicio: Filtrar Números"
  },
  {
   "cell_type": "markdown",
   "metadata": {},
   "source": [
    "Considerando la siguiente `List` `rand_nums` de números enteros generados aleatoriamente usando una `List` comprehension:\n",
    "\n",
    "- filtrar todos los elementos superiores a 50\n",
    "- generar la `List` con las raíces cuadradas de los elementos de `rand_nums`."
   ]
  },
  {
   "cell_type": "code",
   "metadata": {
    "solution2": "shown",
    "solution2_first": true,
    "ExecuteTime": {
     "end_time": "2024-08-24T17:53:42.942219Z",
     "start_time": "2024-08-24T17:53:42.939124Z"
    }
   },
   "source": [
    "import random as rnd\n",
    "\n",
    "# En esta librería está la función sqrt para calcular raíces cuadradas\n",
    "import math \n",
    "\n",
    "rand_nums = [rnd.randint(1, 101) for i in range(100)] # Es primera vez que usamos range"
   ],
   "outputs": [],
   "execution_count": 10
  },
  {
   "cell_type": "markdown",
   "metadata": {
    "solution2": "shown"
   },
   "source": [
    "Solución:"
   ]
  },
  {
   "cell_type": "code",
   "metadata": {
    "solution2": "shown",
    "ExecuteTime": {
     "end_time": "2024-08-24T17:53:42.994132Z",
     "start_time": "2024-08-24T17:53:42.990051Z"
    },
    "tags": [
     "hide-cell"
    ]
   },
   "source": [
    "gt_50 = [number for number in rand_nums if number > 50]\n",
    "sqr = [math.sqrt(number) for number in rand_nums]\n",
    "\n",
    "print(rand_nums)\n",
    "print()\n",
    "print(gt_50)\n",
    "print()\n",
    "print(sqr)"
   ],
   "outputs": [
    {
     "name": "stdout",
     "output_type": "stream",
     "text": [
      "[85, 17, 80, 53, 85, 26, 40, 27, 8, 22, 41, 45, 87, 52, 45, 55, 9, 24, 2, 5, 67, 3, 83, 75, 23, 64, 38, 69, 68, 54, 27, 47, 81, 19, 4, 97, 14, 52, 23, 58, 24, 90, 69, 56, 37, 11, 59, 37, 98, 7, 45, 42, 17, 18, 4, 3, 71, 77, 69, 57, 43, 57, 22, 55, 45, 97, 62, 84, 34, 16, 95, 85, 61, 47, 36, 98, 101, 53, 27, 18, 83, 81, 60, 7, 89, 69, 41, 69, 40, 71, 78, 4, 62, 31, 56, 55, 4, 44, 39, 12]\n",
      "\n",
      "[85, 80, 53, 85, 87, 52, 55, 67, 83, 75, 64, 69, 68, 54, 81, 97, 52, 58, 90, 69, 56, 59, 98, 71, 77, 69, 57, 57, 55, 97, 62, 84, 95, 85, 61, 98, 101, 53, 83, 81, 60, 89, 69, 69, 71, 78, 62, 56, 55]\n",
      "\n",
      "[9.219544457292887, 4.123105625617661, 8.94427190999916, 7.280109889280518, 9.219544457292887, 5.0990195135927845, 6.324555320336759, 5.196152422706632, 2.8284271247461903, 4.69041575982343, 6.4031242374328485, 6.708203932499369, 9.327379053088816, 7.211102550927978, 6.708203932499369, 7.416198487095663, 3.0, 4.898979485566356, 1.4142135623730951, 2.23606797749979, 8.18535277187245, 1.7320508075688772, 9.1104335791443, 8.660254037844387, 4.795831523312719, 8.0, 6.164414002968976, 8.306623862918075, 8.246211251235321, 7.3484692283495345, 5.196152422706632, 6.855654600401044, 9.0, 4.358898943540674, 2.0, 9.848857801796104, 3.7416573867739413, 7.211102550927978, 4.795831523312719, 7.615773105863909, 4.898979485566356, 9.486832980505138, 8.306623862918075, 7.483314773547883, 6.082762530298219, 3.3166247903554, 7.681145747868608, 6.082762530298219, 9.899494936611665, 2.6457513110645907, 6.708203932499369, 6.48074069840786, 4.123105625617661, 4.242640687119285, 2.0, 1.7320508075688772, 8.426149773176359, 8.774964387392123, 8.306623862918075, 7.54983443527075, 6.557438524302, 7.54983443527075, 4.69041575982343, 7.416198487095663, 6.708203932499369, 9.848857801796104, 7.874007874011811, 9.16515138991168, 5.830951894845301, 4.0, 9.746794344808963, 9.219544457292887, 7.810249675906654, 6.855654600401044, 6.0, 9.899494936611665, 10.04987562112089, 7.280109889280518, 5.196152422706632, 4.242640687119285, 9.1104335791443, 9.0, 7.745966692414834, 2.6457513110645907, 9.433981132056603, 8.306623862918075, 6.4031242374328485, 8.306623862918075, 6.324555320336759, 8.426149773176359, 8.831760866327848, 2.0, 7.874007874011811, 5.5677643628300215, 7.483314773547883, 7.416198487095663, 2.0, 6.6332495807108, 6.244997998398398, 3.4641016151377544]\n"
     ]
    }
   ],
   "execution_count": 11
  },
  {
   "cell_type": "markdown",
   "metadata": {},
   "source": [
    "##### Ejemplos de `range`"
   ]
  },
  {
   "metadata": {},
   "cell_type": "markdown",
   "source": "Números tales que: $0 \\leq n \\lt 5$"
  },
  {
   "cell_type": "code",
   "metadata": {
    "ExecuteTime": {
     "end_time": "2024-08-24T17:53:43.039742Z",
     "start_time": "2024-08-24T17:53:43.036440Z"
    }
   },
   "source": [
    "for i in range(5):\n",
    "    print(i)"
   ],
   "outputs": [
    {
     "name": "stdout",
     "output_type": "stream",
     "text": [
      "0\n",
      "1\n",
      "2\n",
      "3\n",
      "4\n"
     ]
    }
   ],
   "execution_count": 12
  },
  {
   "metadata": {},
   "cell_type": "markdown",
   "source": "Números tales que: $-1\\leq n \\lt 20$ contando de 2 en 2."
  },
  {
   "cell_type": "code",
   "metadata": {
    "ExecuteTime": {
     "end_time": "2024-08-24T17:53:43.102756Z",
     "start_time": "2024-08-24T17:53:43.099605Z"
    }
   },
   "source": [
    "for i in range(-1, 20, 2):\n",
    "    print(i)"
   ],
   "outputs": [
    {
     "name": "stdout",
     "output_type": "stream",
     "text": [
      "-1\n",
      "1\n",
      "3\n",
      "5\n",
      "7\n",
      "9\n",
      "11\n",
      "13\n",
      "15\n",
      "17\n",
      "19\n"
     ]
    }
   ],
   "execution_count": 13
  },
  {
   "metadata": {},
   "cell_type": "markdown",
   "source": "Documentación de `range`"
  },
  {
   "cell_type": "code",
   "metadata": {
    "ExecuteTime": {
     "end_time": "2024-08-24T17:53:43.165844Z",
     "start_time": "2024-08-24T17:53:43.162567Z"
    }
   },
   "source": [
    "print(range.__doc__) # dunder doc"
   ],
   "outputs": [
    {
     "name": "stdout",
     "output_type": "stream",
     "text": [
      "range(stop) -> range object\n",
      "range(start, stop[, step]) -> range object\n",
      "\n",
      "Return an object that produces a sequence of integers from start (inclusive)\n",
      "to stop (exclusive) by step.  range(i, j) produces i, i+1, i+2, ..., j-1.\n",
      "start defaults to 0, and stop is omitted!  range(4) produces 0, 1, 2, 3.\n",
      "These are exactly the valid indices for a list of 4 elements.\n",
      "When step is given, it specifies the increment (or decrement).\n"
     ]
    }
   ],
   "execution_count": 14
  },
  {
   "cell_type": "code",
   "metadata": {
    "ExecuteTime": {
     "end_time": "2024-08-24T17:53:43.252846Z",
     "start_time": "2024-08-24T17:53:43.248755Z"
    }
   },
   "source": [
    "datos = ['a', 'b', 'c', 'd', 'e']\n",
    "for i in range(len(datos)):\n",
    "    print(datos[i])"
   ],
   "outputs": [
    {
     "name": "stdout",
     "output_type": "stream",
     "text": [
      "a\n",
      "b\n",
      "c\n",
      "d\n",
      "e\n"
     ]
    }
   ],
   "execution_count": 15
  },
  {
   "metadata": {},
   "cell_type": "markdown",
   "source": "Aunque la manera *pythonica* de hacer lo anterior es:"
  },
  {
   "metadata": {
    "ExecuteTime": {
     "end_time": "2024-08-24T17:58:47.096353Z",
     "start_time": "2024-08-24T17:58:47.093449Z"
    }
   },
   "cell_type": "code",
   "source": [
    "for d in datos:\n",
    "    print(d)"
   ],
   "outputs": [
    {
     "name": "stdout",
     "output_type": "stream",
     "text": [
      "a\n",
      "b\n",
      "c\n",
      "d\n",
      "e\n"
     ]
    }
   ],
   "execution_count": 24
  },
  {
   "cell_type": "markdown",
   "metadata": {},
   "source": [
    "## `Dict` *Comprehensions*"
   ]
  },
  {
   "cell_type": "markdown",
   "metadata": {},
   "source": [
    "Construir un `Dict` a partir de otro `Dict`, una `List` u otra estrucutura de datos."
   ]
  },
  {
   "cell_type": "markdown",
   "metadata": {},
   "source": [
    "### Reorganizar una `List`"
   ]
  },
  {
   "cell_type": "markdown",
   "metadata": {},
   "source": [
    "Consideremos la siguiente `List` de `Tuples`. Cada `Tuple` contiene el nombre, edad (años), peso (kilos) y estatura (cm.) de un paciente. Data con esta estructura es la que usualmente se obtiene de la consulta a una base de datos. Sin embargo, si queremos rápidamente acceder a las cifras de un paciente en particular, tener la data almacenada de esta forma, no es lo más conveniente. Si vamos a buscar por nombre, lo más conveniente es usar un `Dict` cuyos `keys` sea el nombre del paciente y cuyos `values` sea la data del paciente."
   ]
  },
  {
   "cell_type": "code",
   "metadata": {
    "ExecuteTime": {
     "end_time": "2024-08-24T17:53:43.291992Z",
     "start_time": "2024-08-24T17:53:43.288770Z"
    }
   },
   "source": [
    "data = [\n",
    "    ('Pedro', 25, 70, 170),\n",
    "    ('Juan', 43, 67, 165),\n",
    "    ('Diego', 18, 90, 180),\n",
    "    ('María', 50, 55, 160),\n",
    "]"
   ],
   "outputs": [],
   "execution_count": 16
  },
  {
   "cell_type": "code",
   "metadata": {
    "ExecuteTime": {
     "end_time": "2024-08-24T17:53:43.313429Z",
     "start_time": "2024-08-24T17:53:43.308474Z"
    }
   },
   "source": [
    "data[0][1:]"
   ],
   "outputs": [
    {
     "data": {
      "text/plain": [
       "(25, 70, 170)"
      ]
     },
     "execution_count": 17,
     "metadata": {},
     "output_type": "execute_result"
    }
   ],
   "execution_count": 17
  },
  {
   "cell_type": "code",
   "metadata": {
    "ExecuteTime": {
     "end_time": "2024-08-24T17:53:43.371004Z",
     "start_time": "2024-08-24T17:53:43.365301Z"
    }
   },
   "source": [
    "data_dict = {d[0]: d[1:] for d in data}\n",
    "data_dict"
   ],
   "outputs": [
    {
     "data": {
      "text/plain": [
       "{'Pedro': (25, 70, 170),\n",
       " 'Juan': (43, 67, 165),\n",
       " 'Diego': (18, 90, 180),\n",
       " 'María': (50, 55, 160)}"
      ]
     },
     "execution_count": 18,
     "metadata": {},
     "output_type": "execute_result"
    }
   ],
   "execution_count": 18
  },
  {
   "cell_type": "markdown",
   "metadata": {},
   "source": [
    "Ahora, si queremos acceder a los datos de María sólo tenemos que:"
   ]
  },
  {
   "cell_type": "code",
   "metadata": {
    "ExecuteTime": {
     "end_time": "2024-08-24T17:53:43.400615Z",
     "start_time": "2024-08-24T17:53:43.396468Z"
    }
   },
   "source": [
    "data_dict['María']"
   ],
   "outputs": [
    {
     "data": {
      "text/plain": [
       "(50, 55, 160)"
      ]
     },
     "execution_count": 19,
     "metadata": {},
     "output_type": "execute_result"
    }
   ],
   "execution_count": 19
  },
  {
   "cell_type": "markdown",
   "metadata": {},
   "source": [
    "### Asignar Nombres a los Datos Numéricos"
   ]
  },
  {
   "cell_type": "markdown",
   "metadata": {},
   "source": [
    "La estructura anterior es sin duda una mejora. Sin embargo, podríamos confundirnos entre la edad y el peso de un paciente. Por ejemplo, María tiene **50** años y pesa **55** kilos. Para que no exista esa confusión, también la data se almacenará en un `Dict`."
   ]
  },
  {
   "cell_type": "code",
   "metadata": {
    "ExecuteTime": {
     "end_time": "2024-08-24T17:53:43.452411Z",
     "start_time": "2024-08-24T17:53:43.449034Z"
    }
   },
   "source": [
    "data_dict_2 = {d[0]: {'edad': d[1], 'peso': d[2], 'estatura': d[3]} for d in data}"
   ],
   "outputs": [],
   "execution_count": 20
  },
  {
   "cell_type": "code",
   "metadata": {
    "ExecuteTime": {
     "end_time": "2024-08-24T17:53:43.470077Z",
     "start_time": "2024-08-24T17:53:43.465464Z"
    }
   },
   "source": [
    "data_dict_2"
   ],
   "outputs": [
    {
     "data": {
      "text/plain": [
       "{'Pedro': {'edad': 25, 'peso': 70, 'estatura': 170},\n",
       " 'Juan': {'edad': 43, 'peso': 67, 'estatura': 165},\n",
       " 'Diego': {'edad': 18, 'peso': 90, 'estatura': 180},\n",
       " 'María': {'edad': 50, 'peso': 55, 'estatura': 160}}"
      ]
     },
     "execution_count": 21,
     "metadata": {},
     "output_type": "execute_result"
    }
   ],
   "execution_count": 21
  },
  {
   "cell_type": "markdown",
   "metadata": {},
   "source": [
    "Ahora, si queremos la edad de María hacemos:"
   ]
  },
  {
   "cell_type": "code",
   "metadata": {
    "ExecuteTime": {
     "end_time": "2024-08-24T17:53:43.505900Z",
     "start_time": "2024-08-24T17:53:43.500730Z"
    }
   },
   "source": [
    "data_dict_2['María']['edad']"
   ],
   "outputs": [
    {
     "data": {
      "text/plain": [
       "50"
      ]
     },
     "execution_count": 22,
     "metadata": {},
     "output_type": "execute_result"
    }
   ],
   "execution_count": 22
  },
  {
   "cell_type": "markdown",
   "metadata": {},
   "source": [
    "Y su peso ..."
   ]
  },
  {
   "cell_type": "code",
   "metadata": {
    "ExecuteTime": {
     "end_time": "2024-08-24T17:53:43.561246Z",
     "start_time": "2024-08-24T17:53:43.556950Z"
    }
   },
   "source": [
    "data_dict_2['María']['peso']"
   ],
   "outputs": [
    {
     "data": {
      "text/plain": [
       "55"
      ]
     },
     "execution_count": 23,
     "metadata": {},
     "output_type": "execute_result"
    }
   ],
   "execution_count": 23
  }
 ],
 "metadata": {
  "hide_input": false,
  "kernelspec": {
   "display_name": "Python 3 (ipykernel)",
   "language": "python",
   "name": "python3"
  },
  "language_info": {
   "codemirror_mode": {
    "name": "ipython",
    "version": 3
   },
   "file_extension": ".py",
   "mimetype": "text/x-python",
   "name": "python",
   "nbconvert_exporter": "python",
   "pygments_lexer": "ipython3",
   "version": "3.12.1"
  },
  "toc": {
   "base_numbering": 1,
   "nav_menu": {},
   "number_sections": true,
   "sideBar": true,
   "skip_h1_title": true,
   "title_cell": "Table of Contents",
   "title_sidebar": "Contenido",
   "toc_cell": false,
   "toc_position": {
    "height": "calc(100% - 180px)",
    "left": "10px",
    "top": "150px",
    "width": "165px"
   },
   "toc_section_display": true,
   "toc_window_display": true
  }
 },
 "nbformat": 4,
 "nbformat_minor": 4
}
