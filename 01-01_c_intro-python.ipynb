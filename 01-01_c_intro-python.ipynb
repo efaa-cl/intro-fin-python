{
 "cells": [
  {
   "cell_type": "markdown",
   "metadata": {},
   "source": "# Tarea 1"
  },
  {
   "cell_type": "markdown",
   "metadata": {},
   "source": [
    "Calcular el valor presente de los siguientes flujos:"
   ]
  },
  {
   "cell_type": "code",
   "execution_count": null,
   "metadata": {
    "ExecuteTime": {
     "end_time": "2021-07-23T01:43:34.087265Z",
     "start_time": "2021-07-23T01:43:34.080329Z"
    }
   },
   "outputs": [],
   "source": [
    "flujos = [1, 1, 1, 1, 1, 1, 1, 1, 1, 101]"
   ]
  },
  {
   "cell_type": "markdown",
   "metadata": {},
   "source": [
    "Los plazos de los flujos en días son:"
   ]
  },
  {
   "cell_type": "code",
   "execution_count": null,
   "metadata": {
    "ExecuteTime": {
     "end_time": "2021-07-23T01:46:29.610325Z",
     "start_time": "2021-07-23T01:46:29.590283Z"
    }
   },
   "outputs": [],
   "source": [
    "plazos = [182, 365, 547, 730, 912, 1095, 1277, 1460, 1642, 1825]"
   ]
  },
  {
   "cell_type": "markdown",
   "metadata": {},
   "source": [
    "Para calcular el valor presente usar una tasa del 2.00% compuesta act/365, la misma convención de la TIR de mercado que usa la Bolsa de Comercio."
   ]
  },
  {
   "cell_type": "markdown",
   "metadata": {},
   "source": [
    "**Pista:**"
   ]
  },
  {
   "cell_type": "code",
   "execution_count": null,
   "metadata": {
    "ExecuteTime": {
     "end_time": "2021-07-23T01:48:36.487986Z",
     "start_time": "2021-07-23T01:48:36.476982Z"
    }
   },
   "outputs": [],
   "source": [
    "for p in plazos:\n",
    "    print(p)"
   ]
  },
  {
   "cell_type": "code",
   "execution_count": null,
   "metadata": {
    "ExecuteTime": {
     "end_time": "2021-07-23T01:48:46.856932Z",
     "start_time": "2021-07-23T01:48:46.846563Z"
    }
   },
   "outputs": [],
   "source": [
    "for f in flujos:\n",
    "    print(f)"
   ]
  },
  {
   "cell_type": "markdown",
   "metadata": {},
   "source": [
    "Investigar el `zip` de 2 o más `list` en Python, esto permite iterar en paralelo con varias `list`."
   ]
  }
 ],
 "metadata": {
  "hide_input": false,
  "kernelspec": {
   "display_name": "Python 3",
   "language": "python",
   "name": "python3"
  },
  "language_info": {
   "codemirror_mode": {
    "name": "ipython",
    "version": 3
   },
   "file_extension": ".py",
   "mimetype": "text/x-python",
   "name": "python",
   "nbconvert_exporter": "python",
   "pygments_lexer": "ipython3",
   "version": "3.7.3"
  },
  "toc": {
   "base_numbering": 1,
   "nav_menu": {},
   "number_sections": true,
   "sideBar": true,
   "skip_h1_title": true,
   "title_cell": "Table of Contents",
   "title_sidebar": "Contenido",
   "toc_cell": false,
   "toc_position": {
    "height": "calc(100% - 180px)",
    "left": "10px",
    "top": "150px",
    "width": "168px"
   },
   "toc_section_display": true,
   "toc_window_display": true
  }
 },
 "nbformat": 4,
 "nbformat_minor": 4
}
