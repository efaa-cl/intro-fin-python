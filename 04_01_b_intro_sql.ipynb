{
 "cells": [
  {
   "cell_type": "markdown",
   "metadata": {},
   "source": [
    "# Ejercicio"
   ]
  },
  {
   "cell_type": "markdown",
   "metadata": {},
   "source": [
    "Vamos a construir una BBDD en SQLite que modele, de forma muy estilizada, las necesidades de un administrador de cartera.\n",
    "\n",
    "De forma muy sencilla:\n",
    "\n",
    "- un administrador tiene clientes, \n",
    "- que tiene cuentas de inversión, \n",
    "- a esas cuentas le hacen aportes y retiros de capital \n",
    "- y con ese capital compran y venden activos financieros."
   ]
  },
  {
   "cell_type": "markdown",
   "metadata": {},
   "source": [
    "## Creación de la Base de Datos"
   ]
  },
  {
   "cell_type": "code",
   "metadata": {
    "ExecuteTime": {
     "end_time": "2024-09-08T10:30:04.508106Z",
     "start_time": "2024-09-08T10:30:04.502657Z"
    }
   },
   "source": [
    "import sqlite3"
   ],
   "outputs": [],
   "execution_count": 1
  },
  {
   "cell_type": "markdown",
   "metadata": {},
   "source": [
    "Si el archivo no existe, SQLite lo creará en la ruta especificada."
   ]
  },
  {
   "cell_type": "code",
   "metadata": {
    "ExecuteTime": {
     "end_time": "2024-09-08T10:31:06.964226Z",
     "start_time": "2024-09-08T10:31:06.961159Z"
    }
   },
   "source": [
    "conn = sqlite3.connect('data/administrador.db') "
   ],
   "outputs": [],
   "execution_count": 3
  },
  {
   "cell_type": "markdown",
   "metadata": {},
   "source": [
    "Se crea el objeto `cursor`."
   ]
  },
  {
   "cell_type": "code",
   "metadata": {
    "ExecuteTime": {
     "end_time": "2024-09-08T10:31:13.674733Z",
     "start_time": "2024-09-08T10:31:13.671952Z"
    }
   },
   "source": [
    "cursor = conn.cursor()"
   ],
   "outputs": [],
   "execution_count": 4
  },
  {
   "cell_type": "markdown",
   "metadata": {},
   "source": [
    "Para habilitar las llaves foráneas."
   ]
  },
  {
   "cell_type": "code",
   "metadata": {
    "ExecuteTime": {
     "end_time": "2024-09-08T10:31:22.021051Z",
     "start_time": "2024-09-08T10:31:22.015101Z"
    }
   },
   "source": [
    "cursor.execute(\"PRAGMA foreign_keys = 1\")"
   ],
   "outputs": [
    {
     "data": {
      "text/plain": [
       "<sqlite3.Cursor at 0x112bb2940>"
      ]
     },
     "execution_count": 5,
     "metadata": {},
     "output_type": "execute_result"
    }
   ],
   "execution_count": 5
  },
  {
   "cell_type": "markdown",
   "metadata": {},
   "source": [
    "La siguiente función nos permitirá ver las tablas de la base de datos."
   ]
  },
  {
   "cell_type": "code",
   "metadata": {
    "ExecuteTime": {
     "end_time": "2024-09-08T10:31:42.054961Z",
     "start_time": "2024-09-08T10:31:41.202055Z"
    }
   },
   "source": [
    "import pandas as pd"
   ],
   "outputs": [],
   "execution_count": 6
  },
  {
   "cell_type": "code",
   "metadata": {
    "ExecuteTime": {
     "end_time": "2024-09-08T10:31:43.110810Z",
     "start_time": "2024-09-08T10:31:43.105968Z"
    }
   },
   "source": [
    "def show_tables(conn):\n",
    "    qry_tables = \"SELECT name, sql FROM sqlite_master WHERE type = 'table'\"\n",
    "    return pd.read_sql(qry_tables, conn)"
   ],
   "outputs": [],
   "execution_count": 7
  },
  {
   "cell_type": "markdown",
   "metadata": {},
   "source": [
    "¿Qué hay ahora en la BBDD?"
   ]
  },
  {
   "cell_type": "code",
   "metadata": {
    "ExecuteTime": {
     "end_time": "2024-09-08T10:31:46.412528Z",
     "start_time": "2024-09-08T10:31:46.397947Z"
    }
   },
   "source": [
    "show_tables(conn)"
   ],
   "outputs": [
    {
     "data": {
      "text/plain": [
       "Empty DataFrame\n",
       "Columns: [name, sql]\n",
       "Index: []"
      ],
      "text/html": [
       "<div>\n",
       "<style scoped>\n",
       "    .dataframe tbody tr th:only-of-type {\n",
       "        vertical-align: middle;\n",
       "    }\n",
       "\n",
       "    .dataframe tbody tr th {\n",
       "        vertical-align: top;\n",
       "    }\n",
       "\n",
       "    .dataframe thead th {\n",
       "        text-align: right;\n",
       "    }\n",
       "</style>\n",
       "<table border=\"1\" class=\"dataframe\">\n",
       "  <thead>\n",
       "    <tr style=\"text-align: right;\">\n",
       "      <th></th>\n",
       "      <th>name</th>\n",
       "      <th>sql</th>\n",
       "    </tr>\n",
       "  </thead>\n",
       "  <tbody>\n",
       "  </tbody>\n",
       "</table>\n",
       "</div>"
      ]
     },
     "execution_count": 8,
     "metadata": {},
     "output_type": "execute_result"
    }
   ],
   "execution_count": 8
  },
  {
   "cell_type": "markdown",
   "metadata": {},
   "source": [
    "Vemos que todavía no hay ninguna tabla."
   ]
  },
  {
   "cell_type": "markdown",
   "metadata": {},
   "source": [
    "## Tablas"
   ]
  },
  {
   "cell_type": "markdown",
   "metadata": {},
   "source": [
    "La BBDD tendrá las siguientes tablas:\n",
    "\n",
    "- clientes\n",
    "- cuentas\n",
    "- tipos de movimientos (compras, ventas, aportes, retiros)\n",
    "- caja (cantidad de efectivo disponible en una cuenta)\n",
    "- tipos de inversión (supondremos para simplificar que sólo se invierte en cuotas de fondos y acciones)\n",
    "- inversiones (de una cuenta)\n",
    "- precios de mercado (de las cuotas de fondos)"
   ]
  },
  {
   "cell_type": "markdown",
   "metadata": {},
   "source": [
    "### Tabla `clientes`"
   ]
  },
  {
   "cell_type": "markdown",
   "metadata": {},
   "source": [
    "Notar las restricciones de tipo `UNIQUE` en los campos `email` y `telefono`. Estas restricciones indican que estos campos deben ser únicos para cada registro, es decir, dos o más clientes **NO** pueden tener el mismo email o teléfono."
   ]
  },
  {
   "cell_type": "code",
   "metadata": {
    "ExecuteTime": {
     "end_time": "2024-09-08T10:32:27.417221Z",
     "start_time": "2024-09-08T10:32:27.414210Z"
    }
   },
   "source": [
    "qry = \"CREATE TABLE IF NOT EXISTS clientes ( \\\n",
    "id INTEGER PRIMARY KEY AUTOINCREMENT, \\\n",
    "nombre TEXT NOT NULL, \\\n",
    "apellido TEXT NOT NULL, \\\n",
    "email TEXT NOT NULL UNIQUE, \\\n",
    "telefono TEXT NOT NULL UNIQUE \\\n",
    ")\""
   ],
   "outputs": [],
   "execution_count": 9
  },
  {
   "cell_type": "code",
   "metadata": {
    "ExecuteTime": {
     "end_time": "2024-09-08T10:32:32.785082Z",
     "start_time": "2024-09-08T10:32:32.780403Z"
    }
   },
   "source": [
    "cursor.execute(qry)"
   ],
   "outputs": [
    {
     "data": {
      "text/plain": [
       "<sqlite3.Cursor at 0x112bb2940>"
      ]
     },
     "execution_count": 10,
     "metadata": {},
     "output_type": "execute_result"
    }
   ],
   "execution_count": 10
  },
  {
   "cell_type": "markdown",
   "metadata": {},
   "source": [
    "Verifiquemos el resultado."
   ]
  },
  {
   "cell_type": "code",
   "metadata": {
    "ExecuteTime": {
     "end_time": "2024-09-08T10:32:41.129035Z",
     "start_time": "2024-09-08T10:32:41.121417Z"
    }
   },
   "source": [
    "show_tables(conn)"
   ],
   "outputs": [
    {
     "data": {
      "text/plain": [
       "              name                                                sql\n",
       "0         clientes  CREATE TABLE clientes ( id INTEGER PRIMARY KEY...\n",
       "1  sqlite_sequence             CREATE TABLE sqlite_sequence(name,seq)"
      ],
      "text/html": [
       "<div>\n",
       "<style scoped>\n",
       "    .dataframe tbody tr th:only-of-type {\n",
       "        vertical-align: middle;\n",
       "    }\n",
       "\n",
       "    .dataframe tbody tr th {\n",
       "        vertical-align: top;\n",
       "    }\n",
       "\n",
       "    .dataframe thead th {\n",
       "        text-align: right;\n",
       "    }\n",
       "</style>\n",
       "<table border=\"1\" class=\"dataframe\">\n",
       "  <thead>\n",
       "    <tr style=\"text-align: right;\">\n",
       "      <th></th>\n",
       "      <th>name</th>\n",
       "      <th>sql</th>\n",
       "    </tr>\n",
       "  </thead>\n",
       "  <tbody>\n",
       "    <tr>\n",
       "      <th>0</th>\n",
       "      <td>clientes</td>\n",
       "      <td>CREATE TABLE clientes ( id INTEGER PRIMARY KEY...</td>\n",
       "    </tr>\n",
       "    <tr>\n",
       "      <th>1</th>\n",
       "      <td>sqlite_sequence</td>\n",
       "      <td>CREATE TABLE sqlite_sequence(name,seq)</td>\n",
       "    </tr>\n",
       "  </tbody>\n",
       "</table>\n",
       "</div>"
      ]
     },
     "execution_count": 11,
     "metadata": {},
     "output_type": "execute_result"
    }
   ],
   "execution_count": 11
  },
  {
   "cell_type": "markdown",
   "metadata": {},
   "source": [
    "¿Y la tabla `sqlite_sequence`?"
   ]
  },
  {
   "cell_type": "code",
   "metadata": {
    "ExecuteTime": {
     "end_time": "2024-09-08T10:32:47.897933Z",
     "start_time": "2024-09-08T10:32:47.891887Z"
    }
   },
   "source": [
    "pd.read_sql(\"SELECT * FROM sqlite_sequence\", conn)"
   ],
   "outputs": [
    {
     "data": {
      "text/plain": [
       "Empty DataFrame\n",
       "Columns: [name, seq]\n",
       "Index: []"
      ],
      "text/html": [
       "<div>\n",
       "<style scoped>\n",
       "    .dataframe tbody tr th:only-of-type {\n",
       "        vertical-align: middle;\n",
       "    }\n",
       "\n",
       "    .dataframe tbody tr th {\n",
       "        vertical-align: top;\n",
       "    }\n",
       "\n",
       "    .dataframe thead th {\n",
       "        text-align: right;\n",
       "    }\n",
       "</style>\n",
       "<table border=\"1\" class=\"dataframe\">\n",
       "  <thead>\n",
       "    <tr style=\"text-align: right;\">\n",
       "      <th></th>\n",
       "      <th>name</th>\n",
       "      <th>seq</th>\n",
       "    </tr>\n",
       "  </thead>\n",
       "  <tbody>\n",
       "  </tbody>\n",
       "</table>\n",
       "</div>"
      ]
     },
     "execution_count": 12,
     "metadata": {},
     "output_type": "execute_result"
    }
   ],
   "execution_count": 12
  },
  {
   "cell_type": "markdown",
   "metadata": {},
   "source": [
    "Con esta función vamos a ir viendo si la tabla cambia más adelante."
   ]
  },
  {
   "cell_type": "code",
   "metadata": {
    "ExecuteTime": {
     "end_time": "2024-09-08T10:33:15.369172Z",
     "start_time": "2024-09-08T10:33:15.366362Z"
    }
   },
   "source": [
    "def sql_seq():\n",
    "    return pd.read_sql(\"SELECT * FROM sqlite_sequence\", conn)"
   ],
   "outputs": [],
   "execution_count": 13
  },
  {
   "cell_type": "markdown",
   "metadata": {},
   "source": [
    "### Tabla `cuentas`"
   ]
  },
  {
   "cell_type": "markdown",
   "metadata": {},
   "source": [
    "La tabla `cuentas` tendrá una llave foránea hacia la tabla `clientes`. Este campo permite establecer de qué cliente es la cuenta."
   ]
  },
  {
   "cell_type": "code",
   "metadata": {
    "ExecuteTime": {
     "end_time": "2024-09-08T10:33:28.442075Z",
     "start_time": "2024-09-08T10:33:28.439031Z"
    }
   },
   "source": [
    "qry = \"CREATE TABLE IF NOT EXISTS cuentas ( \\\n",
    "id INTEGER PRIMARY KEY AUTOINCREMENT, \\\n",
    "nombre TEXT NOT NULL, \\\n",
    "id_cliente INTEGER, \\\n",
    "FOREIGN KEY (id_cliente) REFERENCES clientes (id) \\\n",
    "ON DELETE NO ACTION ON UPDATE NO ACTION \\\n",
    ")\""
   ],
   "outputs": [],
   "execution_count": 14
  },
  {
   "cell_type": "code",
   "metadata": {
    "ExecuteTime": {
     "end_time": "2024-09-08T10:33:38.129347Z",
     "start_time": "2024-09-08T10:33:38.124385Z"
    }
   },
   "source": [
    "cursor.execute(qry)"
   ],
   "outputs": [
    {
     "data": {
      "text/plain": [
       "<sqlite3.Cursor at 0x112bb2940>"
      ]
     },
     "execution_count": 15,
     "metadata": {},
     "output_type": "execute_result"
    }
   ],
   "execution_count": 15
  },
  {
   "cell_type": "code",
   "metadata": {
    "ExecuteTime": {
     "end_time": "2024-09-08T10:33:41.065340Z",
     "start_time": "2024-09-08T10:33:41.058884Z"
    }
   },
   "source": [
    "show_tables(conn)"
   ],
   "outputs": [
    {
     "data": {
      "text/plain": [
       "              name                                                sql\n",
       "0         clientes  CREATE TABLE clientes ( id INTEGER PRIMARY KEY...\n",
       "1  sqlite_sequence             CREATE TABLE sqlite_sequence(name,seq)\n",
       "2          cuentas  CREATE TABLE cuentas ( id INTEGER PRIMARY KEY ..."
      ],
      "text/html": [
       "<div>\n",
       "<style scoped>\n",
       "    .dataframe tbody tr th:only-of-type {\n",
       "        vertical-align: middle;\n",
       "    }\n",
       "\n",
       "    .dataframe tbody tr th {\n",
       "        vertical-align: top;\n",
       "    }\n",
       "\n",
       "    .dataframe thead th {\n",
       "        text-align: right;\n",
       "    }\n",
       "</style>\n",
       "<table border=\"1\" class=\"dataframe\">\n",
       "  <thead>\n",
       "    <tr style=\"text-align: right;\">\n",
       "      <th></th>\n",
       "      <th>name</th>\n",
       "      <th>sql</th>\n",
       "    </tr>\n",
       "  </thead>\n",
       "  <tbody>\n",
       "    <tr>\n",
       "      <th>0</th>\n",
       "      <td>clientes</td>\n",
       "      <td>CREATE TABLE clientes ( id INTEGER PRIMARY KEY...</td>\n",
       "    </tr>\n",
       "    <tr>\n",
       "      <th>1</th>\n",
       "      <td>sqlite_sequence</td>\n",
       "      <td>CREATE TABLE sqlite_sequence(name,seq)</td>\n",
       "    </tr>\n",
       "    <tr>\n",
       "      <th>2</th>\n",
       "      <td>cuentas</td>\n",
       "      <td>CREATE TABLE cuentas ( id INTEGER PRIMARY KEY ...</td>\n",
       "    </tr>\n",
       "  </tbody>\n",
       "</table>\n",
       "</div>"
      ]
     },
     "execution_count": 16,
     "metadata": {},
     "output_type": "execute_result"
    }
   ],
   "execution_count": 16
  },
  {
   "cell_type": "code",
   "metadata": {
    "ExecuteTime": {
     "end_time": "2024-09-08T10:33:53.089443Z",
     "start_time": "2024-09-08T10:33:53.083837Z"
    }
   },
   "source": "sql_seq()",
   "outputs": [
    {
     "data": {
      "text/plain": [
       "Empty DataFrame\n",
       "Columns: [name, seq]\n",
       "Index: []"
      ],
      "text/html": [
       "<div>\n",
       "<style scoped>\n",
       "    .dataframe tbody tr th:only-of-type {\n",
       "        vertical-align: middle;\n",
       "    }\n",
       "\n",
       "    .dataframe tbody tr th {\n",
       "        vertical-align: top;\n",
       "    }\n",
       "\n",
       "    .dataframe thead th {\n",
       "        text-align: right;\n",
       "    }\n",
       "</style>\n",
       "<table border=\"1\" class=\"dataframe\">\n",
       "  <thead>\n",
       "    <tr style=\"text-align: right;\">\n",
       "      <th></th>\n",
       "      <th>name</th>\n",
       "      <th>seq</th>\n",
       "    </tr>\n",
       "  </thead>\n",
       "  <tbody>\n",
       "  </tbody>\n",
       "</table>\n",
       "</div>"
      ]
     },
     "execution_count": 17,
     "metadata": {},
     "output_type": "execute_result"
    }
   ],
   "execution_count": 17
  },
  {
   "cell_type": "markdown",
   "metadata": {},
   "source": [
    "### Tabla `tipo_movimiento`"
   ]
  },
  {
   "cell_type": "markdown",
   "metadata": {},
   "source": [
    "Esta tabla registra los tipos de movimientos válidos de caja. Éstos serán `APORTE`, `RETIRO`, `COMPRA` y `VENTA`."
   ]
  },
  {
   "cell_type": "code",
   "metadata": {
    "ExecuteTime": {
     "end_time": "2024-09-08T10:34:23.142811Z",
     "start_time": "2024-09-08T10:34:23.139539Z"
    }
   },
   "source": [
    "qry = \"CREATE TABLE IF NOT EXISTS tipo_movimiento ( \\\n",
    "id INTEGER PRIMARY KEY AUTOINCREMENT, \\\n",
    "codigo TEXT NOT NULL UNIQUE \\\n",
    ")\""
   ],
   "outputs": [],
   "execution_count": 18
  },
  {
   "cell_type": "code",
   "metadata": {
    "ExecuteTime": {
     "end_time": "2024-09-08T10:34:29.623218Z",
     "start_time": "2024-09-08T10:34:29.618546Z"
    }
   },
   "source": [
    "cursor.execute(qry)"
   ],
   "outputs": [
    {
     "data": {
      "text/plain": [
       "<sqlite3.Cursor at 0x112bb2940>"
      ]
     },
     "execution_count": 19,
     "metadata": {},
     "output_type": "execute_result"
    }
   ],
   "execution_count": 19
  },
  {
   "cell_type": "code",
   "metadata": {
    "ExecuteTime": {
     "end_time": "2024-09-08T10:34:32.281517Z",
     "start_time": "2024-09-08T10:34:32.275020Z"
    }
   },
   "source": [
    "show_tables(conn)"
   ],
   "outputs": [
    {
     "data": {
      "text/plain": [
       "              name                                                sql\n",
       "0         clientes  CREATE TABLE clientes ( id INTEGER PRIMARY KEY...\n",
       "1  sqlite_sequence             CREATE TABLE sqlite_sequence(name,seq)\n",
       "2          cuentas  CREATE TABLE cuentas ( id INTEGER PRIMARY KEY ...\n",
       "3  tipo_movimiento  CREATE TABLE tipo_movimiento ( id INTEGER PRIM..."
      ],
      "text/html": [
       "<div>\n",
       "<style scoped>\n",
       "    .dataframe tbody tr th:only-of-type {\n",
       "        vertical-align: middle;\n",
       "    }\n",
       "\n",
       "    .dataframe tbody tr th {\n",
       "        vertical-align: top;\n",
       "    }\n",
       "\n",
       "    .dataframe thead th {\n",
       "        text-align: right;\n",
       "    }\n",
       "</style>\n",
       "<table border=\"1\" class=\"dataframe\">\n",
       "  <thead>\n",
       "    <tr style=\"text-align: right;\">\n",
       "      <th></th>\n",
       "      <th>name</th>\n",
       "      <th>sql</th>\n",
       "    </tr>\n",
       "  </thead>\n",
       "  <tbody>\n",
       "    <tr>\n",
       "      <th>0</th>\n",
       "      <td>clientes</td>\n",
       "      <td>CREATE TABLE clientes ( id INTEGER PRIMARY KEY...</td>\n",
       "    </tr>\n",
       "    <tr>\n",
       "      <th>1</th>\n",
       "      <td>sqlite_sequence</td>\n",
       "      <td>CREATE TABLE sqlite_sequence(name,seq)</td>\n",
       "    </tr>\n",
       "    <tr>\n",
       "      <th>2</th>\n",
       "      <td>cuentas</td>\n",
       "      <td>CREATE TABLE cuentas ( id INTEGER PRIMARY KEY ...</td>\n",
       "    </tr>\n",
       "    <tr>\n",
       "      <th>3</th>\n",
       "      <td>tipo_movimiento</td>\n",
       "      <td>CREATE TABLE tipo_movimiento ( id INTEGER PRIM...</td>\n",
       "    </tr>\n",
       "  </tbody>\n",
       "</table>\n",
       "</div>"
      ]
     },
     "execution_count": 20,
     "metadata": {},
     "output_type": "execute_result"
    }
   ],
   "execution_count": 20
  },
  {
   "cell_type": "code",
   "metadata": {
    "ExecuteTime": {
     "end_time": "2024-09-08T10:34:38.602364Z",
     "start_time": "2024-09-08T10:34:38.595483Z"
    }
   },
   "source": "sql_seq()",
   "outputs": [
    {
     "data": {
      "text/plain": [
       "Empty DataFrame\n",
       "Columns: [name, seq]\n",
       "Index: []"
      ],
      "text/html": [
       "<div>\n",
       "<style scoped>\n",
       "    .dataframe tbody tr th:only-of-type {\n",
       "        vertical-align: middle;\n",
       "    }\n",
       "\n",
       "    .dataframe tbody tr th {\n",
       "        vertical-align: top;\n",
       "    }\n",
       "\n",
       "    .dataframe thead th {\n",
       "        text-align: right;\n",
       "    }\n",
       "</style>\n",
       "<table border=\"1\" class=\"dataframe\">\n",
       "  <thead>\n",
       "    <tr style=\"text-align: right;\">\n",
       "      <th></th>\n",
       "      <th>name</th>\n",
       "      <th>seq</th>\n",
       "    </tr>\n",
       "  </thead>\n",
       "  <tbody>\n",
       "  </tbody>\n",
       "</table>\n",
       "</div>"
      ]
     },
     "execution_count": 21,
     "metadata": {},
     "output_type": "execute_result"
    }
   ],
   "execution_count": 21
  },
  {
   "cell_type": "markdown",
   "metadata": {},
   "source": [
    "### Tabla `caja`"
   ]
  },
  {
   "cell_type": "markdown",
   "metadata": {},
   "source": [
    "En esta tabla se registrarán los movimientos de caja de las cuentas."
   ]
  },
  {
   "cell_type": "code",
   "metadata": {
    "ExecuteTime": {
     "end_time": "2024-09-08T10:34:50.442201Z",
     "start_time": "2024-09-08T10:34:50.437995Z"
    }
   },
   "source": [
    "qry = \"CREATE TABLE IF NOT EXISTS caja ( \\\n",
    "id INTEGER PRIMARY KEY AUTOINCREMENT, \\\n",
    "id_cuenta INTEGER, \\\n",
    "codigo_movimiento TEXT NOT NULL, \\\n",
    "monto NUMERIC NOT NULL, \\\n",
    "FOREIGN KEY (id_cuenta) REFERENCES cuentas (id) \\\n",
    "ON DELETE NO ACTION ON UPDATE NO ACTION, \\\n",
    "FOREIGN KEY (codigo_movimiento) REFERENCES tipo_movimiento (codigo) \\\n",
    "ON DELETE NO ACTION ON UPDATE NO ACTION \\\n",
    ")\""
   ],
   "outputs": [],
   "execution_count": 22
  },
  {
   "cell_type": "code",
   "metadata": {
    "ExecuteTime": {
     "end_time": "2024-09-08T10:34:52.620156Z",
     "start_time": "2024-09-08T10:34:52.615214Z"
    }
   },
   "source": [
    "cursor.execute(qry)"
   ],
   "outputs": [
    {
     "data": {
      "text/plain": [
       "<sqlite3.Cursor at 0x112bb2940>"
      ]
     },
     "execution_count": 23,
     "metadata": {},
     "output_type": "execute_result"
    }
   ],
   "execution_count": 23
  },
  {
   "cell_type": "code",
   "metadata": {
    "ExecuteTime": {
     "end_time": "2024-09-08T10:34:55.728646Z",
     "start_time": "2024-09-08T10:34:55.721942Z"
    }
   },
   "source": [
    "show_tables(conn)"
   ],
   "outputs": [
    {
     "data": {
      "text/plain": [
       "              name                                                sql\n",
       "0         clientes  CREATE TABLE clientes ( id INTEGER PRIMARY KEY...\n",
       "1  sqlite_sequence             CREATE TABLE sqlite_sequence(name,seq)\n",
       "2          cuentas  CREATE TABLE cuentas ( id INTEGER PRIMARY KEY ...\n",
       "3  tipo_movimiento  CREATE TABLE tipo_movimiento ( id INTEGER PRIM...\n",
       "4             caja  CREATE TABLE caja ( id INTEGER PRIMARY KEY AUT..."
      ],
      "text/html": [
       "<div>\n",
       "<style scoped>\n",
       "    .dataframe tbody tr th:only-of-type {\n",
       "        vertical-align: middle;\n",
       "    }\n",
       "\n",
       "    .dataframe tbody tr th {\n",
       "        vertical-align: top;\n",
       "    }\n",
       "\n",
       "    .dataframe thead th {\n",
       "        text-align: right;\n",
       "    }\n",
       "</style>\n",
       "<table border=\"1\" class=\"dataframe\">\n",
       "  <thead>\n",
       "    <tr style=\"text-align: right;\">\n",
       "      <th></th>\n",
       "      <th>name</th>\n",
       "      <th>sql</th>\n",
       "    </tr>\n",
       "  </thead>\n",
       "  <tbody>\n",
       "    <tr>\n",
       "      <th>0</th>\n",
       "      <td>clientes</td>\n",
       "      <td>CREATE TABLE clientes ( id INTEGER PRIMARY KEY...</td>\n",
       "    </tr>\n",
       "    <tr>\n",
       "      <th>1</th>\n",
       "      <td>sqlite_sequence</td>\n",
       "      <td>CREATE TABLE sqlite_sequence(name,seq)</td>\n",
       "    </tr>\n",
       "    <tr>\n",
       "      <th>2</th>\n",
       "      <td>cuentas</td>\n",
       "      <td>CREATE TABLE cuentas ( id INTEGER PRIMARY KEY ...</td>\n",
       "    </tr>\n",
       "    <tr>\n",
       "      <th>3</th>\n",
       "      <td>tipo_movimiento</td>\n",
       "      <td>CREATE TABLE tipo_movimiento ( id INTEGER PRIM...</td>\n",
       "    </tr>\n",
       "    <tr>\n",
       "      <th>4</th>\n",
       "      <td>caja</td>\n",
       "      <td>CREATE TABLE caja ( id INTEGER PRIMARY KEY AUT...</td>\n",
       "    </tr>\n",
       "  </tbody>\n",
       "</table>\n",
       "</div>"
      ]
     },
     "execution_count": 24,
     "metadata": {},
     "output_type": "execute_result"
    }
   ],
   "execution_count": 24
  },
  {
   "cell_type": "code",
   "metadata": {
    "ExecuteTime": {
     "end_time": "2024-09-08T10:35:03.897979Z",
     "start_time": "2024-09-08T10:35:03.892023Z"
    }
   },
   "source": "sql_seq()",
   "outputs": [
    {
     "data": {
      "text/plain": [
       "Empty DataFrame\n",
       "Columns: [name, seq]\n",
       "Index: []"
      ],
      "text/html": [
       "<div>\n",
       "<style scoped>\n",
       "    .dataframe tbody tr th:only-of-type {\n",
       "        vertical-align: middle;\n",
       "    }\n",
       "\n",
       "    .dataframe tbody tr th {\n",
       "        vertical-align: top;\n",
       "    }\n",
       "\n",
       "    .dataframe thead th {\n",
       "        text-align: right;\n",
       "    }\n",
       "</style>\n",
       "<table border=\"1\" class=\"dataframe\">\n",
       "  <thead>\n",
       "    <tr style=\"text-align: right;\">\n",
       "      <th></th>\n",
       "      <th>name</th>\n",
       "      <th>seq</th>\n",
       "    </tr>\n",
       "  </thead>\n",
       "  <tbody>\n",
       "  </tbody>\n",
       "</table>\n",
       "</div>"
      ]
     },
     "execution_count": 25,
     "metadata": {},
     "output_type": "execute_result"
    }
   ],
   "execution_count": 25
  },
  {
   "cell_type": "markdown",
   "metadata": {},
   "source": [
    "### Tabla `tipos_instrumentos`"
   ]
  },
  {
   "cell_type": "markdown",
   "metadata": {},
   "source": [
    "En esta tabla se registran los tipos de instrumentos en los que se puede invertir. Para este ejemplo, sólo utilizaremos activos *P x Q*, es decir `ACCIONES`, `ETF`, `CUOTAS_FONDOS`."
   ]
  },
  {
   "cell_type": "code",
   "metadata": {
    "ExecuteTime": {
     "end_time": "2024-09-08T10:35:17.629975Z",
     "start_time": "2024-09-08T10:35:17.626719Z"
    }
   },
   "source": [
    "qry = \"CREATE TABLE IF NOT EXISTS tipos_instrumentos ( \\\n",
    "id INTEGER PRIMARY KEY AUTOINCREMENT, \\\n",
    "codigo TEXT UNIQUE \\\n",
    ")\""
   ],
   "outputs": [],
   "execution_count": 26
  },
  {
   "cell_type": "code",
   "metadata": {
    "ExecuteTime": {
     "end_time": "2024-09-08T10:35:20.195165Z",
     "start_time": "2024-09-08T10:35:20.190271Z"
    }
   },
   "source": [
    "cursor.execute(qry)"
   ],
   "outputs": [
    {
     "data": {
      "text/plain": [
       "<sqlite3.Cursor at 0x112bb2940>"
      ]
     },
     "execution_count": 27,
     "metadata": {},
     "output_type": "execute_result"
    }
   ],
   "execution_count": 27
  },
  {
   "cell_type": "code",
   "metadata": {
    "ExecuteTime": {
     "end_time": "2024-09-08T10:35:23.833276Z",
     "start_time": "2024-09-08T10:35:23.826496Z"
    }
   },
   "source": [
    "show_tables(conn)"
   ],
   "outputs": [
    {
     "data": {
      "text/plain": [
       "                 name                                                sql\n",
       "0            clientes  CREATE TABLE clientes ( id INTEGER PRIMARY KEY...\n",
       "1     sqlite_sequence             CREATE TABLE sqlite_sequence(name,seq)\n",
       "2             cuentas  CREATE TABLE cuentas ( id INTEGER PRIMARY KEY ...\n",
       "3     tipo_movimiento  CREATE TABLE tipo_movimiento ( id INTEGER PRIM...\n",
       "4                caja  CREATE TABLE caja ( id INTEGER PRIMARY KEY AUT...\n",
       "5  tipos_instrumentos  CREATE TABLE tipos_instrumentos ( id INTEGER P..."
      ],
      "text/html": [
       "<div>\n",
       "<style scoped>\n",
       "    .dataframe tbody tr th:only-of-type {\n",
       "        vertical-align: middle;\n",
       "    }\n",
       "\n",
       "    .dataframe tbody tr th {\n",
       "        vertical-align: top;\n",
       "    }\n",
       "\n",
       "    .dataframe thead th {\n",
       "        text-align: right;\n",
       "    }\n",
       "</style>\n",
       "<table border=\"1\" class=\"dataframe\">\n",
       "  <thead>\n",
       "    <tr style=\"text-align: right;\">\n",
       "      <th></th>\n",
       "      <th>name</th>\n",
       "      <th>sql</th>\n",
       "    </tr>\n",
       "  </thead>\n",
       "  <tbody>\n",
       "    <tr>\n",
       "      <th>0</th>\n",
       "      <td>clientes</td>\n",
       "      <td>CREATE TABLE clientes ( id INTEGER PRIMARY KEY...</td>\n",
       "    </tr>\n",
       "    <tr>\n",
       "      <th>1</th>\n",
       "      <td>sqlite_sequence</td>\n",
       "      <td>CREATE TABLE sqlite_sequence(name,seq)</td>\n",
       "    </tr>\n",
       "    <tr>\n",
       "      <th>2</th>\n",
       "      <td>cuentas</td>\n",
       "      <td>CREATE TABLE cuentas ( id INTEGER PRIMARY KEY ...</td>\n",
       "    </tr>\n",
       "    <tr>\n",
       "      <th>3</th>\n",
       "      <td>tipo_movimiento</td>\n",
       "      <td>CREATE TABLE tipo_movimiento ( id INTEGER PRIM...</td>\n",
       "    </tr>\n",
       "    <tr>\n",
       "      <th>4</th>\n",
       "      <td>caja</td>\n",
       "      <td>CREATE TABLE caja ( id INTEGER PRIMARY KEY AUT...</td>\n",
       "    </tr>\n",
       "    <tr>\n",
       "      <th>5</th>\n",
       "      <td>tipos_instrumentos</td>\n",
       "      <td>CREATE TABLE tipos_instrumentos ( id INTEGER P...</td>\n",
       "    </tr>\n",
       "  </tbody>\n",
       "</table>\n",
       "</div>"
      ]
     },
     "execution_count": 28,
     "metadata": {},
     "output_type": "execute_result"
    }
   ],
   "execution_count": 28
  },
  {
   "cell_type": "code",
   "metadata": {
    "ExecuteTime": {
     "end_time": "2024-09-08T10:35:29.901624Z",
     "start_time": "2024-09-08T10:35:29.894549Z"
    }
   },
   "source": "sql_seq()",
   "outputs": [
    {
     "data": {
      "text/plain": [
       "Empty DataFrame\n",
       "Columns: [name, seq]\n",
       "Index: []"
      ],
      "text/html": [
       "<div>\n",
       "<style scoped>\n",
       "    .dataframe tbody tr th:only-of-type {\n",
       "        vertical-align: middle;\n",
       "    }\n",
       "\n",
       "    .dataframe tbody tr th {\n",
       "        vertical-align: top;\n",
       "    }\n",
       "\n",
       "    .dataframe thead th {\n",
       "        text-align: right;\n",
       "    }\n",
       "</style>\n",
       "<table border=\"1\" class=\"dataframe\">\n",
       "  <thead>\n",
       "    <tr style=\"text-align: right;\">\n",
       "      <th></th>\n",
       "      <th>name</th>\n",
       "      <th>seq</th>\n",
       "    </tr>\n",
       "  </thead>\n",
       "  <tbody>\n",
       "  </tbody>\n",
       "</table>\n",
       "</div>"
      ]
     },
     "execution_count": 29,
     "metadata": {},
     "output_type": "execute_result"
    }
   ],
   "execution_count": 29
  },
  {
   "cell_type": "markdown",
   "metadata": {},
   "source": [
    "### Tabla `instrumentos`"
   ]
  },
  {
   "cell_type": "markdown",
   "metadata": {},
   "source": [
    "Esta tabla requiere una llave foránea hacia la tabla `tipos_instrumentos`."
   ]
  },
  {
   "cell_type": "code",
   "metadata": {
    "ExecuteTime": {
     "end_time": "2024-09-08T10:35:41.156803Z",
     "start_time": "2024-09-08T10:35:41.153590Z"
    }
   },
   "source": [
    "qry = \"CREATE TABLE IF NOT EXISTS instrumentos ( \\\n",
    "id INTEGER PRIMARY KEY AUTOINCREMENT, \\\n",
    "codigo TEXT UNIQUE, \\\n",
    "codigo_instrumento TEXT NOT NULL, \\\n",
    "FOREIGN KEY (codigo_instrumento) REFERENCES tipos_instrumentos (codigo) \\\n",
    "ON DELETE NO ACTION ON UPDATE NO ACTION \\\n",
    ")\""
   ],
   "outputs": [],
   "execution_count": 30
  },
  {
   "cell_type": "code",
   "metadata": {
    "ExecuteTime": {
     "end_time": "2024-09-08T10:35:43.666322Z",
     "start_time": "2024-09-08T10:35:43.660914Z"
    }
   },
   "source": [
    "cursor.execute(qry)"
   ],
   "outputs": [
    {
     "data": {
      "text/plain": [
       "<sqlite3.Cursor at 0x112bb2940>"
      ]
     },
     "execution_count": 31,
     "metadata": {},
     "output_type": "execute_result"
    }
   ],
   "execution_count": 31
  },
  {
   "cell_type": "code",
   "metadata": {
    "ExecuteTime": {
     "end_time": "2024-09-08T10:35:45.651145Z",
     "start_time": "2024-09-08T10:35:45.644724Z"
    }
   },
   "source": [
    "show_tables(conn)"
   ],
   "outputs": [
    {
     "data": {
      "text/plain": [
       "                 name                                                sql\n",
       "0            clientes  CREATE TABLE clientes ( id INTEGER PRIMARY KEY...\n",
       "1     sqlite_sequence             CREATE TABLE sqlite_sequence(name,seq)\n",
       "2             cuentas  CREATE TABLE cuentas ( id INTEGER PRIMARY KEY ...\n",
       "3     tipo_movimiento  CREATE TABLE tipo_movimiento ( id INTEGER PRIM...\n",
       "4                caja  CREATE TABLE caja ( id INTEGER PRIMARY KEY AUT...\n",
       "5  tipos_instrumentos  CREATE TABLE tipos_instrumentos ( id INTEGER P...\n",
       "6        instrumentos  CREATE TABLE instrumentos ( id INTEGER PRIMARY..."
      ],
      "text/html": [
       "<div>\n",
       "<style scoped>\n",
       "    .dataframe tbody tr th:only-of-type {\n",
       "        vertical-align: middle;\n",
       "    }\n",
       "\n",
       "    .dataframe tbody tr th {\n",
       "        vertical-align: top;\n",
       "    }\n",
       "\n",
       "    .dataframe thead th {\n",
       "        text-align: right;\n",
       "    }\n",
       "</style>\n",
       "<table border=\"1\" class=\"dataframe\">\n",
       "  <thead>\n",
       "    <tr style=\"text-align: right;\">\n",
       "      <th></th>\n",
       "      <th>name</th>\n",
       "      <th>sql</th>\n",
       "    </tr>\n",
       "  </thead>\n",
       "  <tbody>\n",
       "    <tr>\n",
       "      <th>0</th>\n",
       "      <td>clientes</td>\n",
       "      <td>CREATE TABLE clientes ( id INTEGER PRIMARY KEY...</td>\n",
       "    </tr>\n",
       "    <tr>\n",
       "      <th>1</th>\n",
       "      <td>sqlite_sequence</td>\n",
       "      <td>CREATE TABLE sqlite_sequence(name,seq)</td>\n",
       "    </tr>\n",
       "    <tr>\n",
       "      <th>2</th>\n",
       "      <td>cuentas</td>\n",
       "      <td>CREATE TABLE cuentas ( id INTEGER PRIMARY KEY ...</td>\n",
       "    </tr>\n",
       "    <tr>\n",
       "      <th>3</th>\n",
       "      <td>tipo_movimiento</td>\n",
       "      <td>CREATE TABLE tipo_movimiento ( id INTEGER PRIM...</td>\n",
       "    </tr>\n",
       "    <tr>\n",
       "      <th>4</th>\n",
       "      <td>caja</td>\n",
       "      <td>CREATE TABLE caja ( id INTEGER PRIMARY KEY AUT...</td>\n",
       "    </tr>\n",
       "    <tr>\n",
       "      <th>5</th>\n",
       "      <td>tipos_instrumentos</td>\n",
       "      <td>CREATE TABLE tipos_instrumentos ( id INTEGER P...</td>\n",
       "    </tr>\n",
       "    <tr>\n",
       "      <th>6</th>\n",
       "      <td>instrumentos</td>\n",
       "      <td>CREATE TABLE instrumentos ( id INTEGER PRIMARY...</td>\n",
       "    </tr>\n",
       "  </tbody>\n",
       "</table>\n",
       "</div>"
      ]
     },
     "execution_count": 32,
     "metadata": {},
     "output_type": "execute_result"
    }
   ],
   "execution_count": 32
  },
  {
   "cell_type": "code",
   "metadata": {
    "ExecuteTime": {
     "end_time": "2024-09-08T10:35:50.604271Z",
     "start_time": "2024-09-08T10:35:50.598243Z"
    }
   },
   "source": "sql_seq()",
   "outputs": [
    {
     "data": {
      "text/plain": [
       "Empty DataFrame\n",
       "Columns: [name, seq]\n",
       "Index: []"
      ],
      "text/html": [
       "<div>\n",
       "<style scoped>\n",
       "    .dataframe tbody tr th:only-of-type {\n",
       "        vertical-align: middle;\n",
       "    }\n",
       "\n",
       "    .dataframe tbody tr th {\n",
       "        vertical-align: top;\n",
       "    }\n",
       "\n",
       "    .dataframe thead th {\n",
       "        text-align: right;\n",
       "    }\n",
       "</style>\n",
       "<table border=\"1\" class=\"dataframe\">\n",
       "  <thead>\n",
       "    <tr style=\"text-align: right;\">\n",
       "      <th></th>\n",
       "      <th>name</th>\n",
       "      <th>seq</th>\n",
       "    </tr>\n",
       "  </thead>\n",
       "  <tbody>\n",
       "  </tbody>\n",
       "</table>\n",
       "</div>"
      ]
     },
     "execution_count": 33,
     "metadata": {},
     "output_type": "execute_result"
    }
   ],
   "execution_count": 33
  },
  {
   "cell_type": "markdown",
   "metadata": {},
   "source": [
    "### Tabla `inversiones`"
   ]
  },
  {
   "metadata": {},
   "cell_type": "markdown",
   "source": "Aquí se registra el código, monto y precio de una inversión que pertenece a una cuenta. El campo `id_cuenta` es entonces una llave foránea a la tabla cuentas."
  },
  {
   "cell_type": "code",
   "metadata": {
    "ExecuteTime": {
     "end_time": "2024-09-08T10:37:38.301327Z",
     "start_time": "2024-09-08T10:37:38.298116Z"
    }
   },
   "source": [
    "qry = \"CREATE TABLE IF NOT EXISTS inversiones ( \\\n",
    "id INTEGER PRIMARY KEY AUTOINCREMENT, \\\n",
    "id_cuenta INTEGER NOT NULL, \\\n",
    "codigo_instrumento TEXT NOT NULL, \\\n",
    "monto NUMERIC NOT NULL, \\\n",
    "precio NUMERIC NOT NULL, \\\n",
    "FOREIGN KEY (id_cuenta) REFERENCES cuentas (id) \\\n",
    "ON DELETE NO ACTION ON UPDATE NO ACTION, \\\n",
    "FOREIGN KEY (codigo_instrumento) REFERENCES instrumentos (codigo) \\\n",
    "ON DELETE NO ACTION ON UPDATE NO ACTION \\\n",
    ")\""
   ],
   "outputs": [],
   "execution_count": 34
  },
  {
   "cell_type": "code",
   "metadata": {
    "ExecuteTime": {
     "end_time": "2024-09-08T10:37:49.136321Z",
     "start_time": "2024-09-08T10:37:49.131520Z"
    }
   },
   "source": [
    "cursor.execute(qry)"
   ],
   "outputs": [
    {
     "data": {
      "text/plain": [
       "<sqlite3.Cursor at 0x112bb2940>"
      ]
     },
     "execution_count": 35,
     "metadata": {},
     "output_type": "execute_result"
    }
   ],
   "execution_count": 35
  },
  {
   "cell_type": "code",
   "metadata": {
    "ExecuteTime": {
     "end_time": "2024-09-08T10:37:51.544361Z",
     "start_time": "2024-09-08T10:37:51.537368Z"
    }
   },
   "source": [
    "show_tables(conn)"
   ],
   "outputs": [
    {
     "data": {
      "text/plain": [
       "                 name                                                sql\n",
       "0            clientes  CREATE TABLE clientes ( id INTEGER PRIMARY KEY...\n",
       "1     sqlite_sequence             CREATE TABLE sqlite_sequence(name,seq)\n",
       "2             cuentas  CREATE TABLE cuentas ( id INTEGER PRIMARY KEY ...\n",
       "3     tipo_movimiento  CREATE TABLE tipo_movimiento ( id INTEGER PRIM...\n",
       "4                caja  CREATE TABLE caja ( id INTEGER PRIMARY KEY AUT...\n",
       "5  tipos_instrumentos  CREATE TABLE tipos_instrumentos ( id INTEGER P...\n",
       "6        instrumentos  CREATE TABLE instrumentos ( id INTEGER PRIMARY...\n",
       "7         inversiones  CREATE TABLE inversiones ( id INTEGER PRIMARY ..."
      ],
      "text/html": [
       "<div>\n",
       "<style scoped>\n",
       "    .dataframe tbody tr th:only-of-type {\n",
       "        vertical-align: middle;\n",
       "    }\n",
       "\n",
       "    .dataframe tbody tr th {\n",
       "        vertical-align: top;\n",
       "    }\n",
       "\n",
       "    .dataframe thead th {\n",
       "        text-align: right;\n",
       "    }\n",
       "</style>\n",
       "<table border=\"1\" class=\"dataframe\">\n",
       "  <thead>\n",
       "    <tr style=\"text-align: right;\">\n",
       "      <th></th>\n",
       "      <th>name</th>\n",
       "      <th>sql</th>\n",
       "    </tr>\n",
       "  </thead>\n",
       "  <tbody>\n",
       "    <tr>\n",
       "      <th>0</th>\n",
       "      <td>clientes</td>\n",
       "      <td>CREATE TABLE clientes ( id INTEGER PRIMARY KEY...</td>\n",
       "    </tr>\n",
       "    <tr>\n",
       "      <th>1</th>\n",
       "      <td>sqlite_sequence</td>\n",
       "      <td>CREATE TABLE sqlite_sequence(name,seq)</td>\n",
       "    </tr>\n",
       "    <tr>\n",
       "      <th>2</th>\n",
       "      <td>cuentas</td>\n",
       "      <td>CREATE TABLE cuentas ( id INTEGER PRIMARY KEY ...</td>\n",
       "    </tr>\n",
       "    <tr>\n",
       "      <th>3</th>\n",
       "      <td>tipo_movimiento</td>\n",
       "      <td>CREATE TABLE tipo_movimiento ( id INTEGER PRIM...</td>\n",
       "    </tr>\n",
       "    <tr>\n",
       "      <th>4</th>\n",
       "      <td>caja</td>\n",
       "      <td>CREATE TABLE caja ( id INTEGER PRIMARY KEY AUT...</td>\n",
       "    </tr>\n",
       "    <tr>\n",
       "      <th>5</th>\n",
       "      <td>tipos_instrumentos</td>\n",
       "      <td>CREATE TABLE tipos_instrumentos ( id INTEGER P...</td>\n",
       "    </tr>\n",
       "    <tr>\n",
       "      <th>6</th>\n",
       "      <td>instrumentos</td>\n",
       "      <td>CREATE TABLE instrumentos ( id INTEGER PRIMARY...</td>\n",
       "    </tr>\n",
       "    <tr>\n",
       "      <th>7</th>\n",
       "      <td>inversiones</td>\n",
       "      <td>CREATE TABLE inversiones ( id INTEGER PRIMARY ...</td>\n",
       "    </tr>\n",
       "  </tbody>\n",
       "</table>\n",
       "</div>"
      ]
     },
     "execution_count": 36,
     "metadata": {},
     "output_type": "execute_result"
    }
   ],
   "execution_count": 36
  },
  {
   "cell_type": "code",
   "metadata": {
    "ExecuteTime": {
     "end_time": "2024-09-08T10:37:56.705718Z",
     "start_time": "2024-09-08T10:37:56.699146Z"
    }
   },
   "source": "sql_seq()",
   "outputs": [
    {
     "data": {
      "text/plain": [
       "Empty DataFrame\n",
       "Columns: [name, seq]\n",
       "Index: []"
      ],
      "text/html": [
       "<div>\n",
       "<style scoped>\n",
       "    .dataframe tbody tr th:only-of-type {\n",
       "        vertical-align: middle;\n",
       "    }\n",
       "\n",
       "    .dataframe tbody tr th {\n",
       "        vertical-align: top;\n",
       "    }\n",
       "\n",
       "    .dataframe thead th {\n",
       "        text-align: right;\n",
       "    }\n",
       "</style>\n",
       "<table border=\"1\" class=\"dataframe\">\n",
       "  <thead>\n",
       "    <tr style=\"text-align: right;\">\n",
       "      <th></th>\n",
       "      <th>name</th>\n",
       "      <th>seq</th>\n",
       "    </tr>\n",
       "  </thead>\n",
       "  <tbody>\n",
       "  </tbody>\n",
       "</table>\n",
       "</div>"
      ]
     },
     "execution_count": 37,
     "metadata": {},
     "output_type": "execute_result"
    }
   ],
   "execution_count": 37
  },
  {
   "cell_type": "markdown",
   "metadata": {},
   "source": [
    "### Tabla `precios_mercado`"
   ]
  },
  {
   "cell_type": "markdown",
   "metadata": {},
   "source": "Esta tabla registrará los precios de mercado de los instrumentos. En este caso definiremos una restricción de tipo `UNIQUE` a la combinación de campos `fecha` y `id_instrumento`. Con esta restricción sólo podemos registrar un precio diario por cada instrumento. Esta lógica es adecuada para precios de fin de día que son los que se utilizan para la valorización de fin de día de todas las inversiones."
  },
  {
   "cell_type": "code",
   "metadata": {
    "ExecuteTime": {
     "end_time": "2024-09-08T10:42:26.369124Z",
     "start_time": "2024-09-08T10:42:26.365879Z"
    }
   },
   "source": [
    "qry = \"CREATE TABLE IF NOT EXISTS precios_mercado ( \\\n",
    "id INTEGER PRIMARY KEY AUTOINCREMENT, \\\n",
    "fecha TEXT NOT NULL, \\\n",
    "id_instrumento INTEGER NOT NULL, \\\n",
    "precio NUMERIC NOT NULL, \\\n",
    "FOREIGN KEY (id_instrumento) REFERENCES instrumentos (id) \\\n",
    "ON DELETE NO ACTION ON UPDATE NO ACTION, \\\n",
    "UNIQUE(fecha, id_instrumento) \\\n",
    ")\""
   ],
   "outputs": [],
   "execution_count": 38
  },
  {
   "cell_type": "code",
   "metadata": {
    "ExecuteTime": {
     "end_time": "2024-09-08T10:42:27.718580Z",
     "start_time": "2024-09-08T10:42:27.713538Z"
    }
   },
   "source": [
    "cursor.execute(qry)"
   ],
   "outputs": [
    {
     "data": {
      "text/plain": [
       "<sqlite3.Cursor at 0x112bb2940>"
      ]
     },
     "execution_count": 39,
     "metadata": {},
     "output_type": "execute_result"
    }
   ],
   "execution_count": 39
  },
  {
   "cell_type": "code",
   "metadata": {
    "ExecuteTime": {
     "end_time": "2024-09-08T10:42:28.499956Z",
     "start_time": "2024-09-08T10:42:28.493068Z"
    }
   },
   "source": [
    "show_tables(conn)"
   ],
   "outputs": [
    {
     "data": {
      "text/plain": [
       "                 name                                                sql\n",
       "0            clientes  CREATE TABLE clientes ( id INTEGER PRIMARY KEY...\n",
       "1     sqlite_sequence             CREATE TABLE sqlite_sequence(name,seq)\n",
       "2             cuentas  CREATE TABLE cuentas ( id INTEGER PRIMARY KEY ...\n",
       "3     tipo_movimiento  CREATE TABLE tipo_movimiento ( id INTEGER PRIM...\n",
       "4                caja  CREATE TABLE caja ( id INTEGER PRIMARY KEY AUT...\n",
       "5  tipos_instrumentos  CREATE TABLE tipos_instrumentos ( id INTEGER P...\n",
       "6        instrumentos  CREATE TABLE instrumentos ( id INTEGER PRIMARY...\n",
       "7         inversiones  CREATE TABLE inversiones ( id INTEGER PRIMARY ...\n",
       "8     precios_mercado  CREATE TABLE precios_mercado ( id INTEGER PRIM..."
      ],
      "text/html": [
       "<div>\n",
       "<style scoped>\n",
       "    .dataframe tbody tr th:only-of-type {\n",
       "        vertical-align: middle;\n",
       "    }\n",
       "\n",
       "    .dataframe tbody tr th {\n",
       "        vertical-align: top;\n",
       "    }\n",
       "\n",
       "    .dataframe thead th {\n",
       "        text-align: right;\n",
       "    }\n",
       "</style>\n",
       "<table border=\"1\" class=\"dataframe\">\n",
       "  <thead>\n",
       "    <tr style=\"text-align: right;\">\n",
       "      <th></th>\n",
       "      <th>name</th>\n",
       "      <th>sql</th>\n",
       "    </tr>\n",
       "  </thead>\n",
       "  <tbody>\n",
       "    <tr>\n",
       "      <th>0</th>\n",
       "      <td>clientes</td>\n",
       "      <td>CREATE TABLE clientes ( id INTEGER PRIMARY KEY...</td>\n",
       "    </tr>\n",
       "    <tr>\n",
       "      <th>1</th>\n",
       "      <td>sqlite_sequence</td>\n",
       "      <td>CREATE TABLE sqlite_sequence(name,seq)</td>\n",
       "    </tr>\n",
       "    <tr>\n",
       "      <th>2</th>\n",
       "      <td>cuentas</td>\n",
       "      <td>CREATE TABLE cuentas ( id INTEGER PRIMARY KEY ...</td>\n",
       "    </tr>\n",
       "    <tr>\n",
       "      <th>3</th>\n",
       "      <td>tipo_movimiento</td>\n",
       "      <td>CREATE TABLE tipo_movimiento ( id INTEGER PRIM...</td>\n",
       "    </tr>\n",
       "    <tr>\n",
       "      <th>4</th>\n",
       "      <td>caja</td>\n",
       "      <td>CREATE TABLE caja ( id INTEGER PRIMARY KEY AUT...</td>\n",
       "    </tr>\n",
       "    <tr>\n",
       "      <th>5</th>\n",
       "      <td>tipos_instrumentos</td>\n",
       "      <td>CREATE TABLE tipos_instrumentos ( id INTEGER P...</td>\n",
       "    </tr>\n",
       "    <tr>\n",
       "      <th>6</th>\n",
       "      <td>instrumentos</td>\n",
       "      <td>CREATE TABLE instrumentos ( id INTEGER PRIMARY...</td>\n",
       "    </tr>\n",
       "    <tr>\n",
       "      <th>7</th>\n",
       "      <td>inversiones</td>\n",
       "      <td>CREATE TABLE inversiones ( id INTEGER PRIMARY ...</td>\n",
       "    </tr>\n",
       "    <tr>\n",
       "      <th>8</th>\n",
       "      <td>precios_mercado</td>\n",
       "      <td>CREATE TABLE precios_mercado ( id INTEGER PRIM...</td>\n",
       "    </tr>\n",
       "  </tbody>\n",
       "</table>\n",
       "</div>"
      ]
     },
     "execution_count": 40,
     "metadata": {},
     "output_type": "execute_result"
    }
   ],
   "execution_count": 40
  },
  {
   "cell_type": "code",
   "metadata": {
    "ExecuteTime": {
     "end_time": "2024-09-08T10:42:34.306928Z",
     "start_time": "2024-09-08T10:42:34.300952Z"
    }
   },
   "source": "sql_seq()",
   "outputs": [
    {
     "data": {
      "text/plain": [
       "Empty DataFrame\n",
       "Columns: [name, seq]\n",
       "Index: []"
      ],
      "text/html": [
       "<div>\n",
       "<style scoped>\n",
       "    .dataframe tbody tr th:only-of-type {\n",
       "        vertical-align: middle;\n",
       "    }\n",
       "\n",
       "    .dataframe tbody tr th {\n",
       "        vertical-align: top;\n",
       "    }\n",
       "\n",
       "    .dataframe thead th {\n",
       "        text-align: right;\n",
       "    }\n",
       "</style>\n",
       "<table border=\"1\" class=\"dataframe\">\n",
       "  <thead>\n",
       "    <tr style=\"text-align: right;\">\n",
       "      <th></th>\n",
       "      <th>name</th>\n",
       "      <th>seq</th>\n",
       "    </tr>\n",
       "  </thead>\n",
       "  <tbody>\n",
       "  </tbody>\n",
       "</table>\n",
       "</div>"
      ]
     },
     "execution_count": 41,
     "metadata": {},
     "output_type": "execute_result"
    }
   ],
   "execution_count": 41
  },
  {
   "cell_type": "markdown",
   "metadata": {},
   "source": [
    "## Insertar Data"
   ]
  },
  {
   "cell_type": "markdown",
   "metadata": {},
   "source": [
    "Vamos a insertar data en las distintas tablas que hemos definido."
   ]
  },
  {
   "cell_type": "markdown",
   "metadata": {},
   "source": [
    "### Tabla `clientes`"
   ]
  },
  {
   "cell_type": "markdown",
   "metadata": {},
   "source": [
    "Recordemos los campos de la tabla."
   ]
  },
  {
   "cell_type": "code",
   "metadata": {
    "ExecuteTime": {
     "end_time": "2024-09-08T10:49:37.523512Z",
     "start_time": "2024-09-08T10:49:37.515659Z"
    }
   },
   "source": [
    "pd.read_sql(\"SELECT * FROM clientes\", conn)"
   ],
   "outputs": [
    {
     "data": {
      "text/plain": [
       "Empty DataFrame\n",
       "Columns: [id, nombre, apellido, email, telefono]\n",
       "Index: []"
      ],
      "text/html": [
       "<div>\n",
       "<style scoped>\n",
       "    .dataframe tbody tr th:only-of-type {\n",
       "        vertical-align: middle;\n",
       "    }\n",
       "\n",
       "    .dataframe tbody tr th {\n",
       "        vertical-align: top;\n",
       "    }\n",
       "\n",
       "    .dataframe thead th {\n",
       "        text-align: right;\n",
       "    }\n",
       "</style>\n",
       "<table border=\"1\" class=\"dataframe\">\n",
       "  <thead>\n",
       "    <tr style=\"text-align: right;\">\n",
       "      <th></th>\n",
       "      <th>id</th>\n",
       "      <th>nombre</th>\n",
       "      <th>apellido</th>\n",
       "      <th>email</th>\n",
       "      <th>telefono</th>\n",
       "    </tr>\n",
       "  </thead>\n",
       "  <tbody>\n",
       "  </tbody>\n",
       "</table>\n",
       "</div>"
      ]
     },
     "execution_count": 42,
     "metadata": {},
     "output_type": "execute_result"
    }
   ],
   "execution_count": 42
  },
  {
   "cell_type": "markdown",
   "metadata": {},
   "source": [
    "Para insertar data en una BBDD relacional se utiliza la instrucción `INSERT`. Notar que, dado que el campo `id` es `AUTOINCREMENT` no es necesario incluirlo."
   ]
  },
  {
   "cell_type": "code",
   "metadata": {
    "ExecuteTime": {
     "end_time": "2024-09-08T10:50:10.534117Z",
     "start_time": "2024-09-08T10:50:10.531643Z"
    }
   },
   "source": [
    "qry = \"INSERT INTO clientes (nombre, apellido, email, telefono) \\\n",
    "VALUES ('Alvaro', 'Diaz', 'alvaro@efaa.cl', 56955556667)\""
   ],
   "outputs": [],
   "execution_count": 43
  },
  {
   "cell_type": "code",
   "metadata": {
    "ExecuteTime": {
     "end_time": "2024-09-08T10:50:14.984197Z",
     "start_time": "2024-09-08T10:50:14.979574Z"
    }
   },
   "source": [
    "cursor.execute(qry)"
   ],
   "outputs": [
    {
     "data": {
      "text/plain": [
       "<sqlite3.Cursor at 0x112bb2940>"
      ]
     },
     "execution_count": 44,
     "metadata": {},
     "output_type": "execute_result"
    }
   ],
   "execution_count": 44
  },
  {
   "cell_type": "code",
   "metadata": {
    "ExecuteTime": {
     "end_time": "2024-09-08T10:50:19.777315Z",
     "start_time": "2024-09-08T10:50:19.769683Z"
    }
   },
   "source": [
    "pd.read_sql(\"SELECT * FROM clientes\", conn)"
   ],
   "outputs": [
    {
     "data": {
      "text/plain": [
       "   id  nombre apellido           email     telefono\n",
       "0   1  Alvaro     Diaz  alvaro@efaa.cl  56955556667"
      ],
      "text/html": [
       "<div>\n",
       "<style scoped>\n",
       "    .dataframe tbody tr th:only-of-type {\n",
       "        vertical-align: middle;\n",
       "    }\n",
       "\n",
       "    .dataframe tbody tr th {\n",
       "        vertical-align: top;\n",
       "    }\n",
       "\n",
       "    .dataframe thead th {\n",
       "        text-align: right;\n",
       "    }\n",
       "</style>\n",
       "<table border=\"1\" class=\"dataframe\">\n",
       "  <thead>\n",
       "    <tr style=\"text-align: right;\">\n",
       "      <th></th>\n",
       "      <th>id</th>\n",
       "      <th>nombre</th>\n",
       "      <th>apellido</th>\n",
       "      <th>email</th>\n",
       "      <th>telefono</th>\n",
       "    </tr>\n",
       "  </thead>\n",
       "  <tbody>\n",
       "    <tr>\n",
       "      <th>0</th>\n",
       "      <td>1</td>\n",
       "      <td>Alvaro</td>\n",
       "      <td>Diaz</td>\n",
       "      <td>alvaro@efaa.cl</td>\n",
       "      <td>56955556667</td>\n",
       "    </tr>\n",
       "  </tbody>\n",
       "</table>\n",
       "</div>"
      ]
     },
     "execution_count": 45,
     "metadata": {},
     "output_type": "execute_result"
    }
   ],
   "execution_count": 45
  },
  {
   "cell_type": "markdown",
   "metadata": {},
   "source": [
    "Veamos lo siguiente:\n",
    "\n",
    "- abrimos una nueva conexión a la BBDD\n",
    "- ejecutamos `SELECT * FROm CLIENTES` usando esa conexión y ..."
   ]
  },
  {
   "metadata": {
    "ExecuteTime": {
     "end_time": "2024-09-08T10:53:39.432244Z",
     "start_time": "2024-09-08T10:53:39.429275Z"
    }
   },
   "cell_type": "code",
   "source": "conn2 = sqlite3.connect('data/administrador.db') ",
   "outputs": [],
   "execution_count": 49
  },
  {
   "metadata": {
    "ExecuteTime": {
     "end_time": "2024-09-08T10:53:41.071706Z",
     "start_time": "2024-09-08T10:53:41.064745Z"
    }
   },
   "cell_type": "code",
   "source": "pd.read_sql(\"SELECT * FROM clientes\", conn2)",
   "outputs": [
    {
     "data": {
      "text/plain": [
       "Empty DataFrame\n",
       "Columns: [id, nombre, apellido, email, telefono]\n",
       "Index: []"
      ],
      "text/html": [
       "<div>\n",
       "<style scoped>\n",
       "    .dataframe tbody tr th:only-of-type {\n",
       "        vertical-align: middle;\n",
       "    }\n",
       "\n",
       "    .dataframe tbody tr th {\n",
       "        vertical-align: top;\n",
       "    }\n",
       "\n",
       "    .dataframe thead th {\n",
       "        text-align: right;\n",
       "    }\n",
       "</style>\n",
       "<table border=\"1\" class=\"dataframe\">\n",
       "  <thead>\n",
       "    <tr style=\"text-align: right;\">\n",
       "      <th></th>\n",
       "      <th>id</th>\n",
       "      <th>nombre</th>\n",
       "      <th>apellido</th>\n",
       "      <th>email</th>\n",
       "      <th>telefono</th>\n",
       "    </tr>\n",
       "  </thead>\n",
       "  <tbody>\n",
       "  </tbody>\n",
       "</table>\n",
       "</div>"
      ]
     },
     "execution_count": 50,
     "metadata": {},
     "output_type": "execute_result"
    }
   ],
   "execution_count": 50
  },
  {
   "metadata": {},
   "cell_type": "markdown",
   "source": [
    ":::{note}\n",
    "¡NO hay **nada** en la tabla!\n",
    ":::"
   ]
  },
  {
   "metadata": {},
   "cell_type": "markdown",
   "source": "Esto ocurre porque la inserción aún no ha sido *COMITEADA* ..."
  },
  {
   "cell_type": "code",
   "metadata": {
    "ExecuteTime": {
     "end_time": "2024-09-08T11:02:06.191666Z",
     "start_time": "2024-09-08T11:02:06.188573Z"
    }
   },
   "source": "conn.commit()  # Se utiliza la misma conexión que para el INSERT",
   "outputs": [],
   "execution_count": 52
  },
  {
   "metadata": {},
   "cell_type": "markdown",
   "source": "De ese modo ..."
  },
  {
   "metadata": {
    "ExecuteTime": {
     "end_time": "2024-09-08T11:02:37.803352Z",
     "start_time": "2024-09-08T11:02:37.793003Z"
    }
   },
   "cell_type": "code",
   "source": "pd.read_sql(\"SELECT * FROM clientes\", conn2)",
   "outputs": [
    {
     "data": {
      "text/plain": [
       "   id  nombre apellido           email     telefono\n",
       "0   1  Alvaro     Diaz  alvaro@efaa.cl  56955556667"
      ],
      "text/html": [
       "<div>\n",
       "<style scoped>\n",
       "    .dataframe tbody tr th:only-of-type {\n",
       "        vertical-align: middle;\n",
       "    }\n",
       "\n",
       "    .dataframe tbody tr th {\n",
       "        vertical-align: top;\n",
       "    }\n",
       "\n",
       "    .dataframe thead th {\n",
       "        text-align: right;\n",
       "    }\n",
       "</style>\n",
       "<table border=\"1\" class=\"dataframe\">\n",
       "  <thead>\n",
       "    <tr style=\"text-align: right;\">\n",
       "      <th></th>\n",
       "      <th>id</th>\n",
       "      <th>nombre</th>\n",
       "      <th>apellido</th>\n",
       "      <th>email</th>\n",
       "      <th>telefono</th>\n",
       "    </tr>\n",
       "  </thead>\n",
       "  <tbody>\n",
       "    <tr>\n",
       "      <th>0</th>\n",
       "      <td>1</td>\n",
       "      <td>Alvaro</td>\n",
       "      <td>Diaz</td>\n",
       "      <td>alvaro@efaa.cl</td>\n",
       "      <td>56955556667</td>\n",
       "    </tr>\n",
       "  </tbody>\n",
       "</table>\n",
       "</div>"
      ]
     },
     "execution_count": 53,
     "metadata": {},
     "output_type": "execute_result"
    }
   ],
   "execution_count": 53
  },
  {
   "metadata": {},
   "cell_type": "markdown",
   "source": "Para liberar la memoria, cerramos `conn2`."
  },
  {
   "metadata": {
    "ExecuteTime": {
     "end_time": "2024-09-08T11:04:29.572040Z",
     "start_time": "2024-09-08T11:04:29.568959Z"
    }
   },
   "cell_type": "code",
   "source": "conn2.close()",
   "outputs": [],
   "execution_count": 58
  },
  {
   "cell_type": "markdown",
   "metadata": {},
   "source": [
    "Podemos también ingresar más de un registro a la vez."
   ]
  },
  {
   "cell_type": "code",
   "metadata": {
    "ExecuteTime": {
     "end_time": "2024-09-08T11:03:37.107090Z",
     "start_time": "2024-09-08T11:03:37.104058Z"
    }
   },
   "source": [
    "qry = \"INSERT INTO clientes (nombre, apellido, email, telefono) \\\n",
    "VALUES ('Juan', 'Perez', 'juan.perez@efaa.cl', 56955551234), \\\n",
    "('Jose', 'Gonzalez', 'jose.gonzalez@efaa.cl', 56955554321)\""
   ],
   "outputs": [],
   "execution_count": 54
  },
  {
   "cell_type": "code",
   "metadata": {
    "ExecuteTime": {
     "end_time": "2024-09-08T11:03:41.734732Z",
     "start_time": "2024-09-08T11:03:41.730397Z"
    }
   },
   "source": [
    "cursor.execute(qry)\n",
    "conn.commit()"
   ],
   "outputs": [],
   "execution_count": 55
  },
  {
   "cell_type": "code",
   "metadata": {
    "ExecuteTime": {
     "end_time": "2024-09-08T11:03:44.252972Z",
     "start_time": "2024-09-08T11:03:44.245571Z"
    }
   },
   "source": [
    "pd.read_sql(\"SELECT * FROM clientes\", conn)"
   ],
   "outputs": [
    {
     "data": {
      "text/plain": [
       "   id  nombre apellido                  email     telefono\n",
       "0   1  Alvaro     Diaz         alvaro@efaa.cl  56955556667\n",
       "1   2    Juan    Perez     juan.perez@efaa.cl  56955551234\n",
       "2   3    Jose  Gozalez  jose.gonzalez@efaa.cl  56955554321"
      ],
      "text/html": [
       "<div>\n",
       "<style scoped>\n",
       "    .dataframe tbody tr th:only-of-type {\n",
       "        vertical-align: middle;\n",
       "    }\n",
       "\n",
       "    .dataframe tbody tr th {\n",
       "        vertical-align: top;\n",
       "    }\n",
       "\n",
       "    .dataframe thead th {\n",
       "        text-align: right;\n",
       "    }\n",
       "</style>\n",
       "<table border=\"1\" class=\"dataframe\">\n",
       "  <thead>\n",
       "    <tr style=\"text-align: right;\">\n",
       "      <th></th>\n",
       "      <th>id</th>\n",
       "      <th>nombre</th>\n",
       "      <th>apellido</th>\n",
       "      <th>email</th>\n",
       "      <th>telefono</th>\n",
       "    </tr>\n",
       "  </thead>\n",
       "  <tbody>\n",
       "    <tr>\n",
       "      <th>0</th>\n",
       "      <td>1</td>\n",
       "      <td>Alvaro</td>\n",
       "      <td>Diaz</td>\n",
       "      <td>alvaro@efaa.cl</td>\n",
       "      <td>56955556667</td>\n",
       "    </tr>\n",
       "    <tr>\n",
       "      <th>1</th>\n",
       "      <td>2</td>\n",
       "      <td>Juan</td>\n",
       "      <td>Perez</td>\n",
       "      <td>juan.perez@efaa.cl</td>\n",
       "      <td>56955551234</td>\n",
       "    </tr>\n",
       "    <tr>\n",
       "      <th>2</th>\n",
       "      <td>3</td>\n",
       "      <td>Jose</td>\n",
       "      <td>Gozalez</td>\n",
       "      <td>jose.gonzalez@efaa.cl</td>\n",
       "      <td>56955554321</td>\n",
       "    </tr>\n",
       "  </tbody>\n",
       "</table>\n",
       "</div>"
      ]
     },
     "execution_count": 56,
     "metadata": {},
     "output_type": "execute_result"
    }
   ],
   "execution_count": 56
  },
  {
   "cell_type": "markdown",
   "metadata": {},
   "source": [
    "Recordemos que el campo `email` tiene una restricción `UNIQUE`, veamos qué ocurre si, por error, ingresamos un email repetido."
   ]
  },
  {
   "cell_type": "code",
   "metadata": {
    "ExecuteTime": {
     "end_time": "2024-09-08T11:05:03.541572Z",
     "start_time": "2024-09-08T11:05:03.538811Z"
    }
   },
   "source": [
    "qry = \"INSERT INTO clientes (nombre, apellido, email, telefono) \\\n",
    "VALUES ('Alvaro', 'Valenzuela', 'alvaro@efaa.cl', 56955553141)\""
   ],
   "outputs": [],
   "execution_count": 59
  },
  {
   "cell_type": "code",
   "metadata": {
    "ExecuteTime": {
     "end_time": "2024-09-08T11:05:59.683839Z",
     "start_time": "2024-09-08T11:05:59.680787Z"
    }
   },
   "source": [
    "try:\n",
    "    cursor.execute(qry)\n",
    "except Exception as e:\n",
    "    print(\"Hubo un error ...\")\n",
    "    print(e)"
   ],
   "outputs": [
    {
     "name": "stdout",
     "output_type": "stream",
     "text": [
      "Hubo un error ...\n",
      "UNIQUE constraint failed: clientes.email\n"
     ]
    }
   ],
   "execution_count": 62
  },
  {
   "cell_type": "code",
   "metadata": {
    "ExecuteTime": {
     "end_time": "2024-09-08T11:06:16.289513Z",
     "start_time": "2024-09-08T11:06:16.281809Z"
    }
   },
   "source": [
    "pd.read_sql(\"SELECT * FROM clientes\", conn)"
   ],
   "outputs": [
    {
     "data": {
      "text/plain": [
       "   id  nombre apellido                  email     telefono\n",
       "0   1  Alvaro     Diaz         alvaro@efaa.cl  56955556667\n",
       "1   2    Juan    Perez     juan.perez@efaa.cl  56955551234\n",
       "2   3    Jose  Gozalez  jose.gonzalez@efaa.cl  56955554321"
      ],
      "text/html": [
       "<div>\n",
       "<style scoped>\n",
       "    .dataframe tbody tr th:only-of-type {\n",
       "        vertical-align: middle;\n",
       "    }\n",
       "\n",
       "    .dataframe tbody tr th {\n",
       "        vertical-align: top;\n",
       "    }\n",
       "\n",
       "    .dataframe thead th {\n",
       "        text-align: right;\n",
       "    }\n",
       "</style>\n",
       "<table border=\"1\" class=\"dataframe\">\n",
       "  <thead>\n",
       "    <tr style=\"text-align: right;\">\n",
       "      <th></th>\n",
       "      <th>id</th>\n",
       "      <th>nombre</th>\n",
       "      <th>apellido</th>\n",
       "      <th>email</th>\n",
       "      <th>telefono</th>\n",
       "    </tr>\n",
       "  </thead>\n",
       "  <tbody>\n",
       "    <tr>\n",
       "      <th>0</th>\n",
       "      <td>1</td>\n",
       "      <td>Alvaro</td>\n",
       "      <td>Diaz</td>\n",
       "      <td>alvaro@efaa.cl</td>\n",
       "      <td>56955556667</td>\n",
       "    </tr>\n",
       "    <tr>\n",
       "      <th>1</th>\n",
       "      <td>2</td>\n",
       "      <td>Juan</td>\n",
       "      <td>Perez</td>\n",
       "      <td>juan.perez@efaa.cl</td>\n",
       "      <td>56955551234</td>\n",
       "    </tr>\n",
       "    <tr>\n",
       "      <th>2</th>\n",
       "      <td>3</td>\n",
       "      <td>Jose</td>\n",
       "      <td>Gozalez</td>\n",
       "      <td>jose.gonzalez@efaa.cl</td>\n",
       "      <td>56955554321</td>\n",
       "    </tr>\n",
       "  </tbody>\n",
       "</table>\n",
       "</div>"
      ]
     },
     "execution_count": 63,
     "metadata": {},
     "output_type": "execute_result"
    }
   ],
   "execution_count": 63
  },
  {
   "metadata": {},
   "cell_type": "markdown",
   "source": "Finalmente, podemos observar qué es lo que registra la tabla `sqlite_sequence`."
  },
  {
   "cell_type": "code",
   "metadata": {
    "ExecuteTime": {
     "end_time": "2024-09-08T11:08:50.039202Z",
     "start_time": "2024-09-08T11:08:50.032717Z"
    }
   },
   "source": "sql_seq()",
   "outputs": [
    {
     "data": {
      "text/plain": [
       "       name  seq\n",
       "0  clientes    3"
      ],
      "text/html": [
       "<div>\n",
       "<style scoped>\n",
       "    .dataframe tbody tr th:only-of-type {\n",
       "        vertical-align: middle;\n",
       "    }\n",
       "\n",
       "    .dataframe tbody tr th {\n",
       "        vertical-align: top;\n",
       "    }\n",
       "\n",
       "    .dataframe thead th {\n",
       "        text-align: right;\n",
       "    }\n",
       "</style>\n",
       "<table border=\"1\" class=\"dataframe\">\n",
       "  <thead>\n",
       "    <tr style=\"text-align: right;\">\n",
       "      <th></th>\n",
       "      <th>name</th>\n",
       "      <th>seq</th>\n",
       "    </tr>\n",
       "  </thead>\n",
       "  <tbody>\n",
       "    <tr>\n",
       "      <th>0</th>\n",
       "      <td>clientes</td>\n",
       "      <td>3</td>\n",
       "    </tr>\n",
       "  </tbody>\n",
       "</table>\n",
       "</div>"
      ]
     },
     "execution_count": 65,
     "metadata": {},
     "output_type": "execute_result"
    }
   ],
   "execution_count": 65
  },
  {
   "metadata": {},
   "cell_type": "markdown",
   "source": "Dejo como ejercicio adicional la interpretación de los registros de esta tabla."
  },
  {
   "cell_type": "markdown",
   "metadata": {},
   "source": [
    "### Tabla `cuentas`"
   ]
  },
  {
   "cell_type": "markdown",
   "metadata": {},
   "source": [
    "Recordemos los campos de esta tabla."
   ]
  },
  {
   "cell_type": "code",
   "metadata": {
    "ExecuteTime": {
     "end_time": "2024-09-08T11:09:45.172253Z",
     "start_time": "2024-09-08T11:09:45.164852Z"
    }
   },
   "source": [
    "pd.read_sql(\"SELECT * FROM cuentas\", conn)"
   ],
   "outputs": [
    {
     "data": {
      "text/plain": [
       "Empty DataFrame\n",
       "Columns: [id, nombre, id_cliente]\n",
       "Index: []"
      ],
      "text/html": [
       "<div>\n",
       "<style scoped>\n",
       "    .dataframe tbody tr th:only-of-type {\n",
       "        vertical-align: middle;\n",
       "    }\n",
       "\n",
       "    .dataframe tbody tr th {\n",
       "        vertical-align: top;\n",
       "    }\n",
       "\n",
       "    .dataframe thead th {\n",
       "        text-align: right;\n",
       "    }\n",
       "</style>\n",
       "<table border=\"1\" class=\"dataframe\">\n",
       "  <thead>\n",
       "    <tr style=\"text-align: right;\">\n",
       "      <th></th>\n",
       "      <th>id</th>\n",
       "      <th>nombre</th>\n",
       "      <th>id_cliente</th>\n",
       "    </tr>\n",
       "  </thead>\n",
       "  <tbody>\n",
       "  </tbody>\n",
       "</table>\n",
       "</div>"
      ]
     },
     "execution_count": 66,
     "metadata": {},
     "output_type": "execute_result"
    }
   ],
   "execution_count": 66
  },
  {
   "cell_type": "markdown",
   "metadata": {},
   "source": [
    "Vamos a insertar algunas cuentas."
   ]
  },
  {
   "cell_type": "code",
   "metadata": {
    "ExecuteTime": {
     "end_time": "2024-09-08T11:18:34.331292Z",
     "start_time": "2024-09-08T11:18:34.328356Z"
    }
   },
   "source": [
    "cuentas = [\n",
    "    ('CUENTA1', 1),\n",
    "    ('CUENTA2', 1),\n",
    "    ('CUENTA1', 2),\n",
    "    ('CUENTA1', 3)\n",
    "]"
   ],
   "outputs": [],
   "execution_count": 67
  },
  {
   "cell_type": "markdown",
   "metadata": {},
   "source": [
    "Con este comando podemos insertar todas las cuentas con una sola instrucción."
   ]
  },
  {
   "cell_type": "code",
   "metadata": {
    "ExecuteTime": {
     "end_time": "2024-09-08T11:18:44.508394Z",
     "start_time": "2024-09-08T11:18:44.504395Z"
    }
   },
   "source": [
    "cursor.executemany(\"INSERT INTO cuentas (nombre, id_cliente) VALUES (?, ?)\", cuentas)\n",
    "conn.commit()"
   ],
   "outputs": [],
   "execution_count": 68
  },
  {
   "cell_type": "code",
   "metadata": {
    "ExecuteTime": {
     "end_time": "2024-09-08T11:18:47.154964Z",
     "start_time": "2024-09-08T11:18:47.143546Z"
    }
   },
   "source": [
    "pd.read_sql(\"SELECT * FROM cuentas\", conn)"
   ],
   "outputs": [
    {
     "data": {
      "text/plain": [
       "   id   nombre  id_cliente\n",
       "0   1  CUENTA1           1\n",
       "1   2  CUENTA2           1\n",
       "2   3  CUENTA1           2\n",
       "3   4  CUENTA1           3"
      ],
      "text/html": [
       "<div>\n",
       "<style scoped>\n",
       "    .dataframe tbody tr th:only-of-type {\n",
       "        vertical-align: middle;\n",
       "    }\n",
       "\n",
       "    .dataframe tbody tr th {\n",
       "        vertical-align: top;\n",
       "    }\n",
       "\n",
       "    .dataframe thead th {\n",
       "        text-align: right;\n",
       "    }\n",
       "</style>\n",
       "<table border=\"1\" class=\"dataframe\">\n",
       "  <thead>\n",
       "    <tr style=\"text-align: right;\">\n",
       "      <th></th>\n",
       "      <th>id</th>\n",
       "      <th>nombre</th>\n",
       "      <th>id_cliente</th>\n",
       "    </tr>\n",
       "  </thead>\n",
       "  <tbody>\n",
       "    <tr>\n",
       "      <th>0</th>\n",
       "      <td>1</td>\n",
       "      <td>CUENTA1</td>\n",
       "      <td>1</td>\n",
       "    </tr>\n",
       "    <tr>\n",
       "      <th>1</th>\n",
       "      <td>2</td>\n",
       "      <td>CUENTA2</td>\n",
       "      <td>1</td>\n",
       "    </tr>\n",
       "    <tr>\n",
       "      <th>2</th>\n",
       "      <td>3</td>\n",
       "      <td>CUENTA1</td>\n",
       "      <td>2</td>\n",
       "    </tr>\n",
       "    <tr>\n",
       "      <th>3</th>\n",
       "      <td>4</td>\n",
       "      <td>CUENTA1</td>\n",
       "      <td>3</td>\n",
       "    </tr>\n",
       "  </tbody>\n",
       "</table>\n",
       "</div>"
      ]
     },
     "execution_count": 69,
     "metadata": {},
     "output_type": "execute_result"
    }
   ],
   "execution_count": 69
  },
  {
   "cell_type": "markdown",
   "metadata": {},
   "source": [
    "¿Qué pasa si tratamos de insertar una cuenta para un cliente que no existe?"
   ]
  },
  {
   "cell_type": "code",
   "metadata": {
    "ExecuteTime": {
     "end_time": "2024-09-08T11:19:21.445926Z",
     "start_time": "2024-09-08T11:19:21.442103Z"
    }
   },
   "source": [
    "try:\n",
    "    cursor.execute(\"INSERT INTO cuentas (nombre, id_cliente) VALUES ('CUENTA1', 4)\")\n",
    "except Exception as e:\n",
    "    print(\"Hubo un error ...\")\n",
    "    print(e)"
   ],
   "outputs": [
    {
     "name": "stdout",
     "output_type": "stream",
     "text": [
      "Hubo un error ...\n",
      "FOREIGN KEY constraint failed\n"
     ]
    }
   ],
   "execution_count": 70
  },
  {
   "cell_type": "code",
   "metadata": {
    "ExecuteTime": {
     "end_time": "2024-09-08T11:19:37.551260Z",
     "start_time": "2024-09-08T11:19:37.543092Z"
    }
   },
   "source": "sql_seq()",
   "outputs": [
    {
     "data": {
      "text/plain": [
       "       name  seq\n",
       "0  clientes    3\n",
       "1   cuentas    4"
      ],
      "text/html": [
       "<div>\n",
       "<style scoped>\n",
       "    .dataframe tbody tr th:only-of-type {\n",
       "        vertical-align: middle;\n",
       "    }\n",
       "\n",
       "    .dataframe tbody tr th {\n",
       "        vertical-align: top;\n",
       "    }\n",
       "\n",
       "    .dataframe thead th {\n",
       "        text-align: right;\n",
       "    }\n",
       "</style>\n",
       "<table border=\"1\" class=\"dataframe\">\n",
       "  <thead>\n",
       "    <tr style=\"text-align: right;\">\n",
       "      <th></th>\n",
       "      <th>name</th>\n",
       "      <th>seq</th>\n",
       "    </tr>\n",
       "  </thead>\n",
       "  <tbody>\n",
       "    <tr>\n",
       "      <th>0</th>\n",
       "      <td>clientes</td>\n",
       "      <td>3</td>\n",
       "    </tr>\n",
       "    <tr>\n",
       "      <th>1</th>\n",
       "      <td>cuentas</td>\n",
       "      <td>4</td>\n",
       "    </tr>\n",
       "  </tbody>\n",
       "</table>\n",
       "</div>"
      ]
     },
     "execution_count": 71,
     "metadata": {},
     "output_type": "execute_result"
    }
   ],
   "execution_count": 71
  },
  {
   "cell_type": "markdown",
   "metadata": {},
   "source": [
    "### Tabla `tipo_movimiento`"
   ]
  },
  {
   "cell_type": "markdown",
   "metadata": {},
   "source": [
    "Esta es una tabla con data estática. Vamos a insertar los 4 tipos de movimientos que indicamos al inicio."
   ]
  },
  {
   "cell_type": "code",
   "metadata": {
    "ExecuteTime": {
     "end_time": "2024-09-08T11:22:22.103377Z",
     "start_time": "2024-09-08T11:22:22.096875Z"
    }
   },
   "source": [
    "pd.read_sql(\"SELECT * FROM tipo_movimiento\", conn)"
   ],
   "outputs": [
    {
     "data": {
      "text/plain": [
       "Empty DataFrame\n",
       "Columns: [id, codigo]\n",
       "Index: []"
      ],
      "text/html": [
       "<div>\n",
       "<style scoped>\n",
       "    .dataframe tbody tr th:only-of-type {\n",
       "        vertical-align: middle;\n",
       "    }\n",
       "\n",
       "    .dataframe tbody tr th {\n",
       "        vertical-align: top;\n",
       "    }\n",
       "\n",
       "    .dataframe thead th {\n",
       "        text-align: right;\n",
       "    }\n",
       "</style>\n",
       "<table border=\"1\" class=\"dataframe\">\n",
       "  <thead>\n",
       "    <tr style=\"text-align: right;\">\n",
       "      <th></th>\n",
       "      <th>id</th>\n",
       "      <th>codigo</th>\n",
       "    </tr>\n",
       "  </thead>\n",
       "  <tbody>\n",
       "  </tbody>\n",
       "</table>\n",
       "</div>"
      ]
     },
     "execution_count": 72,
     "metadata": {},
     "output_type": "execute_result"
    }
   ],
   "execution_count": 72
  },
  {
   "cell_type": "code",
   "metadata": {
    "ExecuteTime": {
     "end_time": "2024-09-08T11:22:29.118550Z",
     "start_time": "2024-09-08T11:22:29.115876Z"
    }
   },
   "source": [
    "movimientos = [\n",
    "    ('APORTE',), ('RETIRO',), ('COMPRA',), ('VENTA',)\n",
    "]"
   ],
   "outputs": [],
   "execution_count": 73
  },
  {
   "cell_type": "code",
   "metadata": {
    "ExecuteTime": {
     "end_time": "2024-09-08T11:22:53.803947Z",
     "start_time": "2024-09-08T11:22:53.799733Z"
    }
   },
   "source": [
    "cursor.executemany(\"INSERT INTO tipo_movimiento (codigo) VALUES (?)\", movimientos)\n",
    "conn.commit()"
   ],
   "outputs": [],
   "execution_count": 74
  },
  {
   "cell_type": "markdown",
   "metadata": {},
   "source": [
    "### Tabla `caja`"
   ]
  },
  {
   "cell_type": "markdown",
   "metadata": {},
   "source": "Vamos a hacerle un aporte de 10 MM CLP a la `CUENTA1`."
  },
  {
   "cell_type": "code",
   "metadata": {
    "ExecuteTime": {
     "end_time": "2024-09-08T11:24:35.393126Z",
     "start_time": "2024-09-08T11:24:35.390482Z"
    }
   },
   "source": "qry = \"INSERT INTO caja (id_cuenta, codigo_movimiento, monto) VALUES (1, 'APORTE', 10000000)\"",
   "outputs": [],
   "execution_count": 76
  },
  {
   "cell_type": "code",
   "metadata": {
    "ExecuteTime": {
     "end_time": "2024-09-08T11:24:40.015860Z",
     "start_time": "2024-09-08T11:24:40.012060Z"
    }
   },
   "source": [
    "cursor.execute(qry)\n",
    "conn.commit()"
   ],
   "outputs": [],
   "execution_count": 77
  },
  {
   "metadata": {
    "ExecuteTime": {
     "end_time": "2024-09-08T11:24:54.518567Z",
     "start_time": "2024-09-08T11:24:54.509775Z"
    }
   },
   "cell_type": "code",
   "source": "pd.read_sql(\"SELECT * FROM caja\", conn).style.format({'monto': '{:,.0f}'})",
   "outputs": [
    {
     "data": {
      "text/plain": [
       "<pandas.io.formats.style.Styler at 0x116082a80>"
      ],
      "text/html": [
       "<style type=\"text/css\">\n",
       "</style>\n",
       "<table id=\"T_65ddf\">\n",
       "  <thead>\n",
       "    <tr>\n",
       "      <th class=\"blank level0\" >&nbsp;</th>\n",
       "      <th id=\"T_65ddf_level0_col0\" class=\"col_heading level0 col0\" >id</th>\n",
       "      <th id=\"T_65ddf_level0_col1\" class=\"col_heading level0 col1\" >id_cuenta</th>\n",
       "      <th id=\"T_65ddf_level0_col2\" class=\"col_heading level0 col2\" >codigo_movimiento</th>\n",
       "      <th id=\"T_65ddf_level0_col3\" class=\"col_heading level0 col3\" >monto</th>\n",
       "    </tr>\n",
       "  </thead>\n",
       "  <tbody>\n",
       "    <tr>\n",
       "      <th id=\"T_65ddf_level0_row0\" class=\"row_heading level0 row0\" >0</th>\n",
       "      <td id=\"T_65ddf_row0_col0\" class=\"data row0 col0\" >1</td>\n",
       "      <td id=\"T_65ddf_row0_col1\" class=\"data row0 col1\" >1</td>\n",
       "      <td id=\"T_65ddf_row0_col2\" class=\"data row0 col2\" >APORTE</td>\n",
       "      <td id=\"T_65ddf_row0_col3\" class=\"data row0 col3\" >10,000,000</td>\n",
       "    </tr>\n",
       "  </tbody>\n",
       "</table>\n"
      ]
     },
     "execution_count": 78,
     "metadata": {},
     "output_type": "execute_result"
    }
   ],
   "execution_count": 78
  },
  {
   "cell_type": "markdown",
   "metadata": {},
   "source": [
    "### Tabla `tipos_instrumentos`"
   ]
  },
  {
   "cell_type": "markdown",
   "metadata": {},
   "source": "Ahora la `CUENTA1` tiene saldo a favor en caja, pero no podemos registrar inversiones si no damos de alta los tipos de instrumentos y los instrumentos específicos con los que vamos a operar. Estas son tablas con data estática."
  },
  {
   "cell_type": "code",
   "metadata": {
    "ExecuteTime": {
     "end_time": "2024-09-08T11:28:49.628720Z",
     "start_time": "2024-09-08T11:28:49.625771Z"
    }
   },
   "source": [
    "tipos_instrumentos = [\n",
    "    ('ACCIONES',), ('CUOTA_FONDOS',), ('ETF',)\n",
    "]"
   ],
   "outputs": [],
   "execution_count": 80
  },
  {
   "cell_type": "code",
   "metadata": {
    "ExecuteTime": {
     "end_time": "2024-09-08T11:28:53.626181Z",
     "start_time": "2024-09-08T11:28:53.621773Z"
    }
   },
   "source": [
    "cursor.executemany(\"INSERT INTO tipos_instrumentos (codigo) VALUES (?)\", tipos_instrumentos)\n",
    "conn.commit()"
   ],
   "outputs": [],
   "execution_count": 81
  },
  {
   "metadata": {
    "ExecuteTime": {
     "end_time": "2024-09-08T11:29:00.835364Z",
     "start_time": "2024-09-08T11:29:00.827695Z"
    }
   },
   "cell_type": "code",
   "source": "pd.read_sql(\"SELECT * FROM tipos_instrumentos\", conn)",
   "outputs": [
    {
     "data": {
      "text/plain": [
       "   id        codigo\n",
       "0   1      ACCIONES\n",
       "1   2  CUOTA_FONDOS\n",
       "2   3           ETF"
      ],
      "text/html": [
       "<div>\n",
       "<style scoped>\n",
       "    .dataframe tbody tr th:only-of-type {\n",
       "        vertical-align: middle;\n",
       "    }\n",
       "\n",
       "    .dataframe tbody tr th {\n",
       "        vertical-align: top;\n",
       "    }\n",
       "\n",
       "    .dataframe thead th {\n",
       "        text-align: right;\n",
       "    }\n",
       "</style>\n",
       "<table border=\"1\" class=\"dataframe\">\n",
       "  <thead>\n",
       "    <tr style=\"text-align: right;\">\n",
       "      <th></th>\n",
       "      <th>id</th>\n",
       "      <th>codigo</th>\n",
       "    </tr>\n",
       "  </thead>\n",
       "  <tbody>\n",
       "    <tr>\n",
       "      <th>0</th>\n",
       "      <td>1</td>\n",
       "      <td>ACCIONES</td>\n",
       "    </tr>\n",
       "    <tr>\n",
       "      <th>1</th>\n",
       "      <td>2</td>\n",
       "      <td>CUOTA_FONDOS</td>\n",
       "    </tr>\n",
       "    <tr>\n",
       "      <th>2</th>\n",
       "      <td>3</td>\n",
       "      <td>ETF</td>\n",
       "    </tr>\n",
       "  </tbody>\n",
       "</table>\n",
       "</div>"
      ]
     },
     "execution_count": 82,
     "metadata": {},
     "output_type": "execute_result"
    }
   ],
   "execution_count": 82
  },
  {
   "cell_type": "markdown",
   "metadata": {},
   "source": [
    "### Tabla `instrumentos`"
   ]
  },
  {
   "cell_type": "code",
   "metadata": {
    "ExecuteTime": {
     "end_time": "2024-09-08T11:29:58.496145Z",
     "start_time": "2024-09-08T11:29:58.492532Z"
    }
   },
   "source": [
    "instrumentos = [\n",
    "    ('COPEC', 'ACCIONES'),\n",
    "    ('MMKT_LV', 'CUOTA_FONDOS'),\n",
    "    ('SP500', 'ETF'),\n",
    "]"
   ],
   "outputs": [],
   "execution_count": 84
  },
  {
   "cell_type": "code",
   "metadata": {
    "ExecuteTime": {
     "end_time": "2024-09-08T11:29:59.742305Z",
     "start_time": "2024-09-08T11:29:59.735461Z"
    }
   },
   "source": [
    "cursor.executemany(\"INSERT INTO instrumentos (codigo, codigo_instrumento) VALUES (?, ?)\", instrumentos)\n",
    "conn.commit()"
   ],
   "outputs": [],
   "execution_count": 85
  },
  {
   "metadata": {
    "ExecuteTime": {
     "end_time": "2024-09-08T11:30:11.059059Z",
     "start_time": "2024-09-08T11:30:11.051742Z"
    }
   },
   "cell_type": "code",
   "source": "pd.read_sql(\"SELECT * FROM instrumentos\", conn)",
   "outputs": [
    {
     "data": {
      "text/plain": [
       "   id   codigo codigo_instrumento\n",
       "0   1    COPEC           ACCIONES\n",
       "1   2  MMKT_LV       CUOTA_FONDOS\n",
       "2   3    SP500                ETF"
      ],
      "text/html": [
       "<div>\n",
       "<style scoped>\n",
       "    .dataframe tbody tr th:only-of-type {\n",
       "        vertical-align: middle;\n",
       "    }\n",
       "\n",
       "    .dataframe tbody tr th {\n",
       "        vertical-align: top;\n",
       "    }\n",
       "\n",
       "    .dataframe thead th {\n",
       "        text-align: right;\n",
       "    }\n",
       "</style>\n",
       "<table border=\"1\" class=\"dataframe\">\n",
       "  <thead>\n",
       "    <tr style=\"text-align: right;\">\n",
       "      <th></th>\n",
       "      <th>id</th>\n",
       "      <th>codigo</th>\n",
       "      <th>codigo_instrumento</th>\n",
       "    </tr>\n",
       "  </thead>\n",
       "  <tbody>\n",
       "    <tr>\n",
       "      <th>0</th>\n",
       "      <td>1</td>\n",
       "      <td>COPEC</td>\n",
       "      <td>ACCIONES</td>\n",
       "    </tr>\n",
       "    <tr>\n",
       "      <th>1</th>\n",
       "      <td>2</td>\n",
       "      <td>MMKT_LV</td>\n",
       "      <td>CUOTA_FONDOS</td>\n",
       "    </tr>\n",
       "    <tr>\n",
       "      <th>2</th>\n",
       "      <td>3</td>\n",
       "      <td>SP500</td>\n",
       "      <td>ETF</td>\n",
       "    </tr>\n",
       "  </tbody>\n",
       "</table>\n",
       "</div>"
      ]
     },
     "execution_count": 86,
     "metadata": {},
     "output_type": "execute_result"
    }
   ],
   "execution_count": 86
  },
  {
   "cell_type": "markdown",
   "metadata": {},
   "source": [
    "### Compra de un Instrumento"
   ]
  },
  {
   "cell_type": "markdown",
   "metadata": {},
   "source": [
    "Aquí vamos a ver un ejemplo de la utilidad de usar `commit`. Al ingresar una compra de un instrumento, se deben realizar dos inserciones de datos:\n",
    "\n",
    "- Un nuevo registro en la tabla `inversiones`\n",
    "- Un nuevo movimiento en la tabla `caja` que refleje que se ha utilizado el saldo.\n",
    "\n",
    "Ambas operaciones están envueltas de forma explícita en una `TRANSACTION`, de modo que si cualquier parte de ésta falla, no quedará incompleta y todo se puede reversar."
   ]
  },
  {
   "cell_type": "code",
   "metadata": {
    "ExecuteTime": {
     "end_time": "2024-09-08T11:31:17.538019Z",
     "start_time": "2024-09-08T11:31:17.534594Z"
    }
   },
   "source": [
    "id_cuenta = 1\n",
    "instrumento = 'COPEC'\n",
    "codigo = 'COMPRA'\n",
    "numero = 1000\n",
    "precio = 7150"
   ],
   "outputs": [],
   "execution_count": 87
  },
  {
   "cell_type": "code",
   "metadata": {
    "ExecuteTime": {
     "end_time": "2024-09-08T11:31:20.558057Z",
     "start_time": "2024-09-08T11:31:20.554832Z"
    }
   },
   "source": [
    "qry_caja = \"INSERT INTO caja (id_cuenta, codigo_movimiento, monto) VALUES (?, ?, ?)\""
   ],
   "outputs": [],
   "execution_count": 88
  },
  {
   "cell_type": "code",
   "metadata": {
    "ExecuteTime": {
     "end_time": "2024-09-08T11:31:38.230079Z",
     "start_time": "2024-09-08T11:31:38.226538Z"
    }
   },
   "source": [
    "qry_inversion = \"INSERT INTO inversiones (id_cuenta, codigo_instrumento, monto, precio) \\\n",
    "VALUES (?, ?, ?, ?)\""
   ],
   "outputs": [],
   "execution_count": 89
  },
  {
   "cell_type": "code",
   "metadata": {
    "ExecuteTime": {
     "end_time": "2024-09-08T11:35:09.108470Z",
     "start_time": "2024-09-08T11:35:09.102714Z"
    }
   },
   "source": [
    "try:\n",
    "    cursor.execute(\"BEGIN TRANSACTION\")\n",
    "    # Cuando compro registro egreso, cuando vendo un ingreso\n",
    "    cursor.execute(qry_caja, [id_cuenta, codigo, numero * precio if codigo == 'VENTA' else -numero * precio])\n",
    "    # En la tabla de inversiones es al revés\n",
    "    cursor.execute(qry_inversion, [id_cuenta, instrumento, numero if codigo == 'COMPRA' else -numero, precio])\n",
    "    conn.commit()\n",
    "except Exception as e:\n",
    "    print(str(e))\n",
    "    cursor.execute(\"ROLLBACK\")"
   ],
   "outputs": [],
   "execution_count": 90
  },
  {
   "metadata": {},
   "cell_type": "markdown",
   "source": "Vemos como quedan las tablas `caja` e `inversiones`."
  },
  {
   "metadata": {
    "ExecuteTime": {
     "end_time": "2024-09-08T11:36:19.816791Z",
     "start_time": "2024-09-08T11:36:19.807029Z"
    }
   },
   "cell_type": "code",
   "source": "pd.read_sql(\"SELECT * FROM caja\", conn).style.format({'monto': '{:,.0f}'})",
   "outputs": [
    {
     "data": {
      "text/plain": [
       "<pandas.io.formats.style.Styler at 0x116095c10>"
      ],
      "text/html": [
       "<style type=\"text/css\">\n",
       "</style>\n",
       "<table id=\"T_1ae6f\">\n",
       "  <thead>\n",
       "    <tr>\n",
       "      <th class=\"blank level0\" >&nbsp;</th>\n",
       "      <th id=\"T_1ae6f_level0_col0\" class=\"col_heading level0 col0\" >id</th>\n",
       "      <th id=\"T_1ae6f_level0_col1\" class=\"col_heading level0 col1\" >id_cuenta</th>\n",
       "      <th id=\"T_1ae6f_level0_col2\" class=\"col_heading level0 col2\" >codigo_movimiento</th>\n",
       "      <th id=\"T_1ae6f_level0_col3\" class=\"col_heading level0 col3\" >monto</th>\n",
       "    </tr>\n",
       "  </thead>\n",
       "  <tbody>\n",
       "    <tr>\n",
       "      <th id=\"T_1ae6f_level0_row0\" class=\"row_heading level0 row0\" >0</th>\n",
       "      <td id=\"T_1ae6f_row0_col0\" class=\"data row0 col0\" >1</td>\n",
       "      <td id=\"T_1ae6f_row0_col1\" class=\"data row0 col1\" >1</td>\n",
       "      <td id=\"T_1ae6f_row0_col2\" class=\"data row0 col2\" >APORTE</td>\n",
       "      <td id=\"T_1ae6f_row0_col3\" class=\"data row0 col3\" >10,000,000</td>\n",
       "    </tr>\n",
       "    <tr>\n",
       "      <th id=\"T_1ae6f_level0_row1\" class=\"row_heading level0 row1\" >1</th>\n",
       "      <td id=\"T_1ae6f_row1_col0\" class=\"data row1 col0\" >2</td>\n",
       "      <td id=\"T_1ae6f_row1_col1\" class=\"data row1 col1\" >1</td>\n",
       "      <td id=\"T_1ae6f_row1_col2\" class=\"data row1 col2\" >COMPRA</td>\n",
       "      <td id=\"T_1ae6f_row1_col3\" class=\"data row1 col3\" >-7,150,000</td>\n",
       "    </tr>\n",
       "  </tbody>\n",
       "</table>\n"
      ]
     },
     "execution_count": 92,
     "metadata": {},
     "output_type": "execute_result"
    }
   ],
   "execution_count": 92
  },
  {
   "cell_type": "code",
   "metadata": {
    "ExecuteTime": {
     "end_time": "2024-09-08T11:36:50.458526Z",
     "start_time": "2024-09-08T11:36:50.452321Z"
    }
   },
   "source": "pd.read_sql(\"SELECT * FROM inversiones\", conn).style.format({'monto': '{:,.0f}', precio: '{:,.0f}'})",
   "outputs": [
    {
     "data": {
      "text/plain": [
       "<pandas.io.formats.style.Styler at 0x115f34140>"
      ],
      "text/html": [
       "<style type=\"text/css\">\n",
       "</style>\n",
       "<table id=\"T_04e1a\">\n",
       "  <thead>\n",
       "    <tr>\n",
       "      <th class=\"blank level0\" >&nbsp;</th>\n",
       "      <th id=\"T_04e1a_level0_col0\" class=\"col_heading level0 col0\" >id</th>\n",
       "      <th id=\"T_04e1a_level0_col1\" class=\"col_heading level0 col1\" >id_cuenta</th>\n",
       "      <th id=\"T_04e1a_level0_col2\" class=\"col_heading level0 col2\" >codigo_instrumento</th>\n",
       "      <th id=\"T_04e1a_level0_col3\" class=\"col_heading level0 col3\" >monto</th>\n",
       "      <th id=\"T_04e1a_level0_col4\" class=\"col_heading level0 col4\" >precio</th>\n",
       "    </tr>\n",
       "  </thead>\n",
       "  <tbody>\n",
       "    <tr>\n",
       "      <th id=\"T_04e1a_level0_row0\" class=\"row_heading level0 row0\" >0</th>\n",
       "      <td id=\"T_04e1a_row0_col0\" class=\"data row0 col0\" >1</td>\n",
       "      <td id=\"T_04e1a_row0_col1\" class=\"data row0 col1\" >1</td>\n",
       "      <td id=\"T_04e1a_row0_col2\" class=\"data row0 col2\" >COPEC</td>\n",
       "      <td id=\"T_04e1a_row0_col3\" class=\"data row0 col3\" >1,000</td>\n",
       "      <td id=\"T_04e1a_row0_col4\" class=\"data row0 col4\" >7150</td>\n",
       "    </tr>\n",
       "  </tbody>\n",
       "</table>\n"
      ]
     },
     "execution_count": 93,
     "metadata": {},
     "output_type": "execute_result"
    }
   ],
   "execution_count": 93
  },
  {
   "cell_type": "markdown",
   "metadata": {},
   "source": [
    "## Cerrar Conexión"
   ]
  },
  {
   "metadata": {},
   "cell_type": "markdown",
   "source": "En esta sección llegamos hasta acá. Cerramos la conexión a la based e datos."
  },
  {
   "cell_type": "code",
   "metadata": {
    "ExecuteTime": {
     "end_time": "2024-09-08T11:37:48.332256Z",
     "start_time": "2024-09-08T11:37:48.328439Z"
    }
   },
   "source": [
    "conn.close()"
   ],
   "outputs": [],
   "execution_count": 94
  }
 ],
 "metadata": {
  "hide_input": false,
  "kernelspec": {
   "display_name": "Python 3",
   "language": "python",
   "name": "python3"
  },
  "language_info": {
   "codemirror_mode": {
    "name": "ipython",
    "version": 3
   },
   "file_extension": ".py",
   "mimetype": "text/x-python",
   "name": "python",
   "nbconvert_exporter": "python",
   "pygments_lexer": "ipython3",
   "version": "3.7.3"
  },
  "toc": {
   "base_numbering": 1,
   "nav_menu": {},
   "number_sections": true,
   "sideBar": true,
   "skip_h1_title": true,
   "title_cell": "Table of Contents",
   "title_sidebar": "Contenido",
   "toc_cell": false,
   "toc_position": {
    "height": "calc(100% - 180px)",
    "left": "10px",
    "top": "150px",
    "width": "259px"
   },
   "toc_section_display": true,
   "toc_window_display": false
  }
 },
 "nbformat": 4,
 "nbformat_minor": 4
}
