{
 "cells": [
  {
   "cell_type": "markdown",
   "metadata": {},
   "source": "# Más Contenedores, Condiciones y Más Loops"
  },
  {
   "metadata": {},
   "cell_type": "markdown",
   "source": [
    "- `zip` de 2 variables `List`\n",
    "- Variables de tipo `Dict`\n",
    "-  `if ... elif ... else`\n",
    "- `bool`, `and` y `or`\n",
    "- la instrucción `while`"
   ]
  },
  {
   "cell_type": "markdown",
   "metadata": {},
   "source": "Resolvamos el problema propuesto en la [Tarea 1](01-01_c_intro-python.ipynb)."
  },
  {
   "cell_type": "markdown",
   "metadata": {},
   "source": [
    "## `zip` de 2 `List`"
   ]
  },
  {
   "cell_type": "markdown",
   "metadata": {},
   "source": [
    "Consideremos las variables de tipo `List` donde están almacenados los flujos y los plazos de los flujos."
   ]
  },
  {
   "cell_type": "code",
   "execution_count": 10,
   "metadata": {
    "ExecuteTime": {
     "end_time": "2021-08-04T22:23:50.703840Z",
     "start_time": "2021-08-04T22:23:50.699722Z"
    }
   },
   "outputs": [],
   "source": [
    "flujos = [1, 1, 1, 1, 1, 1, 1, 1, 1, 101]"
   ]
  },
  {
   "cell_type": "code",
   "execution_count": 11,
   "metadata": {
    "ExecuteTime": {
     "end_time": "2021-08-04T22:23:50.710354Z",
     "start_time": "2021-08-04T22:23:50.706513Z"
    }
   },
   "outputs": [],
   "source": [
    "plazos = [182, 365, 547, 730, 912, 1095, 1277, 1460, 1642, 1825]"
   ]
  },
  {
   "cell_type": "markdown",
   "metadata": {},
   "source": [
    "Ahora, podemos *juntar* las `List` `notas` y `nombres` usando la función `zip`."
   ]
  },
  {
   "cell_type": "markdown",
   "metadata": {},
   "source": [
    "El `zip` de 2 `List` es `Iterable` y podemos, por lo tanto, recorrer sus elementos con una instrucción `for`."
   ]
  },
  {
   "cell_type": "code",
   "execution_count": 12,
   "metadata": {
    "ExecuteTime": {
     "end_time": "2021-08-04T22:23:50.720996Z",
     "start_time": "2021-08-04T22:23:50.714789Z"
    }
   },
   "outputs": [
    {
     "name": "stdout",
     "output_type": "stream",
     "text": [
      "(1, 182)\n",
      "(1, 365)\n",
      "(1, 547)\n",
      "(1, 730)\n",
      "(1, 912)\n",
      "(1, 1095)\n",
      "(1, 1277)\n",
      "(1, 1460)\n",
      "(1, 1642)\n",
      "(101, 1825)\n"
     ]
    }
   ],
   "source": [
    "for fp in zip(flujos, plazos):\n",
    "    print(fp)"
   ]
  },
  {
   "cell_type": "markdown",
   "metadata": {},
   "source": [
    "Notar que los resultados de cada `print` aparecen entre `(...)`. Esto indica que cada elemento del `zip` es una `Tuple`."
   ]
  },
  {
   "cell_type": "markdown",
   "metadata": {},
   "source": [
    "También se puede hacer de la siguiente forma:"
   ]
  },
  {
   "cell_type": "code",
   "execution_count": 13,
   "metadata": {
    "ExecuteTime": {
     "end_time": "2021-08-04T22:23:50.731160Z",
     "start_time": "2021-08-04T22:23:50.724416Z"
    }
   },
   "outputs": [
    {
     "name": "stdout",
     "output_type": "stream",
     "text": [
      "1 182\n",
      "1 365\n",
      "1 547\n",
      "1 730\n",
      "1 912\n",
      "1 1095\n",
      "1 1277\n",
      "1 1460\n",
      "1 1642\n",
      "101 1825\n"
     ]
    }
   ],
   "source": [
    "for f, p in zip(flujos, plazos):\n",
    "    print(f, p)"
   ]
  },
  {
   "cell_type": "markdown",
   "metadata": {},
   "source": [
    "De esta forma, en cada paso del `for`, el flujo y plazo correspondiente se almacenan separadamente (sin uasr una `Tuple`)."
   ]
  },
  {
   "cell_type": "markdown",
   "metadata": {},
   "source": [
    "<div class=\"alert alert-block alert-warning\">\n",
    "    <b>Ojo:</b> al hacer <mark background-color:\"grey\">zip</mark> de <mark>List</mark> tenemos que estar atentos al largo de las <mark>List</mark>. Si hacemos <mark>zip</mark> de 2 <mark>List</mark> de largo distinto, <mark>zip</mark> considerará el largo de la <mark>List</mark> más corta.\n",
    "</div>"
   ]
  },
  {
   "cell_type": "code",
   "execution_count": 14,
   "metadata": {
    "ExecuteTime": {
     "end_time": "2021-08-04T22:23:50.737572Z",
     "start_time": "2021-08-04T22:23:50.732927Z"
    }
   },
   "outputs": [
    {
     "name": "stdout",
     "output_type": "stream",
     "text": [
      "(1, 'a')\n",
      "(2, 'b')\n",
      "(3, 'c')\n"
     ]
    }
   ],
   "source": [
    "lista1 = [1, 2, 3]\n",
    "lista2 = ['a', 'b', 'c', 'd']\n",
    "for ll in zip(lista1, lista2):\n",
    "    print(ll)"
   ]
  },
  {
   "cell_type": "markdown",
   "metadata": {},
   "source": [
    "Gracias a la instrucción `zip` podemos calcular el valor presente de los flujos utilizando el `for`."
   ]
  },
  {
   "cell_type": "code",
   "execution_count": 15,
   "metadata": {
    "ExecuteTime": {
     "end_time": "2021-08-04T22:23:50.904385Z",
     "start_time": "2021-08-04T22:23:50.896850Z"
    }
   },
   "outputs": [
    {
     "name": "stdout",
     "output_type": "stream",
     "text": [
      "El valor presente es: 100.0470\n"
     ]
    }
   ],
   "source": [
    "vp = 0.0     # <--- en esta variable se almacenará el resultado del cálculo\n",
    "tasa = .02   # <--- este es el valor de la tasa de descuento\n",
    "for f, p in zip(flujos, plazos):\n",
    "    vp += f * (1 + tasa)**(-p / 365) # vp = vp + f * (1 + tasa)**(-p / 365)\n",
    "print(f'El valor presente es: {vp:,.4f}')"
   ]
  },
  {
   "cell_type": "markdown",
   "metadata": {},
   "source": [
    "En el `loop` anterior hay dos elementos nuevos:\n",
    "\n",
    "- La expresión `a += b` es equivalente a escribir `a = a + b` que, a su vez, quiere decir que el nuevo valor de la variable `a` es el actual valor de `a` más el valor de la variable `b`. En el caso anterior, el nuevo valor de `vp` es el valor actual de `vp` más el valor presente del flujo `f`. Podemos apreciar como `vp` es una variable en donde vamos sumando (acumulando) los valores presentes de cada flujo.\n",
    "- `**` representa elevar a una potencia, como ^ en Excel."
   ]
  },
  {
   "cell_type": "markdown",
   "metadata": {},
   "source": [
    "### Pregunta"
   ]
  },
  {
   "cell_type": "markdown",
   "metadata": {},
   "source": [
    "La tasa de cupón del bono es 2.00% y la tasa de descuento es 2.00% ¿Porqué no está perfectamente a la par (vp = 100)?\n",
    "\n",
    "**Respuesta:** por la diferencia en la convención de la tasa de cupón y de la tasa de descuento."
   ]
  },
  {
   "cell_type": "markdown",
   "metadata": {},
   "source": [
    "## Variables de Tipo `Dict`"
   ]
  },
  {
   "cell_type": "markdown",
   "metadata": {},
   "source": [
    "En el ejemplo anterior tenemos los flujos de un único bono, sea éste `bono_1`. ¿Cómo podemos almacenar flujos de distintos bonos y posteriormente identificarlos con facilidad? Por ejemplo, lo más usual sería usar como identificador el nemotécnico del bono. Para eso sirven las variables de tipo `Dict`."
   ]
  },
  {
   "cell_type": "code",
   "execution_count": 16,
   "metadata": {
    "ExecuteTime": {
     "end_time": "2021-08-04T22:23:50.912629Z",
     "start_time": "2021-08-04T22:23:50.908513Z"
    }
   },
   "outputs": [],
   "source": [
    "nombre_edad = {\n",
    "    'alvaro': 52,\n",
    "    'thomas': 26,\n",
    "    'daniel': 36\n",
    "}"
   ]
  },
  {
   "cell_type": "code",
   "execution_count": 17,
   "metadata": {
    "ExecuteTime": {
     "end_time": "2021-08-04T22:23:50.919038Z",
     "start_time": "2021-08-04T22:23:50.915357Z"
    }
   },
   "outputs": [],
   "source": [
    "nombre_edad_peso = {\n",
    "    'alvaro': [52, 94],\n",
    "    'thomas': [26, 80]\n",
    "}"
   ]
  },
  {
   "cell_type": "code",
   "execution_count": 18,
   "metadata": {
    "ExecuteTime": {
     "end_time": "2021-08-04T22:23:50.927911Z",
     "start_time": "2021-08-04T22:23:50.921321Z"
    }
   },
   "outputs": [],
   "source": [
    "dict_bonos = {\n",
    "    \"bono_1\": [\n",
    "        [1, 1, 1, 1, 1, 1, 1, 1, 1, 101],\n",
    "        [182, 365, 547, 730, 912, 1095, 1277, 1460, 1642, 1825]\n",
    "    ],\n",
    "    \"bono_2\": [\n",
    "        [2, 2, 2, 2, 2, 2, 2, 2, 2, 102],\n",
    "        [182, 365, 547, 730, 912, 1095, 1277, 1460, 1642, 1825]\n",
    "    ]\n",
    "}"
   ]
  },
  {
   "cell_type": "markdown",
   "metadata": {},
   "source": [
    "Un dict va entre `{}` y cada elemento del `Dict` tiene la forma `<identificador>: <valor>`. En este caso, el identificador de cada elemento es el nemotécnico del bono (variable de tipo `str`) y el valor de cada elemento es una `List` que, a su vez, contiene una `List` con los flujos y una `List` con los plazos de los bonos."
   ]
  },
  {
   "cell_type": "markdown",
   "metadata": {},
   "source": [
    "### Cómo se Usa un `Dict`"
   ]
  },
  {
   "cell_type": "code",
   "execution_count": 19,
   "metadata": {
    "ExecuteTime": {
     "end_time": "2021-08-04T22:23:50.935240Z",
     "start_time": "2021-08-04T22:23:50.930929Z"
    }
   },
   "outputs": [
    {
     "data": {
      "text/plain": [
       "52"
      ]
     },
     "execution_count": 19,
     "metadata": {},
     "output_type": "execute_result"
    }
   ],
   "source": [
    "nombre_edad['alvaro']"
   ]
  },
  {
   "cell_type": "code",
   "execution_count": 20,
   "metadata": {
    "ExecuteTime": {
     "end_time": "2021-08-04T22:23:51.104274Z",
     "start_time": "2021-08-04T22:23:51.097602Z"
    }
   },
   "outputs": [
    {
     "data": {
      "text/plain": [
       "[[1, 1, 1, 1, 1, 1, 1, 1, 1, 101],\n",
       " [182, 365, 547, 730, 912, 1095, 1277, 1460, 1642, 1825]]"
      ]
     },
     "execution_count": 20,
     "metadata": {},
     "output_type": "execute_result"
    }
   ],
   "source": [
    "dict_bonos['bono_1'] # los flujos y plazos del bono_1"
   ]
  },
  {
   "cell_type": "markdown",
   "metadata": {},
   "source": [
    "Si queremos sólo los flujos del `bono_1`:"
   ]
  },
  {
   "cell_type": "code",
   "execution_count": 21,
   "metadata": {
    "ExecuteTime": {
     "end_time": "2021-08-04T22:23:51.113949Z",
     "start_time": "2021-08-04T22:23:51.107834Z"
    }
   },
   "outputs": [
    {
     "data": {
      "text/plain": [
       "[1, 1, 1, 1, 1, 1, 1, 1, 1, 101]"
      ]
     },
     "execution_count": 21,
     "metadata": {},
     "output_type": "execute_result"
    }
   ],
   "source": [
    "dict_bonos['bono_1'][0]"
   ]
  },
  {
   "cell_type": "markdown",
   "metadata": {},
   "source": [
    "Los datos del `bono_2`."
   ]
  },
  {
   "cell_type": "code",
   "execution_count": 22,
   "metadata": {
    "ExecuteTime": {
     "end_time": "2021-08-04T22:23:51.123424Z",
     "start_time": "2021-08-04T22:23:51.117051Z"
    }
   },
   "outputs": [
    {
     "data": {
      "text/plain": [
       "[[2, 2, 2, 2, 2, 2, 2, 2, 2, 102],\n",
       " [182, 365, 547, 730, 912, 1095, 1277, 1460, 1642, 1825]]"
      ]
     },
     "execution_count": 22,
     "metadata": {},
     "output_type": "execute_result"
    }
   ],
   "source": [
    "dict_bonos['bono_2'] # las notas de Física"
   ]
  },
  {
   "cell_type": "markdown",
   "metadata": {},
   "source": [
    "Sólo los plazos del `bono_2`."
   ]
  },
  {
   "cell_type": "code",
   "execution_count": 23,
   "metadata": {
    "ExecuteTime": {
     "end_time": "2021-08-04T22:23:51.132633Z",
     "start_time": "2021-08-04T22:23:51.126494Z"
    }
   },
   "outputs": [
    {
     "data": {
      "text/plain": [
       "[182, 365, 547, 730, 912, 1095, 1277, 1460, 1642, 1825]"
      ]
     },
     "execution_count": 23,
     "metadata": {},
     "output_type": "execute_result"
    }
   ],
   "source": [
    "dict_bonos['bono_2'][1]"
   ]
  },
  {
   "cell_type": "markdown",
   "metadata": {},
   "source": [
    "Un `Dict`es una estructura de datos mutable. Si aparece un nuevo bono, podemos agregarlo, por ejemplo:"
   ]
  },
  {
   "cell_type": "code",
   "execution_count": 24,
   "metadata": {
    "ExecuteTime": {
     "end_time": "2021-08-04T22:23:51.142362Z",
     "start_time": "2021-08-04T22:23:51.136633Z"
    }
   },
   "outputs": [],
   "source": [
    "dict_bonos['bono_3'] = [\n",
    "    [3, 3, 3, 3, 3, 3, 3, 3, 3, 103],\n",
    "    [182, 365, 547, 730, 912, 1095, 1277, 1460, 1642, 1825]\n",
    "]"
   ]
  },
  {
   "cell_type": "code",
   "execution_count": 25,
   "metadata": {
    "ExecuteTime": {
     "end_time": "2021-08-04T22:23:51.153182Z",
     "start_time": "2021-08-04T22:23:51.145617Z"
    }
   },
   "outputs": [
    {
     "data": {
      "text/plain": [
       "{'bono_1': [[1, 1, 1, 1, 1, 1, 1, 1, 1, 101],\n",
       "  [182, 365, 547, 730, 912, 1095, 1277, 1460, 1642, 1825]],\n",
       " 'bono_2': [[2, 2, 2, 2, 2, 2, 2, 2, 2, 102],\n",
       "  [182, 365, 547, 730, 912, 1095, 1277, 1460, 1642, 1825]],\n",
       " 'bono_3': [[3, 3, 3, 3, 3, 3, 3, 3, 3, 103],\n",
       "  [182, 365, 547, 730, 912, 1095, 1277, 1460, 1642, 1825]]}"
      ]
     },
     "execution_count": 25,
     "metadata": {},
     "output_type": "execute_result"
    }
   ],
   "source": [
    "dict_bonos"
   ]
  },
  {
   "cell_type": "code",
   "execution_count": 26,
   "metadata": {
    "ExecuteTime": {
     "end_time": "2021-08-04T22:23:51.160438Z",
     "start_time": "2021-08-04T22:23:51.156137Z"
    }
   },
   "outputs": [],
   "source": [
    "dict_bonos['bono_3'][0][9] = 104"
   ]
  },
  {
   "cell_type": "code",
   "execution_count": 27,
   "metadata": {
    "ExecuteTime": {
     "end_time": "2021-08-04T22:23:51.299564Z",
     "start_time": "2021-08-04T22:23:51.291998Z"
    }
   },
   "outputs": [
    {
     "data": {
      "text/plain": [
       "{'bono_1': [[1, 1, 1, 1, 1, 1, 1, 1, 1, 101],\n",
       "  [182, 365, 547, 730, 912, 1095, 1277, 1460, 1642, 1825]],\n",
       " 'bono_2': [[2, 2, 2, 2, 2, 2, 2, 2, 2, 102],\n",
       "  [182, 365, 547, 730, 912, 1095, 1277, 1460, 1642, 1825]],\n",
       " 'bono_3': [[3, 3, 3, 3, 3, 3, 3, 3, 3, 104],\n",
       "  [182, 365, 547, 730, 912, 1095, 1277, 1460, 1642, 1825]]}"
      ]
     },
     "execution_count": 27,
     "metadata": {},
     "output_type": "execute_result"
    }
   ],
   "source": [
    "dict_bonos"
   ]
  },
  {
   "cell_type": "markdown",
   "metadata": {},
   "source": [
    "Un `Dict` también es `Iterable`, veamos que pasa cuando lo usamos en un `for loop`."
   ]
  },
  {
   "cell_type": "code",
   "execution_count": 28,
   "metadata": {
    "ExecuteTime": {
     "end_time": "2021-08-04T22:23:51.309306Z",
     "start_time": "2021-08-04T22:23:51.303210Z"
    }
   },
   "outputs": [
    {
     "name": "stdout",
     "output_type": "stream",
     "text": [
      "bono_1\n",
      "bono_2\n",
      "bono_3\n"
     ]
    }
   ],
   "source": [
    "for x in dict_bonos:\n",
    "    print(x)"
   ]
  },
  {
   "cell_type": "code",
   "execution_count": 29,
   "metadata": {
    "ExecuteTime": {
     "end_time": "2021-08-04T22:23:51.315888Z",
     "start_time": "2021-08-04T22:23:51.311317Z"
    }
   },
   "outputs": [
    {
     "name": "stdout",
     "output_type": "stream",
     "text": [
      "[[1, 1, 1, 1, 1, 1, 1, 1, 1, 101], [182, 365, 547, 730, 912, 1095, 1277, 1460, 1642, 1825]]\n",
      "[[2, 2, 2, 2, 2, 2, 2, 2, 2, 102], [182, 365, 547, 730, 912, 1095, 1277, 1460, 1642, 1825]]\n",
      "[[3, 3, 3, 3, 3, 3, 3, 3, 3, 104], [182, 365, 547, 730, 912, 1095, 1277, 1460, 1642, 1825]]\n"
     ]
    }
   ],
   "source": [
    "for x in dict_bonos:\n",
    "    print(dict_bonos[x])"
   ]
  },
  {
   "cell_type": "markdown",
   "metadata": {},
   "source": [
    "Vemos que `x` es el valor de los identificadores del `Dict`, en este caso, los nemotécnicos de los bonos."
   ]
  },
  {
   "cell_type": "markdown",
   "metadata": {},
   "source": [
    "Para obtener los valores del `Dict` usamos lo siguiente:"
   ]
  },
  {
   "cell_type": "code",
   "execution_count": 30,
   "metadata": {
    "ExecuteTime": {
     "end_time": "2021-08-04T22:23:51.322228Z",
     "start_time": "2021-08-04T22:23:51.318208Z"
    }
   },
   "outputs": [
    {
     "name": "stdout",
     "output_type": "stream",
     "text": [
      "[[1, 1, 1, 1, 1, 1, 1, 1, 1, 101], [182, 365, 547, 730, 912, 1095, 1277, 1460, 1642, 1825]]\n",
      "[[2, 2, 2, 2, 2, 2, 2, 2, 2, 102], [182, 365, 547, 730, 912, 1095, 1277, 1460, 1642, 1825]]\n",
      "[[3, 3, 3, 3, 3, 3, 3, 3, 3, 104], [182, 365, 547, 730, 912, 1095, 1277, 1460, 1642, 1825]]\n"
     ]
    }
   ],
   "source": [
    "for x in dict_bonos.values():\n",
    "    print(x)"
   ]
  },
  {
   "cell_type": "markdown",
   "metadata": {},
   "source": [
    "Para obtener los identificadores (`keys`) y valores (`values`) usamos lo siguiente:"
   ]
  },
  {
   "cell_type": "code",
   "execution_count": 31,
   "metadata": {
    "ExecuteTime": {
     "end_time": "2021-08-04T22:23:51.328533Z",
     "start_time": "2021-08-04T22:23:51.324459Z"
    }
   },
   "outputs": [
    {
     "name": "stdout",
     "output_type": "stream",
     "text": [
      "('bono_1', [[1, 1, 1, 1, 1, 1, 1, 1, 1, 101], [182, 365, 547, 730, 912, 1095, 1277, 1460, 1642, 1825]])\n",
      "('bono_2', [[2, 2, 2, 2, 2, 2, 2, 2, 2, 102], [182, 365, 547, 730, 912, 1095, 1277, 1460, 1642, 1825]])\n",
      "('bono_3', [[3, 3, 3, 3, 3, 3, 3, 3, 3, 104], [182, 365, 547, 730, 912, 1095, 1277, 1460, 1642, 1825]])\n"
     ]
    }
   ],
   "source": [
    "for x in dict_bonos.items():\n",
    "    print(x)"
   ]
  },
  {
   "cell_type": "code",
   "execution_count": 32,
   "metadata": {
    "ExecuteTime": {
     "end_time": "2021-08-04T22:23:51.335059Z",
     "start_time": "2021-08-04T22:23:51.330499Z"
    }
   },
   "outputs": [
    {
     "name": "stdout",
     "output_type": "stream",
     "text": [
      "bono_1 [[1, 1, 1, 1, 1, 1, 1, 1, 1, 101], [182, 365, 547, 730, 912, 1095, 1277, 1460, 1642, 1825]]\n",
      "bono_2 [[2, 2, 2, 2, 2, 2, 2, 2, 2, 102], [182, 365, 547, 730, 912, 1095, 1277, 1460, 1642, 1825]]\n",
      "bono_3 [[3, 3, 3, 3, 3, 3, 3, 3, 3, 104], [182, 365, 547, 730, 912, 1095, 1277, 1460, 1642, 1825]]\n"
     ]
    }
   ],
   "source": [
    "for k, v in dict_bonos.items():\n",
    "    print(k, v)"
   ]
  },
  {
   "cell_type": "markdown",
   "metadata": {},
   "source": [
    "O también:"
   ]
  },
  {
   "cell_type": "code",
   "execution_count": 33,
   "metadata": {
    "ExecuteTime": {
     "end_time": "2021-08-04T22:23:51.494316Z",
     "start_time": "2021-08-04T22:23:51.489627Z"
    }
   },
   "outputs": [
    {
     "name": "stdout",
     "output_type": "stream",
     "text": [
      "nemotécnico: bono_1,\n",
      "flujos: [1, 1, 1, 1, 1, 1, 1, 1, 1, 101]\n",
      "plazos: [182, 365, 547, 730, 912, 1095, 1277, 1460, 1642, 1825]\n",
      "\n",
      "nemotécnico: bono_2,\n",
      "flujos: [2, 2, 2, 2, 2, 2, 2, 2, 2, 102]\n",
      "plazos: [182, 365, 547, 730, 912, 1095, 1277, 1460, 1642, 1825]\n",
      "\n",
      "nemotécnico: bono_3,\n",
      "flujos: [3, 3, 3, 3, 3, 3, 3, 3, 3, 104]\n",
      "plazos: [182, 365, 547, 730, 912, 1095, 1277, 1460, 1642, 1825]\n",
      "\n"
     ]
    }
   ],
   "source": [
    "for k, v in dict_bonos.items():\n",
    "    print(f'nemotécnico: {k},\\nflujos: {v[0]}\\nplazos: {v[1]}\\n') # <--- \\n significa que lo que sigue empieza\n",
    "                                                                  # en una nueva línea. Es como apretar Enter."
   ]
  },
  {
   "cell_type": "markdown",
   "metadata": {},
   "source": [
    "### Ejercicio"
   ]
  },
  {
   "cell_type": "markdown",
   "metadata": {},
   "source": [
    "Escribir una función que tenga como argumento una variable como `dict_bonos` y una tasa de descuento y devuelva un `Dict` donde el identicador es el nemotécnico del bono y el valor es el valor presente del bono."
   ]
  },
  {
   "cell_type": "markdown",
   "metadata": {},
   "source": [
    "Primero vamos a definir una función que calcula el valor presente de sólo 1 bono. Aprovechamos de introducir la `docstring` de una función."
   ]
  },
  {
   "cell_type": "code",
   "execution_count": 34,
   "metadata": {
    "ExecuteTime": {
     "end_time": "2021-08-04T22:23:51.500947Z",
     "start_time": "2021-08-04T22:23:51.496728Z"
    }
   },
   "outputs": [],
   "source": [
    "def vp_bono(flujos, plazos, tasa):\n",
    "    \"\"\"\n",
    "    Calcula el valor presente de un bono dada una tasa de descuento.\n",
    "    \n",
    "    Parameters\n",
    "    ----------\n",
    "    \n",
    "    flujos: List[float]\n",
    "            Contiene los flujos del bono.\n",
    "            \n",
    "    plazos: List[float]\n",
    "            Contiene los plazos residuales de los flujos expresados en días.\n",
    "    \n",
    "    tasa: float\n",
    "          Tasa de descuento del bono. Debe ser en convención Com Act/365.\n",
    "          \n",
    "    Returns\n",
    "    -------\n",
    "    \n",
    "    float\n",
    "         El valor presente del bono.\n",
    "    \"\"\"\n",
    "    result = 0.0\n",
    "    for f, p in zip(flujos, plazos):\n",
    "        result += f * (1 + tasa)**(-p / 365.0)\n",
    "    return result"
   ]
  },
  {
   "cell_type": "markdown",
   "metadata": {},
   "source": [
    "El `docstring` de la función anterior está en formato `numpy`. Hay un par más ([ver](https://www.datacamp.com/community/tutorials/docstrings-python)) y se tiene libertad para escoger el que más te gusta. Es importante, eso sí, que una vez que se ha escogido un estilo, mantener consistencia en su uso.\n",
    "\n",
    "El uso del `docstring` me permite investigar una función antes de usarla. Esto es muy útil para funciones de paquetes y librerías externas e incluso para nuestras propias funciones."
   ]
  },
  {
   "cell_type": "code",
   "execution_count": 35,
   "metadata": {
    "ExecuteTime": {
     "end_time": "2021-08-04T22:23:51.516661Z",
     "start_time": "2021-08-04T22:23:51.512433Z"
    },
    "scrolled": true
   },
   "outputs": [
    {
     "name": "stdout",
     "output_type": "stream",
     "text": [
      "\n",
      "    Calcula el valor presente de un bono dada una tasa de descuento.\n",
      "    \n",
      "    Parameters\n",
      "    ----------\n",
      "    \n",
      "    flujos: List[float]\n",
      "            Contiene los flujos del bono.\n",
      "            \n",
      "    plazos: List[float]\n",
      "            Contiene los plazos residuales de los flujos expresados en días.\n",
      "    \n",
      "    tasa: float\n",
      "          Tasa de descuento del bono. Debe ser en convención Com Act/365.\n",
      "          \n",
      "    Returns\n",
      "    -------\n",
      "    \n",
      "    float\n",
      "         El valor presente del bono.\n",
      "    \n"
     ]
    }
   ],
   "source": [
    "print(vp_bono.__doc__)"
   ]
  },
  {
   "cell_type": "markdown",
   "metadata": {},
   "source": [
    "Probemos la función usando las variables definidas al inicio de este notebook."
   ]
  },
  {
   "cell_type": "code",
   "execution_count": 36,
   "metadata": {
    "ExecuteTime": {
     "end_time": "2021-08-04T22:23:51.523259Z",
     "start_time": "2021-08-04T22:23:51.519033Z"
    }
   },
   "outputs": [
    {
     "name": "stdout",
     "output_type": "stream",
     "text": [
      "Valor presente: 100.0470\n"
     ]
    }
   ],
   "source": [
    "vp = vp_bono(flujos, plazos, tasa)\n",
    "print(f'Valor presente: {vp:,.04f}')"
   ]
  },
  {
   "cell_type": "markdown",
   "metadata": {},
   "source": [
    "Ahora, con esta función, podemos definir una función que valorice muchos bonos."
   ]
  },
  {
   "cell_type": "code",
   "execution_count": 37,
   "metadata": {
    "ExecuteTime": {
     "end_time": "2021-08-04T22:23:51.693731Z",
     "start_time": "2021-08-04T22:23:51.688741Z"
    }
   },
   "outputs": [],
   "source": [
    "def vp_bonos(bonos, tasa):\n",
    "    \"\"\"\n",
    "    Calcula el valor presente de un conjunto de bonos con una tasa de descuento dada.\n",
    "      \n",
    "    Parameters\n",
    "    ----------\n",
    "    \n",
    "    bonos: Dict[str, List[List[float], List[float]]]\n",
    "          Las `keys` del `Dict` son los nemotécnicos del bono o cualquier otro identificador único, como el CUSIP.\n",
    "          Los `values` son una `List` que, a su vez, contiene dos `List`, una con los flujos del bono en el índice\n",
    "          0 y otra con los plazos residuales de los flujos en días en el índice 1.\n",
    "          \n",
    "    tasa: float\n",
    "          Tasa de descuento, debe estar en convención Com Act/365.\n",
    "          \n",
    "    Returns\n",
    "    -------\n",
    "    \n",
    "    Dict[str, float]\n",
    "        Los `keys` son los mismos del parámetro `bono` y los `values` son los valores presente de los bonos.\n",
    "    \"\"\"\n",
    "    result = {} # Dict vacío\n",
    "    for k, v in bonos.items():\n",
    "        result[k] = vp_bono(v[0], v[1], tasa)\n",
    "    return result"
   ]
  },
  {
   "cell_type": "markdown",
   "metadata": {},
   "source": [
    "Probemos con el `Dict` `dict_bonos` y la variable `tasa` definida al prinicpio del notebook."
   ]
  },
  {
   "cell_type": "code",
   "execution_count": 38,
   "metadata": {
    "ExecuteTime": {
     "end_time": "2021-08-04T22:23:51.699149Z",
     "start_time": "2021-08-04T22:23:51.696339Z"
    }
   },
   "outputs": [],
   "source": [
    "vps = vp_bonos(dict_bonos, tasa)"
   ]
  },
  {
   "cell_type": "code",
   "execution_count": 39,
   "metadata": {
    "ExecuteTime": {
     "end_time": "2021-08-04T22:23:51.717617Z",
     "start_time": "2021-08-04T22:23:51.713077Z"
    }
   },
   "outputs": [
    {
     "name": "stdout",
     "output_type": "stream",
     "text": [
      "El valor presente de bono_1 es: 100.0470\n",
      "El valor presente de bono_2 es: 109.5210\n",
      "El valor presente de bono_3 es: 119.9007\n"
     ]
    }
   ],
   "source": [
    "for k, v in vps.items():\n",
    "    print(f'El valor presente de {k} es: {v:,.04f}')"
   ]
  },
  {
   "cell_type": "markdown",
   "metadata": {},
   "source": [
    "### Tarea"
   ]
  },
  {
   "cell_type": "markdown",
   "metadata": {},
   "source": [
    "Hacer todos los cambios que estimen necesarios para poder valorizar `dict_bonos` usando una tasa de descuento distinta para cada bono."
   ]
  },
  {
   "cell_type": "markdown",
   "metadata": {},
   "source": [
    "## La Instrucción `if ... elif ... else`"
   ]
  },
  {
   "cell_type": "markdown",
   "metadata": {},
   "source": [
    "Muchas veces, la función que estamos programando requiere hacer una distinción, o tomar un decisión en función de una o más variables. Veamos un ejemplo muy sencillo. La función\n",
    "\n",
    "$$abs: \\mathbb{R} \\rightarrow \\mathbb{R}^+$$\n",
    "\n",
    "se define de la siguiente forma $abs(x)=x$ si $x\\geq0$ y $abs(x)=-x$ si $x<0$. Para programar esta función, necesitamos una forma de distinguir si si $x$ es positivo (o cero) o negativo."
   ]
  },
  {
   "cell_type": "markdown",
   "metadata": {},
   "source": [
    "### La instrucción `if ... else`"
   ]
  },
  {
   "cell_type": "markdown",
   "metadata": {},
   "source": [
    "Veamos como hacerlo, poner mucha atención en la indentación que viene debajo de los `if` y `else`."
   ]
  },
  {
   "cell_type": "code",
   "execution_count": 40,
   "metadata": {
    "ExecuteTime": {
     "end_time": "2021-08-04T22:23:51.723478Z",
     "start_time": "2021-08-04T22:23:51.720049Z"
    }
   },
   "outputs": [],
   "source": [
    "def abs(x):\n",
    "    if x < 0:\n",
    "        return -x\n",
    "    else:\n",
    "        return x"
   ]
  },
  {
   "cell_type": "markdown",
   "metadata": {},
   "source": [
    "Probemos ..."
   ]
  },
  {
   "cell_type": "code",
   "execution_count": 41,
   "metadata": {
    "ExecuteTime": {
     "end_time": "2021-08-04T22:23:51.729464Z",
     "start_time": "2021-08-04T22:23:51.725585Z"
    }
   },
   "outputs": [
    {
     "name": "stdout",
     "output_type": "stream",
     "text": [
      "El valor absoluto de 2 es: 2\n",
      "El valor absoluto de -2 es: 2\n"
     ]
    }
   ],
   "source": [
    "print(f\"El valor absoluto de {2} es: {abs(2)}\")\n",
    "print(f\"El valor absoluto de {-2} es: {abs(-2)}\")"
   ]
  },
  {
   "cell_type": "markdown",
   "metadata": {},
   "source": [
    "¡Bien! El resultado es el esperado. Existe también una forma breve de escribir esta instrucción. Esta forma breve se puede utilizar en casos sencillos como el anterior."
   ]
  },
  {
   "cell_type": "code",
   "execution_count": 42,
   "metadata": {
    "ExecuteTime": {
     "end_time": "2021-08-04T22:23:51.890440Z",
     "start_time": "2021-08-04T22:23:51.887266Z"
    }
   },
   "outputs": [],
   "source": [
    "def abs2(x):\n",
    "    return x if x >= 0 else -x"
   ]
  },
  {
   "cell_type": "markdown",
   "metadata": {},
   "source": [
    "Probemos esta también ... (para recordar, aquí usamos `print` con `format`)"
   ]
  },
  {
   "cell_type": "code",
   "execution_count": 43,
   "metadata": {
    "ExecuteTime": {
     "end_time": "2021-08-04T22:23:51.899745Z",
     "start_time": "2021-08-04T22:23:51.892959Z"
    }
   },
   "outputs": [
    {
     "name": "stdout",
     "output_type": "stream",
     "text": [
      "El valor absoluto de 2 es: 2\n",
      "El valor absoluto de -2 es: 2\n"
     ]
    }
   ],
   "source": [
    "print(\"El valor absoluto de {} es: {}\".format(2, abs2(2)))\n",
    "print(\"El valor absoluto de {} es: {}\".format(-2, abs2(-2)))"
   ]
  },
  {
   "cell_type": "markdown",
   "metadata": {},
   "source": [
    "## La instrucción `if ... elif ... else`"
   ]
  },
  {
   "cell_type": "markdown",
   "metadata": {},
   "source": [
    "En ocasiones, debemos distinguir entre más de dos alternativas. Por ejemplo, supongamos que queremos clasificar los bonos de una cartera en las categorías 'SUBPAR' si el bono se transa por debajo de 98, 'PAR' si el bono se transa entre 98 y 102 y 'SOBREPAR' si el bono se transa por sobre 102.\n",
    "\n",
    "Definimos una función que acepta un número que representa el precio del bono y retorna un `str` con la categoría del bono. Este ejemplo nos permite introducir, además, el operador lógico `and`, con el cual se puede verificar si 2 condiciones son verdaderas al mismo tiempo."
   ]
  },
  {
   "cell_type": "code",
   "execution_count": 44,
   "metadata": {
    "ExecuteTime": {
     "end_time": "2021-08-04T22:23:51.906130Z",
     "start_time": "2021-08-04T22:23:51.902263Z"
    }
   },
   "outputs": [],
   "source": [
    "def categoria(precio):\n",
    "    if precio < 98:\n",
    "        return \"SUBPAR\"\n",
    "    elif precio >= 98 and precio < 102: # <--- Notar el conector lógico and. Más detalle en lo que sigue.\n",
    "        return \"PAR\"\n",
    "    else:\n",
    "        return \"SOBREPAR\""
   ]
  },
  {
   "cell_type": "markdown",
   "metadata": {},
   "source": [
    "Probemos ..."
   ]
  },
  {
   "cell_type": "code",
   "execution_count": 45,
   "metadata": {
    "ExecuteTime": {
     "end_time": "2021-08-04T22:23:51.916037Z",
     "start_time": "2021-08-04T22:23:51.909837Z"
    }
   },
   "outputs": [
    {
     "name": "stdout",
     "output_type": "stream",
     "text": [
      "El bono de precio 96.00 está en la categoría: SUBPAR\n",
      "El bono de precio 97.00 está en la categoría: SUBPAR\n",
      "El bono de precio 98.00 está en la categoría: PAR\n",
      "El bono de precio 99.00 está en la categoría: PAR\n",
      "El bono de precio 100.00 está en la categoría: PAR\n",
      "El bono de precio 101.00 está en la categoría: PAR\n",
      "El bono de precio 102.00 está en la categoría: SOBREPAR\n",
      "El bono de precio 103.00 está en la categoría: SOBREPAR\n"
     ]
    }
   ],
   "source": [
    "precios = [96, 97, 98, 99, 100, 101, 102, 103]\n",
    "for precio in precios:\n",
    "    print(f\"El bono de precio {precio:.2f} está en la categoría: {categoria(precio)}\")"
   ]
  },
  {
   "cell_type": "markdown",
   "metadata": {},
   "source": [
    "Se puede utilizar más de un `elif`, por ejemplo, supongamos que necesitamos establecer otra categoría más y dejar las cosas de esta manera:\n",
    "\n",
    "- Menor a 98: \"SUBPAR\"\n",
    "- Mayor o igual 98 y menor que 101: \"PAR\"\n",
    "- Mayor o igual a 101 y menor a 103: \"SOBREPAR\"\n",
    "- Mayor o igual a 103: \"MUYSOBREPAR\"\n",
    "\n",
    "Esta categoría se podría implementar de la siguiente forma:"
   ]
  },
  {
   "cell_type": "code",
   "execution_count": 46,
   "metadata": {
    "ExecuteTime": {
     "end_time": "2021-08-04T22:23:51.922244Z",
     "start_time": "2021-08-04T22:23:51.918321Z"
    }
   },
   "outputs": [],
   "source": [
    "def categoria2(preco):\n",
    "    if precio < 98:\n",
    "        return \"SUBPAR\"\n",
    "    elif precio >= 98 and precio < 101:\n",
    "        return \"PAR\"\n",
    "    elif precio >= 101 and precio < 103:\n",
    "        return \"SOBREPAR\"\n",
    "    else:\n",
    "        return \"MUYSOBREPAR\""
   ]
  },
  {
   "cell_type": "code",
   "execution_count": 47,
   "metadata": {
    "ExecuteTime": {
     "end_time": "2021-08-04T22:23:52.090455Z",
     "start_time": "2021-08-04T22:23:52.084990Z"
    }
   },
   "outputs": [
    {
     "name": "stdout",
     "output_type": "stream",
     "text": [
      "El bono de precio 96.00 está en la categoría: SUBPAR\n",
      "El bono de precio 97.00 está en la categoría: SUBPAR\n",
      "El bono de precio 98.00 está en la categoría: PAR\n",
      "El bono de precio 99.00 está en la categoría: PAR\n",
      "El bono de precio 100.00 está en la categoría: PAR\n",
      "El bono de precio 101.00 está en la categoría: SOBREPAR\n",
      "El bono de precio 102.00 está en la categoría: SOBREPAR\n",
      "El bono de precio 103.00 está en la categoría: MUYSOBREPAR\n"
     ]
    }
   ],
   "source": [
    "for precio in precios:\n",
    "    print(f\"El bono de precio {precio:.2f} está en la categoría: {categoria2(precio)}\")"
   ]
  },
  {
   "cell_type": "markdown",
   "metadata": {},
   "source": [
    "## Valores `bool` y los Operadores Lógicos `and` y `or`"
   ]
  },
  {
   "cell_type": "markdown",
   "metadata": {},
   "source": [
    "### El Tipo `bool`"
   ]
  },
  {
   "cell_type": "markdown",
   "metadata": {},
   "source": [
    "Hasta ahora hemos visto los tipos de variable `int`, `float` y `str`. Existe otro tipo de variable primitiva, las variables de tipo `bool`. Estas variables sólo pueden asumir dos valores `True` o `False` y aparecen al momento de verificar una condición. De hecho, al verificar una condición, Python retorna una variable de tipo `bool`. Veamos un par de ejemplos:"
   ]
  },
  {
   "cell_type": "code",
   "execution_count": 48,
   "metadata": {
    "ExecuteTime": {
     "end_time": "2021-08-04T22:23:52.096940Z",
     "start_time": "2021-08-04T22:23:52.092908Z"
    }
   },
   "outputs": [
    {
     "data": {
      "text/plain": [
       "True"
      ]
     },
     "execution_count": 48,
     "metadata": {},
     "output_type": "execute_result"
    }
   ],
   "source": [
    "2 > 1"
   ]
  },
  {
   "cell_type": "code",
   "execution_count": 49,
   "metadata": {
    "ExecuteTime": {
     "end_time": "2021-08-04T22:23:52.191811Z",
     "start_time": "2021-08-04T22:23:52.098766Z"
    }
   },
   "outputs": [
    {
     "data": {
      "text/plain": [
       "False"
      ]
     },
     "execution_count": 49,
     "metadata": {},
     "output_type": "execute_result"
    }
   ],
   "source": [
    "2 < 1"
   ]
  },
  {
   "cell_type": "markdown",
   "metadata": {},
   "source": [
    "Cuando queremos verificar si dos valores son iguales, se utiliza el símbolo `==`, el símbolo `=` sólo se utiliza para asignar un valor a una variable. Por ejemplo:"
   ]
  },
  {
   "cell_type": "code",
   "execution_count": 50,
   "metadata": {
    "ExecuteTime": {
     "end_time": "2021-08-04T22:23:52.200276Z",
     "start_time": "2021-08-04T22:23:52.193569Z"
    }
   },
   "outputs": [
    {
     "data": {
      "text/plain": [
       "False"
      ]
     },
     "execution_count": 50,
     "metadata": {},
     "output_type": "execute_result"
    }
   ],
   "source": [
    "a = 3  # asignación\n",
    "b = 4  # asignación\n",
    "a == b # comparación"
   ]
  },
  {
   "cell_type": "markdown",
   "metadata": {},
   "source": [
    "El resultado de una comparación, puede almacenarse en una variable."
   ]
  },
  {
   "cell_type": "code",
   "execution_count": 51,
   "metadata": {
    "ExecuteTime": {
     "end_time": "2021-08-04T22:23:52.207194Z",
     "start_time": "2021-08-04T22:23:52.203593Z"
    }
   },
   "outputs": [
    {
     "name": "stdout",
     "output_type": "stream",
     "text": [
      "El valor de c es False\n"
     ]
    }
   ],
   "source": [
    "c = (a == b) # se asigna a c el resultado (bool) de a == b\n",
    "print(\"El valor de c es {}\".format(c))"
   ]
  },
  {
   "cell_type": "markdown",
   "metadata": {},
   "source": [
    "### Operador `and`"
   ]
  },
  {
   "cell_type": "markdown",
   "metadata": {},
   "source": [
    "Al ejecutar `condicion1 and condicion2` se obtendrá `True` si y sólo si ambas condiciones son `True`."
   ]
  },
  {
   "cell_type": "code",
   "execution_count": 52,
   "metadata": {
    "ExecuteTime": {
     "end_time": "2021-08-04T22:23:52.215636Z",
     "start_time": "2021-08-04T22:23:52.209211Z"
    }
   },
   "outputs": [
    {
     "name": "stdout",
     "output_type": "stream",
     "text": [
      "precio: 101\n",
      "¿precio >= 100: True\n",
      "¿precio < 102?: True\n",
      "¿precio >= 100 and precio < 102?: True\n"
     ]
    }
   ],
   "source": [
    "precio = 101\n",
    "print(\"precio: {}\".format(precio))\n",
    "print(\"¿precio >= 100: {}\".format(precio >= 100))\n",
    "print(\"¿precio < 102?: {}\".format(precio < 102))\n",
    "print(\"¿precio >= 100 and precio < 102?: {}\".format(precio >= 100 and precio < 102))"
   ]
  },
  {
   "cell_type": "code",
   "execution_count": 53,
   "metadata": {
    "ExecuteTime": {
     "end_time": "2021-08-04T22:23:52.290366Z",
     "start_time": "2021-08-04T22:23:52.284154Z"
    }
   },
   "outputs": [
    {
     "name": "stdout",
     "output_type": "stream",
     "text": [
      "precio: 101\n",
      "¿precio >= 100: True\n",
      "¿precio < 101?: False\n",
      "¿precio >= 100 and precio < 101?: False\n"
     ]
    }
   ],
   "source": [
    "print(\"precio: {}\".format(precio))\n",
    "print(\"¿precio >= 100: {}\".format(precio >= 100))\n",
    "print(\"¿precio < 101?: {}\".format(precio < 101))\n",
    "print(\"¿precio >= 100 and precio < 101?: {}\".format(precio >= 100 and precio < 101))"
   ]
  },
  {
   "cell_type": "markdown",
   "metadata": {},
   "source": [
    "### Operador `or`"
   ]
  },
  {
   "cell_type": "markdown",
   "metadata": {},
   "source": [
    "Al ejecutar `condicion1 or condicion2` se obtendrá `False` si y sólo si ambas condiciones son `False`."
   ]
  },
  {
   "cell_type": "code",
   "execution_count": 54,
   "metadata": {
    "ExecuteTime": {
     "end_time": "2021-08-04T22:23:52.298157Z",
     "start_time": "2021-08-04T22:23:52.292450Z"
    }
   },
   "outputs": [
    {
     "name": "stdout",
     "output_type": "stream",
     "text": [
      "precio: 101\n",
      "¿precio >= 100: True\n",
      "¿precio < 101?: False\n",
      "¿precio >= 100 or precio < 101?: True\n"
     ]
    }
   ],
   "source": [
    "print(\"precio: {}\".format(precio))\n",
    "print(\"¿precio >= 100: {}\".format(precio >= 100))\n",
    "print(\"¿precio < 101?: {}\".format(precio < 101))\n",
    "print(\"¿precio >= 100 or precio < 101?: {}\".format(precio >= 100 or precio < 101))"
   ]
  },
  {
   "cell_type": "code",
   "execution_count": 55,
   "metadata": {
    "ExecuteTime": {
     "end_time": "2021-08-04T22:23:52.305521Z",
     "start_time": "2021-08-04T22:23:52.300099Z"
    }
   },
   "outputs": [
    {
     "name": "stdout",
     "output_type": "stream",
     "text": [
      "precio: 101\n",
      "¿precio < 101: False\n",
      "¿precio >= 102?: False\n",
      "¿precio < 101 or precio >= 102?: False\n"
     ]
    }
   ],
   "source": [
    "print(\"precio: {}\".format(precio))\n",
    "print(\"¿precio < 101: {}\".format(precio < 101))\n",
    "print(\"¿precio >= 102?: {}\".format(precio >= 102))\n",
    "print(\"¿precio < 101 or precio >= 102?: {}\".format(precio < 101 or precio >= 102))"
   ]
  },
  {
   "cell_type": "markdown",
   "metadata": {},
   "source": [
    "### Ejercicio"
   ]
  },
  {
   "cell_type": "markdown",
   "metadata": {},
   "source": [
    "Una universidad ofrece una beca si:\n",
    "\n",
    "- El NEM del alumno es superior a 5.5 y tu ingreso familiar es menor a 1.2 millones de CLP (pesos chilenos) o\n",
    "- El NEM del alumno es superior a 6.0 y tu ingreso familiar es menor a 1.5 millones de CLP (pesos chilenos) o\n",
    "- El NEM del alumno es superior a 6.5\n",
    "\n",
    "Escribe una función que tenga el NEM y el ingreso familiar como variables y retorne un `bool` que indique si es eligible para la beca (`True` eres eligible, `False` no eres elegible)."
   ]
  },
  {
   "cell_type": "code",
   "execution_count": 56,
   "metadata": {
    "ExecuteTime": {
     "end_time": "2021-08-04T22:23:52.312654Z",
     "start_time": "2021-08-04T22:23:52.307935Z"
    }
   },
   "outputs": [],
   "source": [
    "def es_elegible(nem: float, ingreso: float) -> bool: # type anotations\n",
    "    \"\"\"\n",
    "    Indica si un alumno es elegible para beca.\n",
    "    \n",
    "    Parameters\n",
    "    ----------\n",
    "    \n",
    "    nem: float\n",
    "        Promedio de Notas Enseñanza Media\n",
    "        \n",
    "    ingreso: float\n",
    "        Ingreso familiar mensual en pesos.\n",
    "        \n",
    "    Returns\n",
    "    -------\n",
    "    \n",
    "    `True` si es elegible `False` en caso contrario.\n",
    "    \"\"\"\n",
    "    if nem >= 5.5 and ingreso < 1200000:\n",
    "        return True\n",
    "    elif nem >= 6.0 and ingreso < 1500000:\n",
    "        return True\n",
    "    elif nem >= 6.5:\n",
    "        return True\n",
    "    else:\n",
    "        return False"
   ]
  },
  {
   "cell_type": "code",
   "execution_count": 57,
   "metadata": {
    "ExecuteTime": {
     "end_time": "2021-08-04T22:23:52.319159Z",
     "start_time": "2021-08-04T22:23:52.314859Z"
    }
   },
   "outputs": [
    {
     "data": {
      "text/plain": [
       "True"
      ]
     },
     "execution_count": 57,
     "metadata": {},
     "output_type": "execute_result"
    }
   ],
   "source": [
    "nem = 6.0\n",
    "ingreso = 1300000\n",
    "es_elegible(nem, ingreso)"
   ]
  },
  {
   "cell_type": "code",
   "execution_count": 58,
   "metadata": {
    "ExecuteTime": {
     "end_time": "2021-08-04T22:23:52.491061Z",
     "start_time": "2021-08-04T22:23:52.484117Z"
    }
   },
   "outputs": [
    {
     "name": "stdout",
     "output_type": "stream",
     "text": [
      "True\n"
     ]
    }
   ],
   "source": [
    "if (nem >= 5.5 and ingreso < 1200000) or (nem >= 6.0 and ingreso < 1500000) or (nem >= 6.5):\n",
    "    print(True)\n",
    "else:\n",
    "    print(False)"
   ]
  },
  {
   "cell_type": "markdown",
   "metadata": {},
   "source": [
    "## La Instrucción `while`"
   ]
  },
  {
   "cell_type": "markdown",
   "metadata": {},
   "source": [
    "El uso de `while` permite ejecutar un grupo de instrucciones hasta que una condición sea verdadera."
   ]
  },
  {
   "cell_type": "markdown",
   "metadata": {},
   "source": [
    "### Ejemplo"
   ]
  },
  {
   "cell_type": "markdown",
   "metadata": {},
   "source": [
    "En este caso, se mostrarán por pantalla los números del 0 al 9.\n",
    "\n",
    "- Se inicializa el valor de la variable `i`.\n",
    "- Comienza `while`, se evalúa si `i < 10`, las instrucciones dentro del `while` se ejecutarán sólo si `i < 10 = True`.\n",
    "- Se muestra por pantalla el valor de `i`\n",
    "- Se incrementa el valor de `i` en 1 (la instrucción `i += 1` es equivalente a `i = i + 1`)\n",
    "- Se vuelve a ejecutar ..."
   ]
  },
  {
   "cell_type": "code",
   "execution_count": 59,
   "metadata": {
    "ExecuteTime": {
     "end_time": "2021-08-04T22:23:52.502716Z",
     "start_time": "2021-08-04T22:23:52.494580Z"
    }
   },
   "outputs": [
    {
     "name": "stdout",
     "output_type": "stream",
     "text": [
      "El valor de i es 0\n",
      "El valor de i es 1\n",
      "El valor de i es 2\n",
      "El valor de i es 3\n",
      "El valor de i es 4\n",
      "El valor de i es 5\n",
      "El valor de i es 6\n",
      "El valor de i es 7\n",
      "El valor de i es 8\n",
      "El valor de i es 9\n"
     ]
    }
   ],
   "source": [
    "i = 0\n",
    "while i < 10:\n",
    "    print(f'El valor de i es {i}')\n",
    "    i += 1"
   ]
  },
  {
   "cell_type": "markdown",
   "metadata": {},
   "source": [
    "### La Instrucción `continue`"
   ]
  },
  {
   "cell_type": "markdown",
   "metadata": {},
   "source": [
    "La instrucción `continue` permite volver anticipadamente al inicio del `while`. En este caso, cuando `i == 3`, no se muestra el valor de `i` por pantalla y se vuelve al inicio."
   ]
  },
  {
   "cell_type": "code",
   "execution_count": 60,
   "metadata": {
    "ExecuteTime": {
     "end_time": "2021-08-04T22:23:52.513728Z",
     "start_time": "2021-08-04T22:23:52.505375Z"
    }
   },
   "outputs": [
    {
     "name": "stdout",
     "output_type": "stream",
     "text": [
      "El valor de i es 0\n",
      "El valor de i es 1\n",
      "El valor de i es 2\n",
      "El valor de i es 4\n",
      "El valor de i es 5\n",
      "El valor de i es 6\n",
      "El valor de i es 7\n",
      "El valor de i es 8\n",
      "El valor de i es 9\n"
     ]
    }
   ],
   "source": [
    "i = 0\n",
    "while i < 10:\n",
    "    if i == 3:\n",
    "        i += 1\n",
    "        continue\n",
    "    print(f'El valor de i es {i}')\n",
    "    i += 1"
   ]
  },
  {
   "cell_type": "markdown",
   "metadata": {},
   "source": [
    "### Continuar la Ejecución Hasta que el Usuario la Interrumpa"
   ]
  },
  {
   "cell_type": "markdown",
   "metadata": {},
   "source": [
    "En este ejemplo, el `while` se ejecuta siempre y sólo se interrumpe cuando el usuario ingresa la letra `'q'`. Para este ejemplo utilizamos una nueva función: `input`. Esta función permite capturar input del usuario y procesarlo."
   ]
  },
  {
   "cell_type": "code",
   "execution_count": 61,
   "metadata": {
    "ExecuteTime": {
     "end_time": "2021-08-04T22:23:59.841151Z",
     "start_time": "2021-08-04T22:23:52.516275Z"
    }
   },
   "outputs": [
    {
     "name": "stdout",
     "output_type": "stream",
     "text": [
      "Elige una letra ...q\n",
      "Esa sí.\n",
      "\n",
      "Fuera del while.\n"
     ]
    }
   ],
   "source": [
    "while True: # dado que True == True siempre, el while siempre se ejecuta\n",
    "    letra = input('Elige una letra ...')\n",
    "    if letra == 'q':\n",
    "        print('Esa sí.')\n",
    "        break\n",
    "    else:\n",
    "        print('\\tNop, esa no ...')\n",
    "        continue\n",
    "print('\\nFuera del while.')"
   ]
  },
  {
   "cell_type": "markdown",
   "metadata": {},
   "source": [
    "### Ejercicio"
   ]
  },
  {
   "cell_type": "markdown",
   "metadata": {},
   "source": [
    "Para este ejercicio, vas a necesitar la siguiente función: `randint`\n",
    "\n",
    "- Primero se debe importar el módulo `random`. Un módulo puede pensarse como programas que otros han escrito y que podemos agregar a nuestros propios programas.\n",
    "- `random` es un módulo de la **librería estándar** de Python, eso quiere decir que siempre está disponible.\n",
    "- Para agregarlo a nuestros programas, se ejecuta la siguiente instrucción"
   ]
  },
  {
   "cell_type": "code",
   "execution_count": 62,
   "metadata": {
    "ExecuteTime": {
     "end_time": "2021-08-04T22:23:59.848495Z",
     "start_time": "2021-08-04T22:23:59.845017Z"
    }
   },
   "outputs": [],
   "source": [
    "import random as rnd"
   ]
  },
  {
   "cell_type": "markdown",
   "metadata": {},
   "source": [
    "Del módulo `random` vamos a utilizar la función `randint(i, j)` que genera un número entero aleatorio entre `i` y `j` (ambos inclusive)."
   ]
  },
  {
   "cell_type": "markdown",
   "metadata": {},
   "source": [
    "Cada vez que se ejecuta esta celda, se obtiene un número entero nuevo de forma aleatoria."
   ]
  },
  {
   "cell_type": "code",
   "execution_count": 63,
   "metadata": {
    "ExecuteTime": {
     "end_time": "2021-08-04T22:23:59.854850Z",
     "start_time": "2021-08-04T22:23:59.850855Z"
    }
   },
   "outputs": [
    {
     "data": {
      "text/plain": [
       "10"
      ]
     },
     "execution_count": 63,
     "metadata": {},
     "output_type": "execute_result"
    }
   ],
   "source": [
    "rnd.randint(1, 10)"
   ]
  },
  {
   "cell_type": "markdown",
   "metadata": {},
   "source": [
    "#### Enunciado del Ejercicio"
   ]
  },
  {
   "cell_type": "markdown",
   "metadata": {},
   "source": [
    "Vas a programar un juego muy sencillo utilizando `while` y la función `randint`.\n",
    "\n",
    "- El computador *elige* un número entero aleatorio, que llamaremos `num_secreto`, en un rango predeterminado.\n",
    "- Tú debes tratar de adivinarlo\n",
    "- Si lo adivinas ganas y tu puntaje es el número de veces que tuviste que jugar para adivinar `num_secreto`\n",
    "- Si no lo adivinas, el computador te responderá si el número que dijiste es más alto o más bajo que `num_secreto` y sigues jugando\n",
    "- Mientras más bajo tu puntaje, mejor"
   ]
  },
  {
   "cell_type": "markdown",
   "metadata": {},
   "source": [
    "**Tip:** el resultado de input es un `str`"
   ]
  },
  {
   "cell_type": "code",
   "execution_count": 64,
   "metadata": {
    "ExecuteTime": {
     "end_time": "2021-08-04T22:24:06.458576Z",
     "start_time": "2021-08-04T22:23:59.857011Z"
    }
   },
   "outputs": [
    {
     "name": "stdout",
     "output_type": "stream",
     "text": [
      "x\n"
     ]
    }
   ],
   "source": [
    "x = input()"
   ]
  },
  {
   "cell_type": "code",
   "execution_count": 65,
   "metadata": {
    "ExecuteTime": {
     "end_time": "2021-08-04T22:24:06.465955Z",
     "start_time": "2021-08-04T22:24:06.460722Z"
    }
   },
   "outputs": [
    {
     "name": "stdout",
     "output_type": "stream",
     "text": [
      "<class 'str'>\n"
     ]
    }
   ],
   "source": [
    "print(type(x))"
   ]
  },
  {
   "cell_type": "markdown",
   "metadata": {},
   "source": [
    "Para convertirlo a `int` hacer lo siguiente:"
   ]
  },
  {
   "cell_type": "code",
   "execution_count": 66,
   "metadata": {
    "ExecuteTime": {
     "end_time": "2021-08-04T22:24:06.558933Z",
     "start_time": "2021-08-04T22:24:06.469012Z"
    }
   },
   "outputs": [
    {
     "ename": "ValueError",
     "evalue": "invalid literal for int() with base 10: 'x'",
     "output_type": "error",
     "traceback": [
      "\u001B[0;31m---------------------------------------------------------------------------\u001B[0m",
      "\u001B[0;31mValueError\u001B[0m                                Traceback (most recent call last)",
      "\u001B[0;32m<ipython-input-66-6ed577bb1378>\u001B[0m in \u001B[0;36m<module>\u001B[0;34m\u001B[0m\n\u001B[0;32m----> 1\u001B[0;31m \u001B[0mx\u001B[0m \u001B[0;34m=\u001B[0m \u001B[0mint\u001B[0m\u001B[0;34m(\u001B[0m\u001B[0mx\u001B[0m\u001B[0;34m)\u001B[0m\u001B[0;34m\u001B[0m\u001B[0;34m\u001B[0m\u001B[0m\n\u001B[0m",
      "\u001B[0;31mValueError\u001B[0m: invalid literal for int() with base 10: 'x'"
     ]
    }
   ],
   "source": [
    "x = int(x)"
   ]
  },
  {
   "cell_type": "code",
   "execution_count": null,
   "metadata": {
    "ExecuteTime": {
     "end_time": "2021-08-04T22:24:06.561877Z",
     "start_time": "2021-08-04T22:23:50.732Z"
    }
   },
   "outputs": [],
   "source": [
    "type(x)"
   ]
  },
  {
   "cell_type": "markdown",
   "metadata": {},
   "source": [
    "#### Solución"
   ]
  },
  {
   "cell_type": "code",
   "execution_count": 83,
   "metadata": {
    "ExecuteTime": {
     "end_time": "2021-08-04T22:44:23.056528Z",
     "start_time": "2021-08-04T22:44:23.051199Z"
    }
   },
   "outputs": [],
   "source": [
    "def jugar():\n",
    "    \"\"\"\n",
    "    \"\"\"\n",
    "    num_secreto = rnd.randint(1, 51)\n",
    "    while True:\n",
    "        guess = input(\"Adivina qué número elegí (entre 1 y 50 inclusive):\")\n",
    "        try:\n",
    "            int_guess = int(guess)\n",
    "            if num_secreto == int(guess):\n",
    "                return \"Ganaste.\"\n",
    "            else:\n",
    "                if int(guess) > num_secreto:\n",
    "                    print(\"Tú número es mayor ...\")\n",
    "                else:\n",
    "                    print(\"Tu número es menor ...\")\n",
    "        except NameError:\n",
    "            print(\"Tienes que ingresar un número entero.\")\n",
    "    return \"Game Over\""
   ]
  },
  {
   "cell_type": "markdown",
   "metadata": {},
   "source": [
    "Hacer otra versión con `isdecimal()`."
   ]
  },
  {
   "cell_type": "code",
   "execution_count": 84,
   "metadata": {
    "ExecuteTime": {
     "end_time": "2021-08-04T22:44:32.206623Z",
     "start_time": "2021-08-04T22:44:29.893746Z"
    }
   },
   "outputs": [
    {
     "name": "stdout",
     "output_type": "stream",
     "text": [
      "Adivina qué número elegí (entre 1 y 50 inclusive):r\n"
     ]
    },
    {
     "ename": "ValueError",
     "evalue": "invalid literal for int() with base 10: 'r'",
     "output_type": "error",
     "traceback": [
      "\u001B[0;31m---------------------------------------------------------------------------\u001B[0m",
      "\u001B[0;31mValueError\u001B[0m                                Traceback (most recent call last)",
      "\u001B[0;32m<ipython-input-84-e61132de9759>\u001B[0m in \u001B[0;36m<module>\u001B[0;34m\u001B[0m\n\u001B[0;32m----> 1\u001B[0;31m \u001B[0mjugar\u001B[0m\u001B[0;34m(\u001B[0m\u001B[0;34m)\u001B[0m\u001B[0;34m\u001B[0m\u001B[0;34m\u001B[0m\u001B[0m\n\u001B[0m",
      "\u001B[0;32m<ipython-input-83-e889f314c381>\u001B[0m in \u001B[0;36mjugar\u001B[0;34m()\u001B[0m\n\u001B[1;32m      6\u001B[0m         \u001B[0mguess\u001B[0m \u001B[0;34m=\u001B[0m \u001B[0minput\u001B[0m\u001B[0;34m(\u001B[0m\u001B[0;34m\"Adivina qué número elegí (entre 1 y 50 inclusive):\"\u001B[0m\u001B[0;34m)\u001B[0m\u001B[0;34m\u001B[0m\u001B[0;34m\u001B[0m\u001B[0m\n\u001B[1;32m      7\u001B[0m         \u001B[0;32mtry\u001B[0m\u001B[0;34m:\u001B[0m\u001B[0;34m\u001B[0m\u001B[0;34m\u001B[0m\u001B[0m\n\u001B[0;32m----> 8\u001B[0;31m             \u001B[0mint_guess\u001B[0m \u001B[0;34m=\u001B[0m \u001B[0mint\u001B[0m\u001B[0;34m(\u001B[0m\u001B[0mguess\u001B[0m\u001B[0;34m)\u001B[0m\u001B[0;34m\u001B[0m\u001B[0;34m\u001B[0m\u001B[0m\n\u001B[0m\u001B[1;32m      9\u001B[0m             \u001B[0;32mif\u001B[0m \u001B[0mnum_secreto\u001B[0m \u001B[0;34m==\u001B[0m \u001B[0mint\u001B[0m\u001B[0;34m(\u001B[0m\u001B[0mguess\u001B[0m\u001B[0;34m)\u001B[0m\u001B[0;34m:\u001B[0m\u001B[0;34m\u001B[0m\u001B[0;34m\u001B[0m\u001B[0m\n\u001B[1;32m     10\u001B[0m                 \u001B[0;32mreturn\u001B[0m \u001B[0;34m\"Ganaste.\"\u001B[0m\u001B[0;34m\u001B[0m\u001B[0;34m\u001B[0m\u001B[0m\n",
      "\u001B[0;31mValueError\u001B[0m: invalid literal for int() with base 10: 'r'"
     ]
    }
   ],
   "source": [
    "jugar()"
   ]
  },
  {
   "cell_type": "markdown",
   "metadata": {},
   "source": [
    "### Encuentra la TIR de un Bono"
   ]
  },
  {
   "cell_type": "markdown",
   "metadata": {},
   "source": [
    "Supongamos que tenemos un bono que está transando a un valor presente de 101 y queremos calcular cuál es su TIR de mercado. O sea, queremos determinar qué tasa de descuento hace que el valor presente del bono sea 101. Veamos como hacerlo utilizando los flujos y plazos definidos al principio del notebook."
   ]
  },
  {
   "cell_type": "code",
   "execution_count": null,
   "metadata": {
    "ExecuteTime": {
     "end_time": "2021-08-04T22:24:06.563694Z",
     "start_time": "2021-08-04T22:23:50.742Z"
    }
   },
   "outputs": [],
   "source": [
    "flujos"
   ]
  },
  {
   "cell_type": "code",
   "execution_count": null,
   "metadata": {
    "ExecuteTime": {
     "end_time": "2021-08-04T22:24:06.565477Z",
     "start_time": "2021-08-04T22:23:50.747Z"
    }
   },
   "outputs": [],
   "source": [
    "plazos"
   ]
  },
  {
   "cell_type": "markdown",
   "metadata": {},
   "source": [
    "Tenemos que resolver la ecuación:\n",
    "\n",
    "$$VP\\left(TIR\\right)-P=0$$\n",
    "\n",
    "Para esto vamos a programar un mini `BuscarObjetivo` totalmente similar al que usaríamos si resolviéramos este problema con Excel. Utilizaremos el método de Newton-Raphson que nos dice que podemos encontrar la solución a la ecuación anterior si iterativamente calculamos:\n",
    "\n",
    "$$TIR_{n+1}=TIR_n - \\frac{VP\\left(TIR_n\\right)-P}{VP'\\left(TIR_n\\right)}$$\n",
    "\n",
    "Aquí $V'\\left(TIR_n\\right)$ es la derivada del valor presente respecto a $TIR_n$."
   ]
  },
  {
   "cell_type": "markdown",
   "metadata": {},
   "source": [
    "La derivada del valor presente la calcularemos de forma numérica con la siguiente aproximación:\n",
    "\n",
    "$$VP'\\left(TIR_n\\right)\\approx\\frac{VP\\left(TIR_n+h\\right)-VP\\left(TIR_n-h\\right)}{2h}$$"
   ]
  },
  {
   "cell_type": "code",
   "execution_count": null,
   "metadata": {
    "ExecuteTime": {
     "end_time": "2021-08-04T22:24:06.567473Z",
     "start_time": "2021-08-04T22:23:50.754Z"
    }
   },
   "outputs": [],
   "source": [
    "def der_vp_bono(flujos, plazos, tasa):\n",
    "    \"\"\"\n",
    "    Calcula la derivada del valor presente del bono respecto a la tasa usando la aproximación\n",
    "    por diferencia central.\n",
    "    \n",
    "    VP'(tasa) = (VP(tasa + h) - VP(tasa - h)) / 2h\n",
    "    \n",
    "    Se utiliza un valor de h = .0001\n",
    "    \n",
    "    Parameters\n",
    "    ----------\n",
    "    \n",
    "    flujos: List[float]\n",
    "            Contiene los flujos del bono.\n",
    "            \n",
    "    plazos: List[float]\n",
    "            Contiene los plazos residuales de los flujos expresados en días.\n",
    "    \n",
    "    tasa: float\n",
    "          Tasa de descuento del bono. Debe ser en convención Com Act/365.\n",
    "          \n",
    "    Returns\n",
    "    -------\n",
    "    \n",
    "    float\n",
    "         La derivada del valor presente del bono.\n",
    "    \"\"\"\n",
    "    h = .0001\n",
    "    return (vp_bono(flujos, plazos, tasa + h) - vp_bono(flujos, plazos, tasa - h)) / (2 * h)"
   ]
  },
  {
   "cell_type": "markdown",
   "metadata": {},
   "source": [
    "Realizamos un check:"
   ]
  },
  {
   "cell_type": "code",
   "execution_count": null,
   "metadata": {
    "ExecuteTime": {
     "end_time": "2021-08-04T22:24:06.569327Z",
     "start_time": "2021-08-04T22:23:50.759Z"
    }
   },
   "outputs": [],
   "source": [
    "h = .0001"
   ]
  },
  {
   "cell_type": "code",
   "execution_count": null,
   "metadata": {
    "ExecuteTime": {
     "end_time": "2021-08-04T22:24:06.571177Z",
     "start_time": "2021-08-04T22:23:50.763Z"
    }
   },
   "outputs": [],
   "source": [
    "vp = vp_bono(flujos, plazos, .02)\n",
    "vp_mas = vp_bono(flujos, plazos, .02 + h)\n",
    "vp_menos = vp_bono(flujos, plazos, .02 - h)\n",
    "(vp_mas - vp_menos)/(2 * h)"
   ]
  },
  {
   "cell_type": "code",
   "execution_count": null,
   "metadata": {
    "ExecuteTime": {
     "end_time": "2021-08-04T22:24:06.572981Z",
     "start_time": "2021-08-04T22:23:50.767Z"
    }
   },
   "outputs": [],
   "source": [
    "der_vp_bono(flujos, plazos, .02) # f(x + h) = f(x) + f'(x)*h + error(h), error(h)->0 , h->0"
   ]
  },
  {
   "cell_type": "markdown",
   "metadata": {},
   "source": [
    "Ahora definimos la función que encuentre la TIR para un cierto precio de mercado."
   ]
  },
  {
   "cell_type": "code",
   "execution_count": null,
   "metadata": {
    "ExecuteTime": {
     "end_time": "2021-08-04T22:24:06.574891Z",
     "start_time": "2021-08-04T22:23:50.772Z"
    }
   },
   "outputs": [],
   "source": [
    "def encuentra_tir(flujos, plazos, vp, tasa):\n",
    "    \"\"\"\n",
    "    Calcula la tasa de descuento o TIR que hace que el valor presente del bono (en base 100)\n",
    "    sea igual a un valor dado.\n",
    "    \n",
    "    Parameters\n",
    "    ----------\n",
    "    \n",
    "    flujos: List[float]\n",
    "            Contiene los flujos del bono.\n",
    "            \n",
    "    plazos: List[float]\n",
    "            Contiene los plazos residuales de los flujos expresados en días.\n",
    "    \n",
    "    vp: float\n",
    "        Valor presente del bono.\n",
    "          \n",
    "    tasa: float\n",
    "          Estimación inicial del valor del resultado.\n",
    "          \n",
    "    Returns\n",
    "    -------\n",
    "    \n",
    "    float\n",
    "         Tasa de descuento buscada.\n",
    "    \"\"\"\n",
    "    epsilon = .000001\n",
    "    diff = 1000\n",
    "    while diff > epsilon:\n",
    "        q = (vp_bono(flujos, plazos, tasa) - vp) / der_vp_bono(flujos, plazos, tasa)\n",
    "        nueva_tasa = tasa - q\n",
    "        diff = abs(nueva_tasa - tasa)\n",
    "        tasa = nueva_tasa\n",
    "    return tasa"
   ]
  },
  {
   "cell_type": "code",
   "execution_count": null,
   "metadata": {
    "ExecuteTime": {
     "end_time": "2021-08-04T22:24:06.576772Z",
     "start_time": "2021-08-04T22:23:50.776Z"
    }
   },
   "outputs": [],
   "source": [
    "tir = encuentra_tir(flujos, plazos, 104, .02)"
   ]
  },
  {
   "cell_type": "code",
   "execution_count": null,
   "metadata": {
    "ExecuteTime": {
     "end_time": "2021-08-04T22:24:06.578560Z",
     "start_time": "2021-08-04T22:23:50.780Z"
    }
   },
   "outputs": [],
   "source": [
    "print(f'El valor de la TIR es: {tir:.8%}')"
   ]
  },
  {
   "cell_type": "markdown",
   "metadata": {},
   "source": [
    "Hagamos el check:"
   ]
  },
  {
   "cell_type": "code",
   "execution_count": null,
   "metadata": {
    "ExecuteTime": {
     "end_time": "2021-08-04T22:24:06.580363Z",
     "start_time": "2021-08-04T22:23:50.786Z"
    }
   },
   "outputs": [],
   "source": [
    "print(f'El valor presente con la TIR es: {vp_bono(flujos, plazos, tir):,.8f}')"
   ]
  }
 ],
 "metadata": {
  "hide_input": false,
  "kernelspec": {
   "display_name": "Python 3",
   "language": "python",
   "name": "python3"
  },
  "language_info": {
   "codemirror_mode": {
    "name": "ipython",
    "version": 3
   },
   "file_extension": ".py",
   "mimetype": "text/x-python",
   "name": "python",
   "nbconvert_exporter": "python",
   "pygments_lexer": "ipython3",
   "version": "3.7.3"
  },
  "toc": {
   "base_numbering": 1,
   "nav_menu": {},
   "number_sections": true,
   "sideBar": true,
   "skip_h1_title": true,
   "title_cell": "Table of Contents",
   "title_sidebar": "Contenido",
   "toc_cell": false,
   "toc_position": {
    "height": "calc(100% - 180px)",
    "left": "10px",
    "top": "150px",
    "width": "212px"
   },
   "toc_section_display": true,
   "toc_window_display": false
  }
 },
 "nbformat": 4,
 "nbformat_minor": 4
}
